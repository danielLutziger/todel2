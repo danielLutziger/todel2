{
 "cells": [
  {
   "cell_type": "markdown",
   "metadata": {},
   "source": [
    "## Übungen zum Kapitel 8\n",
    "### Datenaufbereitung - Verknüpfen und Umformen\n",
    "Erstellt und überarbeitet: armin.baenziger@zhaw.ch, 28. Februar 2020\n",
    "***"
   ]
  },
  {
   "cell_type": "code",
   "execution_count": null,
   "metadata": {},
   "outputs": [],
   "source": [
    "%autosave 0"
   ]
  },
  {
   "cell_type": "markdown",
   "metadata": {},
   "source": [
    "***"
   ]
  },
  {
   "cell_type": "markdown",
   "metadata": {},
   "source": [
    "**(A.1)** Laden Sie NumPy und Pandas mit der üblichen Abkürzung."
   ]
  },
  {
   "cell_type": "code",
   "execution_count": null,
   "metadata": {},
   "outputs": [],
   "source": []
  },
  {
   "cell_type": "markdown",
   "metadata": {},
   "source": [
    "**(A.2)** Laden Sie die Daten der Datei `drinksbycountry.csv` in das DataFrame `drinks` und lesen Sie die ersten 5 Zeilen aus. Die Datei befindet sich im Ordner \"weitere_Daten\"."
   ]
  },
  {
   "cell_type": "code",
   "execution_count": null,
   "metadata": {
    "scrolled": true
   },
   "outputs": [],
   "source": [
    "drinks = "
   ]
  },
  {
   "cell_type": "markdown",
   "metadata": {},
   "source": [
    "**(A.3)** Erstellen Sie für das DataFrame `drinks` einen hierarchischen Index (mit `set_index`), wobei die erste Hierarchieebene der Kontinent (`continent`) und die zweite Ebene das Land (`country`) sein soll."
   ]
  },
  {
   "cell_type": "code",
   "execution_count": null,
   "metadata": {},
   "outputs": [],
   "source": [
    "drinks = "
   ]
  },
  {
   "cell_type": "markdown",
   "metadata": {},
   "source": [
    "**(A.4)** Sortieren Sie den (hierarchischen) Index des DataFrames `drinks`. Verwenden Sie hierzu die Methode `sort_index(inplace=True)`."
   ]
  },
  {
   "cell_type": "code",
   "execution_count": null,
   "metadata": {},
   "outputs": [],
   "source": []
  },
  {
   "cell_type": "markdown",
   "metadata": {},
   "source": [
    "**(A.5)** Lesen Sie die ersten 5 Zeilen (`head`) des Kontinents Europa (\"Europe\") aus."
   ]
  },
  {
   "cell_type": "code",
   "execution_count": null,
   "metadata": {},
   "outputs": [],
   "source": []
  },
  {
   "cell_type": "markdown",
   "metadata": {},
   "source": [
    "***"
   ]
  },
  {
   "cell_type": "markdown",
   "metadata": {},
   "source": [
    "Bevor die nächsten Aufgaben gestellt werden, generieren wir zwei DataFrames:"
   ]
  },
  {
   "cell_type": "code",
   "execution_count": null,
   "metadata": {},
   "outputs": [],
   "source": [
    "# Betrachten Sie einfach das Ergebnis:\n",
    "np.random.seed(11)\n",
    "date = pd.date_range(start='2018', freq='Q', periods=8)\n",
    "df2018 = pd.DataFrame(np.random.randn(4,2), index=date[:4], \n",
    "                      columns=['A', 'B'])\n",
    "df2018"
   ]
  },
  {
   "cell_type": "code",
   "execution_count": null,
   "metadata": {},
   "outputs": [],
   "source": [
    "df2019 = pd.DataFrame(np.random.randn(4,2), index=date[-4:], \n",
    "                      columns=['A', 'B'])\n",
    "df2019"
   ]
  },
  {
   "cell_type": "markdown",
   "metadata": {},
   "source": [
    "**(B.1)** Fügen Sie die Daten für das Jahr 2018 und 2019 in ein DataFrame mit Name `df` zusammen. Tipp: Im Pandas-Cheat-Sheet nachsehen."
   ]
  },
  {
   "cell_type": "code",
   "execution_count": null,
   "metadata": {},
   "outputs": [],
   "source": [
    "df = "
   ]
  },
  {
   "cell_type": "markdown",
   "metadata": {},
   "source": [
    "**(B.2)** *Repetition*: Ersetzen Sie im DataFrame `df2`, welches eine *Kopie* von `df` ist, alle *negativen* Werte mit `0`."
   ]
  },
  {
   "cell_type": "code",
   "execution_count": null,
   "metadata": {},
   "outputs": [],
   "source": [
    "df2 = df.copy()\n"
   ]
  },
  {
   "cell_type": "markdown",
   "metadata": {},
   "source": [
    "**(B.3)** *Repetition*: Ersetzen Sie im DataFrame `df3`, welches eine *Kopie* von `df` ist, alle *negativen* Werte *in Spalte* `B` mit `0`."
   ]
  },
  {
   "cell_type": "code",
   "execution_count": null,
   "metadata": {},
   "outputs": [],
   "source": [
    "df3 = df.copy()\n"
   ]
  },
  {
   "cell_type": "markdown",
   "metadata": {},
   "source": [
    "***"
   ]
  },
  {
   "cell_type": "markdown",
   "metadata": {},
   "source": [
    "Für das Verknüpfen von Daten laden wir zuerst das DataFrame `dflohn` (Verzeichnis \"weitere_Daten\"), welches wir bereits zuvor gebraucht haben:"
   ]
  },
  {
   "cell_type": "code",
   "execution_count": null,
   "metadata": {},
   "outputs": [],
   "source": [
    "# Beispieldaten laden:\n",
    "dflohn = pd.read_pickle('../weitere_Daten/dflohn.pkl').reset_index()\n",
    "dflohn.tail()"
   ]
  },
  {
   "cell_type": "markdown",
   "metadata": {},
   "source": [
    "**(C.1)** *Repetition:* Erstellen Sie eine absolute Häufigkeitstabelle der Spalte `Zivilstand`."
   ]
  },
  {
   "cell_type": "code",
   "execution_count": null,
   "metadata": {},
   "outputs": [],
   "source": []
  },
  {
   "cell_type": "markdown",
   "metadata": {},
   "source": [
    "Angenommen wir haben zusätzliche Informationen zu einem Teil der Personen, welche in `dfsektor` (wird in nächster Zelle erstellt) gespeichert sind:"
   ]
  },
  {
   "cell_type": "code",
   "execution_count": null,
   "metadata": {},
   "outputs": [],
   "source": [
    "# Beispieldaten generieren:\n",
    "m=50  # Anzahl Beobachtungen\n",
    "np.random.seed(11)\n",
    "s1 = (pd.Series(dflohn.index, name='Person')    # Erstelle Series aus dflohn.index (Personen-Index)\n",
    "          .sample(m)                            # Wähle aus den 100 Personen m ohne Zurücklegen. \n",
    "          .reset_index(drop=True)               # Neuer durchlaufender Index (alter Index nicht in Spalte)\n",
    "     )\n",
    "s2 = (pd.Series(['primär', 'sekundär', 'teritär'], name='Sektor') # Sektor, in welchem Person tätig ist\n",
    "      .sample(50, weights=[0.05, 0.30, 0.65], replace=True)       # Ziehen mit Zurücklegen mit untersch. W'keiten \n",
    "      .reset_index(drop=True)\n",
    "     )\n",
    "dfsektor = pd.concat([s1, s2], axis=1)\n",
    "dfsektor.tail()"
   ]
  },
  {
   "cell_type": "markdown",
   "metadata": {},
   "source": [
    "**(C.2)** Verknüpfen Sie die zwei DataFrames `dflohn` und `dfsektor` über die Spalte `Person` derart, dass zu denjenigen Personen in `dflohn`, zu denen es einen Match in `dfsektor` gibt, die entsprechenden Werte dem Frame `dflohn` hinzugefügt werden. Tipp: `pd.merge` und Cheat-Sheet verwenden."
   ]
  },
  {
   "cell_type": "code",
   "execution_count": null,
   "metadata": {},
   "outputs": [],
   "source": []
  },
  {
   "cell_type": "markdown",
   "metadata": {},
   "source": [
    "**(C.3)** Ersetzten Sie im DataFrame `dflohn` den Index mit der Spalte `Person` (permanent). Tipp: Methode `set_index` mit dem Argument `inplace=True` verwenden."
   ]
  },
  {
   "cell_type": "code",
   "execution_count": null,
   "metadata": {},
   "outputs": [],
   "source": []
  },
  {
   "cell_type": "markdown",
   "metadata": {},
   "source": [
    "**(C.4)** Ersetzten Sie im DataFrame `dfsektor` den Index mit der Spalte `Person` (permanent). "
   ]
  },
  {
   "cell_type": "code",
   "execution_count": null,
   "metadata": {},
   "outputs": [],
   "source": []
  },
  {
   "cell_type": "markdown",
   "metadata": {},
   "source": [
    "**(C.5)** Verknüpfen Sie die zwei DataFrames `dflohn` und `dfsektor` über den Index `Person` derart, dass zu denjenigen Personen in `dflohn`, zu denen es einen Match in `dfsektor` gibt, die entsprechenden Werte dem Frame `dflohn` hinzugefügt werden. Da der Match-Key in beiden Fällen der Index ist, eignet sich hierfür die Methode `join` besonders."
   ]
  },
  {
   "cell_type": "code",
   "execution_count": null,
   "metadata": {},
   "outputs": [],
   "source": []
  },
  {
   "cell_type": "markdown",
   "metadata": {},
   "source": [
    "***"
   ]
  },
  {
   "cell_type": "markdown",
   "metadata": {},
   "source": [
    "**(D.1)** Formen Sie das DataFrame `drinks` wie folgt um: \n",
    "```python\n",
    "drinks.unstack()\n",
    "```\n",
    "Warum ist die Darstellung dieser Daten im \"Wide-Format\" nicht sinnvoll?"
   ]
  },
  {
   "cell_type": "code",
   "execution_count": null,
   "metadata": {},
   "outputs": [],
   "source": []
  },
  {
   "cell_type": "markdown",
   "metadata": {},
   "source": [
    "***\n",
    "#### *Ende der Übung*"
   ]
  }
 ],
 "metadata": {
  "kernelspec": {
   "display_name": "Python 3",
   "language": "python",
   "name": "python3"
  },
  "language_info": {
   "codemirror_mode": {
    "name": "ipython",
    "version": 3
   },
   "file_extension": ".py",
   "mimetype": "text/x-python",
   "name": "python",
   "nbconvert_exporter": "python",
   "pygments_lexer": "ipython3",
   "version": "3.7.0"
  }
 },
 "nbformat": 4,
 "nbformat_minor": 2
}
