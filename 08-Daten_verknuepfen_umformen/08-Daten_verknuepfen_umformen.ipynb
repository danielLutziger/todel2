{
 "cells": [
  {
   "cell_type": "markdown",
   "metadata": {},
   "source": [
    "# Kapitel 8: Datenaufbereitung - Verknüpfen und Umformen\n",
    "\n",
    "McKinney, W. (2017). *Python for Data Analysis: Data Wrangling with Pandas, NumPy, and IPython*. 2. Auflage. Sebastopol, CA [u. a.]: O’Reilly.\n",
    "\n",
    "Überarbeitet: armin.baenziger@zhaw.ch, 28. Februar 2020\n",
    "\n",
    "- In vielen Anwendungen können Daten über mehrere Dateien oder Datenbanken verteilt sein oder in einer Form angeordnet sein, die nicht leicht zu analysieren ist. \n",
    "- Dieses Kapitel konzentriert sich auf Tools zum Kombinieren, Verknüpfen und Umformen von Daten.\n",
    "- Zuerst führen wir das Konzept der hierarchischen Indexierung in Pandas ein, das in einigen dieser Operationen ausführlich verwendet wird. \n",
    "- Danach betrachten wir spezielle Datenmanipulationen. Verschiedene Anwendungen dieser Werkzeuge werden in Kapitel 14 (bzw. im Unterricht) vorgestellt, wo konkrete (grössere) Datensätze analysiert werden.\n",
    "\n"
   ]
  },
  {
   "cell_type": "code",
   "execution_count": null,
   "metadata": {},
   "outputs": [],
   "source": [
    "%autosave 0"
   ]
  },
  {
   "cell_type": "code",
   "execution_count": null,
   "metadata": {},
   "outputs": [],
   "source": [
    "# Bibliotheken mit üblichen Abkürzungen laden:\n",
    "import numpy as np\n",
    "import pandas as pd"
   ]
  },
  {
   "cell_type": "markdown",
   "metadata": {},
   "source": [
    "## Hierarchische Indexierung\n",
    "- Die hierarchische Indexierung ist ein Merkmal von Pandas, mit dem man mehrere (zwei oder mehr) Indexstufen auf einer Achse haben kann. \n",
    "- Etwas abstrakt bietet es eine Möglichkeit, mit *höherdimensionalen Daten* (z. B. drei Dimensionen) in einer niederdimensionalen Form (z. B. zwei Dimensionen; Zeilen und Spalten) zu arbeiten. \n",
    "- Wir beginnen mit einem einfachen Beispiel: Einer Series mit einer *Liste von Listen (oder Arrays)* als Index:"
   ]
  },
  {
   "cell_type": "code",
   "execution_count": null,
   "metadata": {},
   "outputs": [],
   "source": [
    "# Beispieldaten generieren:\n",
    "Jahr    = [2018]*4 + [2019]*4 + [2020]*2 \n",
    "Quartal = [1, 2, 3, 4]*2 + [1, 2]\n",
    "\n",
    "Umsatz = pd.Series([11, 13, 10, 19, 10, 12, 9, 21, 13, 15],\n",
    "          index = [Jahr, Quartal])*10\n",
    "\n",
    "Umsatz.index.names = ['Jahr', 'Quartal']\n",
    "\n",
    "Umsatz"
   ]
  },
  {
   "cell_type": "markdown",
   "metadata": {},
   "source": [
    "Beachten Sie den hierarchischen Index: Hierarchieebene 1 des Index sind die Jahre und Hierarchieebene 2 die Quartale."
   ]
  },
  {
   "cell_type": "markdown",
   "metadata": {},
   "source": [
    "Bei einem hierarchisch indizierten Objekt ist eine so genannte *partielle Indizierung* möglich, mit der Teilmengen der Daten übersichtlich ausgewählt werden können:"
   ]
  },
  {
   "cell_type": "code",
   "execution_count": null,
   "metadata": {},
   "outputs": [],
   "source": [
    "# Alle Umsätze im 2019 (erste Hierarchieebene):\n",
    "Umsatz.loc[2019]     "
   ]
  },
  {
   "cell_type": "code",
   "execution_count": null,
   "metadata": {},
   "outputs": [],
   "source": [
    "# Alle Umsätze ab 2019:\n",
    "Umsatz.loc[2019:] "
   ]
  },
  {
   "cell_type": "code",
   "execution_count": null,
   "metadata": {},
   "outputs": [],
   "source": [
    "# Alle Umsätze von 2018 und 2020:\n",
    "Umsatz.loc[[2018, 2020]]"
   ]
  },
  {
   "cell_type": "markdown",
   "metadata": {},
   "source": [
    "Es ist auch möglich, von einer \"inneren\" Ebene zu selektieren (hier 1. Quartal):"
   ]
  },
  {
   "cell_type": "code",
   "execution_count": null,
   "metadata": {},
   "outputs": [],
   "source": [
    "Umsatz.loc[:, 1]  # Alle Umsätze im 1. Quartal"
   ]
  },
  {
   "cell_type": "markdown",
   "metadata": {},
   "source": [
    "**Kontrollfragen:**"
   ]
  },
  {
   "cell_type": "code",
   "execution_count": null,
   "metadata": {},
   "outputs": [],
   "source": [
    "# Gegeben:\n",
    "Umsatz"
   ]
  },
  {
   "cell_type": "code",
   "execution_count": null,
   "metadata": {},
   "outputs": [],
   "source": [
    "# Frage 1: Was ist der Output?\n",
    "Umsatz.loc[2019].sum()"
   ]
  },
  {
   "cell_type": "code",
   "execution_count": null,
   "metadata": {},
   "outputs": [],
   "source": [
    "# Frage 2: Was ist der Output?\n",
    "Umsatz.loc[:, 2].sum()"
   ]
  },
  {
   "cell_type": "markdown",
   "metadata": {},
   "source": [
    "- Die *hierarchische Indizierung* spielt eine wichtige Rolle bei der Umformung von Daten und gruppenbasierten Vorgängen wie der Bildung von *Pivot-Tabellen*. \n",
    "- Beispielsweise könnten die Daten mithilfe ihrer `unstack`-Methode in ein DataFrame umgeformt werden:"
   ]
  },
  {
   "cell_type": "code",
   "execution_count": null,
   "metadata": {},
   "outputs": [],
   "source": [
    "# Zur Erinnerung:\n",
    "Umsatz   # eine Series mit hierarchischem Index"
   ]
  },
  {
   "cell_type": "code",
   "execution_count": null,
   "metadata": {},
   "outputs": [],
   "source": [
    "df = Umsatz.unstack()\n",
    "# Die zweite (innere) Hierarchieebene wird in die Spalten\n",
    "# \"gedreht\" (vom \"Long\"- ins \"Wide\"-Format).\n",
    "df"
   ]
  },
  {
   "cell_type": "markdown",
   "metadata": {},
   "source": [
    "Es entstehen zwei `NaN` am Ende, da die entsprechenden Quartalszahlen im letzten Jahr fehlen.  "
   ]
  },
  {
   "cell_type": "markdown",
   "metadata": {},
   "source": [
    "Es wäre auch möglich gewesen, die erste Hierarchieebene in die Spalten zu drehen:"
   ]
  },
  {
   "cell_type": "code",
   "execution_count": null,
   "metadata": {},
   "outputs": [],
   "source": [
    "Umsatz.unstack(level=0)"
   ]
  },
  {
   "cell_type": "markdown",
   "metadata": {},
   "source": [
    "Die inverse Operation ist `stack`:"
   ]
  },
  {
   "cell_type": "code",
   "execution_count": null,
   "metadata": {},
   "outputs": [],
   "source": [
    "df.stack()  # Stack \"dreht\" vom \"Wide\"- ins \"Long\"-Format"
   ]
  },
  {
   "cell_type": "markdown",
   "metadata": {},
   "source": [
    "Bei einem DataFrame kann *jede Achse* (Zeilen oder Spalten) einen hierarchischen Index haben:"
   ]
  },
  {
   "cell_type": "code",
   "execution_count": null,
   "metadata": {},
   "outputs": [],
   "source": [
    "df"
   ]
  },
  {
   "cell_type": "code",
   "execution_count": null,
   "metadata": {},
   "outputs": [],
   "source": [
    "df.columns = [['Halbjahr_1']*2 + ['Halbjahr_2']*2, \n",
    "              [1, 2, 3, 4]]\n",
    "df"
   ]
  },
  {
   "cell_type": "code",
   "execution_count": null,
   "metadata": {},
   "outputs": [],
   "source": [
    "df.Halbjahr_2  # nur Spalten mit Überschrift \"Halbjahr_2\" auswählen"
   ]
  },
  {
   "cell_type": "markdown",
   "metadata": {},
   "source": [
    "**Kontrollfrage:**"
   ]
  },
  {
   "cell_type": "code",
   "execution_count": null,
   "metadata": {},
   "outputs": [],
   "source": [
    "# Gegeben:\n",
    "ser = pd.Series([1, 3, 2, 3, 5], \n",
    "                index=[list('AABBB'), list('ababc')])\n",
    "ser"
   ]
  },
  {
   "cell_type": "code",
   "execution_count": null,
   "metadata": {},
   "outputs": [],
   "source": [
    "# Frage: Was ist der Output?\n",
    "ser.unstack()"
   ]
  },
  {
   "cell_type": "markdown",
   "metadata": {},
   "source": [
    "### Zusammenfassende Statistiken nach Hierarchieebene\n",
    "Viele beschreibende und zusammenfassende Statistiken zu DataFrames und Series verfügen über eine **`level`-Option**, *mit der man die Hierarchieebene angeben kann, nach der auf einer bestimmten Achse aggregiert werden soll*."
   ]
  },
  {
   "cell_type": "code",
   "execution_count": null,
   "metadata": {},
   "outputs": [],
   "source": [
    "# Beispieldaten:\n",
    "Umsatz_df = pd.DataFrame({'Filiale_A': [11, 13, 10, 19, 10, 12, 9, 21, 13, 15],\n",
    "                          'Filiale_B': [9, 11, 8, 15, 10, 11, 10, 16, 11, 13]},\n",
    "                          index = [Jahr, Quartal]) * 10\n",
    "\n",
    "Umsatz_df.index.names = ['Jahr', 'Quartal']\n",
    "\n",
    "Umsatz_df"
   ]
  },
  {
   "cell_type": "code",
   "execution_count": null,
   "metadata": {},
   "outputs": [],
   "source": [
    "Umsatz_df.sum()   # Spaltensummen"
   ]
  },
  {
   "cell_type": "code",
   "execution_count": null,
   "metadata": {},
   "outputs": [],
   "source": [
    "Umsatz_df.sum(level='Quartal')    # Spaltensummen nach 'Quartal'"
   ]
  },
  {
   "cell_type": "markdown",
   "metadata": {},
   "source": [
    "**Kontrollfragen:**"
   ]
  },
  {
   "cell_type": "code",
   "execution_count": null,
   "metadata": {},
   "outputs": [],
   "source": [
    "# Gegeben:\n",
    "Umsatz_df"
   ]
  },
  {
   "cell_type": "code",
   "execution_count": null,
   "metadata": {},
   "outputs": [],
   "source": [
    "# Frage 1: Was ist der Output?\n",
    "Umsatz_df.sum(level='Jahr')"
   ]
  },
  {
   "cell_type": "code",
   "execution_count": null,
   "metadata": {},
   "outputs": [],
   "source": [
    "# Frage 2: Was ist der Output?\n",
    "Umsatz_df['Filiale_B'].mean(level='Jahr')"
   ]
  },
  {
   "cell_type": "markdown",
   "metadata": {},
   "source": [
    "### Indexierung mit einer Spalte eines DataFrame\n",
    "- Es ist nicht ungewöhnlich, dass man eine oder mehrere Spalten aus einem DataFrame als (Zeilen-) Index verwenden möchte. \n",
    "- Alternativ ist es möglich, den Zeilenindex in die Spalten des DataFrames zu verschieben. \n",
    "- Beispiel:"
   ]
  },
  {
   "cell_type": "code",
   "execution_count": null,
   "metadata": {},
   "outputs": [],
   "source": [
    "# Beispieldaten:\n",
    "Umsatz_Daten = Umsatz_df.reset_index()\n",
    "Umsatz_Daten"
   ]
  },
  {
   "cell_type": "code",
   "execution_count": null,
   "metadata": {},
   "outputs": [],
   "source": [
    "# Spalten \"Jahr\" und \"Quartal\" in den Index verschieben:\n",
    "Umsatz_Daten.set_index(['Jahr', 'Quartal'], inplace=True)\n",
    "Umsatz_Daten"
   ]
  },
  {
   "cell_type": "markdown",
   "metadata": {},
   "source": [
    "**Kontrollfragen:**"
   ]
  },
  {
   "cell_type": "code",
   "execution_count": null,
   "metadata": {},
   "outputs": [],
   "source": [
    "# Gegeben:\n",
    "drinks = pd.read_csv('../weitere_Daten/drinksbycountry.csv', usecols=[0, 4, 5])\n",
    "drinks.rename(columns={'total_litres_of_pure_alcohol': 'alcohol'}, inplace=True)\n",
    "drinks5 = drinks.sample(5, random_state=6).reset_index(drop=True)  \n",
    "drinks5"
   ]
  },
  {
   "cell_type": "code",
   "execution_count": null,
   "metadata": {},
   "outputs": [],
   "source": [
    "# Frage 1: Was ist der Output?\n",
    "drinks5HI = drinks5.set_index(['continent', 'country']).sort_index()\n",
    "drinks5HI"
   ]
  },
  {
   "cell_type": "code",
   "execution_count": null,
   "metadata": {
    "scrolled": true
   },
   "outputs": [],
   "source": [
    "# Frage 2: Was ist der Output?\n",
    "drinks5HI.loc['Asia']"
   ]
  },
  {
   "cell_type": "code",
   "execution_count": null,
   "metadata": {},
   "outputs": [],
   "source": [
    "# Frage 3: Was ist der Output?\n",
    "drinks5HI.loc[('Asia', 'Kuwait')]"
   ]
  },
  {
   "cell_type": "markdown",
   "metadata": {},
   "source": [
    "## Kombinieren und Verknüpfen von Datensätzen\n",
    "Wir folgen in diesem Abschnitt dem **\"Cheat Sheet\"** *\"Data Wrangling with pandas\"* statt dem Lehrmittel, das für den Einstieg zu viele Funktionalitäten bespricht, wie ich meine. Hier versuche ich Ihnen einen guten Überblick über die Möglichkeiten zu geben und bei konkreten Problemstellungen kann man sich dann mit den Details beschäftigen.\n",
    "Es werden drei Funktionen/Methoden besprochen, nämlich `concat`, `merge` und `join`. Was unterscheidet diese *grundsätzlich*?\n",
    "- Mit **`concat`** werden DataFrames aneinandergereiht (\"gestapelt\"), entweder untereinander (`axis=0`) oder nebeneinander (`axis=1`). \n",
    "\n",
    "\n",
    "- Eine weitere Möglichkeit, DataFrames zu kombinieren, besteht darin, *in jedem Dataset Spalten zu verwenden, die gemeinsame Werte enthalten (eine allgemeine eindeutige ID)*. Hierzu verwenden wir grundsätzlich die Funktion **`merge`**. \n",
    "    - Die Kombination von DataFrames mit einem gemeinsamen Feld heisst *\"Joining\"*. \n",
    "    - Die Spalten mit den gemeinsamen Werten heissen \"Join Key(s)\". \n",
    "    - Das Verbinden von DataFrames auf diese Weise ist oft nützlich, wenn ein DataFrame eine \"Nachschlagetabelle\" ist, die zusätzliche Daten enthält, die wir in die andere einschliessen möchten (*\"many-to-one merges\"*).\n",
    "    - Dieser Prozess zum Verknüpfen von Tabellen ähnelt dem, den wir mit Tabellen in SQL-Datenbanken ausführen.\n",
    "\n",
    "\n",
    "- *Falls die gemeinsamen Werte in den Indizes vorliegen*, kann man statt `merge` (mit den Argumenten `left_index=True`, `right_index=True`) die Methode **`join`** verwenden."
   ]
  },
  {
   "cell_type": "markdown",
   "metadata": {},
   "source": [
    "### Aneinanderreihen: `concat`\n",
    "Mit `concat` werden einfach die Zeilen (oder Spalten, falls `axis=1`) von DataFrames aneinandergereiht bzw. gestapelt. *Dabei können Duplikate entstehen*."
   ]
  },
  {
   "cell_type": "code",
   "execution_count": null,
   "metadata": {},
   "outputs": [],
   "source": [
    "# Beispieldaten generieren:\n",
    "umsatz_df1 = Umsatz_df.loc[:2019]\n",
    "umsatz_df1"
   ]
  },
  {
   "cell_type": "code",
   "execution_count": null,
   "metadata": {},
   "outputs": [],
   "source": [
    "# Weitere Beispieldaten generieren:\n",
    "umsatz_df2 = Umsatz_df.loc[2020:]\n",
    "umsatz_df2"
   ]
  },
  {
   "cell_type": "markdown",
   "metadata": {},
   "source": [
    "**Zeilen anhängen:**"
   ]
  },
  {
   "cell_type": "markdown",
   "metadata": {},
   "source": [
    "![](Abbildungen/concat_rows.png)"
   ]
  },
  {
   "cell_type": "code",
   "execution_count": null,
   "metadata": {
    "scrolled": true
   },
   "outputs": [],
   "source": [
    "pd.concat([umsatz_df1, umsatz_df2])"
   ]
  },
  {
   "cell_type": "markdown",
   "metadata": {},
   "source": [
    "Man beachte, dass eine *Liste* mit DataFrames übergeben werden muss.\n",
    "\n",
    "**Spalten anhängen:**"
   ]
  },
  {
   "cell_type": "markdown",
   "metadata": {},
   "source": [
    "![](Abbildungen/concat_columns.png)"
   ]
  },
  {
   "cell_type": "code",
   "execution_count": null,
   "metadata": {},
   "outputs": [],
   "source": [
    "# Beispieldaten generieren:\n",
    "Umsatz_df2 = Umsatz_df.copy()\n",
    "Umsatz_df2.rename({'Filiale_A': 'Filiale_C', \n",
    "                   'Filiale_B': 'Filiale_D'},\n",
    "                   axis=1, inplace=True)\n",
    "Umsatz_df2"
   ]
  },
  {
   "cell_type": "code",
   "execution_count": null,
   "metadata": {},
   "outputs": [],
   "source": [
    "pd.concat([Umsatz_df, Umsatz_df2], axis=1)"
   ]
  },
  {
   "cell_type": "markdown",
   "metadata": {},
   "source": [
    "Spalten werden flexibler und sicherer (korrekt ausgerichtet) mit `merge` oder `join` einem DataFrame hinzugefügt. Damit befasst sich der nächste Abschnitt."
   ]
  },
  {
   "cell_type": "markdown",
   "metadata": {},
   "source": [
    "### DataFrame im Datenbankstil verknüpfen: `merge` und `join`\n",
    "- *Merge*- oder *join*-Operationen kombinieren Datasets, *indem sie Zeilen mit einem oder mehreren Schlüsseln verknüpfen*. \n",
    "- Diese Operationen sind für *relationale Datenbanken* (z.B. SQL-basiert) von zentraler Bedeutung. \n",
    "- Die `merge`-Funktion in Pandas ist der Haupteinstiegspunkt für die Verwendung dieser Algorithmen."
   ]
  },
  {
   "cell_type": "markdown",
   "metadata": {},
   "source": [
    "#### Verknüpfen: `merge`"
   ]
  },
  {
   "cell_type": "markdown",
   "metadata": {},
   "source": [
    "![](Abbildungen/combine_data_sets.png)"
   ]
  },
  {
   "cell_type": "code",
   "execution_count": null,
   "metadata": {},
   "outputs": [],
   "source": [
    "# Beispieldaten erzeugen:\n",
    "adf = pd.DataFrame({'x1': ['A', 'B', 'C'], 'x2': [1, 2, 3]})\n",
    "bdf = pd.DataFrame({'x1': ['A', 'B', 'D'], 'x3': ['T', 'F', 'T']})\n",
    "adf"
   ]
  },
  {
   "cell_type": "code",
   "execution_count": null,
   "metadata": {},
   "outputs": [],
   "source": [
    "bdf"
   ]
  },
  {
   "cell_type": "markdown",
   "metadata": {},
   "source": [
    "Zuerst mergen wir die DataFrames `adf` und `bdf` über die Spalte/Variable `x1`. Mit dem Argument `how=left` werden die Daten an der Variable (hier `x1`) des \"linken\" (ersten) DataFrame ausgerichtet. Werte der Merge-Variablen (`x1`), die *nur* im rechten (zweiten) DataFrame vorkommen, werden nicht übernommen."
   ]
  },
  {
   "cell_type": "markdown",
   "metadata": {},
   "source": [
    "![](Abbildungen/merge_left.png)"
   ]
  },
  {
   "cell_type": "code",
   "execution_count": null,
   "metadata": {},
   "outputs": [],
   "source": [
    "pd.merge(adf, bdf, how='left', on='x1')"
   ]
  },
  {
   "cell_type": "code",
   "execution_count": null,
   "metadata": {},
   "outputs": [],
   "source": [
    "# Oder als Methode mit gleichem Ergebnis:\n",
    "adf.merge(bdf, how='left', on='x1')"
   ]
  },
  {
   "cell_type": "markdown",
   "metadata": {},
   "source": [
    "C in Merge-Spalte `x1` gibt es nur im ersten (linken) DataFrame, so dass die Variable `x3` an der Stelle ein `NaN` enthält. D in Merge-Spalte `x1` gibt es nur im zweiten (rechten) DataFrame und wird bei `how='left'` nicht übernommen."
   ]
  },
  {
   "cell_type": "markdown",
   "metadata": {},
   "source": [
    "Man kann auch an der Merge-Variable (`x1`) des rechten (zweiten) DataFrame ausrichten."
   ]
  },
  {
   "cell_type": "markdown",
   "metadata": {},
   "source": [
    "![](Abbildungen/merge_right.png)"
   ]
  },
  {
   "cell_type": "code",
   "execution_count": null,
   "metadata": {},
   "outputs": [],
   "source": [
    "pd.merge(adf, bdf, how='right', on='x1')"
   ]
  },
  {
   "cell_type": "markdown",
   "metadata": {},
   "source": [
    "Mit dem Argument `how=inner` werden nur Zeilen über die Merge-Variable verbunden, bei denen die Ausprägungen der Merge-Variable in beiden DataFrames vorkommen (Schnittmenge)."
   ]
  },
  {
   "cell_type": "markdown",
   "metadata": {},
   "source": [
    "![](Abbildungen/merge_inner.png)"
   ]
  },
  {
   "cell_type": "code",
   "execution_count": null,
   "metadata": {},
   "outputs": [],
   "source": [
    "pd.merge(adf, bdf, how='inner', on='x1')"
   ]
  },
  {
   "cell_type": "markdown",
   "metadata": {},
   "source": [
    "Mit dem Argument `how=outer` werden Zeilen über die Merge-Variable verbunden, bei denen die Ausprägungen der Merge-Variable in einem der beiden DataFrames vorkommen (Vereinigungsmenge)."
   ]
  },
  {
   "cell_type": "markdown",
   "metadata": {},
   "source": [
    "![](Abbildungen/merge_outer.png)"
   ]
  },
  {
   "cell_type": "code",
   "execution_count": null,
   "metadata": {},
   "outputs": [],
   "source": [
    "pd.merge(adf, bdf, how='outer', on='x1')"
   ]
  },
  {
   "cell_type": "markdown",
   "metadata": {},
   "source": [
    "**Many-to-one Merges:**\n",
    "Das Verbinden von DataFrames ist oft nützlich, wenn ein DataFrame eine \"Nachschlagetabelle\" ist, die zusätzliche Daten enthält, die wir in die andere einschliessen möchten (*\"many-to-one merges\"*)."
   ]
  },
  {
   "cell_type": "code",
   "execution_count": null,
   "metadata": {},
   "outputs": [],
   "source": [
    "Stammdaten = pd.DataFrame({'Person': list('ABCD'),\n",
    "                           'Arbeitgeber': ['ZHAW', 'UBS', 'UBS', 'ZHAW']},\n",
    "                           columns=['Person', 'Arbeitgeber'])\n",
    "Stammdaten"
   ]
  },
  {
   "cell_type": "code",
   "execution_count": null,
   "metadata": {},
   "outputs": [],
   "source": [
    "Nachschlagetabelle = pd.DataFrame({'Arbeitgeber': ['UBS', 'ZHAW'],\n",
    "                       'Trägerschaft': ['privat', 'öffentlich'],\n",
    "                       'Branche': ['Bank', 'Hochschule']})\n",
    "Nachschlagetabelle"
   ]
  },
  {
   "cell_type": "code",
   "execution_count": null,
   "metadata": {},
   "outputs": [],
   "source": [
    "Stammdaten.merge(Nachschlagetabelle, on='Arbeitgeber')"
   ]
  },
  {
   "cell_type": "markdown",
   "metadata": {},
   "source": [
    "**Kontrollfragen:**"
   ]
  },
  {
   "cell_type": "code",
   "execution_count": null,
   "metadata": {},
   "outputs": [],
   "source": [
    "# Gegeben:\n",
    "df1 = pd.DataFrame({'x': ['A', 'B', 'C'],\n",
    "                    'y': [1, 2, 3]})\n",
    "df1"
   ]
  },
  {
   "cell_type": "code",
   "execution_count": null,
   "metadata": {},
   "outputs": [],
   "source": [
    "# Gegeben ein weiteres DataFrame:\n",
    "df2 = pd.DataFrame({'x': ['A', 'A', 'B'],\n",
    "                    'z': [11, 12, 13]})\n",
    "df2"
   ]
  },
  {
   "cell_type": "code",
   "execution_count": null,
   "metadata": {},
   "outputs": [],
   "source": [
    "# Frage 1: Was ist der Output?\n",
    "pd.merge(df1, df2, on='x', how='outer')"
   ]
  },
  {
   "cell_type": "code",
   "execution_count": null,
   "metadata": {},
   "outputs": [],
   "source": [
    "# Frage 2: Was ist der Output?\n",
    "pd.merge(df1, df2, on='x', how='right')"
   ]
  },
  {
   "cell_type": "markdown",
   "metadata": {},
   "source": [
    "#### Verknüpfen am Index: `join`\n",
    "\n",
    "Oft ist die Information, die zum Verbinden zweier DataFrames nötig ist, im Index der DataFrames enthalten."
   ]
  },
  {
   "cell_type": "code",
   "execution_count": null,
   "metadata": {},
   "outputs": [],
   "source": [
    "# Beispieldaten erzeugen:\n",
    "adf.set_index('x1', inplace=True)\n",
    "adf"
   ]
  },
  {
   "cell_type": "code",
   "execution_count": null,
   "metadata": {},
   "outputs": [],
   "source": [
    "bdf.set_index('x1', inplace=True)\n",
    "bdf"
   ]
  },
  {
   "cell_type": "markdown",
   "metadata": {},
   "source": [
    "Mit `merge()` und den Argumenten `left_index=True` und `right_index=True` können die zwei DataFrames verbunden werden. "
   ]
  },
  {
   "cell_type": "code",
   "execution_count": null,
   "metadata": {},
   "outputs": [],
   "source": [
    "adf.merge(bdf, left_index=True, right_index=True, how='inner')"
   ]
  },
  {
   "cell_type": "markdown",
   "metadata": {},
   "source": [
    "Einfacher geht es mit der `join`-Methode."
   ]
  },
  {
   "cell_type": "code",
   "execution_count": null,
   "metadata": {},
   "outputs": [],
   "source": [
    "adf.join(bdf, how='inner')"
   ]
  },
  {
   "cell_type": "markdown",
   "metadata": {},
   "source": [
    "**Kontrollfrage:**"
   ]
  },
  {
   "cell_type": "code",
   "execution_count": null,
   "metadata": {},
   "outputs": [],
   "source": [
    "# Gegeben:\n",
    "Umsatz_df"
   ]
  },
  {
   "cell_type": "code",
   "execution_count": null,
   "metadata": {},
   "outputs": [],
   "source": [
    "# Gegeben:\n",
    "Umsatz_df2"
   ]
  },
  {
   "cell_type": "code",
   "execution_count": null,
   "metadata": {},
   "outputs": [],
   "source": [
    "# Frage: Was ist der Output?\n",
    "Umsatz_df.join(Umsatz_df2)"
   ]
  },
  {
   "cell_type": "markdown",
   "metadata": {},
   "source": [
    "- Wir haben damit die wichtigsten Funktionalitäten bezüglich Kombinieren von Daten-Sets *im Grundsatz* besprochen.\n",
    "- Das Lehrmittel vertieft die Ausführungen und bespricht insbesondere auch:\n",
    "    - Many-to-many Merges\n",
    "    - Merge bei hierarchischen Indizes"
   ]
  },
  {
   "cell_type": "markdown",
   "metadata": {},
   "source": [
    "### Rekapitulation: Was ist nochmals der Unterschied zwischen `merge`, `join` und `concat`?\n",
    "- `concat` wird verwendet, um ein (oder mehrere) DataFrame(s) an ein anderes untereinander anzuhängen (oder auch seitwärts, falls `axis=1` gesetzt ist).\n",
    "- Ein wesentlicher Unterschied zu `concat` besteht darin, dass `merge` verwendet wird, um zwei (oder mehr) DataFrames auf der *Basis von Werten gemeinsamer Spalten* zu verbinden (Indizes können auch verwendet werden, `left_index=True` und/oder `right_index=True`).\n",
    "- `join` kann verwendet werden, um zwei DataFrames *auf der Basis des Index* zusammenzuführen (was einfacher ist, als `merge` mit der Option `left_index=True` und/oder `right_index=True` zu verwenden)."
   ]
  },
  {
   "cell_type": "markdown",
   "metadata": {},
   "source": [
    "## Umformen und Transponieren (Reshaping and Pivoting)"
   ]
  },
  {
   "cell_type": "markdown",
   "metadata": {},
   "source": [
    "### Umformen bei hierarchischem Index\n",
    "- Die hierarchische Indexierung bietet eine konsistente Möglichkeit, Daten in einem DataFrame neu anzuordnen. \n",
    "- Es gibt zwei Hauptaktionen (welche oben bereits kurz eingeführt wurden): \n",
    "    - **`stack`**: Rotiert oder schwenkt von den Spalten in den Daten zu den Zeilen\n",
    "    - **`unstack`**: Rotiert von den Zeilen in die Spalten"
   ]
  },
  {
   "cell_type": "code",
   "execution_count": null,
   "metadata": {},
   "outputs": [],
   "source": [
    "# Beispieldaten:\n",
    "Umsatz_df"
   ]
  },
  {
   "cell_type": "code",
   "execution_count": null,
   "metadata": {},
   "outputs": [],
   "source": [
    "Long_format = Umsatz_df.stack()\n",
    "Long_format"
   ]
  },
  {
   "cell_type": "code",
   "execution_count": null,
   "metadata": {},
   "outputs": [],
   "source": [
    "Wide_format = Long_format.unstack()\n",
    "Wide_format"
   ]
  },
  {
   "cell_type": "markdown",
   "metadata": {},
   "source": [
    "- Standardmässig wird die innerste Ebene \"entstapelt\" (dasselbe gilt für `stack`). \n",
    "- Sie können eine andere Ebene entstapeln, indem Sie eine Ebenennummer oder Namen übergeben:"
   ]
  },
  {
   "cell_type": "markdown",
   "metadata": {},
   "source": [
    "### Pivoting vom \"long\"- zum \"wide\"-Format\n",
    "- Eine gängige Möglichkeit, mehrere Zeitreihen in Datenbanken (z. B. MySQL) und CSV-Dateien zu speichern, ist das so genannte \"Long\"- oder \"Stacked\"-Format. \n",
    "- Beispiel:"
   ]
  },
  {
   "cell_type": "code",
   "execution_count": null,
   "metadata": {},
   "outputs": [],
   "source": [
    "long_data = pd.read_csv('../weitere_Daten/long_data.csv')\n",
    "long_data.head()"
   ]
  },
  {
   "cell_type": "markdown",
   "metadata": {},
   "source": [
    "- In manchen Fällen ist es schwieriger, mit den Daten in diesem Format zu arbeiten. Vielleicht bevorzugen wir ein DataFrame mit einer Spalte pro Variable, der durch Zeitstempel in der Datumsspalte indiziert wird. \n",
    "- Die DataFrame-Methode **`pivot`** führt genau diese Transformation durch:"
   ]
  },
  {
   "cell_type": "markdown",
   "metadata": {},
   "source": [
    "![](Abbildungen/pivot.png)"
   ]
  },
  {
   "cell_type": "code",
   "execution_count": null,
   "metadata": {},
   "outputs": [],
   "source": [
    "wide_data = long_data.pivot(index='date', columns='variable', values='value')\n",
    "wide_data.head()"
   ]
  },
  {
   "cell_type": "markdown",
   "metadata": {},
   "source": [
    "- Die ersten beiden übergebenen Werte (wenn nicht wie oben explizit angegeben) sind die Spalten, die jeweils als Zeilen- und Spaltenindex verwendet werden, und schliesslich eine optionale Wertespalte, um das DataFrame zu füllen. "
   ]
  },
  {
   "cell_type": "markdown",
   "metadata": {},
   "source": [
    "### `pivot` vs. `unstack`\n",
    "**Beachten Sie, dass `pivot` dem Erstellen eines hierarchischen Indexes mit `set_index` gefolgt von einem Aufruf von `unstack` entspricht:**"
   ]
  },
  {
   "cell_type": "code",
   "execution_count": null,
   "metadata": {},
   "outputs": [],
   "source": [
    "# Zur Erinnerung:\n",
    "long_data.head()"
   ]
  },
  {
   "cell_type": "code",
   "execution_count": null,
   "metadata": {},
   "outputs": [],
   "source": [
    "# Hierarchischer Index erstellen:\n",
    "df_HI = long_data.set_index(['date', 'variable'])    \n",
    "df_HI.head()"
   ]
  },
  {
   "cell_type": "code",
   "execution_count": null,
   "metadata": {},
   "outputs": [],
   "source": [
    "# Nun unstack; gleiches Ergebnis wie mit pivot oben:\n",
    "df_HI.unstack('variable').head()"
   ]
  },
  {
   "cell_type": "markdown",
   "metadata": {},
   "source": [
    "## Fazit\n",
    "- Wir haben uns nun wichtige Pandas-Grundlagen für den Datenimport, -säuberung und -reorganisation erarbeitet.\n",
    "- Im nächsten Kapitel werden wir uns mit der *Datenvisualisierung* genauer befassen. \n",
    "- Wir werden später auf Pandas zurückkommen, wenn wir fortgeschrittenere Analysen (Gruppierungen, Zeitreihen) diskutieren."
   ]
  }
 ],
 "metadata": {
  "kernelspec": {
   "display_name": "Python 3",
   "language": "python",
   "name": "python3"
  },
  "language_info": {
   "codemirror_mode": {
    "name": "ipython",
    "version": 3
   },
   "file_extension": ".py",
   "mimetype": "text/x-python",
   "name": "python",
   "nbconvert_exporter": "python",
   "pygments_lexer": "ipython3",
   "version": "3.7.0"
  }
 },
 "nbformat": 4,
 "nbformat_minor": 1
}
