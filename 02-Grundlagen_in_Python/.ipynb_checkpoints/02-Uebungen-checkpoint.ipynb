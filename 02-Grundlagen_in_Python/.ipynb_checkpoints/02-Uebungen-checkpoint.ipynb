{
 "cells": [
  {
   "cell_type": "markdown",
   "metadata": {},
   "source": [
    "## Übungen zum Kapitel 2\n",
    "### Grundlagen in Python und Jupyter Notebooks\n",
    "Erstellt und überarbeitet: armin.baenziger@zhaw.ch, 2. Januar 2020\n",
    "***"
   ]
  },
  {
   "cell_type": "code",
   "execution_count": null,
   "metadata": {},
   "outputs": [],
   "source": [
    "%autosave 0"
   ]
  },
  {
   "cell_type": "markdown",
   "metadata": {},
   "source": [
    "***"
   ]
  },
  {
   "cell_type": "markdown",
   "metadata": {},
   "source": [
    "**(A.1)** Versuchen Sie, diesen Satz **genau so** mit Markdown *in der folgenden Zelle* zu replizieren."
   ]
  },
  {
   "cell_type": "markdown",
   "metadata": {},
   "source": []
  },
  {
   "cell_type": "markdown",
   "metadata": {},
   "source": [
    "***"
   ]
  },
  {
   "cell_type": "markdown",
   "metadata": {},
   "source": [
    "**(B.1)** Erzeugen Sie die Liste `Liste`, welche die ersten vier grossen Buchstaben im Alphabet enthält."
   ]
  },
  {
   "cell_type": "code",
   "execution_count": null,
   "metadata": {},
   "outputs": [],
   "source": [
    "Liste = "
   ]
  },
  {
   "cell_type": "markdown",
   "metadata": {},
   "source": [
    "**(B.2)** Weisen Sie den dritten Buchstaben der Liste `Liste` der Variable `s` zu."
   ]
  },
  {
   "cell_type": "code",
   "execution_count": null,
   "metadata": {},
   "outputs": [],
   "source": [
    "s = "
   ]
  },
  {
   "cell_type": "markdown",
   "metadata": {},
   "source": [
    "**(B.3)** Ersetzen Sie in `Liste` das zweite Element (`B`) durch den Buchstaben `Z`."
   ]
  },
  {
   "cell_type": "code",
   "execution_count": null,
   "metadata": {},
   "outputs": [],
   "source": []
  },
  {
   "cell_type": "markdown",
   "metadata": {},
   "source": [
    "**(B.4)** Sortieren Sie `Liste` mit der `sort`-Methode."
   ]
  },
  {
   "cell_type": "code",
   "execution_count": null,
   "metadata": {},
   "outputs": [],
   "source": []
  },
  {
   "cell_type": "markdown",
   "metadata": {},
   "source": [
    "***"
   ]
  },
  {
   "cell_type": "markdown",
   "metadata": {},
   "source": [
    "**(C.1)** Berechnen Sie in Python $1.0325^5$."
   ]
  },
  {
   "cell_type": "code",
   "execution_count": null,
   "metadata": {},
   "outputs": [],
   "source": [
    "1.0325 ** 5"
   ]
  },
  {
   "cell_type": "markdown",
   "metadata": {},
   "source": [
    "**(C.2)** Das letzte Ergebnis wird jeweils im Objekt `_` zwischengespeichert. Runden Sie damit das letzte Resultat auf zwei Nachkommastellen wie folgt:\n",
    "```python\n",
    "round(_, 2)\n",
    "```"
   ]
  },
  {
   "cell_type": "code",
   "execution_count": null,
   "metadata": {},
   "outputs": [],
   "source": []
  },
  {
   "cell_type": "markdown",
   "metadata": {},
   "source": [
    "***"
   ]
  },
  {
   "cell_type": "markdown",
   "metadata": {},
   "source": [
    "Für die nächsten Aufgaben generieren wir zuerst die drei Listen `A`, `B` und `C`:"
   ]
  },
  {
   "cell_type": "code",
   "execution_count": null,
   "metadata": {},
   "outputs": [],
   "source": [
    "A = list(range(5))\n",
    "B = [0, 1, 2, 3, 4]\n",
    "C = [1, 0, 7, 3, 5]\n",
    "print('A =', A)\n",
    "print('B =', B)\n",
    "print('C =', C)"
   ]
  },
  {
   "cell_type": "markdown",
   "metadata": {},
   "source": [
    "**(D.1)** Prüfen Sie mit `is` ob `A` und `B` auf das gleiche Objekt verweisen. "
   ]
  },
  {
   "cell_type": "code",
   "execution_count": null,
   "metadata": {},
   "outputs": [],
   "source": []
  },
  {
   "cell_type": "markdown",
   "metadata": {},
   "source": [
    "**(D.2)** Prüfen Sie mit `==`, ob die zwei Listen `A` und `B` gleich sind."
   ]
  },
  {
   "cell_type": "code",
   "execution_count": null,
   "metadata": {},
   "outputs": [],
   "source": []
  },
  {
   "cell_type": "markdown",
   "metadata": {},
   "source": [
    "**(D.3)** Prüfen Sie mit `==`, ob die zwei Listen `B` und `C` gleich sind."
   ]
  },
  {
   "cell_type": "code",
   "execution_count": null,
   "metadata": {},
   "outputs": [],
   "source": []
  },
  {
   "cell_type": "markdown",
   "metadata": {},
   "source": [
    "**(D.4)** Prüfen Sie, ob das letzte Element von `B` dem letzten Element von `C` entspricht."
   ]
  },
  {
   "cell_type": "code",
   "execution_count": null,
   "metadata": {},
   "outputs": [],
   "source": []
  },
  {
   "cell_type": "markdown",
   "metadata": {},
   "source": [
    "**(D.5)** Prüfen Sie mit `==`, ob die ersten zwei Elemente von `B` und `C` identisch sind."
   ]
  },
  {
   "cell_type": "code",
   "execution_count": null,
   "metadata": {},
   "outputs": [],
   "source": []
  },
  {
   "cell_type": "markdown",
   "metadata": {},
   "source": [
    "**(D.6)** Prüfen Sie, ob je das zweite *und* je das vierte Element der Listen `B` und `C` identisch ist."
   ]
  },
  {
   "cell_type": "code",
   "execution_count": null,
   "metadata": {},
   "outputs": [],
   "source": []
  },
  {
   "cell_type": "markdown",
   "metadata": {},
   "source": [
    "**(D.7)** Prüfen Sie, ob je das zweite *oder* je das vierte Element der Listen `B` und `C` identisch ist."
   ]
  },
  {
   "cell_type": "code",
   "execution_count": null,
   "metadata": {},
   "outputs": [],
   "source": []
  },
  {
   "cell_type": "markdown",
   "metadata": {},
   "source": [
    "**(D.8)** Prüfen Sie mit `len`, ob die zwei Listen `B` und `C` gleich viele \"Elemente\" (Items) enthalten."
   ]
  },
  {
   "cell_type": "code",
   "execution_count": null,
   "metadata": {},
   "outputs": [],
   "source": []
  },
  {
   "cell_type": "markdown",
   "metadata": {},
   "source": [
    "***"
   ]
  },
  {
   "cell_type": "markdown",
   "metadata": {},
   "source": [
    "Für die nächsten Fragen erzeugen wir zunächst zwei Strings:"
   ]
  },
  {
   "cell_type": "code",
   "execution_count": null,
   "metadata": {},
   "outputs": [],
   "source": [
    "s1 = 'Datenanalyse'   # geht mit '\n",
    "s2 = \"mit Python\"     # oder mit \""
   ]
  },
  {
   "cell_type": "markdown",
   "metadata": {},
   "source": [
    "**(E.1)** Zählen Sie mit der `count`-Methode die Anzahl *n* im String `s1`."
   ]
  },
  {
   "cell_type": "code",
   "execution_count": null,
   "metadata": {},
   "outputs": [],
   "source": []
  },
  {
   "cell_type": "markdown",
   "metadata": {},
   "source": [
    "**(E.2)** Erzeugen Sie aus den Strings `s1`, `s2` und einem Leerschlag den String `'Datenanalyse mit Python'`. Weisen Sie das Ergebnis dem Objekt `s` zu. Tipp: Verwenden Sie zum Verknüpfen `+`."
   ]
  },
  {
   "cell_type": "code",
   "execution_count": null,
   "metadata": {},
   "outputs": [],
   "source": []
  },
  {
   "cell_type": "markdown",
   "metadata": {},
   "source": [
    "**(E.3)** \"Slicen\" Sie die ersten 10 Zeichen aus `s`."
   ]
  },
  {
   "cell_type": "code",
   "execution_count": null,
   "metadata": {},
   "outputs": [],
   "source": []
  },
  {
   "cell_type": "markdown",
   "metadata": {},
   "source": [
    "***"
   ]
  },
  {
   "cell_type": "markdown",
   "metadata": {},
   "source": [
    "**(F.1)** Erzeugen Sie mit `range()` und `list()` eine Liste, welche wie folgt aussieht:\n",
    "`[5, 7, 9, 11, 13, 15, 17, 19]`"
   ]
  },
  {
   "cell_type": "code",
   "execution_count": null,
   "metadata": {},
   "outputs": [],
   "source": []
  },
  {
   "cell_type": "markdown",
   "metadata": {
    "collapsed": true
   },
   "source": [
    "**(F.2)** Berechnen Sie die Quadratwurzeln der Werte in der unten definierten Liste `listli`. Verwenden Sie hierzu eine `for`-Schleife. "
   ]
  },
  {
   "cell_type": "code",
   "execution_count": null,
   "metadata": {},
   "outputs": [],
   "source": [
    "listli = [9, 25, 3, 16, 100]\n"
   ]
  },
  {
   "cell_type": "markdown",
   "metadata": {},
   "source": [
    "**(F.3)** Nutzen Sie eine `for`-Schleife mit `if`-Verzweigung, um alle Elemente der Liste `listli` auszugeben, welche grösser als 10 sind. "
   ]
  },
  {
   "cell_type": "code",
   "execution_count": null,
   "metadata": {},
   "outputs": [],
   "source": []
  },
  {
   "cell_type": "markdown",
   "metadata": {},
   "source": [
    "***\n",
    "#### *Ende der Übung*"
   ]
  }
 ],
 "metadata": {
  "kernelspec": {
   "display_name": "Python 3 (ipykernel)",
   "language": "python",
   "name": "python3"
  },
  "language_info": {
   "codemirror_mode": {
    "name": "ipython",
    "version": 3
   },
   "file_extension": ".py",
   "mimetype": "text/x-python",
   "name": "python",
   "nbconvert_exporter": "python",
   "pygments_lexer": "ipython3",
   "version": "3.9.7"
  }
 },
 "nbformat": 4,
 "nbformat_minor": 2
}
