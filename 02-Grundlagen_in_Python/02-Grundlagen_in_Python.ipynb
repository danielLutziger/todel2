{
 "cells": [
  {
   "cell_type": "markdown",
   "metadata": {},
   "source": [
    "# Kapitel 2: Grundlagen in Python und Jupyter Notebooks\n",
    "McKinney, W. (2017). *Python for Data Analysis: Data Wrangling with Pandas, NumPy, and IPython*. 2. Auflage. Sebastopol, CA [u. a.]: O’Reilly.\n",
    "\n",
    "Überarbeitet: armin.baenziger@zhaw.ch, 2. Januar 2020\n",
    "\n",
    "**Hinweise**: \n",
    "- Dieses Kapitel gibt einen ersten Einblick in Python und das Jupyter Notebook. \n",
    "- **Es ist somit nicht erforderlich, dass Sie bereits alle Details des Kapitels verstehen.**\n",
    "- Bedenken Sie, dass man eine Programmiersprache nur lernt, wenn man sich dabei \"die Hände schmutzig macht\". Versuchen Sie, viel zu üben. "
   ]
  },
  {
   "cell_type": "code",
   "execution_count": null,
   "metadata": {},
   "outputs": [],
   "source": [
    "%autosave 0"
   ]
  },
  {
   "cell_type": "markdown",
   "metadata": {},
   "source": [
    "`%autosave` ist ein sogenannter *Magic command*, welcher das Jupyter Notebook steuert. `%autosave 100` würde bedeuten, dass das Notebook alle 100 Sekunden gespeichert wird. `%autosave 0` bewirkt, dass das Notebook *nicht* automatisch gespeichert wird. \n",
    "\n",
    "Als nächstes importieren wir die Bibliothek `sys` und ermitteln Ihre Python-Version:"
   ]
  },
  {
   "cell_type": "code",
   "execution_count": null,
   "metadata": {},
   "outputs": [],
   "source": [
    "import sys\n",
    "sys.version"
   ]
  },
  {
   "cell_type": "markdown",
   "metadata": {},
   "source": [
    "## Zellen in Jupyter Notebooks\n",
    "Die Eingabe von Python-Befehlen bzw. -Funktionen erfolgt in Jupyter Notebooks in sog. Zellen. Output wird gegebenenfalls in der gleichen Zelle dargestellt."
   ]
  },
  {
   "cell_type": "code",
   "execution_count": null,
   "metadata": {},
   "outputs": [],
   "source": [
    "4 + 5"
   ]
  },
  {
   "cell_type": "markdown",
   "metadata": {},
   "source": [
    "### Markdown\n",
    "\n",
    "Text kann mit Markdown-Zellen zu Jupyter Notebooks hinzugefügt werden. Markdown ist eine beliebte Markup-Sprache, die eine Obermenge von HTML ist.\n",
    "#### Grundlagen\n",
    "Text kann *kursiv* und **fett** geschrieben werden.\n",
    "\n",
    "Listen:\n",
    "- Man kann einfach Listen bilden, welche auch\n",
    "    - Unterlisten enthalten können.\n",
    "    - Das ist sehr praktisch\n",
    "    \n",
    "Nummerierte Listen:\n",
    "1. Man kann auch nummerierte Listen erstellen.\n",
    "1. Auch das ist einfach.\n",
    " \n",
    "Horizontale Linie:\n",
    "***\n",
    "\n",
    "- LaTeX-Formeln im Text, z.B: $x^2$, geht auch.\n",
    "- Man kann Formeln auch absetzen:\n",
    "$$ \\sum x_i = n \\cdot \\bar{x} $$\n",
    "\n",
    "Tabellen:\n",
    "Zudem ist es möglich, Tabellen zu erstellen:\n",
    "\n",
    "| $i$| $x_i$ | $y_i$ |\n",
    "| ---|-------| ------|\n",
    "| 1  | 15    | 32    |\n",
    "| 2  | 11    | 21    |\n",
    "| 3  | 13    | 25    |\n",
    "\n",
    "Link:\n",
    "http://jupyter-notebook.readthedocs.io/en/stable/examples/Notebook/Working%20With%20Markdown%20Cells.html"
   ]
  },
  {
   "cell_type": "markdown",
   "metadata": {},
   "source": [
    "### Kommentare\n",
    "Kommentare können mit der Raute (schweiz. Gartenhag, engl. hash) hinzugefügt werden. *Alles hinter einer Raute wird vom Interpreter ignoriert.*"
   ]
  },
  {
   "cell_type": "code",
   "execution_count": null,
   "metadata": {},
   "outputs": [],
   "source": [
    "# Erzeugung einer sog. Python-Liste mit []:\n",
    "wochentage = ['Mo', 'Di', 'Mi', 'Do', 'Fr', 'Sa', 'So']\n",
    "# Werte aus der Liste ziehen: Python beginnt die Indizierung mit 0!\n",
    "wochentage[0]        # erstes Element der Liste    "
   ]
  },
  {
   "cell_type": "code",
   "execution_count": null,
   "metadata": {},
   "outputs": [],
   "source": [
    "wochentage[1]        # zweites Element der Liste"
   ]
  },
  {
   "cell_type": "code",
   "execution_count": null,
   "metadata": {},
   "outputs": [],
   "source": [
    "wochentage[-1]       # letztes Element der Liste"
   ]
  },
  {
   "cell_type": "markdown",
   "metadata": {},
   "source": [
    "**Kontrollfragen**:"
   ]
  },
  {
   "cell_type": "code",
   "execution_count": null,
   "metadata": {},
   "outputs": [],
   "source": [
    "# Frage 1: Was ist der Output?\n",
    "wochentage[3]"
   ]
  },
  {
   "cell_type": "code",
   "execution_count": null,
   "metadata": {},
   "outputs": [],
   "source": [
    "# Frage 2: Was ist der Output?\n",
    "wochentage[-3]"
   ]
  },
  {
   "cell_type": "markdown",
   "metadata": {},
   "source": [
    "### Tab-Vervollständigung (Tab Completion)"
   ]
  },
  {
   "cell_type": "code",
   "execution_count": null,
   "metadata": {},
   "outputs": [],
   "source": [
    "eine_Orange = 'Jaffa'\n",
    "eine_Banane = 'Cavendish'"
   ]
  },
  {
   "cell_type": "code",
   "execution_count": null,
   "metadata": {},
   "outputs": [],
   "source": [
    "eine_       # Mit Tabulator vervollständigen "
   ]
  },
  {
   "cell_type": "code",
   "execution_count": null,
   "metadata": {},
   "outputs": [],
   "source": [
    "# Mit dem Tabulator können auch sog. Methoden und Attribute eines Objekts vervollständigt werden.\n",
    "wochentage.    # Mit Tabulator vervollständigen"
   ]
  },
  {
   "cell_type": "markdown",
   "metadata": {},
   "source": [
    "### Introspektion (Object Introspection)\n",
    "Mit einem Fragezeichen (?) vor oder nach einem Objekt erhält man einige generelle Informationen zum Objekt."
   ]
  },
  {
   "cell_type": "code",
   "execution_count": null,
   "metadata": {},
   "outputs": [],
   "source": [
    "# Informationen zur Liste:\n",
    "?eine_Orange"
   ]
  },
  {
   "cell_type": "code",
   "execution_count": null,
   "metadata": {},
   "outputs": [],
   "source": [
    "# Informationen zur Funktion:\n",
    "?len"
   ]
  },
  {
   "cell_type": "code",
   "execution_count": null,
   "metadata": {},
   "outputs": [],
   "source": [
    "# Anzahl Elemente in der Liste:\n",
    "len(wochentage)"
   ]
  },
  {
   "cell_type": "markdown",
   "metadata": {},
   "source": [
    "### Magic Commands"
   ]
  },
  {
   "cell_type": "markdown",
   "metadata": {},
   "source": [
    "- \"Magic Commands\" starten mit `%` und sind spezielle Befehle, welche nicht in Python selber implementiert sind.\n",
    "- Mit \"Magic Commands\" kann man das Jupyter Notebook steuern. \n",
    "- Wir haben weiter oben bereits ein Beispiel von einem \"Magic Commands\" gesehen: `%autosave 0`\n",
    "- Mit `%quickref` erhält man eine Übersicht über die Befehle.\n",
    "- Ein weiteres Beispiel eines \"Magic Command\": Definierte Variablen"
   ]
  },
  {
   "cell_type": "code",
   "execution_count": null,
   "metadata": {},
   "outputs": [],
   "source": [
    "%who"
   ]
  },
  {
   "cell_type": "markdown",
   "metadata": {},
   "source": [
    "## Grundlagen der Python Sprache\n",
    "### Sprach-Semantik\n",
    "#### Einrückung statt Klammern\n",
    "- Statt (geschweifte) Klammern (wie z.B. in C oder R), werden in Python Programmblöcke durch Einrücken strukturiert.\n",
    "- Ein Code-Block startet mit einem Doppelpunkt. Danach muss der ganze Block mit *derselben* Anzahl Leerschlägen eingerückt sein.\n",
    "- *Es ist Usanz, 4 Leerschläge für eine Einrückung zu verwenden*.\n",
    "- Beispiel (Erklärungen folgen später):"
   ]
  },
  {
   "cell_type": "code",
   "execution_count": null,
   "metadata": {},
   "outputs": [],
   "source": [
    "x = 2\n",
    "if x < 0:\n",
    "    print('Die Zahl', x, 'ist negativ.')\n",
    "else:\n",
    "    print('Die Zahl', x, 'ist nicht negativ.')"
   ]
  },
  {
   "cell_type": "markdown",
   "metadata": {},
   "source": [
    "- Python Statements müssen *nicht* durch ein Semikolon abgeschlossen werden. Mit Semikolons können aber mehrere Statements auf einer Zeile abgetrennt werden. \n",
    "- Man sollte von dieser Möglichkeit allerdings nur in Ausnahmefällen Gebrauch machen, da die Lesbarkeit des Codes dadurch erschwert wird. "
   ]
  },
  {
   "cell_type": "code",
   "execution_count": null,
   "metadata": {},
   "outputs": [],
   "source": [
    "a = 5; b = 6; c = 7   # mehrere Anweisungen auf einer Zeile\n",
    "print('Summe:', a + b + c)"
   ]
  },
  {
   "cell_type": "markdown",
   "metadata": {},
   "source": [
    "#### Funktionen und Methoden\n",
    "- Funktionen werden mit runden Klammern und evt. Argumenten aufgerufen."
   ]
  },
  {
   "cell_type": "code",
   "execution_count": null,
   "metadata": {},
   "outputs": [],
   "source": [
    "text = 'Datenanalyse'\n",
    "print(text)\n",
    "len(text)  \n",
    "# Die Funktion len(x) gibt die Anzahl Elemente des Objekts x zurück. "
   ]
  },
  {
   "cell_type": "markdown",
   "metadata": {},
   "source": [
    "- Funktionen können verschachtelt werden:"
   ]
  },
  {
   "cell_type": "code",
   "execution_count": null,
   "metadata": {},
   "outputs": [],
   "source": [
    "print('Das Wort', text, 'hat', len(text), 'Buchstaben.')"
   ]
  },
  {
   "cell_type": "markdown",
   "metadata": {},
   "source": [
    "- Optional kann der Funktionswert einer Variable zugewiesen werden."
   ]
  },
  {
   "cell_type": "code",
   "execution_count": null,
   "metadata": {},
   "outputs": [],
   "source": [
    "n = len(text)\n",
    "print(n)"
   ]
  },
  {
   "cell_type": "markdown",
   "metadata": {},
   "source": [
    "- Die meisten *Objekte* in Python haben zugehörige Funktionen, welche Zugriff auf den Inhalt der Objekte haben.\n",
    "- Man nennt diese Funktionen **Methoden**.\n",
    "- Methoden werden wie folgt aufgerufen: **`objekt.Methodenname(Argument 1, Argument 2, ...)`**\n",
    "- Beispiel:"
   ]
  },
  {
   "cell_type": "code",
   "execution_count": null,
   "metadata": {},
   "outputs": [],
   "source": [
    "text.upper()  # Die Methode upper() wandelt den Text in Grossbuchstaben um."
   ]
  },
  {
   "cell_type": "code",
   "execution_count": null,
   "metadata": {},
   "outputs": [],
   "source": [
    "text.count('a')  # Anzahl \"a\" in der Zeichenkette."
   ]
  },
  {
   "cell_type": "markdown",
   "metadata": {},
   "source": [
    "**Kontrollfrage**:"
   ]
  },
  {
   "cell_type": "code",
   "execution_count": null,
   "metadata": {},
   "outputs": [],
   "source": [
    "# Gegeben:\n",
    "z = 'Datenanalyse mit Python'"
   ]
  },
  {
   "cell_type": "code",
   "execution_count": null,
   "metadata": {},
   "outputs": [],
   "source": [
    "# Frage 1: Wie erhalten wir die Länge der Zeichenkette z?\n"
   ]
  },
  {
   "cell_type": "code",
   "execution_count": null,
   "metadata": {},
   "outputs": [],
   "source": [
    "# Frage 2: Wie viele \"e\" hat die Zeichenkette z?\n"
   ]
  },
  {
   "cell_type": "markdown",
   "metadata": {},
   "source": [
    "#### Bibliotheken importieren\n",
    "Mit dem Befehl `import` können Bibliotheken (\"Libraries\") geladen werden, welche den Funktionsumfang von Python in bestimmten Dimensionen erweiteren. Beispiel:"
   ]
  },
  {
   "cell_type": "code",
   "execution_count": null,
   "metadata": {},
   "outputs": [],
   "source": [
    "import numpy as np"
   ]
  },
  {
   "cell_type": "markdown",
   "metadata": {},
   "source": [
    "- Die Anordnung lädt die Bibliothek NumPy, welche eine grundlegende Bibliothek für wissenschaftliche Berechnungen mit Python ist.\n",
    "- Es ist üblich, die Bibliothek `numpy` mit der Abkürzung `np` zu laden.\n",
    "- Will man Funktionen dieser Bibliothek aufrufen, stellt man `np.` vor die entsprechende Funktion.\n",
    "- Beispiel:"
   ]
  },
  {
   "cell_type": "code",
   "execution_count": null,
   "metadata": {},
   "outputs": [],
   "source": [
    "np.random.seed(321)\n",
    "np.random.randint(1, 7, 10)"
   ]
  },
  {
   "cell_type": "markdown",
   "metadata": {},
   "source": [
    "- Die erste Zeile setzt den Seed für die Ausgabe von Quasi-Zufallszahlen. Wenn ein Seed gesetzt wird, erhält man reproduzierbare (immer die gleichen) \"Zufallszahlen\".\n",
    "- Die zweite Zeile erzeugt 10 ganze Zahlen (Integers) von 1 bis und mit 6.\n",
    "- Kapitel 4 wird sich näher mit der Bibliothek `numpy` befassen.\n",
    "- Später werden wir uns insb. mit der Bibliothek `pandas` beschäftigen."
   ]
  },
  {
   "cell_type": "markdown",
   "metadata": {},
   "source": [
    "#### Binäre Operationen und Vergleiche"
   ]
  },
  {
   "cell_type": "code",
   "execution_count": null,
   "metadata": {},
   "outputs": [],
   "source": [
    "5 + 7"
   ]
  },
  {
   "cell_type": "code",
   "execution_count": null,
   "metadata": {},
   "outputs": [],
   "source": [
    "12 - 21.5"
   ]
  },
  {
   "cell_type": "code",
   "execution_count": null,
   "metadata": {},
   "outputs": [],
   "source": [
    "4 * 3"
   ]
  },
  {
   "cell_type": "code",
   "execution_count": null,
   "metadata": {},
   "outputs": [],
   "source": [
    "9 / 4"
   ]
  },
  {
   "cell_type": "code",
   "execution_count": null,
   "metadata": {},
   "outputs": [],
   "source": [
    "9 // 4    # Division ohne Rest"
   ]
  },
  {
   "cell_type": "code",
   "execution_count": null,
   "metadata": {},
   "outputs": [],
   "source": [
    "9 % 4     # Rest der Division (Modulo)"
   ]
  },
  {
   "cell_type": "code",
   "execution_count": null,
   "metadata": {},
   "outputs": [],
   "source": [
    "2 ** 3    # Potenz (Achtung, nicht mit ^ wie z.B. in Excel)"
   ]
  },
  {
   "cell_type": "code",
   "execution_count": null,
   "metadata": {},
   "outputs": [],
   "source": [
    "16 ** 0.5 # Potenz mit geborchenem Exponenten (Wurzel)"
   ]
  },
  {
   "cell_type": "code",
   "execution_count": null,
   "metadata": {},
   "outputs": [],
   "source": [
    "a = 2; b = 3"
   ]
  },
  {
   "cell_type": "code",
   "execution_count": null,
   "metadata": {},
   "outputs": [],
   "source": [
    "a == b    # True, falls a gleich b ist; sonst False"
   ]
  },
  {
   "cell_type": "code",
   "execution_count": null,
   "metadata": {},
   "outputs": [],
   "source": [
    "a <= b    # kleiner oder gleich"
   ]
  },
  {
   "cell_type": "code",
   "execution_count": null,
   "metadata": {},
   "outputs": [],
   "source": [
    "a > b     # grösser"
   ]
  },
  {
   "cell_type": "code",
   "execution_count": null,
   "metadata": {},
   "outputs": [],
   "source": [
    "a != b    # ungleich"
   ]
  },
  {
   "cell_type": "code",
   "execution_count": null,
   "metadata": {},
   "outputs": [],
   "source": [
    "(a < 3) & (b < 3)  # \"logisches und\" mit &\n",
    "# Nur wenn alle Bedingungen wahr sind, ist der Gesamtausdruck wahr."
   ]
  },
  {
   "cell_type": "code",
   "execution_count": null,
   "metadata": {},
   "outputs": [],
   "source": [
    "(a < 3) | (b < 3)  # \"logisches oder\" mit |\n",
    "# Wenn mindestens eine Bedingung wahr ist, ist der Gesamtausdruck wahr."
   ]
  },
  {
   "cell_type": "markdown",
   "metadata": {},
   "source": [
    "**Kontrollfragen**:"
   ]
  },
  {
   "cell_type": "code",
   "execution_count": null,
   "metadata": {},
   "outputs": [],
   "source": [
    "# Frage 1: Was ist der Output?\n",
    "2**3"
   ]
  },
  {
   "cell_type": "code",
   "execution_count": null,
   "metadata": {},
   "outputs": [],
   "source": [
    "# Frage 2: Was ist der Output?\n",
    "(5 < 4) | (3 != 2)"
   ]
  },
  {
   "cell_type": "markdown",
   "metadata": {},
   "source": [
    "Um zu prüfen, ob zwei Referenzen auf das gleiche (unterschiedliche) Objekt(e) zeigen, verwendet man `is` (`is not`)."
   ]
  },
  {
   "cell_type": "code",
   "execution_count": null,
   "metadata": {},
   "outputs": [],
   "source": [
    "a = [1, 2, 3]\n",
    "b = a\n",
    "a is b     \n",
    "# a und b sind identische Objekte (mit zwei Namen)."
   ]
  },
  {
   "cell_type": "code",
   "execution_count": null,
   "metadata": {},
   "outputs": [],
   "source": [
    "c = [1, 2, 3]\n",
    "a is c     \n",
    "# a und b haben gleiche Inhalte, sind aber unterschiedliche Objekte \n",
    "# (im Speicher)."
   ]
  },
  {
   "cell_type": "code",
   "execution_count": null,
   "metadata": {},
   "outputs": [],
   "source": [
    "# Hingegen:\n",
    "a == c"
   ]
  },
  {
   "cell_type": "code",
   "execution_count": null,
   "metadata": {},
   "outputs": [],
   "source": [
    "a is not c"
   ]
  },
  {
   "cell_type": "markdown",
   "metadata": {},
   "source": [
    "#### Modifizierbare und nicht modifizierbare Objekte (Mutable and Immutable Objects)\n",
    "Die meisten Objekte in Python sind modifizierbar (mutable), so z. B. Listen. "
   ]
  },
  {
   "cell_type": "code",
   "execution_count": null,
   "metadata": {},
   "outputs": [],
   "source": [
    "eine_Liste = [1, 2, 3]   # Listen sind modifizierbar.\n",
    "eine_Liste[0]            # Das erste Element der Liste ausgeben."
   ]
  },
  {
   "cell_type": "code",
   "execution_count": null,
   "metadata": {},
   "outputs": [],
   "source": [
    "eine_Liste[1] = 99       # Das zweite Element der Liste wird verändert.\n",
    "eine_Liste"
   ]
  },
  {
   "cell_type": "markdown",
   "metadata": {},
   "source": [
    "Andere Objekte, wie z. B. Tupel, sind *nicht* modifizierbar (*immutable*)."
   ]
  },
  {
   "cell_type": "code",
   "execution_count": null,
   "metadata": {},
   "outputs": [],
   "source": [
    "ein_Tupel = (1, 2, 3)   # Tupel werden mit runden Klammern erstellt.\n",
    "type(ein_Tupel)"
   ]
  },
  {
   "cell_type": "code",
   "execution_count": null,
   "metadata": {},
   "outputs": [],
   "source": [
    "ein_Tupel[1]           # Tupel können wie Listen angesprochen werden."
   ]
  },
  {
   "cell_type": "code",
   "execution_count": null,
   "metadata": {},
   "outputs": [],
   "source": [
    "ein_Tupel[1] = 99      # Tupel sind nicht modifizierbar."
   ]
  },
  {
   "cell_type": "markdown",
   "metadata": {},
   "source": [
    "**Kontrollfragen**:"
   ]
  },
  {
   "cell_type": "code",
   "execution_count": null,
   "metadata": {},
   "outputs": [],
   "source": [
    "# Gegeben:\n",
    "li = [1, 2, 3]\n",
    "li[1] = 0"
   ]
  },
  {
   "cell_type": "code",
   "execution_count": null,
   "metadata": {},
   "outputs": [],
   "source": [
    "# Frage 1: Was ist der Output?\n",
    "print(li)"
   ]
  },
  {
   "cell_type": "code",
   "execution_count": null,
   "metadata": {},
   "outputs": [],
   "source": [
    "# Frage 2: Was ist der Output?\n",
    "t = (1, 2, 3)\n",
    "type(t)"
   ]
  },
  {
   "cell_type": "markdown",
   "metadata": {},
   "source": [
    "### Skalar-Typen (Scalar Types)\n",
    "Die \"Ein-Wert-Datentypen\" umfassen numerische Typen, Zeichenketten (Strings), Boolean (True, False) und Datum/Zeit."
   ]
  },
  {
   "cell_type": "markdown",
   "metadata": {},
   "source": [
    "#### Numerische Typen\n",
    "Die primären numerischen Skalar-Typen in Python sind `int` und `float`."
   ]
  },
  {
   "cell_type": "code",
   "execution_count": null,
   "metadata": {},
   "outputs": [],
   "source": [
    "ganzzahl = 125 ** 12        # Ganze Zahlen sind vom Typ int."
   ]
  },
  {
   "cell_type": "code",
   "execution_count": null,
   "metadata": {},
   "outputs": [],
   "source": [
    "type(ganzzahl)"
   ]
  },
  {
   "cell_type": "code",
   "execution_count": null,
   "metadata": {},
   "outputs": [],
   "source": [
    "dezimalzahl = 7.243       # Dezimalzahlen sind vom Typ float.\n",
    "type(dezimalzahl)"
   ]
  },
  {
   "cell_type": "code",
   "execution_count": null,
   "metadata": {},
   "outputs": [],
   "source": [
    "# Wissenschaftliche Notation ist auch möglich:\n",
    "grosse_zahl = 1.2e6    \n",
    "grosse_zahl"
   ]
  },
  {
   "cell_type": "code",
   "execution_count": null,
   "metadata": {},
   "outputs": [],
   "source": [
    "kleine_zahl = 6.78e-3    \n",
    "kleine_zahl"
   ]
  },
  {
   "cell_type": "markdown",
   "metadata": {},
   "source": [
    "#### Zeichenketten (Strings)"
   ]
  },
  {
   "cell_type": "code",
   "execution_count": null,
   "metadata": {},
   "outputs": [],
   "source": [
    "a = 'Eine Möglichkeit, einen String zu schreiben.'\n",
    "b = \"Eine weitere Möglichkeit, einen String zu schreiben\""
   ]
  },
  {
   "cell_type": "code",
   "execution_count": null,
   "metadata": {},
   "outputs": [],
   "source": [
    "a[0]       # Das erste Zeichen des Strings a ausgeben."
   ]
  },
  {
   "cell_type": "code",
   "execution_count": null,
   "metadata": {},
   "outputs": [],
   "source": [
    "a[-1]      # Das letzte Zeichen des Strings ausgeben."
   ]
  },
  {
   "cell_type": "code",
   "execution_count": null,
   "metadata": {},
   "outputs": [],
   "source": [
    "a[:8]     # Die ersten 8 Zeichen ausgeben. "
   ]
  },
  {
   "cell_type": "markdown",
   "metadata": {},
   "source": [
    "Man nennt die Syntax `a[:8]` *\"slicing\"*. Wir werden uns damit später ausführlicher befassen.\n",
    "\n",
    "Zeichenketten sind nicht *modifzierbar (immutable)*."
   ]
  },
  {
   "cell_type": "code",
   "execution_count": null,
   "metadata": {},
   "outputs": [],
   "source": [
    "a[0] = 'e'"
   ]
  },
  {
   "cell_type": "markdown",
   "metadata": {},
   "source": [
    "Man kann aber mit Methoden Zeichenketten ändern bzw. umkopieren:"
   ]
  },
  {
   "cell_type": "code",
   "execution_count": null,
   "metadata": {},
   "outputs": [],
   "source": [
    "a = 'Dies ist eine Zeichenkette.'\n",
    "b = a.replace('eine', 'eine kurze')\n",
    "b"
   ]
  },
  {
   "cell_type": "code",
   "execution_count": null,
   "metadata": {},
   "outputs": [],
   "source": [
    "a     # a ist aber nicht modifiziert!"
   ]
  },
  {
   "cell_type": "markdown",
   "metadata": {},
   "source": [
    "Mit `+` werden zwei Strings verknüpft."
   ]
  },
  {
   "cell_type": "code",
   "execution_count": null,
   "metadata": {},
   "outputs": [],
   "source": [
    "a = 'Dies ist die erste Hälfte'\n",
    "b = 'und dies ist die zweite Hälfte.'\n",
    "a + ' ' + b"
   ]
  },
  {
   "cell_type": "markdown",
   "metadata": {},
   "source": [
    "**Kontrollfragen**:"
   ]
  },
  {
   "cell_type": "code",
   "execution_count": null,
   "metadata": {},
   "outputs": [],
   "source": [
    "# Gegeben:\n",
    "a = '232'\n",
    "b = '100'"
   ]
  },
  {
   "cell_type": "code",
   "execution_count": null,
   "metadata": {},
   "outputs": [],
   "source": [
    "# Frage 1: Was ist der Output?\n",
    "a + b"
   ]
  },
  {
   "cell_type": "code",
   "execution_count": null,
   "metadata": {},
   "outputs": [],
   "source": [
    "# Frage 2: Was ist der Output?\n",
    "b.count('0')"
   ]
  },
  {
   "cell_type": "markdown",
   "metadata": {},
   "source": [
    "#### Booleans"
   ]
  },
  {
   "cell_type": "code",
   "execution_count": null,
   "metadata": {},
   "outputs": [],
   "source": [
    "True and True  # and-Bedingung ist wahr, wenn beide Bedingungen wahr sind."
   ]
  },
  {
   "cell_type": "code",
   "execution_count": null,
   "metadata": {},
   "outputs": [],
   "source": [
    "False and True  "
   ]
  },
  {
   "cell_type": "code",
   "execution_count": null,
   "metadata": {},
   "outputs": [],
   "source": [
    "False or True  # or-Bedingung ist wahr, wenn mindestens eine Bedingung wahr ist."
   ]
  },
  {
   "cell_type": "code",
   "execution_count": null,
   "metadata": {},
   "outputs": [],
   "source": [
    "False or False"
   ]
  },
  {
   "cell_type": "markdown",
   "metadata": {},
   "source": [
    "Booleans sind eine Unterklasse von `int`: `False` ist 0 und `True` ist 1"
   ]
  },
  {
   "cell_type": "code",
   "execution_count": null,
   "metadata": {},
   "outputs": [],
   "source": [
    "True + 2"
   ]
  },
  {
   "cell_type": "code",
   "execution_count": null,
   "metadata": {},
   "outputs": [],
   "source": [
    "True + True + False"
   ]
  },
  {
   "cell_type": "code",
   "execution_count": null,
   "metadata": {},
   "outputs": [],
   "source": [
    "False == 0"
   ]
  },
  {
   "cell_type": "markdown",
   "metadata": {},
   "source": [
    "**Kontrollfragen**:"
   ]
  },
  {
   "cell_type": "code",
   "execution_count": null,
   "metadata": {},
   "outputs": [],
   "source": [
    "# Gegeben:\n",
    "a = 0\n",
    "b = 2"
   ]
  },
  {
   "cell_type": "code",
   "execution_count": null,
   "metadata": {},
   "outputs": [],
   "source": [
    "# Frage 1: Was ist der Output?\n",
    "a is not b"
   ]
  },
  {
   "cell_type": "code",
   "execution_count": null,
   "metadata": {},
   "outputs": [],
   "source": [
    "# Frage 2: Was ist der Output?\n",
    "(a > 0) + (b > 0)"
   ]
  },
  {
   "cell_type": "markdown",
   "metadata": {},
   "source": [
    "#### Type-Casting (Typumwandlung)\n",
    "Mit der Funktion `str` können viele Python-Objekte in einen String umgewandelt werden."
   ]
  },
  {
   "cell_type": "code",
   "execution_count": null,
   "metadata": {},
   "outputs": [],
   "source": [
    "a = 7.1\n",
    "a"
   ]
  },
  {
   "cell_type": "code",
   "execution_count": null,
   "metadata": {},
   "outputs": [],
   "source": [
    "s = '7.1'\n",
    "s"
   ]
  },
  {
   "cell_type": "code",
   "execution_count": null,
   "metadata": {},
   "outputs": [],
   "source": [
    "a*2"
   ]
  },
  {
   "cell_type": "code",
   "execution_count": null,
   "metadata": {},
   "outputs": [],
   "source": [
    "s*2        # nicht 14.2, da s ein String ist!"
   ]
  },
  {
   "cell_type": "code",
   "execution_count": null,
   "metadata": {},
   "outputs": [],
   "source": [
    "# Mit der Funktion float() wandeln wir das Argument in eine \n",
    "# Fliesskommazahl um:  \n",
    "float(s)*2  "
   ]
  },
  {
   "cell_type": "code",
   "execution_count": null,
   "metadata": {},
   "outputs": [],
   "source": [
    "#  Mit int() wird das Argument in eine ganze Zahl umgewandelt:\n",
    "int(a)"
   ]
  },
  {
   "cell_type": "markdown",
   "metadata": {},
   "source": [
    "#### None\n",
    "- `None` ist der \"Nichts-Typ\" in Python. "
   ]
  },
  {
   "cell_type": "code",
   "execution_count": null,
   "metadata": {},
   "outputs": [],
   "source": [
    "Vornamen = ['Anna', 'Berta', None]\n",
    "len(Vornamen)"
   ]
  },
  {
   "cell_type": "code",
   "execution_count": null,
   "metadata": {},
   "outputs": [],
   "source": [
    "Vornamen[2]  \n",
    "# Es erscheint kein Wert, aber auch kein Fehler.\n",
    "# None ist hier lediglich ein Platzhalter."
   ]
  },
  {
   "cell_type": "code",
   "execution_count": null,
   "metadata": {},
   "outputs": [],
   "source": [
    "Vornamen[2] = 'Claudia'  # Platzhalter None überschreiben\n",
    "Vornamen"
   ]
  },
  {
   "cell_type": "markdown",
   "metadata": {},
   "source": [
    "**Kontrollfragen**:"
   ]
  },
  {
   "cell_type": "code",
   "execution_count": null,
   "metadata": {},
   "outputs": [],
   "source": [
    "# Gegeben:\n",
    "a = 123"
   ]
  },
  {
   "cell_type": "code",
   "execution_count": null,
   "metadata": {},
   "outputs": [],
   "source": [
    "# Frage 1: Was ist der Output?\n",
    "a + a"
   ]
  },
  {
   "cell_type": "code",
   "execution_count": null,
   "metadata": {},
   "outputs": [],
   "source": [
    "# Frage 2: Was ist der Output?\n",
    "str(a) + str(a)"
   ]
  },
  {
   "cell_type": "markdown",
   "metadata": {},
   "source": [
    "### Verzweigungen und Schleifen"
   ]
  },
  {
   "cell_type": "markdown",
   "metadata": {},
   "source": [
    "#### Bedingte Anweisungen und Verzweigungen: if, elif und else\n",
    "- Eine **Bedingte Anweisung** ist in der Programmierung ein Programmabschnitt, der nur unter einer bestimmten Bedingung ausgeführt wird. \n",
    "- Eine **Verzweigung** legt fest, welcher von zwei (oder mehr) Programmabschnitten, abhängig von einer (oder mehreren) Bedingungen, ausgeführt wird.\n",
    "- *Bedingte Anweisungen* und *Verzweigungen* bilden, zusammen mit den Schleifen, die Kontrollstrukturen der Programmiersprachen. Sie gehören zu den wichtigsten Bestandteilen der Programmierung, da durch sie ein Programm auf unterschiedliche Zustände und Eingaben reagieren kann.\n",
    "Quelle: https://de.wikipedia.org/wiki/Bedingte_Anweisung_und_Verzweigung"
   ]
  },
  {
   "cell_type": "code",
   "execution_count": null,
   "metadata": {},
   "outputs": [],
   "source": [
    "x = -3 \n",
    "# Bedingte Anweisung:\n",
    "if x < 0:\n",
    "    print('x ist negativ')"
   ]
  },
  {
   "cell_type": "code",
   "execution_count": null,
   "metadata": {},
   "outputs": [],
   "source": [
    "x = 2\n",
    "# Verzweigung:\n",
    "if x < 0:\n",
    "    print('x ist negativ')\n",
    "elif x == 0:\n",
    "    print('x ist null')\n",
    "elif 0 < x < 5:\n",
    "    print('x ist positiv, aber kleiner 5')\n",
    "else:\n",
    "    print('x ist mindestens 5')"
   ]
  },
  {
   "cell_type": "markdown",
   "metadata": {},
   "source": [
    "**Kontrollfrage**:"
   ]
  },
  {
   "cell_type": "code",
   "execution_count": null,
   "metadata": {},
   "outputs": [],
   "source": [
    "# Gegeben:\n",
    "a = b = 6"
   ]
  },
  {
   "cell_type": "code",
   "execution_count": null,
   "metadata": {},
   "outputs": [],
   "source": [
    "# Frage: Was ist der Output?\n",
    "\n",
    "if a <= b:\n",
    "    print('eins')\n",
    "else:\n",
    "    print('zwei')"
   ]
  },
  {
   "cell_type": "markdown",
   "metadata": {},
   "source": [
    "#### for-Schleife (loop)\n",
    "for-Loops iterieren über eine Kollektion (z.B. Liste, Tupel) oder einen Iterator (siehe unten). Die Standard-Syntax lautet:"
   ]
  },
  {
   "cell_type": "markdown",
   "metadata": {},
   "source": [
    "```python\n",
    "for wert in Kollektion:\n",
    "    # mach etwas mit wert\n",
    "```\n",
    "Beispiele:"
   ]
  },
  {
   "cell_type": "code",
   "execution_count": null,
   "metadata": {},
   "outputs": [],
   "source": [
    "liste = [0, 1, 2, 3, 4]\n",
    "for zahl in liste:\n",
    "    print(zahl ** 2)"
   ]
  },
  {
   "cell_type": "code",
   "execution_count": null,
   "metadata": {},
   "outputs": [],
   "source": [
    "# Beispiel mit Interator:\n",
    "# range(n) erzeugt den Iterator 0, 1, 2, ..., n-1\n",
    "\n",
    "for zahl in range(5):   \n",
    "    print(zahl ** 2)"
   ]
  },
  {
   "cell_type": "markdown",
   "metadata": {},
   "source": [
    "Loops können auch verschachtelt werden:"
   ]
  },
  {
   "cell_type": "code",
   "execution_count": null,
   "metadata": {},
   "outputs": [],
   "source": [
    "for i in ['A', 'B']:\n",
    "    for j in ['a', 'b', 'c']:\n",
    "        print(i + j)"
   ]
  },
  {
   "cell_type": "markdown",
   "metadata": {},
   "source": [
    "**Kontrollfrage**:"
   ]
  },
  {
   "cell_type": "code",
   "execution_count": null,
   "metadata": {},
   "outputs": [],
   "source": [
    "# Gegeben:\n",
    "zahlen = [1, 2, 3, 4]"
   ]
  },
  {
   "cell_type": "code",
   "execution_count": null,
   "metadata": {},
   "outputs": [],
   "source": [
    "# Frage: Bestimmen Sie die Quadratwurzeln der vier Zahlen \n",
    "# der Liste \"zahlen\".\n"
   ]
  },
  {
   "cell_type": "markdown",
   "metadata": {},
   "source": [
    "#### range\n",
    "Wie zuvor gesehen, kann mit `range` eine Zahlenfolge erstellt werden. "
   ]
  },
  {
   "cell_type": "code",
   "execution_count": null,
   "metadata": {},
   "outputs": [],
   "source": [
    "range(10)"
   ]
  },
  {
   "cell_type": "code",
   "execution_count": null,
   "metadata": {},
   "outputs": [],
   "source": [
    "list(range(10))   # Mit der Funktion list() wird eine Liste generiert."
   ]
  },
  {
   "cell_type": "code",
   "execution_count": null,
   "metadata": {},
   "outputs": [],
   "source": [
    "list(range(0, 20, 2))     # gerade Zahlen von 0 bis (aber ohne) 20"
   ]
  },
  {
   "cell_type": "code",
   "execution_count": null,
   "metadata": {},
   "outputs": [],
   "source": [
    "list(range(5, 0, -1))     # ganze Zahlen von 5 bis (aber ohne) 0 (zurückgezählt)"
   ]
  },
  {
   "cell_type": "markdown",
   "metadata": {},
   "source": [
    "`range` wird oft als Iterator verwendet, wie zuvor gesehen."
   ]
  },
  {
   "cell_type": "code",
   "execution_count": null,
   "metadata": {},
   "outputs": [],
   "source": [
    "# Noch ein Beispiel:\n",
    "for i in range(6):\n",
    "    print('Die Zahl ist', i)"
   ]
  },
  {
   "cell_type": "markdown",
   "metadata": {},
   "source": [
    "**Kontrollfragen**:"
   ]
  },
  {
   "cell_type": "code",
   "execution_count": null,
   "metadata": {},
   "outputs": [],
   "source": [
    "# Frage 1: Erstellen Sie eine Liste mit den ungeraden \n",
    "# natürlichen Zahlen kleiner 30:\n",
    "liste = "
   ]
  },
  {
   "cell_type": "code",
   "execution_count": null,
   "metadata": {},
   "outputs": [],
   "source": [
    "# Frage 2: Erstellen Sie die Liste [30, 27, 24, ..., 3, 0]:\n",
    "\n",
    "liste ="
   ]
  },
  {
   "cell_type": "markdown",
   "metadata": {},
   "source": [
    "## Fazit\n",
    "- Damit sind wir am Ende der etwas längeren Einführung angelangt. \n",
    "- Wir haben einige wichtige Grundlagen von Python kennen gelernt. \n",
    "- Wie bereits in der Einleitung erwähnt, werden viele der hier erstmals vorgestellten Konzepte später im Kurs genauer erläutert.\n",
    "- **Speichern Sie das Notebook (Icon ganz links in der Toolbar). Danach sollten Sie das Notebook über das Menü `File > Close and Halt` schliessen. (Sie sollten nicht einfach den Browser schliessen.)**"
   ]
  }
 ],
 "metadata": {
  "kernelspec": {
   "display_name": "Python 3",
   "language": "python",
   "name": "python3"
  },
  "language_info": {
   "codemirror_mode": {
    "name": "ipython",
    "version": 3
   },
   "file_extension": ".py",
   "mimetype": "text/x-python",
   "name": "python",
   "nbconvert_exporter": "python",
   "pygments_lexer": "ipython3",
   "version": "3.7.0"
  }
 },
 "nbformat": 4,
 "nbformat_minor": 1
}
