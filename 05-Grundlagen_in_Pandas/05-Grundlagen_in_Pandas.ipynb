{
 "cells": [
  {
   "cell_type": "markdown",
   "metadata": {},
   "source": [
    "# Kapitel 5: Einführung in Pandas\n",
    "\n",
    "\n",
    "McKinney, W. (2017). *Python for Data Analysis: Data Wrangling with Pandas, NumPy, and IPython*. 2. Auflage. Sebastopol, CA [u. a.]: O’Reilly.\n",
    "\n",
    "Überarbeitet: armin.baenziger@zhaw.ch, 10. März 2020\n",
    "\n",
    "- **Pandas** wird im weiteren Verlauf des Kurses die zentrale Bibliothek sein. \n",
    "- Pandas enthält Datenstrukturen und Tools zur Datenbearbeitung, die in Python für eine schnelle und einfache Datenbereinigung und -analyse sorgen.  \n",
    "- Pandas verwendet wesentliche Teile von NumPys idiomatischem array-based Computing, insbesondere Array-basierte Funktionen und eine *Präferenz für die Datenverarbeitung ohne `for`-Schleifen*. \n",
    "- Während Pandas viele Codierungs-Idiome von NumPy verwendet, ist der grösste Unterschied, dass Pandas für die Arbeit mit *tabellarischen* oder *heterogenen* Daten entwickelt wurde. \n",
    "- Seit dem Open-Source-Projekt im Jahr 2010 ist Pandas zu einer grossen Bibliothek gereift, die in einer Vielzahl von Anwendungsfällen in der Praxis anwendbar ist.\n",
    "- Pandas leitet sich überigens aus dem Wort \"panel data\" ab (https://de.wikipedia.org/wiki/Paneldaten). "
   ]
  },
  {
   "cell_type": "code",
   "execution_count": null,
   "metadata": {},
   "outputs": [],
   "source": [
    "%autosave 0"
   ]
  },
  {
   "cell_type": "code",
   "execution_count": null,
   "metadata": {},
   "outputs": [],
   "source": [
    "# Wichtige Bibliotheken mit üblichen Abkürzungen laden:\n",
    "import numpy as np\n",
    "import pandas as pd   # Usanz ist, pandas mit pd abzukürzen"
   ]
  },
  {
   "cell_type": "markdown",
   "metadata": {},
   "source": [
    "## Einführung Pandas-Datenstrukturen\n",
    "Die zwei wichtigsten Datenstrukturen in Pandas sind **Series** und **DataFrames**."
   ]
  },
  {
   "cell_type": "markdown",
   "metadata": {},
   "source": [
    "### Series\n",
    "Eine *Series* setzt sich aus einem eindimensionalen *Werte-Array* und einem *Index* zusammen. Wenn man den Index nicht explizit bestimmt, ist dieser wie `range(n)`."
   ]
  },
  {
   "cell_type": "code",
   "execution_count": null,
   "metadata": {},
   "outputs": [],
   "source": [
    "obj = pd.Series([4, 7, -5, 3])\n",
    "obj"
   ]
  },
  {
   "cell_type": "markdown",
   "metadata": {},
   "source": [
    "Man kann Werte-Array und Index mit den Attributen `values` und `index` separat erhalten."
   ]
  },
  {
   "cell_type": "code",
   "execution_count": null,
   "metadata": {},
   "outputs": [],
   "source": [
    "obj.values        # Werte-NumPy-Array der Series obj"
   ]
  },
  {
   "cell_type": "code",
   "execution_count": null,
   "metadata": {},
   "outputs": [],
   "source": [
    "obj.index        #  Index der Series obj (Sequenz)"
   ]
  },
  {
   "cell_type": "code",
   "execution_count": null,
   "metadata": {},
   "outputs": [],
   "source": [
    "list(obj.index)  # Mit der Funktion list() erhält man die explizite Liste"
   ]
  },
  {
   "cell_type": "markdown",
   "metadata": {},
   "source": [
    "Die Auswahl von Objekten in einer *Series* geschieht über den Index."
   ]
  },
  {
   "cell_type": "code",
   "execution_count": null,
   "metadata": {},
   "outputs": [],
   "source": [
    "obj[0]"
   ]
  },
  {
   "cell_type": "code",
   "execution_count": null,
   "metadata": {},
   "outputs": [],
   "source": [
    "obj[2] "
   ]
  },
  {
   "cell_type": "code",
   "execution_count": null,
   "metadata": {},
   "outputs": [],
   "source": [
    "obj[1:3]    \n",
    "# Slicing-Regel obj[Start:Stop] \n",
    "# Ab Start bis zum letzten Wert vor Stop"
   ]
  },
  {
   "cell_type": "code",
   "execution_count": null,
   "metadata": {},
   "outputs": [],
   "source": [
    "obj[:2]   # Erste zwei Werte."
   ]
  },
  {
   "cell_type": "code",
   "execution_count": null,
   "metadata": {},
   "outputs": [],
   "source": [
    "obj[2:]   # Ab Posisiton 2 (dritter Wert) bis Ende."
   ]
  },
  {
   "cell_type": "markdown",
   "metadata": {},
   "source": [
    "**Kontrollfrage:**"
   ]
  },
  {
   "cell_type": "code",
   "execution_count": null,
   "metadata": {},
   "outputs": [],
   "source": [
    "# Aufgabe: Slicen Sie die ersten drei Werte aus der Series `obj`.\n"
   ]
  },
  {
   "cell_type": "markdown",
   "metadata": {},
   "source": [
    "#### Labels\n",
    "Oft möchte man die Werte einer *Series* mit einem *Label* identifizieren."
   ]
  },
  {
   "cell_type": "code",
   "execution_count": null,
   "metadata": {},
   "outputs": [],
   "source": [
    "obj2 = pd.Series([4, 7, -5], index=['Anna', 'Berta', 'Claudia'])\n",
    "obj2"
   ]
  },
  {
   "cell_type": "code",
   "execution_count": null,
   "metadata": {},
   "outputs": [],
   "source": [
    "obj2['Berta']         # Wert, der zu \"Berta\" gehört."
   ]
  },
  {
   "cell_type": "code",
   "execution_count": null,
   "metadata": {},
   "outputs": [],
   "source": [
    "obj2['Berta'] = 6    # Wert zuweisen\n",
    "obj2"
   ]
  },
  {
   "cell_type": "code",
   "execution_count": null,
   "metadata": {},
   "outputs": [],
   "source": [
    "# Mehrere Werte (in gewünschter Reihenfolge) ausgeben:\n",
    "obj2[['Berta', 'Anna']]"
   ]
  },
  {
   "cell_type": "code",
   "execution_count": null,
   "metadata": {},
   "outputs": [],
   "source": [
    "# Welche Werte sind positiv?\n",
    "obj2 > 0"
   ]
  },
  {
   "cell_type": "code",
   "execution_count": null,
   "metadata": {},
   "outputs": [],
   "source": [
    "# Positive Werte auswählen:\n",
    "obj2[obj2 > 0]"
   ]
  },
  {
   "cell_type": "code",
   "execution_count": null,
   "metadata": {},
   "outputs": [],
   "source": [
    "# Alle Werte verdoppeln:\n",
    "obj2 * 2    # Wie bei NumPy. Index-Link bleibt bestehen."
   ]
  },
  {
   "cell_type": "code",
   "execution_count": null,
   "metadata": {},
   "outputs": [],
   "source": [
    "# Man kann auch NumPy-Funktion auf Series anwenden:\n",
    "np.exp(obj2)    # Exponentialfunktion aus NumPy-Bibliohek"
   ]
  },
  {
   "cell_type": "code",
   "execution_count": null,
   "metadata": {},
   "outputs": [],
   "source": [
    "'Anna' in obj2   # Prüfen, ob ein Index-Wert existiert."
   ]
  },
  {
   "cell_type": "code",
   "execution_count": null,
   "metadata": {},
   "outputs": [],
   "source": [
    "'Anne' in obj2"
   ]
  },
  {
   "cell_type": "markdown",
   "metadata": {},
   "source": [
    "**Kontrollfragen:**"
   ]
  },
  {
   "cell_type": "code",
   "execution_count": null,
   "metadata": {},
   "outputs": [],
   "source": [
    "# Gegeben:\n",
    "obj2"
   ]
  },
  {
   "cell_type": "code",
   "execution_count": null,
   "metadata": {},
   "outputs": [],
   "source": [
    "# Frage 1: Was ist der Output?\n",
    "obj2['Claudia']"
   ]
  },
  {
   "cell_type": "code",
   "execution_count": null,
   "metadata": {},
   "outputs": [],
   "source": [
    "# Frage 2: Was ist der Output?\n",
    "np.abs(obj2['Claudia'])"
   ]
  },
  {
   "cell_type": "code",
   "execution_count": null,
   "metadata": {
    "scrolled": false
   },
   "outputs": [],
   "source": [
    "# Frage 3: Was ist der Output?\n",
    "obj2[obj2!=6]"
   ]
  },
  {
   "cell_type": "markdown",
   "metadata": {},
   "source": [
    "Ein *Dict* kann man sehr einfach in eine *Series* umwandeln. "
   ]
  },
  {
   "cell_type": "code",
   "execution_count": null,
   "metadata": {},
   "outputs": [],
   "source": [
    "flaeche_dict = {'GR': 7105, 'BE': 5959, \n",
    "                'VS': 5225, 'VD': 3212}\n",
    "flaeche_dict"
   ]
  },
  {
   "cell_type": "code",
   "execution_count": null,
   "metadata": {},
   "outputs": [],
   "source": [
    "flaeche = pd.Series(flaeche_dict)\n",
    "flaeche    # Dict-Key wird zu Index"
   ]
  },
  {
   "cell_type": "code",
   "execution_count": null,
   "metadata": {},
   "outputs": [],
   "source": [
    "# Eigene Anordnung von Index mit entsprechenden Werten, falls\n",
    "# diese im Dict vorhanden sind (Fehlwert, wenn der Index nicht \n",
    "# im Dict ist):\n",
    "flaeche2 = pd.Series(flaeche_dict, \n",
    "                     index=['BE', 'GR', 'TI', 'VD', 'ZH'])\n",
    "flaeche2"
   ]
  },
  {
   "cell_type": "markdown",
   "metadata": {},
   "source": [
    "- Falls vorhanden, werden die Werte den Indizes zugeordnet. Ansonsten gibt es Fehldaten (missing data), welche mit `NaN` gekennzeichnet sind. \n",
    "- Die Funktionen/Methoden `isnull` und `notnull` werden in Pandas verwendet, um Fehldaten aufzuspüren."
   ]
  },
  {
   "cell_type": "code",
   "execution_count": null,
   "metadata": {},
   "outputs": [],
   "source": [
    "flaeche2.isnull()"
   ]
  },
  {
   "cell_type": "code",
   "execution_count": null,
   "metadata": {},
   "outputs": [],
   "source": [
    "flaeche2.notnull()"
   ]
  },
  {
   "cell_type": "code",
   "execution_count": null,
   "metadata": {},
   "outputs": [],
   "source": [
    "# Wie viele Fehlwerte gibt es in flaeche2?\n",
    "flaeche2.isnull().sum()"
   ]
  },
  {
   "cell_type": "markdown",
   "metadata": {},
   "source": [
    "**Kontrollfrage:**"
   ]
  },
  {
   "cell_type": "code",
   "execution_count": null,
   "metadata": {},
   "outputs": [],
   "source": [
    "# Frage: Was ist wohl der Output?\n",
    "flaeche2[flaeche2.notnull()]"
   ]
  },
  {
   "cell_type": "markdown",
   "metadata": {},
   "source": [
    "Fehldaten werden in Kapitel 7 ausführlicher behandelt.\n",
    "\n",
    "**Matching**\n",
    "\n",
    "Eine sehr nützliche Eigenschaft von *Series* ist, dass bei arithmetischen Operationen ein Matching bezüglich dem Index geschieht. Beispiel:"
   ]
  },
  {
   "cell_type": "code",
   "execution_count": null,
   "metadata": {},
   "outputs": [],
   "source": [
    "# Erste Series für Beispiel:\n",
    "bevoelkerung2017 = {'BE': 1031126, 'GR': 197888, 'TI':  353709,\n",
    "                    'VD':  793129, 'VS': 341463, 'ZH': 1504346}\n",
    "bevoelkerung2017 = pd.Series(bevoelkerung2017)\n",
    "bevoelkerung2017"
   ]
  },
  {
   "cell_type": "code",
   "execution_count": null,
   "metadata": {},
   "outputs": [],
   "source": [
    "# Zweite Series für Beispiel:\n",
    "bevoelkerung2018 = {'VD': 799145, 'BE': 1034977, 'VS': 343955,\n",
    "                    'TI': 353343, 'ZH': 1520968, 'GR': 198379}\n",
    "bevoelkerung2018 = pd.Series(bevoelkerung2018)\n",
    "bevoelkerung2018"
   ]
  },
  {
   "cell_type": "markdown",
   "metadata": {},
   "source": [
    "Beachten Sie, dass die *Reihenfolge* der Kantone in den zwei Series unterschiedlich ist!"
   ]
  },
  {
   "cell_type": "code",
   "execution_count": null,
   "metadata": {},
   "outputs": [],
   "source": [
    "delta = bevoelkerung2018 - bevoelkerung2017  \n",
    "delta\n",
    "# Werte mit gleichem Index werden verrechnet! Sehr gut!"
   ]
  },
  {
   "cell_type": "code",
   "execution_count": null,
   "metadata": {},
   "outputs": [],
   "source": [
    "# Relative Veränderung:\n",
    "delta / bevoelkerung2017"
   ]
  },
  {
   "cell_type": "markdown",
   "metadata": {},
   "source": [
    "Die ständige Wohnbevölkerung hat beispielsweise im Kanton Zürich um 1.1% zugenommen zwischen 2017 und 2018."
   ]
  },
  {
   "cell_type": "markdown",
   "metadata": {},
   "source": [
    "Der Series-Index kann verändert werden:"
   ]
  },
  {
   "cell_type": "code",
   "execution_count": null,
   "metadata": {},
   "outputs": [],
   "source": [
    "# Gegeben:\n",
    "s = delta[:3].copy()\n",
    "s.index = ['Bern', 'Graubünden', 'Tessin']\n",
    "s"
   ]
  },
  {
   "cell_type": "markdown",
   "metadata": {},
   "source": [
    "Wir werden \"sicherere\" Verfahren kennenlernen, den Index zu verändern!"
   ]
  },
  {
   "cell_type": "markdown",
   "metadata": {},
   "source": [
    "### DataFrame\n",
    "- Ein *DataFrame* ist eine Datentabelle, welche eine Sammlung von Spalten (Variablen) aufweist, bei der im Gegensatz zu einem Numpy-Array jede Spalte einen *unterschiedlichen Datentypen* aufweisen kann. Innerhalb einer Spalte ist der Datentyp aber homogen. \n",
    "- Das DataFrame hat sowohl einen *Zeilen-* als auch einen *Spaltenindex*. \n",
    "- Es gibt viele Möglichkeiten, ein DataFrame zu erstellen. Häufig verwendet man einen Dict von *gleichlangen* Listen oder NumPy-Arrays. Im Lehrmittel finden Sie eine komplette Liste mit möglichen Inputs für den DataFrame-Konstruktor.\n",
    "- *Üblicherweise werden DataFrames aber aus importieren Daten erzeugt, wie wir noch sehen werden.*"
   ]
  },
  {
   "cell_type": "code",
   "execution_count": null,
   "metadata": {},
   "outputs": [],
   "source": [
    "daten = {'Stadt': ['Biel', 'Biel', 'Biel', \n",
    "                   'Thun', 'Thun', 'Thun'],\n",
    "        'Jahr': [2016, 2017, 2018]*2,\n",
    "        'ALQ': [5.1, 5.0, 3.9, 2.6, 2.6, 2.0]}\n",
    "daten   # ein Dict"
   ]
  },
  {
   "cell_type": "code",
   "execution_count": null,
   "metadata": {},
   "outputs": [],
   "source": [
    "df = pd.DataFrame(daten)  # df ist unser erstes DataFrame\n",
    "df"
   ]
  },
  {
   "cell_type": "markdown",
   "metadata": {},
   "source": [
    "Ein DataFrame kann mit einer Excel-Tabelle verglichen werden."
   ]
  },
  {
   "cell_type": "code",
   "execution_count": null,
   "metadata": {},
   "outputs": [],
   "source": [
    "df.head()   # Anzeige der ersten 5 Zeilen (Default).\n",
    "# Hier nicht sehr nützlich, da der Datensatz nur 6 Zeilen enthält."
   ]
  },
  {
   "cell_type": "code",
   "execution_count": null,
   "metadata": {},
   "outputs": [],
   "source": [
    "df.head(3)  # Anzeige der ersten 3 Zeilen."
   ]
  },
  {
   "cell_type": "code",
   "execution_count": null,
   "metadata": {},
   "outputs": [],
   "source": [
    "df[:3]      # So ginge es auch."
   ]
  },
  {
   "cell_type": "code",
   "execution_count": null,
   "metadata": {},
   "outputs": [],
   "source": [
    "df.tail()   # Anzeige der letzten 5 Zeilen (Default)."
   ]
  },
  {
   "cell_type": "code",
   "execution_count": null,
   "metadata": {},
   "outputs": [],
   "source": [
    "df[-5:]     # So ginge es auch."
   ]
  },
  {
   "cell_type": "markdown",
   "metadata": {},
   "source": [
    "**Wichtig:** Wie wählen wir Spalten (Variablen) aus?"
   ]
  },
  {
   "cell_type": "code",
   "execution_count": null,
   "metadata": {},
   "outputs": [],
   "source": [
    "df['Stadt']   # Ausgabe einer Spalte mit der \"Dict-Notation\""
   ]
  },
  {
   "cell_type": "code",
   "execution_count": null,
   "metadata": {},
   "outputs": [],
   "source": [
    "df.Stadt # Ausgabe einer Spalte durch Attribut (Tab-Ergänzung möglich!)\n",
    "# Manchmal praktisch, aber mit eingeschränkter Funktionalität (siehe\n",
    "# weiter unten)."
   ]
  },
  {
   "cell_type": "markdown",
   "metadata": {},
   "source": [
    "**Kontrollfragen:**"
   ]
  },
  {
   "cell_type": "code",
   "execution_count": null,
   "metadata": {},
   "outputs": [],
   "source": [
    "# Gegeben:\n",
    "df"
   ]
  },
  {
   "cell_type": "code",
   "execution_count": null,
   "metadata": {
    "scrolled": true
   },
   "outputs": [],
   "source": [
    "# Aufgabe 1: Wählen Sie die ALQ aus df aus.\n"
   ]
  },
  {
   "cell_type": "code",
   "execution_count": null,
   "metadata": {
    "scrolled": false
   },
   "outputs": [],
   "source": [
    "# Aufgabe 2: Was ist der Output?\n",
    "df.tail(1)"
   ]
  },
  {
   "cell_type": "markdown",
   "metadata": {},
   "source": [
    "Das Attribut `columns` liefert die Spaltenüberschriften im DataFrame:"
   ]
  },
  {
   "cell_type": "code",
   "execution_count": null,
   "metadata": {},
   "outputs": [],
   "source": [
    "df.columns"
   ]
  },
  {
   "cell_type": "markdown",
   "metadata": {},
   "source": [
    "Die Spaltenüberschriften können nachträglich verändert werden."
   ]
  },
  {
   "cell_type": "code",
   "execution_count": null,
   "metadata": {},
   "outputs": [],
   "source": [
    "# Spaltennamen (Variablennamen) ändern: Möglichkeit 1\n",
    "df.columns = ['Stadt', 'Jahr', 'Arbeitslosenquote']\n",
    "df"
   ]
  },
  {
   "cell_type": "code",
   "execution_count": null,
   "metadata": {},
   "outputs": [],
   "source": [
    "# Spaltennamen (Variablennamen) ändern: Möglichkeit 2\n",
    "df.rename(columns = {'Arbeitslosenquote': 'ALQ'}, inplace=True)  \n",
    "# mit inplace=True sind die Änderungen permament\n",
    "df"
   ]
  },
  {
   "cell_type": "markdown",
   "metadata": {},
   "source": [
    "Die zweite Möglichkeit ist der ersten vorzuziehen. Warum?"
   ]
  },
  {
   "cell_type": "code",
   "execution_count": null,
   "metadata": {},
   "outputs": [],
   "source": [
    "# Zeilenindex ändern:\n",
    "df.index = df.Jahr\n",
    "df"
   ]
  },
  {
   "cell_type": "markdown",
   "metadata": {},
   "source": [
    "Die Variable `Jahr` ist nun redundant und kann gelöscht werden. (Wir werden später eine elegantere Möglichkeit kennenlernen, einen Index zu setzen.)"
   ]
  },
  {
   "cell_type": "code",
   "execution_count": null,
   "metadata": {},
   "outputs": [],
   "source": [
    "del df['Jahr']    # Löschen der Spalte Jahr. \n",
    "# del df.Jahr ginge übrigens nicht!"
   ]
  },
  {
   "cell_type": "markdown",
   "metadata": {},
   "source": [
    "- Das Jahr ist nun keine Spalte (Variable) mehr und wird mit `df.index` angesprochen.\n",
    "- Wir werden später eine bessere Möglichkeit kennenlernen, Spalten (und Zeilen) zu löschen.    \n",
    "\n",
    "Zeilen können mit `loc` über den Index*label* und mit `iloc` über die Index*position* angesprochen werden. Beispiele:"
   ]
  },
  {
   "cell_type": "code",
   "execution_count": null,
   "metadata": {},
   "outputs": [],
   "source": [
    "df.loc[2016]          # Auswahl über ZeilenLABEL"
   ]
  },
  {
   "cell_type": "code",
   "execution_count": null,
   "metadata": {},
   "outputs": [],
   "source": [
    "# Mehrere Labels können als Liste übergeben werden:\n",
    "df.loc[[2016, 2018]]"
   ]
  },
  {
   "cell_type": "code",
   "execution_count": null,
   "metadata": {},
   "outputs": [],
   "source": [
    "df.iloc[0]            # Auswahl über ZeilenPOSITION"
   ]
  },
  {
   "cell_type": "code",
   "execution_count": null,
   "metadata": {},
   "outputs": [],
   "source": [
    "df.iloc[[0, 3]]"
   ]
  },
  {
   "cell_type": "markdown",
   "metadata": {},
   "source": [
    "**Kontrollfragen:**"
   ]
  },
  {
   "cell_type": "code",
   "execution_count": null,
   "metadata": {},
   "outputs": [],
   "source": [
    "# Gegeben:\n",
    "df"
   ]
  },
  {
   "cell_type": "code",
   "execution_count": null,
   "metadata": {
    "scrolled": true
   },
   "outputs": [],
   "source": [
    "# Frage 1: Was ist der Output?\n",
    "df.loc[2018]"
   ]
  },
  {
   "cell_type": "code",
   "execution_count": null,
   "metadata": {},
   "outputs": [],
   "source": [
    "# Frage 2: Was ist der Output?\n",
    "df.iloc[[2, 5]]"
   ]
  },
  {
   "cell_type": "code",
   "execution_count": null,
   "metadata": {},
   "outputs": [],
   "source": [
    "# Frage 3: Was ist wohl der Output?\n",
    "df.loc[2018, 'ALQ']"
   ]
  },
  {
   "cell_type": "markdown",
   "metadata": {},
   "source": [
    "**Spalten/Variblen hinzufügen:**"
   ]
  },
  {
   "cell_type": "code",
   "execution_count": null,
   "metadata": {},
   "outputs": [],
   "source": [
    "# Ausgangslage:\n",
    "df"
   ]
  },
  {
   "cell_type": "code",
   "execution_count": null,
   "metadata": {},
   "outputs": [],
   "source": [
    "df['Bevoelkerung'] = [54456, 54640, None, 43568, 43743, None] \n",
    "# Länge muss konform sein (korrekte Länge haben)\n",
    "df"
   ]
  },
  {
   "cell_type": "code",
   "execution_count": null,
   "metadata": {},
   "outputs": [],
   "source": [
    "# Generierung einer Variablen aus einer anderen:\n",
    "df['ALQhoch'] = df.ALQ >= 5\n",
    "df"
   ]
  },
  {
   "cell_type": "markdown",
   "metadata": {},
   "source": [
    "Beachten Sie, dass für die Erstellung einer neuen Spalte/Variable auf der rechten Seite die Dict-Notation stehen muss (`df.ALQhoch = df.ALQ >= 5` hätte nicht funktioniert)."
   ]
  },
  {
   "cell_type": "markdown",
   "metadata": {},
   "source": [
    "**Kontrollfrage:**"
   ]
  },
  {
   "cell_type": "code",
   "execution_count": null,
   "metadata": {},
   "outputs": [],
   "source": [
    "# Aufgabe: Generieren Sie die Variable ALQtief, welche True\n",
    "# ist, falls die ALQ höchstens 3 Prozent ist.\n"
   ]
  },
  {
   "cell_type": "markdown",
   "metadata": {},
   "source": [
    "***Exkurs***: Es ist auch möglich, dem Index und den Spalten eine Überschrift zu geben:"
   ]
  },
  {
   "cell_type": "code",
   "execution_count": null,
   "metadata": {
    "scrolled": true
   },
   "outputs": [],
   "source": [
    "df.index.name = 'Jahr'        # existiert hier so schon\n",
    "df.columns.name = 'Variablen'\n",
    "df"
   ]
  },
  {
   "cell_type": "markdown",
   "metadata": {},
   "source": [
    "### Achsen (Zeilen oder Spalten) löschen: `drop`-Methode\n",
    "#### Series"
   ]
  },
  {
   "cell_type": "code",
   "execution_count": null,
   "metadata": {},
   "outputs": [],
   "source": [
    "serie = flaeche.copy()   # Kopie erstellen\n",
    "serie"
   ]
  },
  {
   "cell_type": "code",
   "execution_count": null,
   "metadata": {},
   "outputs": [],
   "source": [
    "serie.drop('BE')"
   ]
  },
  {
   "cell_type": "code",
   "execution_count": null,
   "metadata": {},
   "outputs": [],
   "source": [
    "serie       # BE wurde nicht permanent gelöscht!"
   ]
  },
  {
   "cell_type": "code",
   "execution_count": null,
   "metadata": {},
   "outputs": [],
   "source": [
    "serie.drop('BE', inplace=True) # Jetzt ist BE permanent gelöscht!\n",
    "serie    "
   ]
  },
  {
   "cell_type": "code",
   "execution_count": null,
   "metadata": {},
   "outputs": [],
   "source": [
    "serie.drop(['GR', 'VD'])      # mehrere Einträge löschen"
   ]
  },
  {
   "cell_type": "markdown",
   "metadata": {},
   "source": [
    "#### DataFrame"
   ]
  },
  {
   "cell_type": "code",
   "execution_count": null,
   "metadata": {},
   "outputs": [],
   "source": [
    "# Ausgangslage\n",
    "df"
   ]
  },
  {
   "cell_type": "code",
   "execution_count": null,
   "metadata": {},
   "outputs": [],
   "source": [
    "df.drop([2017]) # Zeilen löschen (mit inplace=True permanent)"
   ]
  },
  {
   "cell_type": "code",
   "execution_count": null,
   "metadata": {},
   "outputs": [],
   "source": [
    "df.drop('Bevoelkerung', axis=1)"
   ]
  },
  {
   "cell_type": "markdown",
   "metadata": {},
   "source": [
    "Mit `axis=0` (Default) sind Zeilen gemeint und mit `axis=1` Spalten. Alternativ kann man statt `axis=1` auch `axis='columns'` verwenden."
   ]
  },
  {
   "cell_type": "code",
   "execution_count": null,
   "metadata": {},
   "outputs": [],
   "source": [
    "df.drop(['ALQtief'], axis='columns') # Alternative zu axis=1"
   ]
  },
  {
   "cell_type": "markdown",
   "metadata": {},
   "source": [
    "Alternativ kann man eine Spalte mit `del` (permanent) löschen. Wie wir weiter oben gesehen haben."
   ]
  },
  {
   "cell_type": "markdown",
   "metadata": {},
   "source": [
    "**Kontrollfragen:**"
   ]
  },
  {
   "cell_type": "code",
   "execution_count": null,
   "metadata": {},
   "outputs": [],
   "source": [
    "# Aufgabe 1: Fügen Sie df die Spalte \"i\" mit den Werten \n",
    "# 1 bis 6 hinzu.\n"
   ]
  },
  {
   "cell_type": "code",
   "execution_count": null,
   "metadata": {},
   "outputs": [],
   "source": [
    "# Aufgabe 2: Löschen Sie die Variable \"i\" wieder mit der \n",
    "# `drop`-Methode permanent.\n"
   ]
  },
  {
   "cell_type": "markdown",
   "metadata": {},
   "source": [
    "### (Nochmals) Indexierung, Selektion und Filtering\n",
    "#### Series"
   ]
  },
  {
   "cell_type": "code",
   "execution_count": null,
   "metadata": {},
   "outputs": [],
   "source": [
    "flaeche       # gegeben"
   ]
  },
  {
   "cell_type": "code",
   "execution_count": null,
   "metadata": {},
   "outputs": [],
   "source": [
    "flaeche[1:3]  # slicen"
   ]
  },
  {
   "cell_type": "markdown",
   "metadata": {},
   "source": [
    "##### *Slicing* mit Labels funktioniert anders als das übliche Python-Slicing: *Endpunkte sind inklusiv*."
   ]
  },
  {
   "cell_type": "code",
   "execution_count": null,
   "metadata": {},
   "outputs": [],
   "source": [
    "flaeche['BE':'VS']"
   ]
  },
  {
   "cell_type": "markdown",
   "metadata": {},
   "source": [
    "#### DataFrames"
   ]
  },
  {
   "cell_type": "code",
   "execution_count": null,
   "metadata": {},
   "outputs": [],
   "source": [
    "df  # gegeben"
   ]
  },
  {
   "cell_type": "code",
   "execution_count": null,
   "metadata": {},
   "outputs": [],
   "source": [
    "df[:2]    # Erste zwei Zeilen wählen."
   ]
  },
  {
   "cell_type": "code",
   "execution_count": null,
   "metadata": {},
   "outputs": [],
   "source": [
    "df[df.Stadt=='Thun']  # Nur Daten von Thun selektieren"
   ]
  },
  {
   "cell_type": "markdown",
   "metadata": {},
   "source": [
    "Beachten Sie, dass in der eckigen Klammer nochmals angegeben werden muss, aus welchem Dataframe die Variable \"Stadt\" stammt. \n",
    "\n",
    "**Exkurs**: Alternativ könnte man die Methode `query` verwenden."
   ]
  },
  {
   "cell_type": "code",
   "execution_count": null,
   "metadata": {},
   "outputs": [],
   "source": [
    "df.query(\"Stadt=='Thun'\")"
   ]
  },
  {
   "cell_type": "markdown",
   "metadata": {},
   "source": [
    "#### Selektion mit loc und iloc\n",
    "Für die Selektion von Zeilen und Spalten aus DataFrames stehen in Pandas die zwei Methoden `loc` (Achsenlabels) und `iloc` (Position in Achse) zur Verfügung."
   ]
  },
  {
   "cell_type": "code",
   "execution_count": null,
   "metadata": {},
   "outputs": [],
   "source": [
    "# Ausgangslage:\n",
    "df"
   ]
  },
  {
   "cell_type": "code",
   "execution_count": null,
   "metadata": {},
   "outputs": [],
   "source": [
    "df.loc[2016]   # wie zuvor gesehen"
   ]
  },
  {
   "cell_type": "code",
   "execution_count": null,
   "metadata": {},
   "outputs": [],
   "source": [
    "# Auswahl von Zeilen und Spalten über Label:\n",
    "df.loc[2016, 'ALQ']"
   ]
  },
  {
   "cell_type": "code",
   "execution_count": null,
   "metadata": {},
   "outputs": [],
   "source": [
    "df.loc[2016, ['Stadt', 'ALQ']]"
   ]
  },
  {
   "cell_type": "code",
   "execution_count": null,
   "metadata": {},
   "outputs": [],
   "source": [
    "# Lösung über Positionen in den Indizes:\n",
    "df.iloc[[0,3], [0,1]]"
   ]
  },
  {
   "cell_type": "code",
   "execution_count": null,
   "metadata": {},
   "outputs": [],
   "source": [
    "df.iloc[2]      # Ergebnis ist eine Series"
   ]
  },
  {
   "cell_type": "code",
   "execution_count": null,
   "metadata": {},
   "outputs": [],
   "source": [
    "df.iloc[[2]]   # Ergebnis ist ein DataFrame"
   ]
  },
  {
   "cell_type": "markdown",
   "metadata": {},
   "source": [
    "**`loc` und `iloc` funktionieren auch mit Slices:**"
   ]
  },
  {
   "cell_type": "code",
   "execution_count": null,
   "metadata": {},
   "outputs": [],
   "source": [
    "df  # zur Erinnerung"
   ]
  },
  {
   "cell_type": "code",
   "execution_count": null,
   "metadata": {},
   "outputs": [],
   "source": [
    "df.iloc[3:, :2] \n",
    "# df ab Zeilenposition 3 und Spalten bis unter Position 2."
   ]
  },
  {
   "cell_type": "markdown",
   "metadata": {},
   "source": [
    "**Kontrollfragen:**"
   ]
  },
  {
   "cell_type": "code",
   "execution_count": null,
   "metadata": {},
   "outputs": [],
   "source": [
    "# Gegeben:\n",
    "df"
   ]
  },
  {
   "cell_type": "code",
   "execution_count": null,
   "metadata": {},
   "outputs": [],
   "source": [
    "# Frage 1: Was ist der Output?\n",
    "df.loc[2016, 'Stadt':'ALQ']"
   ]
  },
  {
   "cell_type": "code",
   "execution_count": null,
   "metadata": {},
   "outputs": [],
   "source": [
    "# Frage 2: Was ist der Output?\n",
    "df.iloc[3:, :2]"
   ]
  },
  {
   "cell_type": "markdown",
   "metadata": {},
   "source": [
    "### Funktionen auf Spalten, Zeilen oder alle Elemente anwenden\n",
    "NumPy ufuncs (element-wise array methods) funktionieren auch mit Pandas-Objekten. "
   ]
  },
  {
   "cell_type": "code",
   "execution_count": null,
   "metadata": {},
   "outputs": [],
   "source": [
    "# Beispieldaten:\n",
    "df2 = pd.DataFrame({'X': [-4, 3, 0],\n",
    "                    'Y': [2, -1, 5]}, \n",
    "                    index=list('abc'))\n",
    "df2"
   ]
  },
  {
   "cell_type": "code",
   "execution_count": null,
   "metadata": {},
   "outputs": [],
   "source": [
    "df2.max(axis=0) # Maximum pro Spalte (entlang Zeilen)"
   ]
  },
  {
   "cell_type": "code",
   "execution_count": null,
   "metadata": {},
   "outputs": [],
   "source": [
    "df2.max()       # axis=0 ist der Default, es geht also ohne!"
   ]
  },
  {
   "cell_type": "code",
   "execution_count": null,
   "metadata": {},
   "outputs": [],
   "source": [
    "# Exkurs:\n",
    "df2.max(axis=1) # Maximum pro Zeile (entlang Spalten)"
   ]
  },
  {
   "cell_type": "code",
   "execution_count": null,
   "metadata": {},
   "outputs": [],
   "source": [
    "df2.mean()     # Arithmetisches Mittel pro Spalte"
   ]
  },
  {
   "cell_type": "code",
   "execution_count": null,
   "metadata": {},
   "outputs": [],
   "source": [
    "df2.std()     # Standardabweichung pro Spalte"
   ]
  },
  {
   "cell_type": "markdown",
   "metadata": {},
   "source": [
    "Es ist auch möglich, NumPy-Funktionen auf Spalten anzuwenden:"
   ]
  },
  {
   "cell_type": "code",
   "execution_count": null,
   "metadata": {},
   "outputs": [],
   "source": [
    "np.abs(df2)   # Absolutwerte/Beträge"
   ]
  },
  {
   "cell_type": "markdown",
   "metadata": {},
   "source": [
    "**Kontrollfragen:**"
   ]
  },
  {
   "cell_type": "code",
   "execution_count": null,
   "metadata": {},
   "outputs": [],
   "source": [
    "# Gegeben:\n",
    "df2"
   ]
  },
  {
   "cell_type": "code",
   "execution_count": null,
   "metadata": {},
   "outputs": [],
   "source": [
    "# Frage 1: Was ist der Output?\n",
    "df2.median()"
   ]
  },
  {
   "cell_type": "code",
   "execution_count": null,
   "metadata": {},
   "outputs": [],
   "source": [
    "# Frage 2: Was ist der Output?\n",
    "df2['Y'].sum()"
   ]
  },
  {
   "cell_type": "markdown",
   "metadata": {},
   "source": [
    "#### Mit der Methode `apply` kann man eine (eigene) *Funktion* auf jede Spalte (oder Zeile) anwenden."
   ]
  },
  {
   "cell_type": "code",
   "execution_count": null,
   "metadata": {},
   "outputs": [],
   "source": [
    "# Definition einer eigenen Funktion:\n",
    "def spannweite(x): \n",
    "    return x.max() - x.min()"
   ]
  },
  {
   "cell_type": "code",
   "execution_count": null,
   "metadata": {},
   "outputs": [],
   "source": [
    "# Mit apply eigene Funktion auf DataFrame-Spalten anwenden:\n",
    "df2.apply(spannweite) "
   ]
  },
  {
   "cell_type": "markdown",
   "metadata": {},
   "source": [
    "**Kontrollfragen:**"
   ]
  },
  {
   "cell_type": "code",
   "execution_count": null,
   "metadata": {},
   "outputs": [],
   "source": [
    "# Aufgabe 1: Schreiben Sie die Funktion schiefemass(werte), \n",
    "# welche die Differenz  mean(werte) - median(werte)  zurückgibt. \n"
   ]
  },
  {
   "cell_type": "code",
   "execution_count": null,
   "metadata": {},
   "outputs": [],
   "source": [
    "# Aufgabe 2: Wenden Sie die eben definierte Funktion schiefemass()\n",
    "# auf die Spalten von df2 an.\n"
   ]
  },
  {
   "cell_type": "markdown",
   "metadata": {},
   "source": [
    "### Sortieren\n",
    "Indizes werden mit der Methode `sort_index` sortiert."
   ]
  },
  {
   "cell_type": "code",
   "execution_count": null,
   "metadata": {},
   "outputs": [],
   "source": [
    "flaeche   # Beispiel einer Series"
   ]
  },
  {
   "cell_type": "code",
   "execution_count": null,
   "metadata": {},
   "outputs": [],
   "source": [
    "flaeche.sort_index()    # permanent mit inplace=True"
   ]
  },
  {
   "cell_type": "code",
   "execution_count": null,
   "metadata": {},
   "outputs": [],
   "source": [
    "# Beispiel eines DataFrame:\n",
    "df.sort_index()   # Zeilenindex sortieren (Default)"
   ]
  },
  {
   "cell_type": "code",
   "execution_count": null,
   "metadata": {},
   "outputs": [],
   "source": [
    "df.sort_index(axis=1)  # Spaltenüberschriften sortieren"
   ]
  },
  {
   "cell_type": "code",
   "execution_count": null,
   "metadata": {},
   "outputs": [],
   "source": [
    "df.sort_index(ascending=False)  # Index absteigend sortieren"
   ]
  },
  {
   "cell_type": "markdown",
   "metadata": {},
   "source": [
    "**Werte** werden mit **`sort_values`** sortiert.\n",
    "\n",
    "Bei Series:"
   ]
  },
  {
   "cell_type": "code",
   "execution_count": null,
   "metadata": {},
   "outputs": [],
   "source": [
    "flaeche.sort_values()"
   ]
  },
  {
   "cell_type": "markdown",
   "metadata": {},
   "source": [
    "Bei DataFrames:"
   ]
  },
  {
   "cell_type": "code",
   "execution_count": null,
   "metadata": {},
   "outputs": [],
   "source": [
    "# DataFrame nach Werten der Spalte \"Bevoelkerung\" sortieren:\n",
    "df.sort_values(by='Bevoelkerung') \n",
    "# Fehlwerte (NaN) werden ans Ende sortiert."
   ]
  },
  {
   "cell_type": "code",
   "execution_count": null,
   "metadata": {},
   "outputs": [],
   "source": [
    "# Zuerst nach Spalte \"Stadt\", dann \"ALQ\" sortieren\n",
    "df.sort_values(by=['Stadt', 'ALQ'])"
   ]
  },
  {
   "cell_type": "markdown",
   "metadata": {},
   "source": [
    "**Kontrollfrage:**"
   ]
  },
  {
   "cell_type": "code",
   "execution_count": null,
   "metadata": {},
   "outputs": [],
   "source": [
    "# Gegeben:\n",
    "df2"
   ]
  },
  {
   "cell_type": "code",
   "execution_count": null,
   "metadata": {},
   "outputs": [],
   "source": [
    "# Aufgabe: Sortieren Sie das DataFrame df2 nach der Variable Y.\n"
   ]
  },
  {
   "cell_type": "markdown",
   "metadata": {},
   "source": [
    "## Daten zusammenfassen / deskriptive Statistiken\n",
    "Pandas-Objekte sind mit vielen **mathematischen und statistischen Methoden** versehen. Die meisten davon sind sogenannte \"Reductions\" bzw. zusammenfassende Statistiken, welche aus einer Series oder Spalte/Zeile eines DataFrame einen einzigen Wert extrahieren. Wir haben bereits einige davon oben gesehen, z. B. `sum()` oder `max()`.  "
   ]
  },
  {
   "cell_type": "code",
   "execution_count": null,
   "metadata": {},
   "outputs": [],
   "source": [
    "# Ausgangslage: Beispieldaten erstellen\n",
    "np.random.seed(777)\n",
    "data = np.random.randint(-2, 3, size=(4,3))\n",
    "df3 = pd.DataFrame(data, columns=list('ABC'))\n",
    "df3['D'] = df3.A >= 0\n",
    "df3['E'] = list('cbba') \n",
    "df3"
   ]
  },
  {
   "cell_type": "code",
   "execution_count": null,
   "metadata": {},
   "outputs": [],
   "source": [
    "df3.sum()"
   ]
  },
  {
   "cell_type": "markdown",
   "metadata": {},
   "source": [
    "Hinweise: \n",
    "- Die Summe in Spalte `D` entspricht der Anzahl `True`.\n",
    "- Die Summe in Spalte `E` ist hier nicht sinnvoll!"
   ]
  },
  {
   "cell_type": "markdown",
   "metadata": {},
   "source": [
    "Eine Stärke von Pandas ist der Umgang mit Fehlwerten (`NaN`). Um dies zu demonstrieren, setzen wir zwei Fehlwerte in den Datensatz."
   ]
  },
  {
   "cell_type": "code",
   "execution_count": null,
   "metadata": {},
   "outputs": [],
   "source": [
    "# Zwei Fehlwerte (NaN) erzeugen:\n",
    "df3.iloc[1,2] = None    # entweder None\n",
    "df3.iloc[2,3] = np.nan  # oder mit np.nan\n",
    "df3"
   ]
  },
  {
   "cell_type": "markdown",
   "metadata": {},
   "source": [
    "- Beachten Sie, dass durch das Einsetzen eines Fehlwertes in Spalte `D` `True` zu 1 und `False` zu 0 wurde.\n",
    "- `NaN` werden bei Berechnungen \"übersprungen\" (skipped), ausser alle Werte in der Spalte (oder Zeile) sind `NaN`. Mit der Option `skipna = False` kann man diesen Default übersteuern. Beispiele:"
   ]
  },
  {
   "cell_type": "code",
   "execution_count": null,
   "metadata": {},
   "outputs": [],
   "source": [
    "df3.mean()     # Spaltenmittelwerte, NaN nicht berücksichtigen"
   ]
  },
  {
   "cell_type": "code",
   "execution_count": null,
   "metadata": {},
   "outputs": [],
   "source": [
    "df3.mean(skipna=False)  # NaN, falls mind. 1 NaN in der Spalte"
   ]
  },
  {
   "cell_type": "markdown",
   "metadata": {},
   "source": [
    "Des Weiteren gibt es Methoden, welche akkumulieren."
   ]
  },
  {
   "cell_type": "code",
   "execution_count": null,
   "metadata": {},
   "outputs": [],
   "source": [
    "df3.cumsum()   # Die Spaltenwerte werden aufkummuliert."
   ]
  },
  {
   "cell_type": "markdown",
   "metadata": {},
   "source": [
    "Schliesslich gibt es Methoden, die mehrere Statistiken liefern. Eine wichtige ist `describe`."
   ]
  },
  {
   "cell_type": "code",
   "execution_count": null,
   "metadata": {},
   "outputs": [],
   "source": [
    "# Output der Methode describe bei metrischen Daten:\n",
    "df3.describe()"
   ]
  },
  {
   "cell_type": "markdown",
   "metadata": {},
   "source": [
    "**Eläuterungen:**  \n",
    "`count`: Anzahl Werte pro Spalte (ohne NaN)  \n",
    "`mean`: Arithmetische Mittelwerte pro Spalte  \n",
    "`std`: Standardabweichungen pro Spalte  \n",
    "`min`: Minimum pro Spalte  \n",
    "`25%`: Erstes Quartil  \n",
    "`50%`: Zweites Quartil = Median  \n",
    "`75%`: Drittes Quartil  \n",
    "`max`: Maximum pro Spalte  "
   ]
  },
  {
   "cell_type": "code",
   "execution_count": null,
   "metadata": {},
   "outputs": [],
   "source": [
    "# Output der Methode describe bei nicht metrischen Daten:\n",
    "df3['E'].describe()  "
   ]
  },
  {
   "cell_type": "markdown",
   "metadata": {},
   "source": [
    "**Eläuterungen:**  \n",
    "`count`: Anzahl Werte (ohne NaN)  \n",
    "`unique`: Anzahl unterschiedlicher Werte  \n",
    "`top`: Modus  \n",
    "`freq`: Häufigkeit des Modus"
   ]
  },
  {
   "cell_type": "markdown",
   "metadata": {},
   "source": [
    "### Kovarianz und Korrelation\n",
    "Kovarianz und Korrelation werden aus Daten*paaren* berechnet."
   ]
  },
  {
   "cell_type": "code",
   "execution_count": null,
   "metadata": {},
   "outputs": [],
   "source": [
    "# Beispieldaten mit Aktienkursen aus dem Verzeichnis examples laden \n",
    "# (Genauere Erklärungen dazu folgen im nächsten Kapitel):\n",
    "price = pd.read_pickle('../examples/yahoo_price.pkl')\n",
    "price.head()"
   ]
  },
  {
   "cell_type": "markdown",
   "metadata": {},
   "source": [
    "Falls die Daten nicht geladen werden, stimmt der Pfad oben nicht.  \n",
    "`../examples/yahoo_price.pkl` bedeutet, dass Python zuerst ein Verzeichnis höher geht (..) und dann in das Verzeichnis `examples` wechselt, in dem die Datei `yahoo_price.pkl` liegen sollte. Details folgen später ..."
   ]
  },
  {
   "cell_type": "markdown",
   "metadata": {},
   "source": [
    "**Methode `pct_change`:**  \n",
    "Mit der Methode (Abkürzung für *percentage change*) können relative Veränderungen pro Spalte berechnet werden."
   ]
  },
  {
   "cell_type": "code",
   "execution_count": null,
   "metadata": {},
   "outputs": [],
   "source": [
    "returns = price.pct_change()\n",
    "returns.head()\n",
    "# In der ersten Zeile stehen NaN, da die Renditen zum Vortag nicht \n",
    "# berechnet werden können."
   ]
  },
  {
   "cell_type": "code",
   "execution_count": null,
   "metadata": {},
   "outputs": [],
   "source": [
    "# Kovarianz der Renditen zwischen Microsoft (MSFT) und IBM:\n",
    "returns['MSFT'].cov(returns['IBM'])   "
   ]
  },
  {
   "cell_type": "code",
   "execution_count": null,
   "metadata": {},
   "outputs": [],
   "source": [
    "# Korrelation der Renditen zwischen Microsoft (MSFT) und IBM:\n",
    "returns['MSFT'].corr(returns['IBM'])  "
   ]
  },
  {
   "cell_type": "code",
   "execution_count": null,
   "metadata": {},
   "outputs": [],
   "source": [
    "returns.MSFT.corr(returns.IBM)   # alternative Schreibweise"
   ]
  },
  {
   "cell_type": "markdown",
   "metadata": {},
   "source": [
    "Mit den DataFrame-Methoden `cov` und `corr` erhält man die ganze Kovarianz- bzw. Korrelationsmatrix."
   ]
  },
  {
   "cell_type": "code",
   "execution_count": null,
   "metadata": {},
   "outputs": [],
   "source": [
    "returns.corr()"
   ]
  },
  {
   "cell_type": "markdown",
   "metadata": {},
   "source": [
    "**Erläuterung:**\n",
    "Die Korrelation der Renditen zwischen Google (`GOOG`) und Microsoft (`MSFT`) beträgt 0.465919. Die anderen Werte sind gleich zu lesen."
   ]
  },
  {
   "cell_type": "code",
   "execution_count": null,
   "metadata": {},
   "outputs": [],
   "source": [
    "# Nur Korrelationen aller Aktien mit GOOG berechnen:\n",
    "returns.corrwith(returns.GOOG)"
   ]
  },
  {
   "cell_type": "markdown",
   "metadata": {},
   "source": [
    "Die Korrelation von Google (GOOG) mit sich selber ist natürlich 1."
   ]
  },
  {
   "cell_type": "markdown",
   "metadata": {},
   "source": [
    "**Kontrollfragen:**"
   ]
  },
  {
   "cell_type": "code",
   "execution_count": null,
   "metadata": {},
   "outputs": [],
   "source": [
    "# Gegeben:\n",
    "returns.corr()"
   ]
  },
  {
   "cell_type": "code",
   "execution_count": null,
   "metadata": {},
   "outputs": [],
   "source": [
    "# Frage 1: Was ist der Output?\n",
    "returns.AAPL.corr(returns.IBM)"
   ]
  },
  {
   "cell_type": "code",
   "execution_count": null,
   "metadata": {},
   "outputs": [],
   "source": [
    "# Gegeben:\n",
    "Kurse = pd.DataFrame({'KursA': [100, 120, 150],\n",
    "                      'KursB': [100, 90, 100]},\n",
    "                     index = [2016, 2017, 2018])\n",
    "Kurse"
   ]
  },
  {
   "cell_type": "code",
   "execution_count": null,
   "metadata": {},
   "outputs": [],
   "source": [
    "# Frage: Was ist der Output?\n",
    "Kurse.pct_change()"
   ]
  },
  {
   "cell_type": "markdown",
   "metadata": {},
   "source": [
    "### Unikate, Häufigkeiten und Zugehörigkeiten"
   ]
  },
  {
   "cell_type": "code",
   "execution_count": null,
   "metadata": {},
   "outputs": [],
   "source": [
    "obj = pd.Series(list('abbcbac'))\n",
    "obj"
   ]
  },
  {
   "cell_type": "code",
   "execution_count": null,
   "metadata": {},
   "outputs": [],
   "source": [
    "obj.unique()          # unterschiedliche Werte"
   ]
  },
  {
   "cell_type": "code",
   "execution_count": null,
   "metadata": {},
   "outputs": [],
   "source": [
    "len(obj.unique())    # Anzahl unterschiedlicher Werte"
   ]
  },
  {
   "cell_type": "code",
   "execution_count": null,
   "metadata": {},
   "outputs": [],
   "source": [
    "obj.nunique()        # einfacher mit Pandas nunique()"
   ]
  },
  {
   "cell_type": "code",
   "execution_count": null,
   "metadata": {},
   "outputs": [],
   "source": [
    "obj.value_counts()    # Häufigkeitsverteilung: WICHTIGE Funktion!"
   ]
  },
  {
   "cell_type": "code",
   "execution_count": null,
   "metadata": {},
   "outputs": [],
   "source": [
    "obj.value_counts(normalize=True)   # relative Häufigkeitsverteilung"
   ]
  },
  {
   "cell_type": "markdown",
   "metadata": {},
   "source": [
    "Per Default sortiert Pandas nach absteigender Häufigkeit. Manchmal möchte man aber nach dem Index sortieren. Zwei mögliche Lösungen dafür:"
   ]
  },
  {
   "cell_type": "code",
   "execution_count": null,
   "metadata": {},
   "outputs": [],
   "source": [
    "# Möglichkeit 1: Argument sort=False setzen\n",
    "obj.value_counts(sort=False)"
   ]
  },
  {
   "cell_type": "code",
   "execution_count": null,
   "metadata": {},
   "outputs": [],
   "source": [
    "# Möglichkeit 2: Nachträglich den Index sortieren\n",
    "obj.value_counts().sort_index()"
   ]
  },
  {
   "cell_type": "markdown",
   "metadata": {},
   "source": [
    "**Kontrollfragen:**"
   ]
  },
  {
   "cell_type": "code",
   "execution_count": null,
   "metadata": {},
   "outputs": [],
   "source": [
    "# Gegeben: \n",
    "np.random.seed(543)\n",
    "# 100 Würfe mit fairem Würfel simulieren:\n",
    "augen = pd.Series(np.random.randint(1,7,100))\n",
    "augen.head()  # die ersten 5 Realisationen"
   ]
  },
  {
   "cell_type": "code",
   "execution_count": null,
   "metadata": {},
   "outputs": [],
   "source": [
    "# Aufgabe 1: Erstellen Sie die absolute Häufigkeitsverteilung von \"augen\".\n"
   ]
  },
  {
   "cell_type": "code",
   "execution_count": null,
   "metadata": {},
   "outputs": [],
   "source": [
    "# Aufgabe 2: Erstellen Sie die relative Häufigkeitsverteilung von \"augen\". \n",
    "# Sortieren Sie nach dem Index (nicht nach der Häufigkeit).\n"
   ]
  },
  {
   "cell_type": "markdown",
   "metadata": {},
   "source": [
    "## Fazit\n",
    "- In diesem Kapitel haben wir einige Grundlagen von Pandas erarbeitet, die wir im Verlauf des Kurses immer wieder nutzen werden.\n",
    "- Im nächsten Kapitel diskutieren wir Tools zum Lesen und Schreiben von Daten in Pandas."
   ]
  }
 ],
 "metadata": {
  "kernelspec": {
   "display_name": "Python 3 (ipykernel)",
   "language": "python",
   "name": "python3"
  },
  "language_info": {
   "codemirror_mode": {
    "name": "ipython",
    "version": 3
   },
   "file_extension": ".py",
   "mimetype": "text/x-python",
   "name": "python",
   "nbconvert_exporter": "python",
   "pygments_lexer": "ipython3",
   "version": "3.9.7"
  }
 },
 "nbformat": 4,
 "nbformat_minor": 1
}
