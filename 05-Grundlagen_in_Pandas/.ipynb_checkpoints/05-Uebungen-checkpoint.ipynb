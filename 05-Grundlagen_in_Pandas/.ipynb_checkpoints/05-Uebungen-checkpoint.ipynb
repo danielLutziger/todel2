{
 "cells": [
  {
   "cell_type": "markdown",
   "metadata": {},
   "source": [
    "## Übungen zum Kapitel 5\n",
    "### Einführung in Pandas\n",
    "Erstellt und überarbeitet: armin.baenziger@zhaw.ch, 16. Januar 2020\n",
    "***"
   ]
  },
  {
   "cell_type": "code",
   "execution_count": 1,
   "metadata": {},
   "outputs": [
    {
     "data": {
      "application/javascript": [
       "IPython.notebook.set_autosave_interval(0)"
      ]
     },
     "metadata": {},
     "output_type": "display_data"
    },
    {
     "name": "stdout",
     "output_type": "stream",
     "text": [
      "Autosave disabled\n"
     ]
    }
   ],
   "source": [
    "%autosave 0"
   ]
  },
  {
   "cell_type": "markdown",
   "metadata": {},
   "source": [
    "***"
   ]
  },
  {
   "cell_type": "markdown",
   "metadata": {},
   "source": [
    "Bevor wir beginnen, laden wir nötige Bibliotheken mit den üblichen Abkürzungen und erstellen zwei Listen und ein Dict:"
   ]
  },
  {
   "cell_type": "code",
   "execution_count": 2,
   "metadata": {},
   "outputs": [],
   "source": [
    "import numpy as np\n",
    "import pandas as pd"
   ]
  },
  {
   "cell_type": "code",
   "execution_count": 3,
   "metadata": {},
   "outputs": [],
   "source": [
    "list1 = [1, -2, 3, 0, 5, 2]\n",
    "list_bool = [True, True, False, True, False, False]\n",
    "dict1 = {'a': 100, 'b': 120, 'd': 95,\n",
    "         'e': 105, 'f': 80, 'g': 105,}"
   ]
  },
  {
   "cell_type": "markdown",
   "metadata": {},
   "source": [
    "**(A.1)** Erstellen Sie eine Series mit Name `ser1` mit den Werten aus Liste `list1`."
   ]
  },
  {
   "cell_type": "code",
   "execution_count": 7,
   "metadata": {},
   "outputs": [
    {
     "data": {
      "text/plain": [
       "0    1\n",
       "1   -2\n",
       "2    3\n",
       "3    0\n",
       "4    5\n",
       "5    2\n",
       "dtype: int64"
      ]
     },
     "execution_count": 7,
     "metadata": {},
     "output_type": "execute_result"
    }
   ],
   "source": [
    "ser1 = pd.Series(list1)\n",
    "ser1"
   ]
  },
  {
   "cell_type": "markdown",
   "metadata": {},
   "source": [
    "**(A.2)** Ändern Sie den Index von `ser1` in fortlaufende Kleinbuchstaben `a, b, ..., f` mit der Befehlszeile\n",
    "`ser1.index = list('abcdef')`"
   ]
  },
  {
   "cell_type": "code",
   "execution_count": 10,
   "metadata": {},
   "outputs": [],
   "source": [
    "ser1.index = list('abcdef')"
   ]
  },
  {
   "cell_type": "markdown",
   "metadata": {},
   "source": [
    "**(A.3)** Lesen Sie den Wert zum Index `c` aus der Series `ser1` aus."
   ]
  },
  {
   "cell_type": "code",
   "execution_count": 11,
   "metadata": {},
   "outputs": [
    {
     "data": {
      "text/plain": [
       "3"
      ]
     },
     "execution_count": 11,
     "metadata": {},
     "output_type": "execute_result"
    }
   ],
   "source": [
    "ser1['c']"
   ]
  },
  {
   "cell_type": "markdown",
   "metadata": {},
   "source": [
    "**(A.4)** Lesen Sie die ersten zwei Werte aus `ser1` aus."
   ]
  },
  {
   "cell_type": "code",
   "execution_count": 12,
   "metadata": {},
   "outputs": [
    {
     "data": {
      "text/plain": [
       "a    1\n",
       "b   -2\n",
       "dtype: int64"
      ]
     },
     "execution_count": 12,
     "metadata": {},
     "output_type": "execute_result"
    }
   ],
   "source": [
    "ser1[:2]"
   ]
  },
  {
   "cell_type": "markdown",
   "metadata": {},
   "source": [
    "**(A.5)** Lesen Sie den letzten Wert aus `ser1` aus."
   ]
  },
  {
   "cell_type": "code",
   "execution_count": 13,
   "metadata": {},
   "outputs": [
    {
     "data": {
      "text/plain": [
       "2"
      ]
     },
     "execution_count": 13,
     "metadata": {},
     "output_type": "execute_result"
    }
   ],
   "source": [
    "ser1[-1]"
   ]
  },
  {
   "cell_type": "markdown",
   "metadata": {},
   "source": [
    "**(A.6)** Lesen Sie die Werte zu den Indizes `b` und `e` (gleichzeitig) aus."
   ]
  },
  {
   "cell_type": "code",
   "execution_count": 14,
   "metadata": {},
   "outputs": [
    {
     "data": {
      "text/plain": [
       "b   -2\n",
       "e    5\n",
       "dtype: int64"
      ]
     },
     "execution_count": 14,
     "metadata": {},
     "output_type": "execute_result"
    }
   ],
   "source": [
    "ser1[['b', 'e']]"
   ]
  },
  {
   "cell_type": "markdown",
   "metadata": {},
   "source": [
    "**(A.7)** Erstellen Sie eine Kopie der Series `ser1` und nennen Sie diese `ser1_c`. Führen Sie hierzu folgende Befehlszeile aus: `ser1_c = ser1.copy()`"
   ]
  },
  {
   "cell_type": "code",
   "execution_count": 15,
   "metadata": {},
   "outputs": [],
   "source": [
    "ser1_c = ser1.copy()"
   ]
  },
  {
   "cell_type": "markdown",
   "metadata": {},
   "source": [
    "**(A.8)** Ersetzen Sie den Wert zum Index `f` der Series `ser1_c` mit dem Wert `-2`."
   ]
  },
  {
   "cell_type": "code",
   "execution_count": null,
   "metadata": {},
   "outputs": [],
   "source": []
  },
  {
   "cell_type": "markdown",
   "metadata": {},
   "source": [
    "Folgende Anweisung erzeugt einen logischen Vektor mit `True`, falls der Wert negativ ist und ansonsten `False`."
   ]
  },
  {
   "cell_type": "code",
   "execution_count": null,
   "metadata": {},
   "outputs": [],
   "source": [
    "ser1_c < 0"
   ]
  },
  {
   "cell_type": "markdown",
   "metadata": {},
   "source": [
    "Mit folgender Anweisung lesen Sie alle negativen Werte aus `ser1_c` aus:"
   ]
  },
  {
   "cell_type": "code",
   "execution_count": null,
   "metadata": {},
   "outputs": [],
   "source": [
    "ser1_c[ser1_c < 0]"
   ]
  },
  {
   "cell_type": "markdown",
   "metadata": {},
   "source": [
    "**(A.9)** Ersetzen Sie die negativen Werte in Series `ser1_c` mit `0`."
   ]
  },
  {
   "cell_type": "code",
   "execution_count": null,
   "metadata": {},
   "outputs": [],
   "source": []
  },
  {
   "cell_type": "markdown",
   "metadata": {},
   "source": [
    "**(A.10)** Prüfen Sie, ob in der Series `ser1` der Index `g` existiert. Verwenden Sie hierzu die Anweisung `'g' in ser1`."
   ]
  },
  {
   "cell_type": "code",
   "execution_count": null,
   "metadata": {},
   "outputs": [],
   "source": []
  },
  {
   "cell_type": "markdown",
   "metadata": {},
   "source": [
    "Betrachten Sie die Series `ser1` und die Liste `list_bool`."
   ]
  },
  {
   "cell_type": "code",
   "execution_count": null,
   "metadata": {},
   "outputs": [],
   "source": [
    "ser1"
   ]
  },
  {
   "cell_type": "code",
   "execution_count": null,
   "metadata": {},
   "outputs": [],
   "source": [
    "list_bool"
   ]
  },
  {
   "cell_type": "markdown",
   "metadata": {},
   "source": [
    "**(A.11)** Lesen Sie aus der Series `ser1` nur diejenigen Wert aus, für die die Liste `list_bool` an der entsprechenden Stelle `True` ist."
   ]
  },
  {
   "cell_type": "code",
   "execution_count": null,
   "metadata": {
    "scrolled": true
   },
   "outputs": [],
   "source": []
  },
  {
   "cell_type": "markdown",
   "metadata": {},
   "source": [
    "**(A.12)** Erstellen Sie aus dem Dict `dict1` die Series `ser2`."
   ]
  },
  {
   "cell_type": "code",
   "execution_count": null,
   "metadata": {},
   "outputs": [],
   "source": []
  },
  {
   "cell_type": "markdown",
   "metadata": {},
   "source": [
    "**(A.13)** Addieren Sie die zwei Series `ser1` und `ser2`. Speichern Sie das Resultat in der Series `resultat`. Was stellen Sie fest?"
   ]
  },
  {
   "cell_type": "code",
   "execution_count": null,
   "metadata": {},
   "outputs": [],
   "source": []
  },
  {
   "cell_type": "markdown",
   "metadata": {},
   "source": [
    "**(A.14)** Lesen Sie die Daten ohne `NaN` aus, indem Sie die Methode `notnull` entsprechend einsetzen. (Wir werden später dafür eine separate Methode kennenlernen, die die Auswahl nochmals vereinfacht.)"
   ]
  },
  {
   "cell_type": "code",
   "execution_count": null,
   "metadata": {},
   "outputs": [],
   "source": []
  },
  {
   "cell_type": "markdown",
   "metadata": {},
   "source": [
    "**(A.15)** Sortieren Sie `ser1` nach den Werten (nicht Index) mit der Methode `sort_values()`."
   ]
  },
  {
   "cell_type": "code",
   "execution_count": null,
   "metadata": {},
   "outputs": [],
   "source": []
  },
  {
   "cell_type": "markdown",
   "metadata": {},
   "source": [
    "**(A.16)** Sortieren Sie `ser1` nach den Werten in absteigender Reihenfolge. Tipp: Shif-Tab für Hilfe nach der ersten Klammer der Methode betätigen."
   ]
  },
  {
   "cell_type": "code",
   "execution_count": null,
   "metadata": {},
   "outputs": [],
   "source": []
  },
  {
   "cell_type": "markdown",
   "metadata": {},
   "source": [
    "***"
   ]
  },
  {
   "cell_type": "markdown",
   "metadata": {},
   "source": [
    "Bevor wir weiterfahren erstellen wir eine Series und einen DataFrame:"
   ]
  },
  {
   "cell_type": "code",
   "execution_count": null,
   "metadata": {},
   "outputs": [],
   "source": [
    "np.random.seed(125)\n",
    "n = 12  \n",
    "\n",
    "Zivilstand = np.random.choice(['l','v','g','vw'], size=n, replace=True)\n",
    "\n",
    "dflohn = pd.DataFrame({'Personen_ID': (range(100,100+n)),\n",
    "  'Lohn': np.random.lognormal(mean=8.6, sigma=0.4, size=n).astype(int),\n",
    "  'Geschlecht': np.random.choice(['w','m'], size=n, replace=True),\n",
    "  'Alter': np.random.randint(18, 66, n)})"
   ]
  },
  {
   "cell_type": "markdown",
   "metadata": {},
   "source": [
    "**(B.1)** Lesen die die ersten fünf Fälle (Zeilen) von `dflohn` aus. Verwenden Sie hierzu die Methode `head()`."
   ]
  },
  {
   "cell_type": "code",
   "execution_count": null,
   "metadata": {},
   "outputs": [],
   "source": []
  },
  {
   "cell_type": "markdown",
   "metadata": {},
   "source": [
    "**(B.2)** Lesen Sie die letzten fünf Fälle (Zeilen) von `dflohn` aus. Verwenden Sie hierzu die Methode `tail()`."
   ]
  },
  {
   "cell_type": "code",
   "execution_count": null,
   "metadata": {},
   "outputs": [],
   "source": []
  },
  {
   "cell_type": "markdown",
   "metadata": {},
   "source": [
    "**(B.3)** Lesen Sie die Spalte `Lohn` aus dem DataFrame `dflohn` aus."
   ]
  },
  {
   "cell_type": "code",
   "execution_count": null,
   "metadata": {},
   "outputs": [],
   "source": []
  },
  {
   "cell_type": "markdown",
   "metadata": {},
   "source": [
    "**(B.4)** Setzten Sie als Index von `dflohn` die Spalte (Variable) `Personen_ID`. Führen Sie hierzu folgende Anweisung aus: `dflohn.set_index('Personen_ID', inplace=True)`. Was bewirkt das Argument `inplace=True`?"
   ]
  },
  {
   "cell_type": "code",
   "execution_count": null,
   "metadata": {},
   "outputs": [],
   "source": []
  },
  {
   "cell_type": "markdown",
   "metadata": {},
   "source": [
    "**(B.5)** Was bewirkt folgende Anweisung? "
   ]
  },
  {
   "cell_type": "code",
   "execution_count": null,
   "metadata": {},
   "outputs": [],
   "source": [
    "dflohn.rename(columns={'Lohn': 'Gehalt'}, inplace=True)\n",
    "dflohn.head()"
   ]
  },
  {
   "cell_type": "markdown",
   "metadata": {},
   "source": [
    "**(B.6)** Fügen Sie den (ebenfalls zuvor erstellten) Array `Zivilstand` dem DataFrame `dflohn` hinzu. Versuchen Sie hierzu folgende Anweisung: `dflohn['Zivilstand'] = Zivilstand`"
   ]
  },
  {
   "cell_type": "code",
   "execution_count": null,
   "metadata": {},
   "outputs": [],
   "source": []
  },
  {
   "cell_type": "markdown",
   "metadata": {},
   "source": [
    "**(B.7)** Lesen Sie die Daten der Person 104 aus dem Dataframe `dflohn` mit `loc` aus."
   ]
  },
  {
   "cell_type": "code",
   "execution_count": null,
   "metadata": {},
   "outputs": [],
   "source": []
  },
  {
   "cell_type": "markdown",
   "metadata": {},
   "source": [
    "**(B.8)** Lesen Sie die Daten der Person 104 aus dem Dataframe `dflohn` mit `iloc` aus. Achtung, die *Position* der Person 104 ist (0, 1, 2, 3) **4**."
   ]
  },
  {
   "cell_type": "code",
   "execution_count": null,
   "metadata": {},
   "outputs": [],
   "source": []
  },
  {
   "cell_type": "markdown",
   "metadata": {},
   "source": [
    "**(B.9)** Löschen Sie die Person 101 aus dem DataFrame `dflohn` durch `dflohn.drop(101, inplace=True)`."
   ]
  },
  {
   "cell_type": "code",
   "execution_count": null,
   "metadata": {},
   "outputs": [],
   "source": []
  },
  {
   "cell_type": "markdown",
   "metadata": {},
   "source": [
    "**(B.10)** Slicen Sie die Daten der Personen 103 bis und mit 106 aus dem DataFrame `dflohn` . "
   ]
  },
  {
   "cell_type": "code",
   "execution_count": null,
   "metadata": {},
   "outputs": [],
   "source": []
  },
  {
   "cell_type": "markdown",
   "metadata": {},
   "source": [
    "**(B.13)** Slicen Sie die Variablen `Geschlecht` und `Zivilstand` der Personen 103 bis und mit 106 aus dem DataFrame `dflohn`. Versuchen Sie hieru die Anweisung `dflohn.loc[103:106, ['Geschlecht', 'Zivilstand']]`"
   ]
  },
  {
   "cell_type": "code",
   "execution_count": null,
   "metadata": {},
   "outputs": [],
   "source": []
  },
  {
   "cell_type": "markdown",
   "metadata": {},
   "source": [
    "**(B.14)** Lesen Sie die Daten der *weiblichen* Personen aus dem DataFrame `dflohn` aus. "
   ]
  },
  {
   "cell_type": "code",
   "execution_count": null,
   "metadata": {},
   "outputs": [],
   "source": []
  },
  {
   "cell_type": "markdown",
   "metadata": {},
   "source": [
    "**(B.9)** Ersetzen Sie das *Gehalt* von *Person 104* mit dem Fehlwert `NaN` (durch `np.nan` oder `None`)."
   ]
  },
  {
   "cell_type": "code",
   "execution_count": null,
   "metadata": {},
   "outputs": [],
   "source": []
  },
  {
   "cell_type": "markdown",
   "metadata": {},
   "source": [
    "***"
   ]
  },
  {
   "cell_type": "markdown",
   "metadata": {},
   "source": [
    "**(C.1)** Bestimmen Sie das maximale Gehalt im Dataframe `dflohn`."
   ]
  },
  {
   "cell_type": "code",
   "execution_count": null,
   "metadata": {},
   "outputs": [],
   "source": []
  },
  {
   "cell_type": "markdown",
   "metadata": {},
   "source": [
    "**(C.2)** Wählen Sie die Zeile (Person) aus, die das maximale Gehalt bezieht. "
   ]
  },
  {
   "cell_type": "code",
   "execution_count": null,
   "metadata": {},
   "outputs": [],
   "source": []
  },
  {
   "cell_type": "markdown",
   "metadata": {},
   "source": [
    "**(C.3)** Bestimmen Sie je das arithmetische Mittel der Variablen `Alter` und `Gehalt` in `dflohn`."
   ]
  },
  {
   "cell_type": "code",
   "execution_count": null,
   "metadata": {},
   "outputs": [],
   "source": []
  },
  {
   "cell_type": "markdown",
   "metadata": {},
   "source": [
    "**(C.4)** Bestimmen Sie je den Median der Variablen `Alter` und `Gehalt` in `dflohn`."
   ]
  },
  {
   "cell_type": "code",
   "execution_count": null,
   "metadata": {
    "scrolled": false
   },
   "outputs": [],
   "source": []
  },
  {
   "cell_type": "markdown",
   "metadata": {},
   "source": [
    "**(C.5)** Führen Sie den Befehl `dflohn.describe()` aus. In welcher Zeile befindet sich der Median?"
   ]
  },
  {
   "cell_type": "code",
   "execution_count": null,
   "metadata": {
    "scrolled": false
   },
   "outputs": [],
   "source": []
  },
  {
   "cell_type": "markdown",
   "metadata": {},
   "source": [
    "**(C.6)** Erstellen Sie eine Häufigkeitsverteilung der Variable `Zivilstand`. Tipp: Im Pandas-Cheat-Sheet unter \"Summarize Data\" nachschauen, falls Sie den Namen der Methode vergessen haben."
   ]
  },
  {
   "cell_type": "code",
   "execution_count": null,
   "metadata": {},
   "outputs": [],
   "source": []
  },
  {
   "cell_type": "markdown",
   "metadata": {},
   "source": [
    "***"
   ]
  },
  {
   "cell_type": "markdown",
   "metadata": {},
   "source": [
    "Für den letzten Teil laden wir einige reale Aktienpreisdaten:"
   ]
  },
  {
   "cell_type": "code",
   "execution_count": null,
   "metadata": {},
   "outputs": [],
   "source": [
    "# Beispieldaten:\n",
    "Preise = pd.read_pickle('../examples/yahoo_price.pkl')\n",
    "Preise.head()"
   ]
  },
  {
   "cell_type": "markdown",
   "metadata": {},
   "source": [
    "Damit Diagramme automatisch in den Zellen erscheinen, führen wir folgenden Magic Command aus:"
   ]
  },
  {
   "cell_type": "code",
   "execution_count": null,
   "metadata": {},
   "outputs": [],
   "source": [
    "%matplotlib inline"
   ]
  },
  {
   "cell_type": "markdown",
   "metadata": {},
   "source": [
    "**(D.1)** Plotten Sie die Preisdaten mit `Preise.plot()`."
   ]
  },
  {
   "cell_type": "code",
   "execution_count": null,
   "metadata": {},
   "outputs": [],
   "source": []
  },
  {
   "cell_type": "markdown",
   "metadata": {},
   "source": [
    "**(D.2)** Für den besseren Vergleich der Performance sollten wir die Preisdaten umbasieren. Erstellen Sie das DataFrame `Preise100`, bei dem alle Aktienkurse mit 100 starten. Versuchen Sie hierzu die Anweisung `Preise100 = Preise/Preise.iloc[0]*100`. Plotten Sie die Kurese danach nochmals."
   ]
  },
  {
   "cell_type": "code",
   "execution_count": null,
   "metadata": {},
   "outputs": [],
   "source": []
  },
  {
   "cell_type": "markdown",
   "metadata": {},
   "source": [
    "Die nun zu definierende Funktion `HPR()` berechnet die Gesamtrendite (Holding Period Return) in Prozent über den Beobachtungszeitraum für jede Aktie eines Preis-DataFrames. "
   ]
  },
  {
   "cell_type": "code",
   "execution_count": null,
   "metadata": {},
   "outputs": [],
   "source": [
    "def HPR(P): \n",
    "    return (P.iloc[-1]/P.iloc[0] - 1)*100"
   ]
  },
  {
   "cell_type": "markdown",
   "metadata": {},
   "source": [
    "**(D.3)** Verwenden Sie die Funktion `HPR()`, um die Gesamtrenditen aller Aktien im DataFrame `Preise` zu berechnen."
   ]
  },
  {
   "cell_type": "code",
   "execution_count": null,
   "metadata": {},
   "outputs": [],
   "source": []
  },
  {
   "cell_type": "markdown",
   "metadata": {},
   "source": [
    "**(D.4)** Erstellen Sie den DataFrame `Renditen`, welcher die Tagesrenditen, berechnet aus den Preisdaten im DataFrame `Preise`, enthält. Verwenden Sie hierzu die nützliche Methode `pct_change()`."
   ]
  },
  {
   "cell_type": "code",
   "execution_count": null,
   "metadata": {},
   "outputs": [],
   "source": []
  },
  {
   "cell_type": "markdown",
   "metadata": {},
   "source": [
    "**(D.5)** Erstellen Sie ein Histogramm der Tagesrenditen der Aktie von Apple mit 30 Klassen (bins). Versuchen Sie hierzu die Anweisung `Renditen.AAPL.hist(bins=30)`."
   ]
  },
  {
   "cell_type": "code",
   "execution_count": null,
   "metadata": {},
   "outputs": [],
   "source": []
  },
  {
   "cell_type": "markdown",
   "metadata": {},
   "source": [
    "**(D.6)** Mit der Methode `quantile`, welche auf Series und DataFrames angewendet werden kann, können Quantile von Verteilungen bestimmt werden. Finden Sie von allen vier Titeln das 1%- und 5%-Quantil der Renditen (z. B. für nicht-parametrische Value-at-Risk-Berechnungen)."
   ]
  },
  {
   "cell_type": "code",
   "execution_count": null,
   "metadata": {},
   "outputs": [],
   "source": []
  },
  {
   "cell_type": "markdown",
   "metadata": {},
   "source": [
    "Hinweis zur Auswertung: Das 5%-Quantil von Apple beträgt etwa -2.5%. Dies bedeutet, dass etwa 5% der Tagerenditen unter -2.5% und 95% der Tagesrenditen darüber lagen. "
   ]
  },
  {
   "cell_type": "markdown",
   "metadata": {},
   "source": [
    "**(D.7)** Berechnen Sie die Korrelation zwischen den Renditen von Apple (`AAPL`) und Google (`GOOG`) auf drei Nachkommastellen genau."
   ]
  },
  {
   "cell_type": "code",
   "execution_count": null,
   "metadata": {},
   "outputs": [],
   "source": []
  },
  {
   "cell_type": "markdown",
   "metadata": {},
   "source": [
    "***\n",
    "#### *Ende der Übung*"
   ]
  }
 ],
 "metadata": {
  "kernelspec": {
   "display_name": "Python 3 (ipykernel)",
   "language": "python",
   "name": "python3"
  },
  "language_info": {
   "codemirror_mode": {
    "name": "ipython",
    "version": 3
   },
   "file_extension": ".py",
   "mimetype": "text/x-python",
   "name": "python",
   "nbconvert_exporter": "python",
   "pygments_lexer": "ipython3",
   "version": "3.9.7"
  }
 },
 "nbformat": 4,
 "nbformat_minor": 2
}
