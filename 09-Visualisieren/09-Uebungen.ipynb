{
 "cells": [
  {
   "cell_type": "markdown",
   "metadata": {},
   "source": [
    "## Übungen zum Kapitel 9\n",
    "### Plotten und Visualisieren\n",
    "Erstellt und überarbeitet: armin.baenziger@zhaw.ch, 2. März 2020\n",
    "***"
   ]
  },
  {
   "cell_type": "code",
   "execution_count": null,
   "metadata": {},
   "outputs": [],
   "source": [
    "%autosave 0"
   ]
  },
  {
   "cell_type": "markdown",
   "metadata": {},
   "source": [
    "**(A.1)** Laden Sie NumPy, Pandas und Matplotlib.pyplot mit den üblichen Abkürzungen."
   ]
  },
  {
   "cell_type": "code",
   "execution_count": null,
   "metadata": {},
   "outputs": [],
   "source": []
  },
  {
   "cell_type": "markdown",
   "metadata": {},
   "source": [
    "**(A.2)** Führen Sie den Magic Command aus, so dass Matplotlib-Plots \"inline\" erscheinen."
   ]
  },
  {
   "cell_type": "code",
   "execution_count": null,
   "metadata": {},
   "outputs": [],
   "source": []
  },
  {
   "cell_type": "markdown",
   "metadata": {},
   "source": [
    "***"
   ]
  },
  {
   "cell_type": "markdown",
   "metadata": {},
   "source": [
    "Für die nächsten Aufgaben laden wir zuerst Daten zur Entwicklung einiger Teilindizes des Swiss Performance Index (SPI)."
   ]
  },
  {
   "cell_type": "code",
   "execution_count": null,
   "metadata": {},
   "outputs": [],
   "source": [
    "# Zeitreihen werden in Kapitel 11 erläutert.\n",
    "Kurse = pd.read_csv('../weitere_Daten/hspitr.csv', sep=';', \n",
    "                    usecols=[0, 2, 3, 4], parse_dates=[0], \n",
    "                    index_col=0).sort_index()\n",
    "# Von Tages- auf Jahresendkurse welcheln (siehe Kapitel 11):\n",
    "Kurse = Kurse.resample('Y').last()  \n",
    "Kurse.head()"
   ]
  },
  {
   "cell_type": "markdown",
   "metadata": {},
   "source": [
    "**(B.1)** Stellen Sie die drei Zeitreihen gemeinsam in einem Diagramm dar. Verzichten Sie vorerst auf jegliche Anpassungen des Defaults."
   ]
  },
  {
   "cell_type": "code",
   "execution_count": null,
   "metadata": {
    "scrolled": true
   },
   "outputs": [],
   "source": []
  },
  {
   "cell_type": "markdown",
   "metadata": {},
   "source": [
    "**(B.2)** Stellen Sie sicher, dass Sie den Code in der folgenden Zeile verstehen. Sie können beispielsweise Argumente verändern und schauen, welche Wirkung sie haben."
   ]
  },
  {
   "cell_type": "code",
   "execution_count": null,
   "metadata": {},
   "outputs": [],
   "source": [
    "Kurse.plot(title='SPI-Size-Indizes', \n",
    "             figsize=(7, 4), \n",
    "             ylim=[0, 30000],\n",
    "             style=['rd-','bo-','g^-'])\n",
    "plt.grid()\n",
    "plt.legend(loc='upper left')\n",
    "plt.show()"
   ]
  },
  {
   "cell_type": "markdown",
   "metadata": {},
   "source": [
    "***"
   ]
  },
  {
   "cell_type": "markdown",
   "metadata": {},
   "source": [
    "**(C.1)** Laden Sie die Daten der Datei `drinksbycountry.csv` in das DataFrame `drinks` und lesen Sie die ersten 5 Zeilen aus. Die Datei befindet sich im Ordner \"weitere_Daten\"."
   ]
  },
  {
   "cell_type": "code",
   "execution_count": null,
   "metadata": {
    "scrolled": true
   },
   "outputs": [],
   "source": [
    "drinks = "
   ]
  },
  {
   "cell_type": "markdown",
   "metadata": {},
   "source": [
    "**(C.2)** Sellen Sie die Verteilung der Anzahl Länder pro Kontinent in einer Häufigkeitstabelle dar."
   ]
  },
  {
   "cell_type": "code",
   "execution_count": null,
   "metadata": {},
   "outputs": [],
   "source": []
  },
  {
   "cell_type": "markdown",
   "metadata": {},
   "source": [
    "**(C.3)** Sellen Sie die Verteilung der Anzahl Länder pro Kontinent in einem Säulendiagramm dar. Geben Sie dem Diagramm einen geeigneten Titel und beschriften Sie die Ordinate passend."
   ]
  },
  {
   "cell_type": "code",
   "execution_count": null,
   "metadata": {},
   "outputs": [],
   "source": []
  },
  {
   "cell_type": "markdown",
   "metadata": {},
   "source": [
    "Man kann mit Säulendiagrammen nicht nur Häufigkeitsverteilungen darstellen. Es ist beispielsweise auch möglich, Gruppendurchschnitte darzustellen. Betrachten wir hierzu den Datensatz `Auto.csv`, den wir zuvor kennengelernt haben.\n",
    "\n",
    "Die erste Befehlszeile liest die Daten ein. Gebraucht werden die Variablen `mpg` (Meilen pro Gallone) und `origin` (Herkunftsland der Autos), wobei diese als Index festgelegt wird. Danach werden die mittleren Meilen pro Gallone nach Herkunftsland berechnet und der Index umbenannt. (Im nächsten Kapitel erfahren wir, wie man mit der `groupby`-Methode eleganter hätte vorgehen können). "
   ]
  },
  {
   "cell_type": "code",
   "execution_count": null,
   "metadata": {},
   "outputs": [],
   "source": [
    "auto = pd.read_csv('../weitere_Daten/Auto.csv', sep=';', \n",
    "                   usecols=[0,7], index_col=[1])\n",
    "means = auto.mpg.mean(level=0).sort_index()\n",
    "means.rename({1: 'USA', 2: 'Europa', 3: 'Japan'}, inplace=True)\n",
    "means"
   ]
  },
  {
   "cell_type": "markdown",
   "metadata": {},
   "source": [
    "**(C.4)** Stellen Sie die gebildeten Mittelwerte mit einem passenden Diagramm dar. "
   ]
  },
  {
   "cell_type": "code",
   "execution_count": null,
   "metadata": {},
   "outputs": [],
   "source": []
  },
  {
   "cell_type": "markdown",
   "metadata": {},
   "source": [
    "***"
   ]
  },
  {
   "cell_type": "markdown",
   "metadata": {},
   "source": [
    "**(D.1)** Erstellen Sie ein Histogramm der Variable `total_litres_of_pure_alcohol` aus dem DataFrame `drinks`. Achten Sie auf korrekte Achsenbeschriftungen."
   ]
  },
  {
   "cell_type": "code",
   "execution_count": null,
   "metadata": {},
   "outputs": [],
   "source": []
  },
  {
   "cell_type": "markdown",
   "metadata": {},
   "source": [
    "**(D.2)** Erstellen Sie nun das Histogramm nur für europäische Länder."
   ]
  },
  {
   "cell_type": "code",
   "execution_count": null,
   "metadata": {
    "scrolled": true
   },
   "outputs": [],
   "source": []
  },
  {
   "cell_type": "markdown",
   "metadata": {},
   "source": [
    "**(D.3)** Bestimmen Sie die drei Länder aus Europa, die den tiefsten Pro-Kopf-Konsum an Alkhol haben (im Histogramm ganz links). Was fällt Ihnen auf?"
   ]
  },
  {
   "cell_type": "code",
   "execution_count": null,
   "metadata": {
    "scrolled": true
   },
   "outputs": [],
   "source": []
  },
  {
   "cell_type": "markdown",
   "metadata": {},
   "source": [
    "**(D.4)** Erstellen Sie nochmals das Histgogramm für Europa. Schliessen Sie aber Länder aus, wo der totale Alkoholkonsum nicht positiv ist. Das \"Default-Histogramm\" (ohne Anpassungen) reicht hier."
   ]
  },
  {
   "cell_type": "code",
   "execution_count": null,
   "metadata": {},
   "outputs": [],
   "source": []
  },
  {
   "cell_type": "markdown",
   "metadata": {},
   "source": [
    "***"
   ]
  },
  {
   "cell_type": "markdown",
   "metadata": {},
   "source": [
    "**(E.1)** Laden Sie die Daten `Auto.csv` (Ordner \"weitere_Daten\") in das DataFrame `Auto`."
   ]
  },
  {
   "cell_type": "code",
   "execution_count": null,
   "metadata": {},
   "outputs": [],
   "source": []
  },
  {
   "cell_type": "markdown",
   "metadata": {},
   "source": [
    "**(E.2)** Stellen Sie die Verteilung der Anzahl Zylinder in einem Säulendiagramm dar. Achten Sie darauf, dass die Zylinder auf der x-Achse sortiert sind (mit `sort.index()`). "
   ]
  },
  {
   "cell_type": "code",
   "execution_count": null,
   "metadata": {},
   "outputs": [],
   "source": []
  },
  {
   "cell_type": "markdown",
   "metadata": {},
   "source": [
    "**(E.3)** Betrachten Sie die folgende Abbildung (also nur das Ergebnis der Zelle). Interpretieren Sie."
   ]
  },
  {
   "cell_type": "code",
   "execution_count": null,
   "metadata": {},
   "outputs": [],
   "source": [
    "tab = Auto.groupby('origin').cylinders.value_counts().unstack().T\n",
    "tab.rename(columns={1: 'USA', 2: 'Europa', 3: 'Japan'}, inplace=True)\n",
    "tab.columns.name = 'Herkunft'\n",
    "tab.index.name = 'Anzahl Zylinder'\n",
    "tab.plot.bar(rot=0, stacked=True);"
   ]
  },
  {
   "cell_type": "markdown",
   "metadata": {
    "scrolled": true
   },
   "source": [
    "Antworten:  \n",
    "..."
   ]
  },
  {
   "cell_type": "markdown",
   "metadata": {},
   "source": [
    "**(E.4)** Erstellen Sie im DataFrame `Auto` aus der Variable `mpg` (Miles per Gallon) die Variable `Verbrauch` (*Liter pro 100 km*). (Hinweis: 1 Meile = 1.60934 km, 1 Gallone = 3.78541 l)"
   ]
  },
  {
   "cell_type": "code",
   "execution_count": null,
   "metadata": {},
   "outputs": [],
   "source": [
    "Auto['Verbrauch'] = (100*3.78541/1.60934)/Auto.mpg\n",
    "Auto.Verbrauch.describe()"
   ]
  },
  {
   "cell_type": "markdown",
   "metadata": {},
   "source": [
    "**(E.5)** Vergleichen Sie den Kraftstoffverbrauch der Autos nach Herkunft (`origin`; 1 für USA, 2 für Europa und 3 für Japan). Erstellen Sie hierzu einen gruppierten (faktorisierten) Boxplot. Beschriften Sie das Diagramm sinnvoll."
   ]
  },
  {
   "cell_type": "code",
   "execution_count": null,
   "metadata": {},
   "outputs": [],
   "source": []
  },
  {
   "cell_type": "markdown",
   "metadata": {},
   "source": [
    "**(E.6)** Untersuchen Sie die Beziehung zwischen Hubraum (`displacement`) und PS (`horsepower`) mit einem geeigneten Diagramm **und** einer geeigneten Kennzahl."
   ]
  },
  {
   "cell_type": "code",
   "execution_count": null,
   "metadata": {},
   "outputs": [],
   "source": [
    "Auto.plot.scatter('displacement', 'horsepower');"
   ]
  },
  {
   "cell_type": "code",
   "execution_count": null,
   "metadata": {},
   "outputs": [],
   "source": [
    "Auto.displacement.corr(Auto.horsepower).round(3)"
   ]
  },
  {
   "cell_type": "markdown",
   "metadata": {},
   "source": [
    "***\n",
    "#### *Ende der Übung*"
   ]
  }
 ],
 "metadata": {
  "kernelspec": {
   "display_name": "Python 3",
   "language": "python",
   "name": "python3"
  },
  "language_info": {
   "codemirror_mode": {
    "name": "ipython",
    "version": 3
   },
   "file_extension": ".py",
   "mimetype": "text/x-python",
   "name": "python",
   "nbconvert_exporter": "python",
   "pygments_lexer": "ipython3",
   "version": "3.7.0"
  }
 },
 "nbformat": 4,
 "nbformat_minor": 2
}
