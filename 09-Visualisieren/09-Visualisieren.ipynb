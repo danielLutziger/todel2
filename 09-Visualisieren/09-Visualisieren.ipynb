{
 "cells": [
  {
   "cell_type": "markdown",
   "metadata": {},
   "source": [
    "# Kapitel 9: Plotten und Visualisieren\n",
    "\n",
    "McKinney, W. (2017). *Python for Data Analysis: Data Wrangling with Pandas, NumPy, and IPython*. 2. Auflage. Sebastopol, CA [u. a.]: O’Reilly.\n",
    "\n",
    "Überarbeitet: armin.baenziger@zhaw.ch, 2. März 2020\n",
    "\n",
    "- Informative Visualisierungen (Plots) sind eine der wichtigsten Aufgaben in der Datenanalyse. \n",
    "- Es kann ein Teil des explorativen Prozesses sein - zum Beispiel, um Ausreisser oder benötigte Datentransformationen zu identifizieren oder um Ideen für Modelle zu generieren. \n",
    "- In der Regel sollten Sie niemals mit der Erstellung von Modellen beginnen, bevor Sie die Daten visualisiert und die Beziehungen der Variablen studiert haben. \n",
    "- Die Visualisierung ist auch ein leistungsfähiges Werkzeug für die Präsentation von Ergebnissen und zur Ermittlung von Problemquellen für Analysen.\n",
    "- Wir werden in diesem Notebook insbesondere die Möglichkeiten der *Datenvisualisierung mit Pandas* studieren. Das Lehrmittel beschäftigt sich eingehender mit *Matplotlib*, auf welcher die Pandas-Plotfunktionen aufbauen. **Somit unterscheidet sich die Struktur und der Inhalt dieses Notebooks wesentlich vom Lehrmittel.**\n",
    "- Das Kapitel wird mit einigen Exkursen abgeschlossen, insbesondere einem kurzen Einblick in die die Bibliothek *Seaborn*, welche speziell für die statistische Daten-Visualisierung entwickelt wurde."
   ]
  },
  {
   "cell_type": "code",
   "execution_count": null,
   "metadata": {},
   "outputs": [],
   "source": [
    "%autosave 0"
   ]
  },
  {
   "cell_type": "code",
   "execution_count": 2,
   "metadata": {},
   "outputs": [],
   "source": [
    "# Wichtige Bibliotheken mit üblichen Abkürzungen laden:\n",
    "import numpy as np\n",
    "import pandas as pd\n",
    "import matplotlib.pyplot as plt  # Importkonvention für matplotlib.pyplot"
   ]
  },
  {
   "cell_type": "markdown",
   "metadata": {},
   "source": [
    "Hinweis: **`matplotlib.pyplot`** ist eine Sammlung von Funktionen, die Matplotlib wie MATLAB funktionieren lassen."
   ]
  },
  {
   "cell_type": "markdown",
   "metadata": {},
   "source": [
    "- Damit die Plots im Notebook erscheinen, führt man den \"Magic Command\" `%matplotlib inline` aus.\n",
    "- Für *interaktives* Plotten im Jupyter-Notebook ist `%matplotlib notebook` sehr gut geeignet."
   ]
  },
  {
   "cell_type": "code",
   "execution_count": 3,
   "metadata": {},
   "outputs": [],
   "source": [
    "%matplotlib inline"
   ]
  },
  {
   "cell_type": "markdown",
   "metadata": {},
   "source": [
    "## Themen\n",
    "- Wichtige Darstellungsformen\n",
    "- Plot-Ästhetik\n",
    "- Darstellungsmöglichkeiten bei mehr als zwei-dimensionalen Daten"
   ]
  },
  {
   "cell_type": "markdown",
   "metadata": {},
   "source": [
    "## Wichtige Darstellungsformen\n",
    "\n",
    "Häufig verwendete Darstellungsformen sind in Pandas `plot`-Methode implementiert. Insbesondere sind dies:\n",
    "- Liniendiagramm ('line' : line plot (default))\n",
    "- Säulendiagramm ('bar' : vertical bar plot)\n",
    "- Balkendiagramm ('barh' : horizontal bar plot)\n",
    "- Histogramm ('hist' : histogram)\n",
    "- Boxplot ('box' : boxplot)\n",
    "- Kernel-Density-Plot ('kde' oder 'density')\n",
    "- Kreisdiagramm ('pie' : pie plot)\n",
    "- Streudiagramm ('scatter' : scatter plot)"
   ]
  },
  {
   "cell_type": "markdown",
   "metadata": {},
   "source": [
    "### Liniendiagramm (`kind='line'`)\n",
    "Mit dem Liniendiagramm (Zeitreihenplot) werden üblicherweise Entwicklungen von Variablen über die Zeit dargestellt. Betrachten wir die Entwicklung von drei Aktienkursen: Apple, Microsoft und Exxon Mobile."
   ]
  },
  {
   "cell_type": "code",
   "execution_count": 4,
   "metadata": {},
   "outputs": [
    {
     "data": {
      "text/html": [
       "<div>\n",
       "<style scoped>\n",
       "    .dataframe tbody tr th:only-of-type {\n",
       "        vertical-align: middle;\n",
       "    }\n",
       "\n",
       "    .dataframe tbody tr th {\n",
       "        vertical-align: top;\n",
       "    }\n",
       "\n",
       "    .dataframe thead th {\n",
       "        text-align: right;\n",
       "    }\n",
       "</style>\n",
       "<table border=\"1\" class=\"dataframe\">\n",
       "  <thead>\n",
       "    <tr style=\"text-align: right;\">\n",
       "      <th></th>\n",
       "      <th>AAPL</th>\n",
       "      <th>MSFT</th>\n",
       "      <th>XOM</th>\n",
       "    </tr>\n",
       "  </thead>\n",
       "  <tbody>\n",
       "    <tr>\n",
       "      <th>2008-01-02</th>\n",
       "      <td>194.84</td>\n",
       "      <td>32.49</td>\n",
       "      <td>85.75</td>\n",
       "    </tr>\n",
       "    <tr>\n",
       "      <th>2008-01-03</th>\n",
       "      <td>194.93</td>\n",
       "      <td>32.62</td>\n",
       "      <td>86.04</td>\n",
       "    </tr>\n",
       "    <tr>\n",
       "      <th>2008-01-04</th>\n",
       "      <td>180.05</td>\n",
       "      <td>31.71</td>\n",
       "      <td>84.44</td>\n",
       "    </tr>\n",
       "    <tr>\n",
       "      <th>2008-01-07</th>\n",
       "      <td>177.64</td>\n",
       "      <td>31.92</td>\n",
       "      <td>83.65</td>\n",
       "    </tr>\n",
       "    <tr>\n",
       "      <th>2008-01-08</th>\n",
       "      <td>171.25</td>\n",
       "      <td>30.85</td>\n",
       "      <td>82.58</td>\n",
       "    </tr>\n",
       "  </tbody>\n",
       "</table>\n",
       "</div>"
      ],
      "text/plain": [
       "              AAPL   MSFT    XOM\n",
       "2008-01-02  194.84  32.49  85.75\n",
       "2008-01-03  194.93  32.62  86.04\n",
       "2008-01-04  180.05  31.71  84.44\n",
       "2008-01-07  177.64  31.92  83.65\n",
       "2008-01-08  171.25  30.85  82.58"
      ]
     },
     "execution_count": 4,
     "metadata": {},
     "output_type": "execute_result"
    }
   ],
   "source": [
    "Kurse = pd.read_csv('../examples/stock_px_2.csv', index_col=0, parse_dates=True)\n",
    "Kurse = Kurse.loc['2008', 'AAPL':'XOM']\n",
    "Kurse.head()"
   ]
  },
  {
   "cell_type": "markdown",
   "metadata": {},
   "source": [
    "#### Liniendiagramm einer Series:\n",
    "Drei equivalente Möglichkeiten in Pandas:\n",
    "```python\n",
    "Kurse.AAPL.plot(kind='line')\n",
    "Kurse.AAPL.plot.line()\n",
    "Kurse.AAPL.plot()\n",
    "```\n",
    "`kind='line'` ist die Default-Plot-Methode von Pandas."
   ]
  },
  {
   "cell_type": "code",
   "execution_count": 7,
   "metadata": {},
   "outputs": [
    {
     "data": {
      "text/plain": [
       "<AxesSubplot:>"
      ]
     },
     "execution_count": 7,
     "metadata": {},
     "output_type": "execute_result"
    },
    {
     "data": {
      "image/png": "[encoded data removed]",
      "text/plain": [
       "<Figure size 432x288 with 1 Axes>"
      ]
     },
     "metadata": {
      "needs_background": "light"
     },
     "output_type": "display_data"
    }
   ],
   "source": [
    "Kurse.AAPL.hist()"
   ]
  },
  {
   "cell_type": "code",
   "execution_count": 8,
   "metadata": {},
   "outputs": [],
   "source": [
    "Kurse2 = Kurse.copy()"
   ]
  },
  {
   "cell_type": "code",
   "execution_count": 19,
   "metadata": {},
   "outputs": [],
   "source": [
    "Kurse2.columns = ['ABC', 'GE', 'JNJ']"
   ]
  },
  {
   "cell_type": "code",
   "execution_count": 20,
   "metadata": {},
   "outputs": [
    {
     "data": {
      "text/html": [
       "<div>\n",
       "<style scoped>\n",
       "    .dataframe tbody tr th:only-of-type {\n",
       "        vertical-align: middle;\n",
       "    }\n",
       "\n",
       "    .dataframe tbody tr th {\n",
       "        vertical-align: top;\n",
       "    }\n",
       "\n",
       "    .dataframe thead th {\n",
       "        text-align: right;\n",
       "    }\n",
       "</style>\n",
       "<table border=\"1\" class=\"dataframe\">\n",
       "  <thead>\n",
       "    <tr style=\"text-align: right;\">\n",
       "      <th></th>\n",
       "      <th>ABC</th>\n",
       "      <th>GE</th>\n",
       "      <th>JNJ</th>\n",
       "    </tr>\n",
       "  </thead>\n",
       "  <tbody>\n",
       "    <tr>\n",
       "      <th>2008-01-02</th>\n",
       "      <td>194.84</td>\n",
       "      <td>32.49</td>\n",
       "      <td>85.75</td>\n",
       "    </tr>\n",
       "    <tr>\n",
       "      <th>2008-01-03</th>\n",
       "      <td>194.93</td>\n",
       "      <td>32.62</td>\n",
       "      <td>86.04</td>\n",
       "    </tr>\n",
       "    <tr>\n",
       "      <th>2008-01-04</th>\n",
       "      <td>180.05</td>\n",
       "      <td>31.71</td>\n",
       "      <td>84.44</td>\n",
       "    </tr>\n",
       "    <tr>\n",
       "      <th>2008-01-07</th>\n",
       "      <td>177.64</td>\n",
       "      <td>31.92</td>\n",
       "      <td>83.65</td>\n",
       "    </tr>\n",
       "    <tr>\n",
       "      <th>2008-01-08</th>\n",
       "      <td>171.25</td>\n",
       "      <td>30.85</td>\n",
       "      <td>82.58</td>\n",
       "    </tr>\n",
       "    <tr>\n",
       "      <th>...</th>\n",
       "      <td>...</td>\n",
       "      <td>...</td>\n",
       "      <td>...</td>\n",
       "    </tr>\n",
       "    <tr>\n",
       "      <th>2008-12-24</th>\n",
       "      <td>85.04</td>\n",
       "      <td>18.01</td>\n",
       "      <td>70.87</td>\n",
       "    </tr>\n",
       "    <tr>\n",
       "      <th>2008-12-26</th>\n",
       "      <td>85.81</td>\n",
       "      <td>17.97</td>\n",
       "      <td>72.18</td>\n",
       "    </tr>\n",
       "    <tr>\n",
       "      <th>2008-12-29</th>\n",
       "      <td>86.61</td>\n",
       "      <td>17.81</td>\n",
       "      <td>72.96</td>\n",
       "    </tr>\n",
       "    <tr>\n",
       "      <th>2008-12-30</th>\n",
       "      <td>86.29</td>\n",
       "      <td>18.17</td>\n",
       "      <td>73.49</td>\n",
       "    </tr>\n",
       "    <tr>\n",
       "      <th>2008-12-31</th>\n",
       "      <td>85.35</td>\n",
       "      <td>18.26</td>\n",
       "      <td>74.65</td>\n",
       "    </tr>\n",
       "  </tbody>\n",
       "</table>\n",
       "<p>253 rows × 3 columns</p>\n",
       "</div>"
      ],
      "text/plain": [
       "               ABC     GE    JNJ\n",
       "2008-01-02  194.84  32.49  85.75\n",
       "2008-01-03  194.93  32.62  86.04\n",
       "2008-01-04  180.05  31.71  84.44\n",
       "2008-01-07  177.64  31.92  83.65\n",
       "2008-01-08  171.25  30.85  82.58\n",
       "...            ...    ...    ...\n",
       "2008-12-24   85.04  18.01  70.87\n",
       "2008-12-26   85.81  17.97  72.18\n",
       "2008-12-29   86.61  17.81  72.96\n",
       "2008-12-30   86.29  18.17  73.49\n",
       "2008-12-31   85.35  18.26  74.65\n",
       "\n",
       "[253 rows x 3 columns]"
      ]
     },
     "execution_count": 20,
     "metadata": {},
     "output_type": "execute_result"
    }
   ],
   "source": [
    "Kurse2"
   ]
  },
  {
   "cell_type": "code",
   "execution_count": 25,
   "metadata": {},
   "outputs": [
    {
     "data": {
      "text/html": [
       "<div>\n",
       "<style scoped>\n",
       "    .dataframe tbody tr th:only-of-type {\n",
       "        vertical-align: middle;\n",
       "    }\n",
       "\n",
       "    .dataframe tbody tr th {\n",
       "        vertical-align: top;\n",
       "    }\n",
       "\n",
       "    .dataframe thead th {\n",
       "        text-align: right;\n",
       "    }\n",
       "</style>\n",
       "<table border=\"1\" class=\"dataframe\">\n",
       "  <thead>\n",
       "    <tr style=\"text-align: right;\">\n",
       "      <th></th>\n",
       "      <th>AAPL</th>\n",
       "      <th>MSFT</th>\n",
       "      <th>XOM</th>\n",
       "      <th>ABC</th>\n",
       "      <th>GE</th>\n",
       "      <th>JNJ</th>\n",
       "    </tr>\n",
       "  </thead>\n",
       "  <tbody>\n",
       "    <tr>\n",
       "      <th>2008-01-02</th>\n",
       "      <td>194.84</td>\n",
       "      <td>32.49</td>\n",
       "      <td>85.75</td>\n",
       "      <td>194.84</td>\n",
       "      <td>32.49</td>\n",
       "      <td>85.75</td>\n",
       "    </tr>\n",
       "    <tr>\n",
       "      <th>2008-01-03</th>\n",
       "      <td>194.93</td>\n",
       "      <td>32.62</td>\n",
       "      <td>86.04</td>\n",
       "      <td>194.93</td>\n",
       "      <td>32.62</td>\n",
       "      <td>86.04</td>\n",
       "    </tr>\n",
       "    <tr>\n",
       "      <th>2008-01-04</th>\n",
       "      <td>180.05</td>\n",
       "      <td>31.71</td>\n",
       "      <td>84.44</td>\n",
       "      <td>180.05</td>\n",
       "      <td>31.71</td>\n",
       "      <td>84.44</td>\n",
       "    </tr>\n",
       "    <tr>\n",
       "      <th>2008-01-07</th>\n",
       "      <td>177.64</td>\n",
       "      <td>31.92</td>\n",
       "      <td>83.65</td>\n",
       "      <td>177.64</td>\n",
       "      <td>31.92</td>\n",
       "      <td>83.65</td>\n",
       "    </tr>\n",
       "    <tr>\n",
       "      <th>2008-01-08</th>\n",
       "      <td>171.25</td>\n",
       "      <td>30.85</td>\n",
       "      <td>82.58</td>\n",
       "      <td>171.25</td>\n",
       "      <td>30.85</td>\n",
       "      <td>82.58</td>\n",
       "    </tr>\n",
       "    <tr>\n",
       "      <th>...</th>\n",
       "      <td>...</td>\n",
       "      <td>...</td>\n",
       "      <td>...</td>\n",
       "      <td>...</td>\n",
       "      <td>...</td>\n",
       "      <td>...</td>\n",
       "    </tr>\n",
       "    <tr>\n",
       "      <th>2008-12-24</th>\n",
       "      <td>85.04</td>\n",
       "      <td>18.01</td>\n",
       "      <td>70.87</td>\n",
       "      <td>85.04</td>\n",
       "      <td>18.01</td>\n",
       "      <td>70.87</td>\n",
       "    </tr>\n",
       "    <tr>\n",
       "      <th>2008-12-26</th>\n",
       "      <td>85.81</td>\n",
       "      <td>17.97</td>\n",
       "      <td>72.18</td>\n",
       "      <td>85.81</td>\n",
       "      <td>17.97</td>\n",
       "      <td>72.18</td>\n",
       "    </tr>\n",
       "    <tr>\n",
       "      <th>2008-12-29</th>\n",
       "      <td>86.61</td>\n",
       "      <td>17.81</td>\n",
       "      <td>72.96</td>\n",
       "      <td>86.61</td>\n",
       "      <td>17.81</td>\n",
       "      <td>72.96</td>\n",
       "    </tr>\n",
       "    <tr>\n",
       "      <th>2008-12-30</th>\n",
       "      <td>86.29</td>\n",
       "      <td>18.17</td>\n",
       "      <td>73.49</td>\n",
       "      <td>86.29</td>\n",
       "      <td>18.17</td>\n",
       "      <td>73.49</td>\n",
       "    </tr>\n",
       "    <tr>\n",
       "      <th>2008-12-31</th>\n",
       "      <td>85.35</td>\n",
       "      <td>18.26</td>\n",
       "      <td>74.65</td>\n",
       "      <td>85.35</td>\n",
       "      <td>18.26</td>\n",
       "      <td>74.65</td>\n",
       "    </tr>\n",
       "  </tbody>\n",
       "</table>\n",
       "<p>253 rows × 6 columns</p>\n",
       "</div>"
      ],
      "text/plain": [
       "              AAPL   MSFT    XOM     ABC     GE    JNJ\n",
       "2008-01-02  194.84  32.49  85.75  194.84  32.49  85.75\n",
       "2008-01-03  194.93  32.62  86.04  194.93  32.62  86.04\n",
       "2008-01-04  180.05  31.71  84.44  180.05  31.71  84.44\n",
       "2008-01-07  177.64  31.92  83.65  177.64  31.92  83.65\n",
       "2008-01-08  171.25  30.85  82.58  171.25  30.85  82.58\n",
       "...            ...    ...    ...     ...    ...    ...\n",
       "2008-12-24   85.04  18.01  70.87   85.04  18.01  70.87\n",
       "2008-12-26   85.81  17.97  72.18   85.81  17.97  72.18\n",
       "2008-12-29   86.61  17.81  72.96   86.61  17.81  72.96\n",
       "2008-12-30   86.29  18.17  73.49   86.29  18.17  73.49\n",
       "2008-12-31   85.35  18.26  74.65   85.35  18.26  74.65\n",
       "\n",
       "[253 rows x 6 columns]"
      ]
     },
     "execution_count": 25,
     "metadata": {},
     "output_type": "execute_result"
    }
   ],
   "source": [
    "x = pd.concat([Kurse, Kurse2], axis=1)\n",
    "x"
   ]
  },
  {
   "cell_type": "code",
   "execution_count": 27,
   "metadata": {},
   "outputs": [],
   "source": [
    "x['APLc'] = x.AAPL.pct_change()"
   ]
  },
  {
   "cell_type": "code",
   "execution_count": 30,
   "metadata": {},
   "outputs": [
    {
     "name": "stderr",
     "output_type": "stream",
     "text": [
      "C:\\Users\\danie\\AppData\\Local\\Temp/ipykernel_24640/304612952.py:1: FutureWarning: Indexing a DataFrame with a datetimelike index using a single string to slice the rows, like `frame[string]`, is deprecated and will be removed in a future version. Use `frame.loc[string]` instead.\n",
      "  x[x.APLc < 0]['2008'].AAPL\n"
     ]
    },
    {
     "data": {
      "text/plain": [
       "2008-01-04    180.05\n",
       "2008-01-07    177.64\n",
       "2008-01-08    171.25\n",
       "2008-01-10    178.02\n",
       "2008-01-11    172.69\n",
       "               ...  \n",
       "2008-12-17     89.16\n",
       "2008-12-22     85.74\n",
       "2008-12-24     85.04\n",
       "2008-12-30     86.29\n",
       "2008-12-31     85.35\n",
       "Name: AAPL, Length: 128, dtype: float64"
      ]
     },
     "execution_count": 30,
     "metadata": {},
     "output_type": "execute_result"
    }
   ],
   "source": [
    "x[x.APLc < 0]['2008'].AAPL"
   ]
  },
  {
   "cell_type": "code",
   "execution_count": 32,
   "metadata": {},
   "outputs": [
    {
     "data": {
      "text/plain": [
       "0.9900825518840752"
      ]
     },
     "execution_count": 32,
     "metadata": {},
     "output_type": "execute_result"
    }
   ],
   "source": [
    "x.AAPL.autocorr()"
   ]
  },
  {
   "cell_type": "markdown",
   "metadata": {},
   "source": [
    "Einige Argumente der `plot`-Methode:"
   ]
  },
  {
   "cell_type": "code",
   "execution_count": null,
   "metadata": {},
   "outputs": [],
   "source": [
    "Kurse.AAPL.plot(figsize=(8,5), \n",
    "    title='Kursentwicklung von Apple (AAPL)',   # Titel\n",
    "    grid=True,       # Gitternetz\n",
    "    ylim=[0, 225],   # y-Achsengrenzwerte (von 0 bis 225)\n",
    "    style='r--',     # rote (r) gestrichelte (--) Linie\n",
    "    rot=50)          # x-Achsenbeschriftung um 50 Grad rottiert"
   ]
  },
  {
   "cell_type": "markdown",
   "metadata": {},
   "source": [
    "#### Liniendiagramm mehrerer Series:\n",
    "Es ist auch möglich, ein DataFrame der Plot-Funktion zu übergeben:"
   ]
  },
  {
   "cell_type": "code",
   "execution_count": null,
   "metadata": {},
   "outputs": [],
   "source": [
    "Kurse.plot()"
   ]
  },
  {
   "cell_type": "code",
   "execution_count": null,
   "metadata": {},
   "outputs": [],
   "source": [
    "# Oder separate Plots:\n",
    "Kurse.plot(figsize=(5, 6), grid=True, subplots=True);\n",
    "# Der Strichpunkt verhindert, dass unnötige Informationen\n",
    "# ausgegeben werden. Probieren Sie es aus! Alternativ kann \n",
    "# man plt.show() auf der folgenden Zeile verwenden."
   ]
  },
  {
   "cell_type": "code",
   "execution_count": null,
   "metadata": {},
   "outputs": [],
   "source": [
    "# Oder umbasiert für besseren Vergleich (alle starten bei 100):\n",
    "(Kurse/Kurse.iloc[0]*100).plot(rot=50);"
   ]
  },
  {
   "cell_type": "markdown",
   "metadata": {},
   "source": [
    "**Kontrollfragen:**"
   ]
  },
  {
   "cell_type": "code",
   "execution_count": null,
   "metadata": {},
   "outputs": [],
   "source": [
    "# Gegeben: Kursdaten von 2008 \n",
    "Kurse.tail()"
   ]
  },
  {
   "cell_type": "code",
   "execution_count": null,
   "metadata": {},
   "outputs": [],
   "source": [
    "# Aufgabe 1: Stellen Sie die Kursentwicklung von Microsoft (MSFT) \n",
    "# im Jahre 2008 mit einem Liniendiagramm dar.\n"
   ]
  },
  {
   "cell_type": "code",
   "execution_count": null,
   "metadata": {},
   "outputs": [],
   "source": [
    "# Aufgabe 2 (anspruchsvoller): Stellen Sie die Kursentwicklung \n",
    "# von Microsoft (MSFT) und Apple (AAPL) im Jahre 2008 mit einem \n",
    "# Liniendiagramm dar. Normieren Sie dabei beide Anfangskure auf 1.\n"
   ]
  },
  {
   "cell_type": "markdown",
   "metadata": {},
   "source": [
    "### Säulen- und Balkendiagramm (`kind='bar'` bzw. `kind='barh'`)\n",
    "- Säulendiagramme (oder Balkendiagramme) werden verwendet, um die absolute oder relative Häufigkeit eindeutiger Werte einer *kategorialen* Variablen (oder einer metrischen mit wenigen Ausprägungen) aufzuzeigen. Die Höhe der Säulen (Länge der Balken) stellt die Häufigkeit für jede eindeutige Kategorie der Variablen dar.\n",
    "- Üblicherweise muss man die Häufigkeiten zuerst ermitteln. Hierzu dient die Pandas-Methode `value_counts`.\n",
    "- Zur Veranschaulichung verwenden wir den Datensatz \"Titanic\" (im csv-Format) im Ordner \"weitere_Daten\". Informationen zum Datensatz finden Sie unter: https://cran.r-project.org/web/packages/PASWR/PASWR.pdf"
   ]
  },
  {
   "cell_type": "code",
   "execution_count": null,
   "metadata": {},
   "outputs": [],
   "source": [
    "# Für neuere Pandas-Versionen:\n",
    "Titanic = pd.concat([pd.read_csv('../weitere_Daten/titanic_train.csv'), \n",
    "                     pd.read_csv('../weitere_Daten/titanic_test.csv')], \n",
    "                    sort=True)\n",
    "# Für ältere Pandas-Versionen: ohne sort=True\n",
    "Titanic.sort_values('Name', inplace=True)\n",
    "Titanic.reset_index(inplace=True)\n",
    "Titanic.head()"
   ]
  },
  {
   "cell_type": "code",
   "execution_count": null,
   "metadata": {},
   "outputs": [],
   "source": [
    "# Häufigkeitsverteilung der Passagier-Klasse\n",
    "Tabelle = Titanic.Pclass.value_counts()  \n",
    "Tabelle\n",
    "# In der 3. Klasse gab es 709 Passagiere usw. "
   ]
  },
  {
   "cell_type": "code",
   "execution_count": null,
   "metadata": {},
   "outputs": [],
   "source": [
    "# Die Sortierung nach dem Index ist hier sinnvoller:\n",
    "Tabelle.sort_index(inplace=True)\n",
    "Tabelle.index.name = 'Passagierklasse'\n",
    "Tabelle"
   ]
  },
  {
   "cell_type": "markdown",
   "metadata": {},
   "source": [
    "#### Zwei equivalente Möglichkeiten in Pandas, Säulendiagramme darzustellen:\n",
    "```python\n",
    "tab.plot(kind='bar')\n",
    "tab.plot.bar()\n",
    "```\n"
   ]
  },
  {
   "cell_type": "code",
   "execution_count": null,
   "metadata": {},
   "outputs": [],
   "source": [
    "Tabelle.plot.bar(rot=0,\n",
    "        title='Verteilung nach Passagierklasse');"
   ]
  },
  {
   "cell_type": "markdown",
   "metadata": {},
   "source": [
    "Die $x$-Achsenbeschriftung wird automatisch vom Indextitel übernommen (`Tabelle.index.name`). Alternativ können beide Achsen wie folgt neu beschriftet werden:"
   ]
  },
  {
   "cell_type": "code",
   "execution_count": null,
   "metadata": {},
   "outputs": [],
   "source": [
    "Tabelle.plot.bar(rot=0,\n",
    "        title='Verteilung nach Passagierklasse')\n",
    "plt.xlabel('Klasse')\n",
    "plt.ylabel('Anzahl Passagiere');"
   ]
  },
  {
   "cell_type": "markdown",
   "metadata": {},
   "source": [
    "Statt Säulendiagramme (`bar`) können auch Balkendiagramme (`barh`) erstellt werden."
   ]
  },
  {
   "cell_type": "code",
   "execution_count": null,
   "metadata": {},
   "outputs": [],
   "source": [
    "Tabelle.plot.barh(title=\n",
    "      'Verteilung nach Passagier-Klasse')\n",
    "plt.xlabel('Anzahl Passagiere');"
   ]
  },
  {
   "cell_type": "markdown",
   "metadata": {},
   "source": [
    "#### Gruppiertes Säulendiagramm"
   ]
  },
  {
   "cell_type": "markdown",
   "metadata": {},
   "source": [
    "Ausgangspunkt eins gruppierten oder gestapelten Säulendiagramms ist eine Kreuztabelle (Kontingenztafel)."
   ]
  },
  {
   "cell_type": "code",
   "execution_count": null,
   "metadata": {},
   "outputs": [],
   "source": [
    "# Die Funktion crosstab() wird in Kap. 10 besprochen!\n",
    "Tabelle2 = pd.crosstab(index=Titanic.Pclass, \n",
    "                       columns=Titanic.Survived)\n",
    "Tabelle2"
   ]
  },
  {
   "cell_type": "code",
   "execution_count": null,
   "metadata": {},
   "outputs": [],
   "source": [
    "# Im Folgenden passen wir die Überschriften an:\n",
    "Tabelle2.index.name = 'Passagierklasse'\n",
    "Tabelle2.rename(columns={0: 'nein', 1: 'ja'}, inplace=True)\n",
    "Tabelle2.columns.name = 'überlebt'\n",
    "Tabelle2"
   ]
  },
  {
   "cell_type": "markdown",
   "metadata": {},
   "source": [
    "Aus der Kreuztabelle kann nun sehr einfach ein gruppiertes Säulendiagramm erstellt werden."
   ]
  },
  {
   "cell_type": "code",
   "execution_count": null,
   "metadata": {},
   "outputs": [],
   "source": [
    "Tabelle2.plot.bar(rot=0, title=('Untergang der Titanic'));"
   ]
  },
  {
   "cell_type": "markdown",
   "metadata": {},
   "source": [
    "Wir erkennen, dass es deutlich mehr Passagiere in der 3. Klasse gab wie in der 1. oder 2. Insbesondere erkennen wir auch, dass in der 3. Klasse ein geringerer Teil der Passagiere überlebt hat.  \n",
    "\n",
    "Wir können"
   ]
  },
  {
   "cell_type": "code",
   "execution_count": null,
   "metadata": {},
   "outputs": [],
   "source": [
    "Tabelle2.T.plot.bar(rot=0);    # Transponieren mit .T"
   ]
  },
  {
   "cell_type": "markdown",
   "metadata": {},
   "source": [
    "#### Gestapeltes Säulendiagramm\n",
    "Alternativ können wir die Kreuztabelle auch mit einem gestapelten Säulendiagramm darstellen. Hierzu verwenden wir das Argument `stacked=True`."
   ]
  },
  {
   "cell_type": "code",
   "execution_count": null,
   "metadata": {},
   "outputs": [],
   "source": [
    "Tabelle2.plot.bar(rot=0, stacked=True);"
   ]
  },
  {
   "cell_type": "markdown",
   "metadata": {},
   "source": [
    "In dieser Darstellung sieht man die insgesamte Anzahl Passagiere nach Klasse und die *Anteile* der Passagiere, die überlebt haben, deutlicher."
   ]
  },
  {
   "cell_type": "markdown",
   "metadata": {},
   "source": [
    "**Kontrollfrage**"
   ]
  },
  {
   "cell_type": "code",
   "execution_count": null,
   "metadata": {},
   "outputs": [],
   "source": [
    "# Gegeben: Holding Period Returns 2008\n",
    "HPR = Kurse.iloc[-1]/Kurse.iloc[0] - 1\n",
    "HPR = HPR * 100   # in Prozent\n",
    "HPR"
   ]
  },
  {
   "cell_type": "code",
   "execution_count": null,
   "metadata": {},
   "outputs": [],
   "source": [
    "# Stellen Sie die Holding Period Returns der \n",
    "# drei Aktien in einem Säulendiagramm dar.\n"
   ]
  },
  {
   "cell_type": "markdown",
   "metadata": {},
   "source": [
    "## Histogramme (`kind='hist'`)\n",
    "- Histogramme stellen die Verteilung *metrischer* Variablen dar, welche stetig (oder diskret mit sehr vielen Ausprägungen) sind, so dass man sinnvollerweise *Klassen* bildet. \n",
    "- Während ein Balkendiagramm die Häufigkeit eindeutiger Kategorien anzeigt, zeigt ein Histogramm die Anzahl der Ausprägungen innerhalb einer Klasse (Bin).\n",
    "- Zur Veranschaulichung verwenden wir den Datensatz \"auto.csv\" im Ordner \"weitere_Daten\". Informationen zum Datensatz finden Sie unter https://vincentarelbundock.github.io/Rdatasets/doc/ISLR/Auto.html."
   ]
  },
  {
   "cell_type": "code",
   "execution_count": null,
   "metadata": {
    "scrolled": true
   },
   "outputs": [],
   "source": [
    "Auto = pd.read_csv('../weitere_Daten/auto.csv', sep=';')\n",
    "Auto.head()"
   ]
  },
  {
   "cell_type": "markdown",
   "metadata": {},
   "source": [
    "Die Variable `origin` zeigt, aus welcher Region das Auto stammt. Die Variable ist kategorisch und wird im folgenden korrekt codiert:"
   ]
  },
  {
   "cell_type": "code",
   "execution_count": null,
   "metadata": {},
   "outputs": [],
   "source": [
    "mapping = {1: 'USA', 2: 'Europa', 3: 'Japan'}\n",
    "Auto['origin'] = Auto.origin.replace(mapping).astype('category')\n",
    "Auto.head()"
   ]
  },
  {
   "cell_type": "markdown",
   "metadata": {},
   "source": [
    "Betrachten wir zuerst einige deskriptive Statistiken zum DataFrame. Die ersten sieben Variablen sind metrisch und die letzten zwei nominalskaliert. "
   ]
  },
  {
   "cell_type": "code",
   "execution_count": null,
   "metadata": {
    "scrolled": true
   },
   "outputs": [],
   "source": [
    "Auto.iloc[:, :7].describe()"
   ]
  },
  {
   "cell_type": "code",
   "execution_count": null,
   "metadata": {},
   "outputs": [],
   "source": [
    "Auto.iloc[:, -2:].describe()"
   ]
  },
  {
   "cell_type": "markdown",
   "metadata": {},
   "source": [
    "Wir erstellen nun ein Histogramm der Spalte `mpg`."
   ]
  },
  {
   "cell_type": "code",
   "execution_count": null,
   "metadata": {},
   "outputs": [],
   "source": [
    "Auto.mpg.plot.hist(title='Kraftstoffeffizienz')\n",
    "plt.xlabel('Meilen pro Gallone')  # eigene Beschriftung der x-Achse\n",
    "plt.ylabel('Häufigkeit');         # eigene Beschriftung der y-Achse"
   ]
  },
  {
   "cell_type": "markdown",
   "metadata": {},
   "source": [
    "Das Histogramm zeigt, dass die Verteilung rechtsschief ist. Viele Autos im Datensatz haben einen relativ hohen Verbrauch (also wenige Meilen pro Gallone). Daneben gibt es einige wenige sehr effiziente Autos."
   ]
  },
  {
   "cell_type": "markdown",
   "metadata": {},
   "source": [
    "---\n",
    "***Exkurs:***\n",
    "\n",
    "Mit Kernel-Density-Plots kann man mehrere Verteilungen besser in einem Diagramm darstellen, da Histogramme sich gegenseitig überdecken. Beachten Sie, dass wir bei mehr als einem Plot pro Abbildung die Plots auf eine gemeinsame Achse (hier `ax` genannt) binden müssen."
   ]
  },
  {
   "cell_type": "code",
   "execution_count": null,
   "metadata": {},
   "outputs": [],
   "source": [
    "ax = Auto[Auto.origin=='USA'].mpg.plot.density(title='Kraftstoffeffizienz', \n",
    "                                               label='US-Autos')\n",
    "ax = Auto[Auto.origin!='USA'].mpg.plot.density(label='nicht US-Autos')\n",
    "ax.set_xlabel('Meilen pro Gallone')\n",
    "ax.set_ylabel('Dichte')\n",
    "ax.legend();   # Damit erhalten wir eine Legende."
   ]
  },
  {
   "cell_type": "markdown",
   "metadata": {},
   "source": [
    "Die Darstellung belegt, dass US-Autos im Durchschnitt weniger Energie-effizient sind als europäische und japanische Autos."
   ]
  },
  {
   "cell_type": "markdown",
   "metadata": {},
   "source": [
    "**Ende des Exkurses**\n",
    "***"
   ]
  },
  {
   "cell_type": "markdown",
   "metadata": {},
   "source": [
    "**Kontrollfragen:**"
   ]
  },
  {
   "cell_type": "code",
   "execution_count": null,
   "metadata": {},
   "outputs": [],
   "source": [
    "# Gegeben:\n",
    "Tagesrenditen = Kurse.pct_change().dropna()\n",
    "Tagesrenditen.head()"
   ]
  },
  {
   "cell_type": "code",
   "execution_count": null,
   "metadata": {},
   "outputs": [],
   "source": [
    "# Aufgabe 1: Erstellen Sie Histogramme der Tagesrenditen der drei Aktien.\n"
   ]
  },
  {
   "cell_type": "code",
   "execution_count": null,
   "metadata": {},
   "outputs": [],
   "source": [
    "# Aufgabe 2: Was bewirken die Argumente der Methode \"hist\" in der folgenden Zeile?\n",
    "Tagesrenditen.hist(figsize=(8,10), sharex=True, layout=(3,1))\n",
    "plt.xlabel('Tagesrenditen 2008');\n",
    "# figsize=(8,10): Antwort\n",
    "# sharex=True:    Antwort\n",
    "# layout=(3,1):   Antwort"
   ]
  },
  {
   "cell_type": "markdown",
   "metadata": {},
   "source": [
    "## Boxplots\n",
    "- Boxplots, auch Box- und Wisker-Plots genannt, sind eine weitere Möglichkeit, die Verteilung von Datenwerten zu visualisieren. In dieser Hinsicht sind Boxplots mit Histogrammen vergleichbar, unterscheiden sich jedoch in der Darstellung stark.\n",
    "- Die mittleren 50% der Datenwerte sind in der Box enthalten. Der Medianwert wird mit einem Balken innerhalb der Box angezeigt. Der grösste Teil der Daten liegt zwischen den Enden der \"Fühler\" (Wiskers). Ausreisser werden durch Symbole jenseits der Fühler angezeigt.\n",
    "- Ein Boxplot ist somit eine graphische Darstellung der \"Five-Number Summary\" (Minimum, 1. Quartil, Median, 3. Quartil, Maximum).\n",
    "- Boxplots eignen sich, **mehrere Verteilungen in einem Diagramm einander gegenüberzustellen**. \n",
    "- Bei *gruppierten Boxplots* werden meist Boxplots pro Ausprägung einer kategorialen Variable im Datensatz dargestellt. **Auf diese Weise können zwei Dimensionen des Datensatzes veranschaulicht werden.**"
   ]
  },
  {
   "cell_type": "code",
   "execution_count": null,
   "metadata": {
    "scrolled": false
   },
   "outputs": [],
   "source": [
    "Auto.boxplot(column='mpg');  # oder: Auto.mpg.plot(kind='box')"
   ]
  },
  {
   "cell_type": "markdown",
   "metadata": {},
   "source": [
    "Wie erwähnt ist ein Boxplot eine graphische Darstellung der \"Five-Number Summary\" (siehe nächste Zeile), also vom Minimum (min), dem 1. Quartil (25%), dem Median (50%), dem 3. Quartil (75%) und vom Maximum (max)."
   ]
  },
  {
   "cell_type": "code",
   "execution_count": null,
   "metadata": {},
   "outputs": [],
   "source": [
    "Auto.mpg.describe()"
   ]
  },
  {
   "cell_type": "markdown",
   "metadata": {},
   "source": [
    "#### Gruppierter Boxplot\n",
    "Mit Boxplots können wir sehr kompakt und übersichtlich unterschiedliche Verteilungen vergleichen."
   ]
  },
  {
   "cell_type": "code",
   "execution_count": null,
   "metadata": {
    "scrolled": true
   },
   "outputs": [],
   "source": [
    "Auto.boxplot(column='mpg', by='origin');"
   ]
  },
  {
   "cell_type": "markdown",
   "metadata": {},
   "source": [
    "Bei diesem Diagramm müssen wir noch an der Ästhetik arbeiten. :-)"
   ]
  },
  {
   "cell_type": "code",
   "execution_count": null,
   "metadata": {},
   "outputs": [],
   "source": [
    "Auto.boxplot(column='mpg', by='origin')\n",
    "plt.title('\"Meilen pro Gallone\" nach Herkunft')\n",
    "plt.xlabel('')\n",
    "plt.ylabel('Meilen pro Gallone')\n",
    "plt.suptitle('');"
   ]
  },
  {
   "cell_type": "markdown",
   "metadata": {},
   "source": [
    "Es zeigt sich, dass Autos aus Japan Kraftstoff-effizienter sind als Autos aus Europa und diese wieder effizienter sind als Autos aus den USA. "
   ]
  },
  {
   "cell_type": "markdown",
   "metadata": {},
   "source": [
    "**Kontrollfrage:**"
   ]
  },
  {
   "cell_type": "code",
   "execution_count": null,
   "metadata": {},
   "outputs": [],
   "source": [
    "# Gegeben:\n",
    "Tagesrenditen.head()"
   ]
  },
  {
   "cell_type": "code",
   "execution_count": null,
   "metadata": {},
   "outputs": [],
   "source": [
    "# Aufgabe: Stellen Sie die drei Renditeverteilungen mit Boxplots dar. \n"
   ]
  },
  {
   "cell_type": "markdown",
   "metadata": {},
   "source": [
    "### Streudiagramme\n",
    "Streudiagramme eignen sich, um die *Beziehung* zwischen zwei Datenreihen zu untersuchen."
   ]
  },
  {
   "cell_type": "code",
   "execution_count": null,
   "metadata": {},
   "outputs": [],
   "source": [
    "Auto.plot.scatter('weight', 'acceleration');\n",
    "# weight: Gewicht des Fahrzeugs in Pfund\n",
    "# acceleration: Sekunden bis 60 mph (ca. 97 kmh)"
   ]
  },
  {
   "cell_type": "markdown",
   "metadata": {},
   "source": [
    "Befund: Schwere Autos tendieren eine bessere Beschleunigung zu haben. Überraschend?\n",
    "- Bei der explorativen Datenanalyse ist es hilfreich, alle Streudiagramme einer Gruppe von Variablen betrachten zu können.\n",
    "- So ein Diagramm wird als **Streudiagramm-Matrix (scatter matrix) oder \"Pairs-Plot\"** bezeichnet."
   ]
  },
  {
   "cell_type": "code",
   "execution_count": null,
   "metadata": {},
   "outputs": [],
   "source": [
    "auto = Auto[['weight', 'horsepower', 'acceleration']]\n",
    "pd.plotting.scatter_matrix(auto, figsize=(8,8))\n",
    "plt.show()"
   ]
  },
  {
   "cell_type": "markdown",
   "metadata": {},
   "source": [
    "- Auf der Diagnonalen haben wir die Histogramme der drei Variablen. Die restlichen Diagramme sind Streudiagramme. In der obersten Zeile, zweie Spalte, haben wir beispielsweise den Zusammenhang zwischen `horsepower` und `weight`. \n",
    "- Dieses Streudiagramm verdeutlicht, dass schwere Autos mehr PS haben. Der Zusammenhang ist dabei stark. \n",
    "- Zudem ist der Zusammenhang zwischen PS und Beschleunigung, wie erwartet, negativ (negativ, da Beschleunigung gemessen ist als Anzahl Sek. bis 60mph erreicht ist). \n",
    "- Somit erklärt sich auch, warum grosse Autos (trotz dem hohen Gewicht) tendenziell besser beschleunigen. Sie haben typischerweise mehr PS.\n",
    "- Die Korrelationsmatrix drückt diesen Sachverhalt numerisch aus:"
   ]
  },
  {
   "cell_type": "code",
   "execution_count": null,
   "metadata": {},
   "outputs": [],
   "source": [
    "auto.corr().round(2)   # round(2) für Anzahl Dezimalstellen"
   ]
  },
  {
   "cell_type": "markdown",
   "metadata": {},
   "source": [
    "Die Korrelationen auf der Hauptdiagonalen sind Korrelationen der Variablen mit sich selber und daher 1. Die Korrelation zwischen `horsepower` und `weight` ist 0.86, also hoch, wie das Streudiagramm oben gezeigt hat."
   ]
  },
  {
   "cell_type": "markdown",
   "metadata": {},
   "source": [
    "**Kontrollfrage:**"
   ]
  },
  {
   "cell_type": "code",
   "execution_count": null,
   "metadata": {},
   "outputs": [],
   "source": [
    "# Gegeben:\n",
    "Tagesrenditen.head()"
   ]
  },
  {
   "cell_type": "code",
   "execution_count": null,
   "metadata": {},
   "outputs": [],
   "source": [
    "# Aufgabe 1: Stellen Sie die Tagesrenditen von \n",
    "# Apple und Microsoft in einem Streudiagramm dar.\n"
   ]
  },
  {
   "cell_type": "markdown",
   "metadata": {},
   "source": [
    "***\n",
    "***Abschliessende Exkurse:***\n",
    "## Seaborn\n",
    "- *Pandas* selbst verfügt über viele integrierte Methoden, die das Erstellen von Visualisierungen aus DataFrame- und Series-Objekten vereinfachen, wie wir gesehen haben. \n",
    "- Dabei greift Pandas auf Funktionalitäten der Grafikbibliothek *Matplotlib\" zurück (https://matplotlib.org/). \n",
    "- Eine weitere Bibliothek ist die statistische Grafikbibliothek *Seaborn* (https://seaborn.pydata.org/).\n",
    "- Seaborn vereinfacht die Erstellung vieler gängiger Visualisierungstypen.\n",
    "- Durch das Importieren von Seaborn werden die Standard-Matplotlib-Farbschemata und Plot-Stile geändert, um die Lesbarkeit und Ästhetik zu verbessern. Selbst wenn man die Seaborn-API nicht verwendet, kann Seaborn als einfache Möglichkeit zur Verbesserung der visuellen Ästhetik allgemeiner Matplotlib-Plots geladen werden.\n",
    "- Bei Daten, die eine Aggregation oder Zusammenfassung erfordern, bevor ein Diagramm erstellt wird, kann die Verwendung des Seaborn-Pakets die Arbeit erheblich vereinfachen. "
   ]
  },
  {
   "cell_type": "code",
   "execution_count": null,
   "metadata": {},
   "outputs": [],
   "source": [
    "import seaborn as sns"
   ]
  },
  {
   "cell_type": "markdown",
   "metadata": {},
   "source": [
    "- Mit Seaborn ist es einfach, eine Streudiagramm-Matrix bzw. einen \"Pairs-Plot\" zu erstellen. \n",
    "- Seaborn liefert hierzu die Funktion `pairplot`, die das Platzieren von Histogrammen oder Kernel-Dichte-Funktionen jeder Variablen entlang der Diagonalen unterstützt."
   ]
  },
  {
   "cell_type": "code",
   "execution_count": null,
   "metadata": {},
   "outputs": [],
   "source": [
    "sns.pairplot(auto);"
   ]
  },
  {
   "cell_type": "markdown",
   "metadata": {},
   "source": [
    "#### Höhere Dimensionen\n",
    "Farbe kann verwendet werden, um eine zusätzliche Dimension in einem Streudiagramm anzuzeigen. Eine kategorische Variable kann mit verschiedenen Farben für die verschiedenen Kategorien angezeigt werden.\n",
    "\n",
    "\n",
    "Seaborn hat eine praktische **`hue`-Option** (hue, engl. für Farbton), die es uns ermöglicht, den Plot nach zusätzlichen kategorischen Werten (Faktorausprägungen) aufzusplitten. Beispielhaft wird diese Funktionalität im Folgenden mit einem Streudiagramm gezeigt:"
   ]
  },
  {
   "cell_type": "code",
   "execution_count": null,
   "metadata": {},
   "outputs": [],
   "source": [
    "sns.scatterplot(x = 'weight', y = 'mpg', data = Auto, \n",
    "                hue = 'origin');"
   ]
  },
  {
   "cell_type": "markdown",
   "metadata": {},
   "source": [
    "## Plots in Datei speichern\n",
    "Die aktive Abbildung kann mithilfe von `plt.savefig` in einer Datei gespeichert werden."
   ]
  },
  {
   "cell_type": "markdown",
   "metadata": {},
   "source": [
    "```python \n",
    "plt.savefig('figpath.svg')\n",
    "```"
   ]
  },
  {
   "cell_type": "markdown",
   "metadata": {},
   "source": [
    "- Der Dateityp wird aus der Dateierweiterung abgeleitet (im Beispiel oben eine \"Scalable Vector Graphics\"). \n",
    "- Verwendet man stattdessen .pdf, erhält man ein PDF.\n",
    "- Will man den Plot als PNG mit 400 DPI (\"dots per inch\") speichern unter Weglassung der weissen Leerräume rund um das Bild, dann ginge das mit:"
   ]
  },
  {
   "cell_type": "markdown",
   "metadata": {},
   "source": [
    "```python\n",
    "plt.savefig('figpath.png', dpi=400, bbox_inches='tight')\n",
    "```"
   ]
  },
  {
   "cell_type": "markdown",
   "metadata": {},
   "source": [
    "## Matplotlib-Konfiguration\n",
    "- Matplotlib wird mit Farbschemata und Standardeinstellungen konfiguriert, die hauptsächlich darauf ausgerichtet sind, Abbildungen für die Veröffentlichung vorzubereiten. \n",
    "- Allerdings kann fast das gesamte Standardverhalten über einen umfangreichen Satz globaler Parameter angepasst werden (z.B. die Abbildungsgrösse, den Abstand zwischen Subplots, Farben, Schriftgrössen, Rasterstile).\n",
    "- Eine Möglichkeit, die Konfiguration programmgesteuert von Python aus zu ändern, besteht darin, die Methode `rc` zu verwenden. Möchte man beispielsweise die *globale* Grösse von `figure` (den Default) auf 10×10 festlegen, ginge das wie folgt:"
   ]
  },
  {
   "cell_type": "markdown",
   "metadata": {},
   "source": [
    "```python\n",
    "plt.rc('figure', figsize=(10, 10))\n",
    "```"
   ]
  },
  {
   "cell_type": "markdown",
   "metadata": {},
   "source": [
    "- Das erste Argument für `rc` ist die Komponente, die man anpassen möchte, z. B. \"figure\", \"axes\", \"xtick\", \"ytick\", \"grid\", \"legend\" oder viele andere. \n",
    "- Danach kann eine Folge von Schlüsselwortargumenten folgen, die die neuen Parameter angeben. "
   ]
  },
  {
   "cell_type": "markdown",
   "metadata": {},
   "source": [
    "- Für eine umfassendere Anpassung und um eine Liste aller Optionen zu sehen (inkl. kurzen Erklärungen!) kann die Konfigurationsdatei *matplotlibrc* im Anaconda-Verzeichnis *Lib\\site-packages\\matplotlib\\mpl-data* bearbeitet bzw. eingesehen werden.\n",
    "- Die angepasste Konfigutationsdatei (Kopie) sollte im \"Home-Directory\" im Ordner *.matplotlib* mit gleichem Namen (also *matplotlibrc*) abgelegt werden. "
   ]
  },
  {
   "cell_type": "markdown",
   "metadata": {},
   "source": [
    "***Ende der Exkurse.***\n",
    "***"
   ]
  },
  {
   "cell_type": "markdown",
   "metadata": {},
   "source": [
    "## Fazit\n",
    "- Das Ziel dieses Kapitels war es, eine Einführung in die Grundlagen der Datenvisualisierung zu machen.\n",
    "- Es gibt viele ausgezeichnete Lernressourcen online und in gedruckter Form, um das umfassende Thema zu vertiefen. Beispielsweise:\n",
    "    - https://matplotlib.org/users/pyplot_tutorial.html\n",
    "    - https://seaborn.pydata.org/tutorial.html\n",
    "- Im nächsten Kapitel befassen wir uns mit der Aggregation von Daten und Gruppenoperationen in Pandas."
   ]
  }
 ],
 "metadata": {
  "kernelspec": {
   "display_name": "Python 3 (ipykernel)",
   "language": "python",
   "name": "python3"
  },
  "language_info": {
   "codemirror_mode": {
    "name": "ipython",
    "version": 3
   },
   "file_extension": ".py",
   "mimetype": "text/x-python",
   "name": "python",
   "nbconvert_exporter": "python",
   "pygments_lexer": "ipython3",
   "version": "3.9.7"
  }
 },
 "nbformat": 4,
 "nbformat_minor": 1
}
