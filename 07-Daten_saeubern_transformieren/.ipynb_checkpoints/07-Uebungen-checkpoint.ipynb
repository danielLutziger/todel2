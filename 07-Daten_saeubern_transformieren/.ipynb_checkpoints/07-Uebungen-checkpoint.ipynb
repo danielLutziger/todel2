{
 "cells": [
  {
   "cell_type": "markdown",
   "metadata": {},
   "source": [
    "## Übungen zum Kapitel 7\n",
    "### Datenaufbereitung - Säubern und Transformieren\n",
    "Erstellt und überarbeitet: armin.baenziger@zhaw.ch, 21. Februar 2020\n",
    "***"
   ]
  },
  {
   "cell_type": "code",
   "execution_count": null,
   "metadata": {},
   "outputs": [],
   "source": [
    "%autosave 0"
   ]
  },
  {
   "cell_type": "markdown",
   "metadata": {},
   "source": [
    "***"
   ]
  },
  {
   "cell_type": "markdown",
   "metadata": {},
   "source": [
    "**(A.1)** Laden Sie NumPy und Pandas mit der üblichen Abkürzung."
   ]
  },
  {
   "cell_type": "code",
   "execution_count": null,
   "metadata": {},
   "outputs": [],
   "source": []
  },
  {
   "cell_type": "markdown",
   "metadata": {},
   "source": [
    "**(A.2)** Laden Sie die Daten der Pickle-Datei `dflohn.pkl` mit `pd.read_pickle` in das DataFrame `dflohn` und lesen Sie die ersten 5 Zeilen aus. Die Datei befindet sich im Ordner \"weitere_Daten\"."
   ]
  },
  {
   "cell_type": "code",
   "execution_count": null,
   "metadata": {},
   "outputs": [],
   "source": [
    "dflohn = "
   ]
  },
  {
   "cell_type": "markdown",
   "metadata": {},
   "source": [
    "**(A.3)** Ermitteln Sie, wie viele `NaN` es gibt pro Spalte/Variable. Tipp: Die Methode `isnull()` gibt `True` zurück, falls `NaN` und ansonsten `False`. Die Methode `sum()` summiert `True` (1) und `False`(0) auf."
   ]
  },
  {
   "cell_type": "code",
   "execution_count": null,
   "metadata": {},
   "outputs": [],
   "source": []
  },
  {
   "cell_type": "markdown",
   "metadata": {},
   "source": [
    "**(A.4)** Ermitteln Sie, *welchen Anteil* an `NaN` es gibt pro Spalte/Variable. Tipp: Der Mittelwert aus den `False`- und `True`-Werten ergibt den gewünschten Anteilswert."
   ]
  },
  {
   "cell_type": "code",
   "execution_count": null,
   "metadata": {},
   "outputs": [],
   "source": []
  },
  {
   "cell_type": "markdown",
   "metadata": {},
   "source": [
    "**(A.5)** Lesen Sie die ersten 5 Zeilen aus `dflohn` aus, welche *keinen* Fehlwert haben. Tipp: Methode `dropna` und danach Methode `head`."
   ]
  },
  {
   "cell_type": "code",
   "execution_count": null,
   "metadata": {},
   "outputs": [],
   "source": []
  },
  {
   "cell_type": "markdown",
   "metadata": {},
   "source": [
    "**(A.6)** Lesen Sie die ersten 5 Zeilen aus `dflohn` aus, wobei Fehlwerte mit dem Wert 0 ersetzt werden sollen. Tipp: Methode `fillna`."
   ]
  },
  {
   "cell_type": "code",
   "execution_count": null,
   "metadata": {},
   "outputs": [],
   "source": []
  },
  {
   "cell_type": "markdown",
   "metadata": {},
   "source": [
    "**(A.7)** Lesen Sie die ersten 5 Zeilen aus `dflohn` aus, wobei Fehlwerte mit dem Median (der verfügbaren Werte) in der entsprechenden Spalte ersetzt werden sollen. Tipp: Methode `fillna`."
   ]
  },
  {
   "cell_type": "code",
   "execution_count": null,
   "metadata": {},
   "outputs": [],
   "source": []
  },
  {
   "cell_type": "markdown",
   "metadata": {},
   "source": [
    "**(A.8)** Prüfen Sie, ob es Fälle (Zeilen) gibt, die mehr als einmal vorkommen. Tipp: Methode `duplicated`."
   ]
  },
  {
   "cell_type": "code",
   "execution_count": null,
   "metadata": {},
   "outputs": [],
   "source": []
  },
  {
   "cell_type": "markdown",
   "metadata": {},
   "source": [
    "***"
   ]
  },
  {
   "cell_type": "markdown",
   "metadata": {},
   "source": [
    "**(B.1)** Ermitteln Sie alle unterschiedlichen Ausprägungen des Merkmals (Spalte) `Zivilstand` in `dflohn`. Tipp: Methode `unique()` verwenden oder die Funktion `set()`."
   ]
  },
  {
   "cell_type": "code",
   "execution_count": null,
   "metadata": {},
   "outputs": [],
   "source": []
  },
  {
   "cell_type": "markdown",
   "metadata": {},
   "source": [
    "**(B.2)** Erstellen Sie eine Kopie des DataFrame `dflohn` mit Name `dflohn2`. "
   ]
  },
  {
   "cell_type": "code",
   "execution_count": null,
   "metadata": {},
   "outputs": [],
   "source": []
  },
  {
   "cell_type": "markdown",
   "metadata": {},
   "source": [
    "**(B.3)** Ändern Sie die Ausprägungen von `Zivilstand` *in der Kopie* `dflohn2` wie folgt:\n",
    "- `v` in `verh`\n",
    "- `vw` in `verw`\n",
    "- `l` und `g` bleiben gleich\n",
    "\n",
    "Verwenden Sie hierzu die Methode `replace()` mit einem Dict, welches die Zuordnung enthält."
   ]
  },
  {
   "cell_type": "code",
   "execution_count": null,
   "metadata": {},
   "outputs": [],
   "source": []
  },
  {
   "cell_type": "markdown",
   "metadata": {},
   "source": [
    "**(B.4)** Ändern Sie im DataFrame `dflohn2` (der Kopie!) den Spaltennamen `Lohn` in `Monatslohn`. Tipp: Methode `rename()` mit Argument `columns` verwenden. "
   ]
  },
  {
   "cell_type": "code",
   "execution_count": null,
   "metadata": {},
   "outputs": [],
   "source": []
  },
  {
   "cell_type": "markdown",
   "metadata": {},
   "source": [
    "***"
   ]
  },
  {
   "cell_type": "markdown",
   "metadata": {},
   "source": [
    "Die folgenden Anweisungen teilen das Alter in Altersklassen ein."
   ]
  },
  {
   "cell_type": "code",
   "execution_count": null,
   "metadata": {},
   "outputs": [],
   "source": [
    "klassen = range(15, 66, 10)\n",
    "dflohn['Altersklasse'] = pd.cut(dflohn.Alter, klassen)\n",
    "dflohn.head()"
   ]
  },
  {
   "cell_type": "markdown",
   "metadata": {},
   "source": [
    "**(C.1)** Erstellen Sie eine (absolute) Häufigkeitsverteilung der Variable `Altersklasse`."
   ]
  },
  {
   "cell_type": "code",
   "execution_count": null,
   "metadata": {},
   "outputs": [],
   "source": []
  },
  {
   "cell_type": "markdown",
   "metadata": {},
   "source": [
    "**(C.2)** Sortieren Sie obige Häufigkeitstabelle nach den Altersklassen (bzw. *nicht* nach den Häufigkeiten). Tipp: Argument `sort=False` oder Methode `sort_index`."
   ]
  },
  {
   "cell_type": "code",
   "execution_count": null,
   "metadata": {},
   "outputs": [],
   "source": []
  },
  {
   "cell_type": "markdown",
   "metadata": {},
   "source": [
    "**(C.3)** Erstellen Sie eine *relative* Häufigkeitsverteilung der Variable `Altersklasse`, wobei nach Altersklasse sortiert sein soll. Tipp: Zusätzlich das Argument `normalize=True` verwenden."
   ]
  },
  {
   "cell_type": "code",
   "execution_count": null,
   "metadata": {},
   "outputs": [],
   "source": []
  },
  {
   "cell_type": "markdown",
   "metadata": {},
   "source": [
    "***"
   ]
  },
  {
   "cell_type": "markdown",
   "metadata": {},
   "source": [
    "**(D.1)** Ziehen Sie eine Zufallsstichprobe (ohne Zurücklegen) aus `dflohn`, welche 5% der ursprünglichen Beobachtungen (Zeilen) enthält. Hinweis: `dflohn.sample()` und dann Shift-Tab ausführen."
   ]
  },
  {
   "cell_type": "code",
   "execution_count": null,
   "metadata": {},
   "outputs": [],
   "source": []
  },
  {
   "cell_type": "markdown",
   "metadata": {},
   "source": [
    "**(D.2)** Erstellen Sie die Dummy-Variable `Geschlecht_w` im DataFrame `dflohn`, welche 0 ist, wenn es sich um einen Mann handelt (`m`) und 1, wenn es sich um eine Frau handelt (`w`)."
   ]
  },
  {
   "cell_type": "code",
   "execution_count": null,
   "metadata": {},
   "outputs": [],
   "source": []
  },
  {
   "cell_type": "markdown",
   "metadata": {},
   "source": [
    "***"
   ]
  },
  {
   "cell_type": "markdown",
   "metadata": {},
   "source": [
    "Bevor wir mit den Stringmanipulationen beginnen, erzeugen wir einen Beispiel-String:"
   ]
  },
  {
   "cell_type": "code",
   "execution_count": null,
   "metadata": {},
   "outputs": [],
   "source": [
    "zeichenkette = 'peter_vogt@test.com, m.mueller@test.com, banz(at)zhaw.ch'"
   ]
  },
  {
   "cell_type": "markdown",
   "metadata": {},
   "source": [
    "**(E.1)** Wie viele `test.com`-Email-Adressen sind im String `zeichenkette` enthalten? Tipp: Methode `count()` verwenden."
   ]
  },
  {
   "cell_type": "code",
   "execution_count": null,
   "metadata": {},
   "outputs": [],
   "source": []
  },
  {
   "cell_type": "markdown",
   "metadata": {},
   "source": [
    "**(E.2)** Erzeugen Sie die *Liste* `emails` mit den Email-Adressen aus dem String `zeichenkette`. Verwenden Sie hierzu die Methode `split`."
   ]
  },
  {
   "cell_type": "code",
   "execution_count": null,
   "metadata": {},
   "outputs": [],
   "source": []
  },
  {
   "cell_type": "markdown",
   "metadata": {},
   "source": [
    "**(E.3)** Prüfen Sie, ob m.mueller@test.com in der Liste `emails` vorhanden ist."
   ]
  },
  {
   "cell_type": "code",
   "execution_count": null,
   "metadata": {},
   "outputs": [],
   "source": []
  },
  {
   "cell_type": "markdown",
   "metadata": {},
   "source": [
    "**(E.4)** Transformieren Sie die Liste `emails` in die Series `emails`."
   ]
  },
  {
   "cell_type": "code",
   "execution_count": null,
   "metadata": {},
   "outputs": [],
   "source": []
  },
  {
   "cell_type": "markdown",
   "metadata": {},
   "source": [
    "**(E.5)** Alle `(at)` in der Series `emails` sollen mit `@` ersetzt werden. Studieren Sie hierzu folgende Anweisung: "
   ]
  },
  {
   "cell_type": "code",
   "execution_count": null,
   "metadata": {},
   "outputs": [],
   "source": [
    "emails.str.replace('\\(at\\)', '@')  \n",
    "# \\ ist der \"Escape-Character\". \n",
    "# Er bewirkt, dass \"(\" und \")\" als Strings aufgefasst werden."
   ]
  },
  {
   "cell_type": "markdown",
   "metadata": {},
   "source": [
    "**(E.6)** Wie viele Email-Adressen in der Series `emails` enden mit \".ch\"? Tipp: Methode `str.endswith()` verwenden. "
   ]
  },
  {
   "cell_type": "code",
   "execution_count": null,
   "metadata": {},
   "outputs": [],
   "source": []
  },
  {
   "cell_type": "markdown",
   "metadata": {},
   "source": [
    "***\n",
    "#### *Ende der Übung*"
   ]
  }
 ],
 "metadata": {
  "kernelspec": {
   "display_name": "Python 3 (ipykernel)",
   "language": "python",
   "name": "python3"
  },
  "language_info": {
   "codemirror_mode": {
    "name": "ipython",
    "version": 3
   },
   "file_extension": ".py",
   "mimetype": "text/x-python",
   "name": "python",
   "nbconvert_exporter": "python",
   "pygments_lexer": "ipython3",
   "version": "3.9.7"
  }
 },
 "nbformat": 4,
 "nbformat_minor": 2
}
