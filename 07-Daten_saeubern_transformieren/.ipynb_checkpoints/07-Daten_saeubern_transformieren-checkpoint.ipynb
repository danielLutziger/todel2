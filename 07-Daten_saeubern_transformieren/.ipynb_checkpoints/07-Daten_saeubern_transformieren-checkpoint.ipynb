{
 "cells": [
  {
   "cell_type": "markdown",
   "metadata": {},
   "source": [
    "# Kapitel 7: Datenaufbereitung - Säubern und Transformieren\n",
    "\n",
    "McKinney, W. (2017). *Python for Data Analysis: Data Wrangling with Pandas, NumPy, and IPython*. 2. Auflage. Sebastopol, CA [u. a.]: O’Reilly.\n",
    "\n",
    "Überarbeitet: armin.baenziger@zhaw.ch, 30. Juli 2021\n",
    "\n",
    "- Bei der Datenanalyse macht das Aufbereiten der Daten oft einen erheblichen Teil des Zeitaufwands aus.\n",
    "- In diesem Kapitel behandlen wir Werkzeuge für fehlende Werte, doppelte Werte, String-Manipulationen und einige andere analytische Datentransformationen. \n",
    "- Im nächsten Kapitel konzentrieren wir uns darauf, Datensätze auf verschiedene Arten zu kombinieren und neu anzuordnen."
   ]
  },
  {
   "cell_type": "code",
   "execution_count": null,
   "metadata": {},
   "outputs": [],
   "source": [
    "%autosave 0"
   ]
  },
  {
   "cell_type": "code",
   "execution_count": 1,
   "metadata": {},
   "outputs": [],
   "source": [
    "# Wichtige Bibliotheken mit üblichen Abkürzungen laden:\n",
    "import numpy as np\n",
    "import pandas as pd"
   ]
  },
  {
   "cell_type": "markdown",
   "metadata": {},
   "source": [
    "## Behandlung fehlender Daten\n",
    "- Fehlende Werte treten häufig in Datensätzen auf. \n",
    "- Eines der Ziele von Pandas ist es, das Arbeiten mit Fehlwerten so einfach wie möglich zu gestalten. \n",
    "- *Zum Beispiel schliessen alle deskriptiven Statistiken zu Pandas-Objekten standardmässig fehlende Werte aus.*"
   ]
  },
  {
   "cell_type": "code",
   "execution_count": null,
   "metadata": {},
   "outputs": [],
   "source": [
    "# Series mit Fehlwert generieren:\n",
    "ser = pd.Series([1.4e6, 2.5e6, np.nan, -1.3e5])\n",
    "ser"
   ]
  },
  {
   "cell_type": "code",
   "execution_count": null,
   "metadata": {},
   "outputs": [],
   "source": [
    "# Welche Werte sind NaN?\n",
    "ser.isnull()"
   ]
  },
  {
   "cell_type": "code",
   "execution_count": null,
   "metadata": {},
   "outputs": [],
   "source": [
    "ser.sum()  \n",
    "# Fehlwerte werden ausgeschlossen. sum() funktioniert."
   ]
  },
  {
   "cell_type": "markdown",
   "metadata": {},
   "source": [
    "### Fehlwerte filtern\n",
    "Wie können wir Fehlwerte filtern?\n",
    "- Erste Möglichkeit:"
   ]
  },
  {
   "cell_type": "code",
   "execution_count": null,
   "metadata": {},
   "outputs": [],
   "source": [
    "# Nur Werte wählen, für die Elemente in ser nicht NaN sind:\n",
    "ser[ser.notnull()]"
   ]
  },
  {
   "cell_type": "markdown",
   "metadata": {},
   "source": [
    "- Zweite Möglichkeit: Methode `dropna()` verwenden"
   ]
  },
  {
   "cell_type": "code",
   "execution_count": null,
   "metadata": {},
   "outputs": [],
   "source": [
    "ser.dropna()    # einfachere Variante"
   ]
  },
  {
   "cell_type": "markdown",
   "metadata": {},
   "source": [
    "- Mit DataFrame-Objekten sind die Dinge etwas komplexer. \n",
    "- Möglicherweise möchten man Zeilen oder Spalten löschen, bei denen mindestens ein NA auftritt oder nur diejenigen, bei denen alle Felder NAs enthalten. \n",
    "- `dropna` löscht standardmässig jede Zeile, die *mindestens einen* fehlenden Wert enthält:"
   ]
  },
  {
   "cell_type": "code",
   "execution_count": null,
   "metadata": {},
   "outputs": [],
   "source": [
    "# Pythons None ist auch NaN:\n",
    "df = pd.DataFrame({'A': [1.0, 2.1, None, None], \n",
    "                   'B': [6.5, None, None, 3.2],\n",
    "                   'C': [8.7, None, None, 0.5]})\n",
    "df"
   ]
  },
  {
   "cell_type": "code",
   "execution_count": null,
   "metadata": {},
   "outputs": [],
   "source": [
    "df.dropna(how='any')  # Wenn mind. ein Wert in einer Zeile NaN ist, \n",
    "                      # wird sie weggelassen."
   ]
  },
  {
   "cell_type": "code",
   "execution_count": null,
   "metadata": {},
   "outputs": [],
   "source": [
    "df.dropna()  # 'any' ist der Default und kann somit weggelassen werden."
   ]
  },
  {
   "cell_type": "code",
   "execution_count": null,
   "metadata": {},
   "outputs": [],
   "source": [
    "df.dropna(how='all') # Nur Zeilen weglassen, bei denen alle Werte NaN sind."
   ]
  },
  {
   "cell_type": "markdown",
   "metadata": {},
   "source": [
    "**Kontrollfragen:**"
   ]
  },
  {
   "cell_type": "code",
   "execution_count": null,
   "metadata": {},
   "outputs": [],
   "source": [
    "# Gegeben:\n",
    "df"
   ]
  },
  {
   "cell_type": "code",
   "execution_count": null,
   "metadata": {},
   "outputs": [],
   "source": [
    "# Frage 1: Was ist der Output?\n",
    "df.A.isnull().sum()"
   ]
  },
  {
   "cell_type": "code",
   "execution_count": null,
   "metadata": {},
   "outputs": [],
   "source": [
    "# Frage 2: Was ist der Output?\n",
    "df.B.dropna()"
   ]
  },
  {
   "cell_type": "markdown",
   "metadata": {},
   "source": [
    "### Fehlende Daten mit Füllwerten besetzen"
   ]
  },
  {
   "cell_type": "code",
   "execution_count": null,
   "metadata": {},
   "outputs": [],
   "source": [
    "# Ausgangslage:\n",
    "df"
   ]
  },
  {
   "cell_type": "code",
   "execution_count": null,
   "metadata": {},
   "outputs": [],
   "source": [
    "df.sum()   # Fehlwerte werden nicht berücksichtigt."
   ]
  },
  {
   "cell_type": "code",
   "execution_count": null,
   "metadata": {},
   "outputs": [],
   "source": [
    "df.cumsum()    # kumulierte Summen"
   ]
  },
  {
   "cell_type": "code",
   "execution_count": null,
   "metadata": {},
   "outputs": [],
   "source": [
    "df.fillna(0) # Fehlwerte durch 0 ersetzen"
   ]
  },
  {
   "cell_type": "code",
   "execution_count": null,
   "metadata": {},
   "outputs": [],
   "source": [
    "df.fillna(0).cumsum()  \n",
    "# Vergleichen mit df.cumsum() oben!"
   ]
  },
  {
   "cell_type": "markdown",
   "metadata": {},
   "source": [
    "`fillna` gibt ein *neues* Objekt zurück, aber man kann das vorhandene Objekt auch direkt bzw. permanent verändern:  \n",
    "Dazu müsste man `fillna(0, inplace=True)` schreiben."
   ]
  },
  {
   "cell_type": "markdown",
   "metadata": {},
   "source": [
    "Fehlwerte können auch mit berechneten Grössen ersetzt werden:"
   ]
  },
  {
   "cell_type": "code",
   "execution_count": null,
   "metadata": {},
   "outputs": [],
   "source": [
    "df.fillna(df.median())  # NaN mit Median füllen."
   ]
  },
  {
   "cell_type": "markdown",
   "metadata": {},
   "source": [
    "Wiederum müsste man das Argument `inplace=True` verwenden, um das Objekt *permanent* zu verändern."
   ]
  },
  {
   "cell_type": "markdown",
   "metadata": {},
   "source": [
    "**Kontrollfragen:**"
   ]
  },
  {
   "cell_type": "code",
   "execution_count": null,
   "metadata": {},
   "outputs": [],
   "source": [
    "# Gegeben:\n",
    "np.random.seed(37)\n",
    "daten = np.random.choice([1, 2, np.nan], (4, 3))\n",
    "df = pd.DataFrame(daten, columns=list('XYZ'),\n",
    "                         index=list('abcd'))\n",
    "df"
   ]
  },
  {
   "cell_type": "code",
   "execution_count": null,
   "metadata": {},
   "outputs": [],
   "source": [
    "# Frage 1: Was ist der Output?\n",
    "df.dropna()"
   ]
  },
  {
   "cell_type": "code",
   "execution_count": null,
   "metadata": {},
   "outputs": [],
   "source": [
    "# Frage 2: Was ist der Output?\n",
    "df.dropna(how='all')"
   ]
  },
  {
   "cell_type": "code",
   "execution_count": null,
   "metadata": {},
   "outputs": [],
   "source": [
    "# Frage 3: Was ist der Output?\n",
    "df.sum()"
   ]
  },
  {
   "cell_type": "code",
   "execution_count": null,
   "metadata": {},
   "outputs": [],
   "source": [
    "# Frage 4: Was ist der Output?\n",
    "df.fillna(df.median()).sum()"
   ]
  },
  {
   "cell_type": "markdown",
   "metadata": {},
   "source": [
    "Statt Fälle (Zeilen), kann man auch Variablen (Spalten) weglassen, die NaN enthalten. Im folgenden Beispiel werden Spalten (`axis=1`) weggelassen, welche mindestens 3 (`thresh=3`) *nicht*-NaN-Werte enthalten."
   ]
  },
  {
   "cell_type": "code",
   "execution_count": null,
   "metadata": {},
   "outputs": [],
   "source": [
    "df.dropna(thresh=3, axis=1)"
   ]
  },
  {
   "cell_type": "markdown",
   "metadata": {},
   "source": [
    "**Kontrollfragen:**"
   ]
  },
  {
   "cell_type": "code",
   "execution_count": null,
   "metadata": {},
   "outputs": [],
   "source": [
    "# Gegeben:\n",
    "df.loc['b', 'Y'] = 2\n",
    "df"
   ]
  },
  {
   "cell_type": "code",
   "execution_count": null,
   "metadata": {},
   "outputs": [],
   "source": [
    "# Frage 1: Was ist der Output?\n",
    "df.dropna(axis=1)"
   ]
  },
  {
   "cell_type": "code",
   "execution_count": null,
   "metadata": {},
   "outputs": [],
   "source": [
    "# Frage 2: Was ist der Output?\n",
    "df.dropna()"
   ]
  },
  {
   "cell_type": "markdown",
   "metadata": {},
   "source": [
    "## Daten-Transformation"
   ]
  },
  {
   "cell_type": "markdown",
   "metadata": {},
   "source": [
    "### Entfernen von Duplikaten \n",
    "Doppelte Zeilen können aus verschiedenen Gründen in einem Dataframe gefunden werden.  \n",
    "Der folgende Datensatz ist ein Beispiel:"
   ]
  },
  {
   "cell_type": "code",
   "execution_count": null,
   "metadata": {},
   "outputs": [],
   "source": [
    "df2 = pd.DataFrame({'Vorname' : ['Anna', 'Anna', 'Ken', 'Anna', 'Peter'],\n",
    "                    'Nachname': ['Aboli', 'Meier', 'Smith', 'Meier', 'Muster']})\n",
    "df2"
   ]
  },
  {
   "cell_type": "markdown",
   "metadata": {},
   "source": [
    "Beachten Sie, dass lediglich die Zeilen mit Index 1 und 3 identisch sind (`Vorname` und `Nachname` sind gleich)."
   ]
  },
  {
   "cell_type": "code",
   "execution_count": null,
   "metadata": {},
   "outputs": [],
   "source": [
    "df2.duplicated()  \n",
    "# Genau eine Zeile ist zweimal vorhanden!"
   ]
  },
  {
   "cell_type": "code",
   "execution_count": null,
   "metadata": {},
   "outputs": [],
   "source": [
    "df2.drop_duplicates()  # Duplikate löschen, mit inplace=True dauerhaft"
   ]
  },
  {
   "cell_type": "markdown",
   "metadata": {},
   "source": [
    "Man kann auch nur in einer Teilmenge der Spalten Duplikate aufspüren:"
   ]
  },
  {
   "cell_type": "code",
   "execution_count": null,
   "metadata": {},
   "outputs": [],
   "source": [
    "df2.drop_duplicates(['Vorname'])  # Nur noch die erste \"Anna\""
   ]
  },
  {
   "cell_type": "markdown",
   "metadata": {},
   "source": [
    "### Ersetzen von Werten\n",
    "- Das Ausfüllen fehlender Daten mit der `fillna`-Methode ist ein Sonderfall eines allgemeineren Ersatzwerts. \n",
    "- Die Methode `map` kann verwendet werden, um eine Teilmenge von Werten in einem Objekt zu ändern (siehe Lehrmittel). \n",
    "- `replace` bietet eine *einfachere und flexiblere Möglichkeit*, dies zu tun. \n",
    "- Betrachten wir hierzu eine Series:"
   ]
  },
  {
   "cell_type": "code",
   "execution_count": null,
   "metadata": {},
   "outputs": [],
   "source": [
    "ser = pd.Series([1., -99., 2., -99., -999., 3.])\n",
    "ser"
   ]
  },
  {
   "cell_type": "code",
   "execution_count": null,
   "metadata": {},
   "outputs": [],
   "source": [
    "ser.replace(-99, np.nan)    # -99 mit NaN ersetzen"
   ]
  },
  {
   "cell_type": "code",
   "execution_count": null,
   "metadata": {},
   "outputs": [],
   "source": [
    "ser.replace([-99, -999], np.nan)   # -99 und -999 mit NaN ersetzen"
   ]
  },
  {
   "cell_type": "code",
   "execution_count": null,
   "metadata": {},
   "outputs": [],
   "source": [
    "ser.replace([-99, -999], [np.nan, 0])  # -99 mit NaN und -999 mit 0 ersetzen."
   ]
  },
  {
   "cell_type": "code",
   "execution_count": null,
   "metadata": {},
   "outputs": [],
   "source": [
    "# Statt mit Listen mit Dicts (noch etwas übersichtlicher):\n",
    "ser.replace({-99: np.nan, -999: 0})   "
   ]
  },
  {
   "cell_type": "code",
   "execution_count": null,
   "metadata": {},
   "outputs": [],
   "source": [
    "# Nun ein Beispiel mit einem DataFrame:\n",
    "ratings = pd.DataFrame({'Fitch': ['A', 'AA+', 'A', 'A-'],\n",
    "                        'S&P': ['A-', 'AA+', 'A', 'BBB+'],\n",
    "                        'Moody\\'s': ['A2', 'Aa2', 'A3', 'Baa1'],\n",
    "                        'Rendite': [3.5, 3, 3.3, 4.1]},\n",
    "                        index=['a', 'b', 'c', 'd'])\n",
    "ratings.index.name = 'Asset'\n",
    "ratings.columns.name = 'Rating Agentur'\n",
    "ratings"
   ]
  },
  {
   "cell_type": "code",
   "execution_count": null,
   "metadata": {},
   "outputs": [],
   "source": [
    "ratings.replace('A', 'A-')   # Achtung, in allen Spalten verändert."
   ]
  },
  {
   "cell_type": "code",
   "execution_count": null,
   "metadata": {},
   "outputs": [],
   "source": [
    "# Ersetze bei Fitch A mit A+ (permanent):\n",
    "ratings['Fitch'].replace('A', 'A+', inplace=True)  \n",
    "ratings"
   ]
  },
  {
   "cell_type": "markdown",
   "metadata": {},
   "source": [
    "**Kontrollfrage:**"
   ]
  },
  {
   "cell_type": "code",
   "execution_count": null,
   "metadata": {},
   "outputs": [],
   "source": [
    "# Gegeben:\n",
    "staedte = pd.Series(['Basel', 'Chur', 'Zug'])\n",
    "staedte"
   ]
  },
  {
   "cell_type": "code",
   "execution_count": null,
   "metadata": {},
   "outputs": [],
   "source": [
    "# Frage: Was ist der Output?\n",
    "staedte.replace({'Basel': 'Biel', 'Zug': 'Zürich'})"
   ]
  },
  {
   "cell_type": "markdown",
   "metadata": {},
   "source": [
    "### Achsenindex umbenennen\n",
    "Wie Werte in einer Serie können Achsenbeschriftungen (Labels) in ähnlicher Weise durch eine Funktion/Mapping transformiert werden, um neue, unterschiedlich markierte Objekte zu erzeugen."
   ]
  },
  {
   "cell_type": "code",
   "execution_count": null,
   "metadata": {},
   "outputs": [],
   "source": [
    "# Beispieldaten:\n",
    "ratings"
   ]
  },
  {
   "cell_type": "markdown",
   "metadata": {},
   "source": [
    "#### Die `rename`-Methode"
   ]
  },
  {
   "cell_type": "code",
   "execution_count": null,
   "metadata": {},
   "outputs": [],
   "source": [
    "# Variablennamen mit Grossbuchstaben:\n",
    "ratings.rename(columns=str.upper)\n",
    "# nur mit inplace=True permanent!"
   ]
  },
  {
   "cell_type": "code",
   "execution_count": null,
   "metadata": {},
   "outputs": [],
   "source": [
    "# Indexnamen ändern:\n",
    "ratings.rename(index={'a': 'Wells 5.95 01.12.86', \n",
    "                      'b': 'Austria 1.5 02.11.86'})\n",
    "# nur mit inplace=True permanent!"
   ]
  },
  {
   "cell_type": "code",
   "execution_count": null,
   "metadata": {},
   "outputs": [],
   "source": [
    "# Variablennamen ändern:\n",
    "ratings.rename(columns={'S&P': 'Standard & Poor'})"
   ]
  },
  {
   "cell_type": "markdown",
   "metadata": {},
   "source": [
    "***Kontrollfrage:***"
   ]
  },
  {
   "cell_type": "code",
   "execution_count": null,
   "metadata": {},
   "outputs": [],
   "source": [
    "# Ändern Sie den Indexnamen \"c\" im DataFrame \"ratings\" in \n",
    "# \"Italy 4.75 28.05.63\".\n"
   ]
  },
  {
   "cell_type": "markdown",
   "metadata": {},
   "source": [
    "### Diskretisierung und Klassierung\n",
    "Kontinuierliche Daten werden oft diskretisiert oder auf andere Weise in \"Bins\" (Klassen) zur Analyse getrennt. Angenommen, Sie haben Daten über eine Gruppe von Personen in einer Studie und möchten diese in diskrete Altersgruppen gruppieren:"
   ]
  },
  {
   "cell_type": "code",
   "execution_count": null,
   "metadata": {},
   "outputs": [],
   "source": [
    "alter = [20, 22, 25, 27, 21, 23, 37, 31, 61, 45, 41, 32]"
   ]
  },
  {
   "cell_type": "code",
   "execution_count": null,
   "metadata": {},
   "outputs": [],
   "source": [
    "klassen = [18, 25, 35, 60, 100]\n",
    "alter_klassiert = pd.cut(alter, klassen)\n",
    "alter_klassiert\n",
    "# Erster Wert (20) in Klasse (18, 25], zweiter Wert (22) in (18, 25] usw."
   ]
  },
  {
   "cell_type": "code",
   "execution_count": null,
   "metadata": {},
   "outputs": [],
   "source": [
    "# Klassierte Häufigkeitsverteilung:\n",
    "alter_klassiert.value_counts()    "
   ]
  },
  {
   "cell_type": "markdown",
   "metadata": {},
   "source": [
    "Es ist möglich, die Klassen zu benennen:"
   ]
  },
  {
   "cell_type": "code",
   "execution_count": null,
   "metadata": {},
   "outputs": [],
   "source": [
    "alter_klassiert = pd.cut(alter, klassen, \n",
    "                       labels = ['Jugentliche', 'junge Erwarchsene', \n",
    "                                 'mittleres Lebensalter', 'Senioren'])\n",
    "alter_klassiert.value_counts()"
   ]
  },
  {
   "cell_type": "markdown",
   "metadata": {},
   "source": [
    "**Exkurs:** Die eng verwandte Funktion `qcut` teilt die Werte anhand von Quantilen ein."
   ]
  },
  {
   "cell_type": "code",
   "execution_count": null,
   "metadata": {},
   "outputs": [],
   "source": [
    "alters_gruppen = pd.qcut(alter, 4)  # in Quartile einteilen\n",
    "alters_gruppen.value_counts()"
   ]
  },
  {
   "cell_type": "markdown",
   "metadata": {},
   "source": [
    "**Kontrollfrage:**"
   ]
  },
  {
   "cell_type": "code",
   "execution_count": null,
   "metadata": {},
   "outputs": [],
   "source": [
    "# Gegeben:\n",
    "np.random.seed(3)\n",
    "x = np.random.randint(1,11,10)\n",
    "sorted(x)"
   ]
  },
  {
   "cell_type": "code",
   "execution_count": null,
   "metadata": {},
   "outputs": [],
   "source": [
    "# Was ist der Output?\n",
    "klassiert = pd.cut(x, [0, 5, 7, 10])\n",
    "klassiert.value_counts()"
   ]
  },
  {
   "cell_type": "markdown",
   "metadata": {},
   "source": [
    "### Aussergewöhnliche Werte erkennen und filtern"
   ]
  },
  {
   "cell_type": "code",
   "execution_count": null,
   "metadata": {},
   "outputs": [],
   "source": [
    "# Beispieldaten:\n",
    "np.random.seed(242)\n",
    "n = 1000 # Anzahl Zeilen\n",
    "data = pd.DataFrame({'V1': np.random.randn(n),\n",
    "                     'V2': np.random.randint(0,2,n)})\n",
    "data.head()"
   ]
  },
  {
   "cell_type": "code",
   "execution_count": null,
   "metadata": {},
   "outputs": [],
   "source": [
    "data.describe()   # Deskriptive Statistiken"
   ]
  },
  {
   "cell_type": "code",
   "execution_count": null,
   "metadata": {},
   "outputs": [],
   "source": [
    "# Zeilen, wo Beträge in Spalte V1 grösser als 3 sind:\n",
    "data[np.abs(data.V1) > 3]"
   ]
  },
  {
   "cell_type": "markdown",
   "metadata": {},
   "source": [
    "### Zufallsauswahlen\n",
    "Zufallsauswahlen sind in verschiedenen Anwendungen wichtig. Z. B. teilt man im maschinellen Lernen die Daten zufällig in ein Trainigs- und Test-Set auf. Oder man nutzt Zufallsauswahlen bei Monte-Carlo-Simulationen."
   ]
  },
  {
   "cell_type": "code",
   "execution_count": null,
   "metadata": {},
   "outputs": [],
   "source": [
    "ser = pd.Series(range(6))+1\n",
    "ser   # z. B. Würfelaugen"
   ]
  },
  {
   "cell_type": "markdown",
   "metadata": {},
   "source": [
    "Um eine zufällige Teilmenge (mit und ohne Zurücklegen) auszuwählen, kann die `sample`-Methode für Series und DataFrames verwendet werden:"
   ]
  },
  {
   "cell_type": "code",
   "execution_count": null,
   "metadata": {},
   "outputs": [],
   "source": [
    "# Bei Series:\n",
    "np.random.seed(11)\n",
    "ser.sample(n=5, replace=True)    # mit Zurücklegen"
   ]
  },
  {
   "cell_type": "code",
   "execution_count": null,
   "metadata": {},
   "outputs": [],
   "source": [
    "# Man kann den Seed auch direkt der Methode sample übergeben:\n",
    "ser.sample(n=5, replace=True, random_state=11)"
   ]
  },
  {
   "cell_type": "code",
   "execution_count": null,
   "metadata": {},
   "outputs": [],
   "source": [
    "# Bei 6000 Würfen liegen je etwa 1000 Ausprägungen vor:\n",
    "ser.sample(n=6000, replace=True).value_counts(sort=False)"
   ]
  },
  {
   "cell_type": "markdown",
   "metadata": {},
   "source": [
    "Bei DataFrames weden ganze Zeilen zufällig gezogen."
   ]
  },
  {
   "cell_type": "code",
   "execution_count": null,
   "metadata": {},
   "outputs": [],
   "source": [
    "# Zur Erinnerung:\n",
    "ratings"
   ]
  },
  {
   "cell_type": "code",
   "execution_count": null,
   "metadata": {},
   "outputs": [],
   "source": [
    "# Ziehen ohne Zurücklegen:\n",
    "np.random.seed(1221)\n",
    "ratings.sample(n=2, replace=False)  \n",
    "# replace = False ist der Default und kann weggelassen werden."
   ]
  },
  {
   "cell_type": "code",
   "execution_count": null,
   "metadata": {},
   "outputs": [],
   "source": [
    "# Ziehen mit Zurücklegen:\n",
    "np.random.seed(331)\n",
    "ratings.sample(n=4, replace=True)  # Ziehen mit Zurücklegen"
   ]
  },
  {
   "cell_type": "code",
   "execution_count": null,
   "metadata": {
    "scrolled": true
   },
   "outputs": [],
   "source": [
    "# Nicht Anzahl sondern Anteil, welcher gesampelt wird (hier 50%):\n",
    "np.random.seed(7)\n",
    "ratings.sample(frac=0.5)   # 50% der Daten ziehen (ohne Zurücklegen)"
   ]
  },
  {
   "cell_type": "markdown",
   "metadata": {},
   "source": [
    "Manchmal möchte man den Datensatz zufällig aufteilen. Z. B. möchte man für die Modellfindung (beim maschinellen Lernen) ein Trainings- und ein Testset erstellen. Eine mögliche Lösung wäre die folgende:"
   ]
  },
  {
   "cell_type": "code",
   "execution_count": null,
   "metadata": {},
   "outputs": [],
   "source": [
    "np.random.seed(55)\n",
    "train = ratings.sample(frac=0.75)\n",
    "train"
   ]
  },
  {
   "cell_type": "code",
   "execution_count": null,
   "metadata": {},
   "outputs": [],
   "source": [
    "test = ratings.drop(train.index)\n",
    "test"
   ]
  },
  {
   "cell_type": "markdown",
   "metadata": {},
   "source": [
    "Randbemerkung: Da diese Aufteilung der Daten so häufig gebraucht wird, gibt es hierzu Funktionen, z. B. in der Bibliothek **scikit-learn**, welche für das maschinelle Lernen entwickelt wurde (`sklearn.model_selection.train_test_split()`)."
   ]
  },
  {
   "cell_type": "markdown",
   "metadata": {},
   "source": [
    "### Indikator- bzw. Dummy-Variablen erstellen\n",
    "Eine andere Art der Transformation für statistische Modellierungs- oder maschinelle Lernanwendungen besteht darin, eine kategoriale Variable in eine **Indikator-** bzw. **Dummy-Matrix** umzuwandeln, um solche Variablen beispielsweise in Regressionen verwenden zu können."
   ]
  },
  {
   "cell_type": "code",
   "execution_count": 2,
   "metadata": {},
   "outputs": [
    {
     "data": {
      "text/html": [
       "<div>\n",
       "<style scoped>\n",
       "    .dataframe tbody tr th:only-of-type {\n",
       "        vertical-align: middle;\n",
       "    }\n",
       "\n",
       "    .dataframe tbody tr th {\n",
       "        vertical-align: top;\n",
       "    }\n",
       "\n",
       "    .dataframe thead th {\n",
       "        text-align: right;\n",
       "    }\n",
       "</style>\n",
       "<table border=\"1\" class=\"dataframe\">\n",
       "  <thead>\n",
       "    <tr style=\"text-align: right;\">\n",
       "      <th></th>\n",
       "      <th>Lohn</th>\n",
       "      <th>Geschlecht</th>\n",
       "      <th>Alter</th>\n",
       "      <th>Zivilstand</th>\n",
       "    </tr>\n",
       "    <tr>\n",
       "      <th>Person</th>\n",
       "      <th></th>\n",
       "      <th></th>\n",
       "      <th></th>\n",
       "      <th></th>\n",
       "    </tr>\n",
       "  </thead>\n",
       "  <tbody>\n",
       "    <tr>\n",
       "      <th>1</th>\n",
       "      <td>4107.0</td>\n",
       "      <td>m</td>\n",
       "      <td>40</td>\n",
       "      <td>g</td>\n",
       "    </tr>\n",
       "    <tr>\n",
       "      <th>2</th>\n",
       "      <td>5454.0</td>\n",
       "      <td>m</td>\n",
       "      <td>47</td>\n",
       "      <td>vw</td>\n",
       "    </tr>\n",
       "    <tr>\n",
       "      <th>3</th>\n",
       "      <td>3719.0</td>\n",
       "      <td>m</td>\n",
       "      <td>41</td>\n",
       "      <td>g</td>\n",
       "    </tr>\n",
       "    <tr>\n",
       "      <th>4</th>\n",
       "      <td>6194.0</td>\n",
       "      <td>m</td>\n",
       "      <td>18</td>\n",
       "      <td>v</td>\n",
       "    </tr>\n",
       "    <tr>\n",
       "      <th>5</th>\n",
       "      <td>NaN</td>\n",
       "      <td>m</td>\n",
       "      <td>27</td>\n",
       "      <td>v</td>\n",
       "    </tr>\n",
       "  </tbody>\n",
       "</table>\n",
       "</div>"
      ],
      "text/plain": [
       "          Lohn Geschlecht  Alter Zivilstand\n",
       "Person                                     \n",
       "1       4107.0          m     40          g\n",
       "2       5454.0          m     47         vw\n",
       "3       3719.0          m     41          g\n",
       "4       6194.0          m     18          v\n",
       "5          NaN          m     27          v"
      ]
     },
     "execution_count": 2,
     "metadata": {},
     "output_type": "execute_result"
    }
   ],
   "source": [
    "dflohn = pd.read_pickle('../weitere_Daten/dflohn.pkl')  \n",
    "dflohn.head()"
   ]
  },
  {
   "cell_type": "code",
   "execution_count": 3,
   "metadata": {},
   "outputs": [
    {
     "data": {
      "text/html": [
       "<div>\n",
       "<style scoped>\n",
       "    .dataframe tbody tr th:only-of-type {\n",
       "        vertical-align: middle;\n",
       "    }\n",
       "\n",
       "    .dataframe tbody tr th {\n",
       "        vertical-align: top;\n",
       "    }\n",
       "\n",
       "    .dataframe thead th {\n",
       "        text-align: right;\n",
       "    }\n",
       "</style>\n",
       "<table border=\"1\" class=\"dataframe\">\n",
       "  <thead>\n",
       "    <tr style=\"text-align: right;\">\n",
       "      <th></th>\n",
       "      <th>m</th>\n",
       "      <th>w</th>\n",
       "    </tr>\n",
       "    <tr>\n",
       "      <th>Person</th>\n",
       "      <th></th>\n",
       "      <th></th>\n",
       "    </tr>\n",
       "  </thead>\n",
       "  <tbody>\n",
       "    <tr>\n",
       "      <th>96</th>\n",
       "      <td>0</td>\n",
       "      <td>1</td>\n",
       "    </tr>\n",
       "    <tr>\n",
       "      <th>97</th>\n",
       "      <td>1</td>\n",
       "      <td>0</td>\n",
       "    </tr>\n",
       "    <tr>\n",
       "      <th>98</th>\n",
       "      <td>1</td>\n",
       "      <td>0</td>\n",
       "    </tr>\n",
       "    <tr>\n",
       "      <th>99</th>\n",
       "      <td>0</td>\n",
       "      <td>1</td>\n",
       "    </tr>\n",
       "    <tr>\n",
       "      <th>100</th>\n",
       "      <td>1</td>\n",
       "      <td>0</td>\n",
       "    </tr>\n",
       "  </tbody>\n",
       "</table>\n",
       "</div>"
      ],
      "text/plain": [
       "        m  w\n",
       "Person      \n",
       "96      0  1\n",
       "97      1  0\n",
       "98      1  0\n",
       "99      0  1\n",
       "100     1  0"
      ]
     },
     "execution_count": 3,
     "metadata": {},
     "output_type": "execute_result"
    }
   ],
   "source": [
    "pd.get_dummies(dflohn['Geschlecht']).tail()\n",
    "# Dummy-Variable für Mann (m) und Frau (w).\n",
    "# Z. B. ist Person 96 kein Mann (m=0) sondern eine \n",
    "# Frau (w=1). Eigentlich ist nur eine Variable nötig!"
   ]
  },
  {
   "cell_type": "code",
   "execution_count": null,
   "metadata": {},
   "outputs": [],
   "source": [
    "pd.get_dummies(dflohn['Zivilstand']).head()  \n",
    "# Vier Ausprägungen: Für jede Person genau einmal eine 1!"
   ]
  },
  {
   "cell_type": "code",
   "execution_count": 6,
   "metadata": {},
   "outputs": [
    {
     "data": {
      "text/html": [
       "<div>\n",
       "<style scoped>\n",
       "    .dataframe tbody tr th:only-of-type {\n",
       "        vertical-align: middle;\n",
       "    }\n",
       "\n",
       "    .dataframe tbody tr th {\n",
       "        vertical-align: top;\n",
       "    }\n",
       "\n",
       "    .dataframe thead th {\n",
       "        text-align: right;\n",
       "    }\n",
       "</style>\n",
       "<table border=\"1\" class=\"dataframe\">\n",
       "  <thead>\n",
       "    <tr style=\"text-align: right;\">\n",
       "      <th></th>\n",
       "      <th>Lohn</th>\n",
       "      <th>Geschlecht</th>\n",
       "      <th>Alter</th>\n",
       "      <th>Zivilstand</th>\n",
       "    </tr>\n",
       "    <tr>\n",
       "      <th>Person</th>\n",
       "      <th></th>\n",
       "      <th></th>\n",
       "      <th></th>\n",
       "      <th></th>\n",
       "    </tr>\n",
       "  </thead>\n",
       "  <tbody>\n",
       "    <tr>\n",
       "      <th>1</th>\n",
       "      <td>4107.0</td>\n",
       "      <td>Mann</td>\n",
       "      <td>40</td>\n",
       "      <td>g</td>\n",
       "    </tr>\n",
       "    <tr>\n",
       "      <th>2</th>\n",
       "      <td>5454.0</td>\n",
       "      <td>Mann</td>\n",
       "      <td>47</td>\n",
       "      <td>vw</td>\n",
       "    </tr>\n",
       "    <tr>\n",
       "      <th>3</th>\n",
       "      <td>3719.0</td>\n",
       "      <td>Mann</td>\n",
       "      <td>41</td>\n",
       "      <td>g</td>\n",
       "    </tr>\n",
       "    <tr>\n",
       "      <th>4</th>\n",
       "      <td>6194.0</td>\n",
       "      <td>Mann</td>\n",
       "      <td>18</td>\n",
       "      <td>v</td>\n",
       "    </tr>\n",
       "    <tr>\n",
       "      <th>5</th>\n",
       "      <td>NaN</td>\n",
       "      <td>Mann</td>\n",
       "      <td>27</td>\n",
       "      <td>v</td>\n",
       "    </tr>\n",
       "    <tr>\n",
       "      <th>...</th>\n",
       "      <td>...</td>\n",
       "      <td>...</td>\n",
       "      <td>...</td>\n",
       "      <td>...</td>\n",
       "    </tr>\n",
       "    <tr>\n",
       "      <th>96</th>\n",
       "      <td>7959.0</td>\n",
       "      <td>Frau</td>\n",
       "      <td>55</td>\n",
       "      <td>v</td>\n",
       "    </tr>\n",
       "    <tr>\n",
       "      <th>97</th>\n",
       "      <td>2673.0</td>\n",
       "      <td>Mann</td>\n",
       "      <td>18</td>\n",
       "      <td>g</td>\n",
       "    </tr>\n",
       "    <tr>\n",
       "      <th>98</th>\n",
       "      <td>4430.0</td>\n",
       "      <td>Mann</td>\n",
       "      <td>19</td>\n",
       "      <td>v</td>\n",
       "    </tr>\n",
       "    <tr>\n",
       "      <th>99</th>\n",
       "      <td>6366.0</td>\n",
       "      <td>Frau</td>\n",
       "      <td>21</td>\n",
       "      <td>g</td>\n",
       "    </tr>\n",
       "    <tr>\n",
       "      <th>100</th>\n",
       "      <td>6488.0</td>\n",
       "      <td>Mann</td>\n",
       "      <td>24</td>\n",
       "      <td>g</td>\n",
       "    </tr>\n",
       "  </tbody>\n",
       "</table>\n",
       "<p>100 rows × 4 columns</p>\n",
       "</div>"
      ],
      "text/plain": [
       "          Lohn Geschlecht  Alter Zivilstand\n",
       "Person                                     \n",
       "1       4107.0       Mann     40          g\n",
       "2       5454.0       Mann     47         vw\n",
       "3       3719.0       Mann     41          g\n",
       "4       6194.0       Mann     18          v\n",
       "5          NaN       Mann     27          v\n",
       "...        ...        ...    ...        ...\n",
       "96      7959.0       Frau     55          v\n",
       "97      2673.0       Mann     18          g\n",
       "98      4430.0       Mann     19          v\n",
       "99      6366.0       Frau     21          g\n",
       "100     6488.0       Mann     24          g\n",
       "\n",
       "[100 rows x 4 columns]"
      ]
     },
     "execution_count": 6,
     "metadata": {},
     "output_type": "execute_result"
    }
   ],
   "source": [
    "dflohn.Geschlecht.replace({'m': 'Mann', 'w': 'Frau'}, inplace=True)\n",
    "dflohn"
   ]
  },
  {
   "cell_type": "markdown",
   "metadata": {},
   "source": [
    "In der folgenden Zelle werden die Dummie-Variablen (nicht permanent) dem Dataframe hinzugefügt. Die ursprüngliche Variable (`Zivilstand`) wird entfernt."
   ]
  },
  {
   "cell_type": "code",
   "execution_count": null,
   "metadata": {},
   "outputs": [],
   "source": [
    "pd.get_dummies(dflohn, columns=['Zivilstand']).head()"
   ]
  },
  {
   "cell_type": "markdown",
   "metadata": {},
   "source": [
    "## Manipulation von Strings\n",
    "Python ist eine mächtige Sprache im Umgang mit Zeichenketten (Strings)."
   ]
  },
  {
   "cell_type": "markdown",
   "metadata": {},
   "source": [
    "### Methoden für Strings"
   ]
  },
  {
   "cell_type": "markdown",
   "metadata": {},
   "source": [
    "Strings können mit der Methode `split` in eine Liste separiert werden."
   ]
  },
  {
   "cell_type": "code",
   "execution_count": null,
   "metadata": {},
   "outputs": [],
   "source": [
    "text = 'dies ist ein Test'\n",
    "text.split(' ')  # bei Leerschlag trennen"
   ]
  },
  {
   "cell_type": "code",
   "execution_count": null,
   "metadata": {},
   "outputs": [],
   "source": [
    "text.split()     # Trennung bei Leerschlag ist der Default!"
   ]
  },
  {
   "cell_type": "code",
   "execution_count": null,
   "metadata": {},
   "outputs": [],
   "source": [
    "a, b, c, d = text.split()\n",
    "print(a)\n",
    "print(d)"
   ]
  },
  {
   "cell_type": "markdown",
   "metadata": {},
   "source": [
    "Strings zusammenfügen (concatenate):"
   ]
  },
  {
   "cell_type": "code",
   "execution_count": null,
   "metadata": {},
   "outputs": [],
   "source": [
    "b + ' ' + a + ' ' + c + ' ' + d"
   ]
  },
  {
   "cell_type": "code",
   "execution_count": null,
   "metadata": {},
   "outputs": [],
   "source": [
    "# Mit join() geht es eleganter:\n",
    "' '.join([b, a, c, d])"
   ]
  },
  {
   "cell_type": "markdown",
   "metadata": {},
   "source": [
    "Strings in Gross- oder Kleinbuchstaben umwandeln:"
   ]
  },
  {
   "cell_type": "code",
   "execution_count": null,
   "metadata": {},
   "outputs": [],
   "source": [
    "text.upper()    # alles in Grossbuchstaben"
   ]
  },
  {
   "cell_type": "code",
   "execution_count": null,
   "metadata": {},
   "outputs": [],
   "source": [
    "text.lower()    # alles in Kleinbuchstaben"
   ]
  },
  {
   "cell_type": "code",
   "execution_count": null,
   "metadata": {},
   "outputs": [],
   "source": [
    "text.title()    # jedes Wort mit Grossbuchstaben beginnen"
   ]
  },
  {
   "cell_type": "markdown",
   "metadata": {},
   "source": [
    "Andere Methoden befassen sich mit der Ortung von Teilstrings:"
   ]
  },
  {
   "cell_type": "code",
   "execution_count": null,
   "metadata": {},
   "outputs": [],
   "source": [
    "'ei' in text    # True, da \"ei\" in \"ein\" enthalten ist."
   ]
  },
  {
   "cell_type": "code",
   "execution_count": null,
   "metadata": {},
   "outputs": [],
   "source": [
    "'test' in text  # Case-sensitiv"
   ]
  },
  {
   "cell_type": "code",
   "execution_count": null,
   "metadata": {},
   "outputs": [],
   "source": [
    "'test' in text.lower()  # Test kleingeschrieben ist in text"
   ]
  },
  {
   "cell_type": "code",
   "execution_count": null,
   "metadata": {},
   "outputs": [],
   "source": [
    "text.find('s')  # Index des ersten Auftretens von s."
   ]
  },
  {
   "cell_type": "code",
   "execution_count": null,
   "metadata": {},
   "outputs": [],
   "source": [
    "text.find('c')  # -1, falls nicht vorhanden."
   ]
  },
  {
   "cell_type": "code",
   "execution_count": null,
   "metadata": {},
   "outputs": [],
   "source": [
    "text.count('i') # wie viele i sind in text"
   ]
  },
  {
   "cell_type": "code",
   "execution_count": null,
   "metadata": {},
   "outputs": [],
   "source": [
    "text.startswith('dies')"
   ]
  },
  {
   "cell_type": "code",
   "execution_count": null,
   "metadata": {},
   "outputs": [],
   "source": [
    "text.endswith('.')"
   ]
  },
  {
   "cell_type": "markdown",
   "metadata": {},
   "source": [
    "Mit `replace` können wir einen String mit einem anderen ersetzen:"
   ]
  },
  {
   "cell_type": "code",
   "execution_count": null,
   "metadata": {},
   "outputs": [],
   "source": [
    "text"
   ]
  },
  {
   "cell_type": "code",
   "execution_count": null,
   "metadata": {},
   "outputs": [],
   "source": [
    "text.replace('dies', 'das')"
   ]
  },
  {
   "cell_type": "code",
   "execution_count": null,
   "metadata": {},
   "outputs": [],
   "source": [
    "# replace kann auch zum Löschen verwendet werden:\n",
    "'Py th  on'.replace(' ', '')"
   ]
  },
  {
   "cell_type": "markdown",
   "metadata": {},
   "source": [
    "Eleganter können Leerschläge (und Zeilenumbrüche) mit `strip` beseitigt werden."
   ]
  },
  {
   "cell_type": "code",
   "execution_count": null,
   "metadata": {},
   "outputs": [],
   "source": [
    "'  dies ist noch ein Test.  \\n'.strip()"
   ]
  },
  {
   "cell_type": "markdown",
   "metadata": {},
   "source": [
    "**Kontrollfragen:**"
   ]
  },
  {
   "cell_type": "code",
   "execution_count": null,
   "metadata": {},
   "outputs": [],
   "source": [
    "# Gegeben:\n",
    "text"
   ]
  },
  {
   "cell_type": "code",
   "execution_count": null,
   "metadata": {},
   "outputs": [],
   "source": [
    "# Frage 1: Was ist der Output?\n",
    "text.split()[2]"
   ]
  },
  {
   "cell_type": "code",
   "execution_count": null,
   "metadata": {},
   "outputs": [],
   "source": [
    "# Frage 2: Was ist der Output?\n",
    "text.upper().count('T')"
   ]
  },
  {
   "cell_type": "markdown",
   "metadata": {},
   "source": [
    "### Vektorisierte String-Methoden in Pandas\n",
    "- Das Bereinigen eines unordentlichen Datasets für die Analyse erfordert oft viel String-Munging und -Regularisierung. \n",
    "- Um die Sache zu komplizieren, fehlen in einer Spalte mit Strings manchmal Daten:"
   ]
  },
  {
   "cell_type": "code",
   "execution_count": null,
   "metadata": {},
   "outputs": [],
   "source": [
    "# Beispieldaten:\n",
    "data = {'Tom': 'tom121@yahoo.com', 'Anna': 'Anna.Müller@gmail.com',\n",
    "        'Robert': 'robert_bucher@yahoo.de', 'Wes': np.nan, 'Wanda': 'WandaWu@mail.ch'}\n",
    "ser = pd.Series(data)\n",
    "ser"
   ]
  },
  {
   "cell_type": "code",
   "execution_count": null,
   "metadata": {},
   "outputs": [],
   "source": [
    "ser.isnull()"
   ]
  },
  {
   "cell_type": "markdown",
   "metadata": {},
   "source": [
    "- Series verfügen über Array-basierte Methoden für *String-Operationen, die NA-Werte überspringen*. \n",
    "- Auf diese wird mittels **`str`-Attribut der Series** zugegriffen. \n",
    "- Im ersten Beispiel werden *je* die letzten drei Zeichen aus den Zeichenketten der Series gewählt. "
   ]
  },
  {
   "cell_type": "code",
   "execution_count": null,
   "metadata": {},
   "outputs": [],
   "source": [
    "ser.str[-3:]  # Letzte drei Buchstaben in Email-Adressen"
   ]
  },
  {
   "cell_type": "markdown",
   "metadata": {},
   "source": [
    "Betrachten wir weitere Beispiele:"
   ]
  },
  {
   "cell_type": "code",
   "execution_count": null,
   "metadata": {},
   "outputs": [],
   "source": [
    "# Länge der Strings in einer Series ermitteln:\n",
    "ser.str.len()"
   ]
  },
  {
   "cell_type": "code",
   "execution_count": null,
   "metadata": {
    "scrolled": true
   },
   "outputs": [],
   "source": [
    "# Prüfen, ob eine Zeichenkette (hier 'yahoo') im String enthalten ist:\n",
    "ser.str.contains('yahoo') "
   ]
  },
  {
   "cell_type": "code",
   "execution_count": null,
   "metadata": {},
   "outputs": [],
   "source": [
    "# Prüfen, ob Zeichenketten in Series mit bestimmtem Ausdruck enden:\n",
    "ser.str.endswith('.de')\n",
    "# startswith() funktioniert entsprechend."
   ]
  },
  {
   "cell_type": "code",
   "execution_count": null,
   "metadata": {},
   "outputs": [],
   "source": [
    "# Strings in Kleinbuchstaben umwandeln:\n",
    "ser.str.lower()   # .upper() für Grossbuchstaben"
   ]
  },
  {
   "cell_type": "code",
   "execution_count": null,
   "metadata": {},
   "outputs": [],
   "source": [
    "# Suchen und ersetzen:\n",
    "ser.str.replace('.de', '.com')"
   ]
  },
  {
   "cell_type": "code",
   "execution_count": null,
   "metadata": {},
   "outputs": [],
   "source": [
    "# Die Änderung mit replace ist nicht permanent:\n",
    "ser"
   ]
  },
  {
   "cell_type": "code",
   "execution_count": null,
   "metadata": {},
   "outputs": [],
   "source": [
    "ser = ser.str.replace('.de', '.com')\n",
    "ser   # jetzt permanent"
   ]
  },
  {
   "cell_type": "code",
   "execution_count": null,
   "metadata": {},
   "outputs": [],
   "source": [
    "# An welcher Position steht je das erste mal der String 'om'.\n",
    "ser.str.find('om')\n",
    "# Falls der String nicht vorkommt, wird -1 zurückgegeben."
   ]
  },
  {
   "cell_type": "markdown",
   "metadata": {},
   "source": [
    "Eine weitere sehr nützliche Methode ist `split`:"
   ]
  },
  {
   "cell_type": "code",
   "execution_count": null,
   "metadata": {},
   "outputs": [],
   "source": [
    "# Eine weitere sehr nützliche Methode:\n",
    "ser.str.split('@')"
   ]
  },
  {
   "cell_type": "markdown",
   "metadata": {},
   "source": [
    "Man kann auch mehrfach `str` verwenden:"
   ]
  },
  {
   "cell_type": "code",
   "execution_count": null,
   "metadata": {},
   "outputs": [],
   "source": [
    "# Wie oft kommt der Buchstabe \"a\" bzw. \"A\" je vor?\n",
    "ser.str.lower().str.count('a')"
   ]
  },
  {
   "cell_type": "markdown",
   "metadata": {},
   "source": [
    "**Kontrollfrage:**"
   ]
  },
  {
   "cell_type": "code",
   "execution_count": null,
   "metadata": {},
   "outputs": [],
   "source": [
    "# Gegeben:\n",
    "np.random.seed(43)\n",
    "df = pd.read_csv('../weitere_Daten/College.csv', \n",
    "                      index_col=0, usecols=range(5)).sample(5)\n",
    "df"
   ]
  },
  {
   "cell_type": "code",
   "execution_count": null,
   "metadata": {},
   "outputs": [],
   "source": [
    "# Frage 1: Was ist der Output?\n",
    "df.index.str.endswith('University')"
   ]
  },
  {
   "cell_type": "code",
   "execution_count": null,
   "metadata": {},
   "outputs": [],
   "source": [
    "# Frage 2: Was ist der Output?\n",
    "df.index.str.lower().str.contains('uni')"
   ]
  },
  {
   "cell_type": "code",
   "execution_count": null,
   "metadata": {},
   "outputs": [],
   "source": [
    "# Frage 3: Was ist der Output?\n",
    "df.index.str.lower().str.contains('uni').sum()"
   ]
  },
  {
   "cell_type": "markdown",
   "metadata": {},
   "source": [
    "## Fazit\n",
    "- Eine effektive Aufbereitung der Daten kann die Produktivität erheblich steigern, da dadurch mehr Zeit für die Analyse von Daten zur Verfügung steht. \n",
    "- Wir haben in diesem Kapitel eine Reihe von Werkzeugen untersucht, aber die Abdeckung ist hier keineswegs umfassend. \n",
    "- Im nächsten Kapitel werden wir Pandas-Funktionalitäten zum Umformen und Verknüpfen von Datensätzen kennenlernen."
   ]
  }
 ],
 "metadata": {
  "kernelspec": {
   "display_name": "Python 3 (ipykernel)",
   "language": "python",
   "name": "python3"
  },
  "language_info": {
   "codemirror_mode": {
    "name": "ipython",
    "version": 3
   },
   "file_extension": ".py",
   "mimetype": "text/x-python",
   "name": "python",
   "nbconvert_exporter": "python",
   "pygments_lexer": "ipython3",
   "version": "3.9.7"
  }
 },
 "nbformat": 4,
 "nbformat_minor": 1
}
