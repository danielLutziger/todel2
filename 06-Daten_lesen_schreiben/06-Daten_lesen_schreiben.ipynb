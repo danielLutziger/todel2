{
 "cells": [
  {
   "cell_type": "markdown",
   "metadata": {},
   "source": [
    "# Kapitel 6: Daten laden, speichern und Dateiformate\n",
    "\n",
    "McKinney, W. (2017). *Python for Data Analysis: Data Wrangling with Pandas, NumPy, and IPython*. 2. Auflage. Sebastopol, CA [u. a.]: O’Reilly.\n",
    "\n",
    "Überarbeitet: armin.baenziger@zhaw.ch, 16. Januar 2020\n",
    "\n",
    "- Bevor Daten analysiert werden können, müssen sie geladen werden.\n",
    "- (Aufbereitete) Daten müssen gespeichert werden können, damit sie später (von anderen) wieder verwendet werden können.\n",
    "- In diesem Kapitel werden einige Möglichkeiten in Pandas vorgestellt, Daten in unterschiedlichen Formaten zu laden und speichern.\n",
    "- Das Lehrmittel geht in diesem Kapitel deutlich weiter. Insbesondere werden dort auch noch Interaktionen mit *Web APIs* und *Datenbanken* vorgestellt."
   ]
  },
  {
   "cell_type": "code",
   "execution_count": null,
   "metadata": {},
   "outputs": [],
   "source": [
    "%autosave 0"
   ]
  },
  {
   "cell_type": "code",
   "execution_count": null,
   "metadata": {},
   "outputs": [],
   "source": [
    "# Nötige Bibliotheken mit üblichen Abkürzungen laden:\n",
    "import numpy as np\n",
    "import pandas as pd"
   ]
  },
  {
   "cell_type": "markdown",
   "metadata": {},
   "source": [
    "## Daten im Textformat lesen und schreiben\n",
    "Wir beginnen mit dem Einlesen von einer kleinen Komma-separierten (CSV) Text-Datei. Diese sieht wie folgt aus:"
   ]
  },
  {
   "cell_type": "code",
   "execution_count": null,
   "metadata": {},
   "outputs": [],
   "source": [
    "%load ../weitere_Daten/Beispiele_Kap06/CSV_Komma.csv"
   ]
  },
  {
   "cell_type": "markdown",
   "metadata": {},
   "source": [
    "- CSV-Daten kann man sehr einfach mit der Pandas-Funktion `read_csv` einlesen. \n",
    "- Wenn es Probleme mit dem Einlesen gibt, stimmt der Pfad evt. nicht. Der Pfad muss zur Datei `CSV_Komma.csv` im Ordner `weitere_Daten/Beispiele_Kap06` führen. \n",
    "- Die zwei Punkte am Anfang des Pfads bedeuten, dass `read_csv` zuerst eine Hierarchiestufe im Ordnerpfad hoch geht und dann im Ordner `weitere_Daten/Beispiele_Kap06` die Datei `CSV_Komma.csv` versucht zu öffnen."
   ]
  },
  {
   "cell_type": "code",
   "execution_count": null,
   "metadata": {},
   "outputs": [],
   "source": [
    "Lohndaten = pd.read_csv('../weitere_Daten/Beispiele_Kap06/CSV_Komma.csv')\n",
    "Lohndaten"
   ]
  },
  {
   "cell_type": "markdown",
   "metadata": {},
   "source": [
    "Die allgemeinere Funktion `pd.read_table` mit Angabe des *Trennzeichens (engl. delimiter)* hätte auch zum gewünschten Resultat geführt."
   ]
  },
  {
   "cell_type": "code",
   "execution_count": null,
   "metadata": {},
   "outputs": [],
   "source": [
    "pd.read_table('../weitere_Daten/Beispiele_Kap06/CSV_Komma.csv', sep=',')"
   ]
  },
  {
   "cell_type": "markdown",
   "metadata": {},
   "source": [
    "Zeilen mit Fehlwerten ganz weglassen:"
   ]
  },
  {
   "cell_type": "code",
   "execution_count": null,
   "metadata": {},
   "outputs": [],
   "source": [
    "Lohndaten.dropna(inplace=True)\n",
    "Lohndaten"
   ]
  },
  {
   "cell_type": "markdown",
   "metadata": {},
   "source": [
    "CSV-Datei mit anderen Trennzeichen:"
   ]
  },
  {
   "cell_type": "code",
   "execution_count": null,
   "metadata": {},
   "outputs": [],
   "source": [
    "%load ../weitere_Daten/Beispiele_Kap06/CSV_Strichpunkt.csv"
   ]
  },
  {
   "cell_type": "code",
   "execution_count": null,
   "metadata": {},
   "outputs": [],
   "source": [
    "Lohndaten = pd.read_csv('../weitere_Daten/Beispiele_Kap06/CSV_Strichpunkt.csv', \n",
    "                        sep=';') \n",
    "# mit dem Argument sep andere Trennzeichen angeben\n",
    "Lohndaten"
   ]
  },
  {
   "cell_type": "markdown",
   "metadata": {},
   "source": [
    "CSV-Datei ohne Header laden:"
   ]
  },
  {
   "cell_type": "code",
   "execution_count": null,
   "metadata": {},
   "outputs": [],
   "source": [
    "%load ../weitere_Daten/Beispiele_Kap06/CSV_KeinHeader.csv"
   ]
  },
  {
   "cell_type": "code",
   "execution_count": null,
   "metadata": {},
   "outputs": [],
   "source": [
    "Lohndaten2 = pd.read_csv('../weitere_Daten/Beispiele_Kap06/CSV_KeinHeader.csv', \n",
    "                         header=None)   # Kopfzeile fehlt\n",
    "Lohndaten2   "
   ]
  },
  {
   "cell_type": "markdown",
   "metadata": {},
   "source": [
    "Entweder man fügt nun die Variablennamen ein oder man lädt die Datei wie folgt:"
   ]
  },
  {
   "cell_type": "code",
   "execution_count": null,
   "metadata": {},
   "outputs": [],
   "source": [
    "Lohndaten2 = pd.read_csv('../weitere_Daten/Beispiele_Kap06/CSV_KeinHeader.csv', \n",
    "                         header=None,   # Kopfzeile fehlt\n",
    "                         names=['Name', 'Vorname', 'Geschlecht', 'Gehalt'])\n",
    "Lohndaten2  "
   ]
  },
  {
   "cell_type": "markdown",
   "metadata": {},
   "source": [
    "***\n",
    "***Exkurs:***\n",
    "Textdateien ohne fixes Trennzeichen:"
   ]
  },
  {
   "cell_type": "code",
   "execution_count": null,
   "metadata": {},
   "outputs": [],
   "source": [
    "# %load ../examples/ex3.txt\n",
    "            A         B         C\n",
    "aaa -0.264438 -1.026059 -0.619500\n",
    "bbb  0.927272  0.302904 -0.032399\n",
    "ccc -0.264273 -0.386314 -0.217601\n",
    "ddd -0.871858 -0.348382  1.100491\n"
   ]
  },
  {
   "cell_type": "markdown",
   "metadata": {},
   "source": [
    "Die Felder werden hier durch (unterschiedlich viele) Leerzeichen getrennt."
   ]
  },
  {
   "cell_type": "code",
   "execution_count": null,
   "metadata": {},
   "outputs": [],
   "source": [
    "df = pd.read_table('../examples/ex3.txt', delim_whitespace=True)\n",
    "df"
   ]
  },
  {
   "cell_type": "markdown",
   "metadata": {},
   "source": [
    "***Ende des Exkurses.***\n",
    "***"
   ]
  },
  {
   "cell_type": "markdown",
   "metadata": {},
   "source": [
    "Mit **Fehlwerten**  umgehen:"
   ]
  },
  {
   "cell_type": "code",
   "execution_count": null,
   "metadata": {},
   "outputs": [],
   "source": [
    "%load ../examples/ex5.csv"
   ]
  },
  {
   "cell_type": "code",
   "execution_count": null,
   "metadata": {},
   "outputs": [],
   "source": [
    "df = pd.read_csv('../examples/ex5.csv')\n",
    "df"
   ]
  },
  {
   "cell_type": "code",
   "execution_count": null,
   "metadata": {},
   "outputs": [],
   "source": [
    "df.isnull()    # Welche Zellen werden als Fehlwerte erkannt?"
   ]
  },
  {
   "cell_type": "code",
   "execution_count": null,
   "metadata": {},
   "outputs": [],
   "source": [
    "df.isnull().sum()   # Anzahl Fehlwerte pro Spalte"
   ]
  },
  {
   "cell_type": "markdown",
   "metadata": {},
   "source": [
    "Mit dem Argument `na_values` kann man (weitere) Fehlwerte angeben. Angenommen *foo*  ist eine Bezeichnung für einen (weiteren) Fehlwert:"
   ]
  },
  {
   "cell_type": "code",
   "execution_count": null,
   "metadata": {},
   "outputs": [],
   "source": [
    "df = pd.read_csv('../examples/ex5.csv', na_values=['foo'])\n",
    "df"
   ]
  },
  {
   "cell_type": "markdown",
   "metadata": {},
   "source": [
    "### Daten im Textformat schreiben"
   ]
  },
  {
   "cell_type": "markdown",
   "metadata": {},
   "source": [
    "Wir werden nun den eben verwendeten Datensatz im Textformat abspeichern. Zuerst setzen wir noch den Index neu, um zu zeigen, dass der Index auch mit abgespeichert wird."
   ]
  },
  {
   "cell_type": "code",
   "execution_count": null,
   "metadata": {},
   "outputs": [],
   "source": [
    "df.set_index('something')"
   ]
  },
  {
   "cell_type": "markdown",
   "metadata": {},
   "source": [
    "Jetzt schreiben wir diese Daten im CSV-Format ins Unterverzeichnis \"examples\". Wir bezeichnen die Datei mit \"out.csv\"."
   ]
  },
  {
   "cell_type": "code",
   "execution_count": null,
   "metadata": {},
   "outputs": [],
   "source": [
    "df.to_csv('../examples/out.csv')"
   ]
  },
  {
   "cell_type": "code",
   "execution_count": null,
   "metadata": {},
   "outputs": [],
   "source": [
    "%load ../examples/out.csv"
   ]
  },
  {
   "cell_type": "markdown",
   "metadata": {},
   "source": [
    "Man kann die Daten auch mit anderem Trennzeichen schreiben."
   ]
  },
  {
   "cell_type": "code",
   "execution_count": null,
   "metadata": {},
   "outputs": [],
   "source": [
    "df.to_csv('../examples/out.csv', sep='|')  # mit anderem Trennzeichen"
   ]
  },
  {
   "cell_type": "code",
   "execution_count": null,
   "metadata": {},
   "outputs": [],
   "source": [
    "%load ../examples/out.csv"
   ]
  },
  {
   "cell_type": "markdown",
   "metadata": {},
   "source": [
    "Mit dem Argument `na_rep` können Fehlwerte (anders) gekennzeichnet werden."
   ]
  },
  {
   "cell_type": "code",
   "execution_count": null,
   "metadata": {},
   "outputs": [],
   "source": [
    "df.to_csv('../examples/out.csv', na_rep='999')"
   ]
  },
  {
   "cell_type": "code",
   "execution_count": null,
   "metadata": {},
   "outputs": [],
   "source": [
    "%load ../examples/out.csv"
   ]
  },
  {
   "cell_type": "markdown",
   "metadata": {},
   "source": [
    "**Kontrollfrage:**"
   ]
  },
  {
   "cell_type": "code",
   "execution_count": null,
   "metadata": {},
   "outputs": [],
   "source": [
    "# Laden Sie die Datei \"CSV_Kontrollfrage.csv\" vom Ordner \n",
    "# \"weitere_Daten/Beispiele_Kap06\" in das DataFrame \"df\".\n",
    "# Prüfen Sie (z. B. mit einem Text-Editor) zuerst, welches\n",
    "# Trennzeichen in der Textdatei verwendet wird.\n"
   ]
  },
  {
   "cell_type": "markdown",
   "metadata": {},
   "source": [
    "## Binäre Datenformate\n",
    "Einfach und effizient lassen sich Daten in Python im **'pickle'-Format** speichern und lesen."
   ]
  },
  {
   "cell_type": "code",
   "execution_count": null,
   "metadata": {},
   "outputs": [],
   "source": [
    "df = pd.read_csv('../examples/ex1.csv')\n",
    "df"
   ]
  },
  {
   "cell_type": "code",
   "execution_count": null,
   "metadata": {},
   "outputs": [],
   "source": [
    "# DataFrame im pickle-Format speichern:\n",
    "df.to_pickle('../examples/frame_pickle.pkl')"
   ]
  },
  {
   "cell_type": "markdown",
   "metadata": {},
   "source": [
    "**Achtung:** Das pickle-Format eigenet sich nicht für die *Langzeitspeicherung* der Daten, da sich das Dateiformat ändern kann ich künftigen Library-Versionen."
   ]
  },
  {
   "cell_type": "code",
   "execution_count": null,
   "metadata": {},
   "outputs": [],
   "source": [
    "# DataFrame im pickle-Format lesen:\n",
    "df = pd.read_pickle('../examples/frame_pickle.pkl')\n",
    "df"
   ]
  },
  {
   "cell_type": "markdown",
   "metadata": {},
   "source": [
    "### Microsoft Excel Dateien einlesen\n",
    "Falls die Daten in Microsoft Excel im CSV-Format gespeichert wurden (was empfehlenswert ist), verwendet man die Funktionen, welche wir eben kennengelernt haben.\n",
    "\n",
    "Daten im proprietären Excel-Format können aber auch eingelesen werden:"
   ]
  },
  {
   "cell_type": "code",
   "execution_count": null,
   "metadata": {},
   "outputs": [],
   "source": [
    "# Default: Erstes Excel-Blatt (Sheet) öffnen:\n",
    "df = pd.read_excel('../examples/ex1.xlsx') \n",
    "df"
   ]
  },
  {
   "cell_type": "code",
   "execution_count": null,
   "metadata": {},
   "outputs": [],
   "source": [
    "# Ein anderes Excel-Blatt einlesen (hier Sheet2): \n",
    "df = pd.read_excel('../examples/ex1.xlsx', 'Sheet2') \n",
    "df"
   ]
  },
  {
   "cell_type": "markdown",
   "metadata": {},
   "source": [
    "Daten im Excel-Format schreiben:"
   ]
  },
  {
   "cell_type": "code",
   "execution_count": null,
   "metadata": {},
   "outputs": [],
   "source": [
    "df.to_excel('temp.xlsx')"
   ]
  },
  {
   "cell_type": "code",
   "execution_count": null,
   "metadata": {},
   "outputs": [],
   "source": [
    "# Exkurs:\n",
    "import os               # Bibliothek für Betriebssysteminteraktionen\n",
    "os.remove('temp.xlsx')  # Datei wieder löschen auf der Festplatte."
   ]
  },
  {
   "cell_type": "markdown",
   "metadata": {},
   "source": [
    "## Fazit\n",
    "- Der Zugriff auf Daten ist häufig der erste Schritt im Datenanalyseprozess. \n",
    "- Wir haben uns in diesem Kapitel einige nützliche Tools angesehen, die Ihnen den Einstieg erleichtern sollen. \n",
    "- In den folgenden zwei Kapiteln werden wir uns eingehender mit Daten-Wrangling befassen."
   ]
  }
 ],
 "metadata": {
  "kernelspec": {
   "display_name": "Python 3",
   "language": "python",
   "name": "python3"
  },
  "language_info": {
   "codemirror_mode": {
    "name": "ipython",
    "version": 3
   },
   "file_extension": ".py",
   "mimetype": "text/x-python",
   "name": "python",
   "nbconvert_exporter": "python",
   "pygments_lexer": "ipython3",
   "version": "3.7.0"
  }
 },
 "nbformat": 4,
 "nbformat_minor": 1
}
