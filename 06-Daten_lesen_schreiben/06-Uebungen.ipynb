{
 "cells": [
  {
   "cell_type": "markdown",
   "metadata": {},
   "source": [
    "## Übungen zum Kapitel 6\n",
    "### Daten laden, speichern und Dateiformate\n",
    "Erstellt und überarbeitet: armin.baenziger@zhaw.ch, 20. Januar 2020\n",
    "***"
   ]
  },
  {
   "cell_type": "code",
   "execution_count": null,
   "metadata": {},
   "outputs": [],
   "source": [
    "%autosave 0"
   ]
  },
  {
   "cell_type": "markdown",
   "metadata": {},
   "source": [
    "***"
   ]
  },
  {
   "cell_type": "markdown",
   "metadata": {},
   "source": [
    "**(A.1)** Laden Sie NumPy und Pandas mit den üblichen Abkürzungen."
   ]
  },
  {
   "cell_type": "code",
   "execution_count": null,
   "metadata": {},
   "outputs": [],
   "source": []
  },
  {
   "cell_type": "markdown",
   "metadata": {},
   "source": [
    "**(A.2)** Laden Sie die Daten der Datei `drinksbycountry.csv` in das DataFrame `drinks`. Die Datei befindet sich im Ordner \"weitere_Daten\". Lesen Sie danach die ersten 5 Zeilen des DataFrames `drinks` aus. "
   ]
  },
  {
   "cell_type": "code",
   "execution_count": null,
   "metadata": {},
   "outputs": [],
   "source": []
  },
  {
   "cell_type": "markdown",
   "metadata": {},
   "source": [
    "**(A.3)** Wiederholen Sie **(A.2)**, wobei Sie nun *beim Einlesen* die Spalte/Varibale `country` als Index festlegen. Dies geschieht mit dem zusätzlichen Funktionsargument `index_col='country'`."
   ]
  },
  {
   "cell_type": "code",
   "execution_count": null,
   "metadata": {},
   "outputs": [],
   "source": []
  },
  {
   "cell_type": "markdown",
   "metadata": {},
   "source": [
    "**(A.4)** Löschen Sie die Spalten/Variablen `beer_servings`, `spirit_servings` und `wine_servings` aus dem DataFrame `drinks`."
   ]
  },
  {
   "cell_type": "code",
   "execution_count": null,
   "metadata": {},
   "outputs": [],
   "source": []
  },
  {
   "cell_type": "markdown",
   "metadata": {},
   "source": [
    "Zur Vereinfachung wählen wir kürzere Variablennamen:"
   ]
  },
  {
   "cell_type": "code",
   "execution_count": null,
   "metadata": {},
   "outputs": [],
   "source": [
    "drinks.rename(columns={'total_litres_of_pure_alcohol': 'alcohol'}, \n",
    "              inplace=True)\n",
    "drinks.head()"
   ]
  },
  {
   "cell_type": "markdown",
   "metadata": {},
   "source": [
    "**(A.5)** Wie hoch ist der höchste Konsum an Alkohol (Liter pro Jahr)?"
   ]
  },
  {
   "cell_type": "code",
   "execution_count": null,
   "metadata": {},
   "outputs": [],
   "source": []
  },
  {
   "cell_type": "markdown",
   "metadata": {},
   "source": [
    "**(A.6)** Sortieren Sie das DataFrame `drinks` nach Alkoholkunsum in *absteigender* Reihenfolge. Tipp: Methode `sort_values`.  \n",
    "Lesen Sie dann die 5 Länder mit dem grössten Alkoholkonsum aus."
   ]
  },
  {
   "cell_type": "code",
   "execution_count": null,
   "metadata": {},
   "outputs": [],
   "source": []
  },
  {
   "cell_type": "markdown",
   "metadata": {},
   "source": [
    "**A.7)** Wie viele Länder gibt es pro Kontinent (im Datensatz)?"
   ]
  },
  {
   "cell_type": "code",
   "execution_count": null,
   "metadata": {},
   "outputs": [],
   "source": []
  },
  {
   "cell_type": "markdown",
   "metadata": {},
   "source": [
    "**(A.8)** Speichern Sie die Daten des DataFrames `drinks` in einer CSV-Datei mit Name `temp.csv` auf Ihren Datenträger."
   ]
  },
  {
   "cell_type": "code",
   "execution_count": null,
   "metadata": {},
   "outputs": [],
   "source": []
  },
  {
   "cell_type": "markdown",
   "metadata": {},
   "source": [
    "**(A.9)** Speichern Sie die ersten 5 Zeilen von `drinks` in einer `csv`-Datei mit Semikolon (statt Komma) als Trennzeichen. (Dateiname wiederum `temp.csv`)"
   ]
  },
  {
   "cell_type": "code",
   "execution_count": null,
   "metadata": {},
   "outputs": [],
   "source": []
  },
  {
   "cell_type": "markdown",
   "metadata": {},
   "source": [
    "**(A.10)** Prüfen Sie mit dem Magic-Command `%load`, ob der letzte Task funktioniert hat, also mit `%load temp.csv`. Alternativ können Sie folgende Anweisung versuchen:  \n",
    "- auf Linux-/Mac-Systemen: `!cat temp.csv`\n",
    "- auf Windows-Systemen: `!type temp.csv`"
   ]
  },
  {
   "cell_type": "code",
   "execution_count": null,
   "metadata": {},
   "outputs": [],
   "source": []
  },
  {
   "cell_type": "markdown",
   "metadata": {},
   "source": [
    "**(A.11)** Importieren Sie die Bibliothek `os` und löschen Sie dann die Datei `temp.csv` wieder vom Datenträger mit der Anweisung `os.remove('temp.csv')`. (Alternativ können Sie die Datei manuell im Verzeichnis löschen.)"
   ]
  },
  {
   "cell_type": "code",
   "execution_count": null,
   "metadata": {},
   "outputs": [],
   "source": []
  },
  {
   "cell_type": "markdown",
   "metadata": {},
   "source": [
    "***"
   ]
  },
  {
   "cell_type": "markdown",
   "metadata": {},
   "source": [
    "**(B.1)** Betrachten Sie den Inhalt der Datei `Auto.csv` im Ordner `weitere_Daten` in einem Texteditor. Laden Sie dann die Daten mit dem korrekten `sep`-Argument ins DataFrame `Auto`."
   ]
  },
  {
   "cell_type": "code",
   "execution_count": null,
   "metadata": {},
   "outputs": [],
   "source": []
  },
  {
   "cell_type": "markdown",
   "metadata": {},
   "source": [
    "**(B.2)** Berechnen Sie die Korrelation (nach Bravais-Pearson) zwischen dem Gewicht von Autos (`weight`) und der Treibstoffeffizienz (`mpg`)."
   ]
  },
  {
   "cell_type": "code",
   "execution_count": null,
   "metadata": {},
   "outputs": [],
   "source": []
  },
  {
   "cell_type": "markdown",
   "metadata": {},
   "source": [
    "**(B.3)** Erstellen Sie eine absolute Häufigkeitsverteilung der Variable `origin`. (1 steht für USA, 2 für Europa und 3 für Japan.)"
   ]
  },
  {
   "cell_type": "code",
   "execution_count": null,
   "metadata": {},
   "outputs": [],
   "source": []
  },
  {
   "cell_type": "markdown",
   "metadata": {},
   "source": [
    "**(B.4)** Erstellen Sie eine *relative* Häufigkeitsverteilung der Anzahl Zylinder im Datensatz. Tipp: Argument `normalize=True` verwenden.  \n",
    "Versuchen Sie, die Tabelle nach der Anzahl Zylinder (und nicht der Häufigkeit) zu sortieren."
   ]
  },
  {
   "cell_type": "code",
   "execution_count": null,
   "metadata": {
    "scrolled": true
   },
   "outputs": [],
   "source": []
  },
  {
   "cell_type": "markdown",
   "metadata": {},
   "source": [
    "***"
   ]
  },
  {
   "cell_type": "markdown",
   "metadata": {},
   "source": [
    "Bevor wir weiterfahren erstellen wir ein DataFrame mit simulierten Daten:"
   ]
  },
  {
   "cell_type": "code",
   "execution_count": null,
   "metadata": {},
   "outputs": [],
   "source": [
    "np.random.seed(125)\n",
    "n = 100  \n",
    "\n",
    "dflohn = pd.DataFrame({'Person': (range(1,n+1)),\n",
    "  'Lohn'      : np.random.lognormal(mean=8.6, sigma=0.4, size=n).astype(int),\n",
    "  'Geschlecht': np.random.choice(['w','m'], size=n, replace=True),\n",
    "  'Alter'     : np.random.randint(18, 66, n),\n",
    "  'Zivilstand': np.random.choice(['l','v','g','vw'], size=n, replace=True)})\n",
    "\n",
    "dflohn.head(5)"
   ]
  },
  {
   "cell_type": "markdown",
   "metadata": {},
   "source": [
    "**(C.1)** Setzten Sie die Spalte `Person` als Index fest. Verwenden Sie hierzu die Anweisung `dflohn.set_index('Person', inplace=True)`."
   ]
  },
  {
   "cell_type": "code",
   "execution_count": null,
   "metadata": {},
   "outputs": [],
   "source": []
  },
  {
   "cell_type": "markdown",
   "metadata": {},
   "source": [
    "**(C.2)** Ersetzen Sie den *Lohn* von *Person 5* mit dem Fehlwert `NaN` (`None`, oder `np.nan`)."
   ]
  },
  {
   "cell_type": "code",
   "execution_count": null,
   "metadata": {},
   "outputs": [],
   "source": []
  },
  {
   "cell_type": "markdown",
   "metadata": {},
   "source": [
    "**(C.3)** Speichern Sie die Daten des DataFrames `dflohn` in einer Datei im \"Pickle-Format\" mit Name `dflohn.pkl` *im Verzeichnis* `weitere_Daten` auf Ihrem Datenträger. **Wir werden diesen simulierten Datensatz später im Kurs nutzen!**"
   ]
  },
  {
   "cell_type": "code",
   "execution_count": null,
   "metadata": {},
   "outputs": [],
   "source": [
    "dflohn.to_pickle('../weitere_Daten/dflohn.pkl')"
   ]
  },
  {
   "cell_type": "markdown",
   "metadata": {},
   "source": [
    "***"
   ]
  },
  {
   "cell_type": "markdown",
   "metadata": {},
   "source": [
    "**(D.1)** Mit Pandas können auch Daten von (anderen) wichtigen Statistikpakten, wie R oder Stata, gelesen werden. Im Verzeichnis `weitere_Daten` befindet sich die Stata-Datei `Chang.dta`, welche Daten aus einer Veröffentlichung aus dem Jahre 2018 enthält. Laden Sie die Daten in ein DataFrame mit Name `chang`. Die Funktion dafür lautet `pd.read_stata()`.\n",
    "\n",
    "Chang, Y., Hong, J.H. und Karabarbounis, M. (2018). *Labor Market Uncertainty and Portfolio Choice Puzzles.* American Economic Journal: Macroeconomics, 10(2), S. 222–262."
   ]
  },
  {
   "cell_type": "code",
   "execution_count": null,
   "metadata": {},
   "outputs": [],
   "source": []
  },
  {
   "cell_type": "markdown",
   "metadata": {},
   "source": [
    "Die nächste Zelle ändert den Datentyp der Variable `children` zu `int` (Ganzzahl)."
   ]
  },
  {
   "cell_type": "code",
   "execution_count": null,
   "metadata": {},
   "outputs": [],
   "source": [
    "chang['children'] = chang.children.astype(int)\n",
    "chang.head()"
   ]
  },
  {
   "cell_type": "markdown",
   "metadata": {},
   "source": [
    "**(D.2)** Erstellen Sie eine (absolute) Häufigkeitstabelle der Variable `children`."
   ]
  },
  {
   "cell_type": "code",
   "execution_count": null,
   "metadata": {},
   "outputs": [],
   "source": [
    " "
   ]
  },
  {
   "cell_type": "markdown",
   "metadata": {},
   "source": [
    "**(D.3)** Erstellen Sie eine *relative* Häufigkeitstabelle der Variable `children`."
   ]
  },
  {
   "cell_type": "code",
   "execution_count": null,
   "metadata": {},
   "outputs": [],
   "source": []
  },
  {
   "cell_type": "markdown",
   "metadata": {},
   "source": [
    "**(D.3)** Erstellen Sie nochmals eine *relative* Häufigkeitstabelle der Variable `children`. Sortieren Sie aber nach der Anzahl Kinder (und nicht der Häufigkeit). Speichern Sie das Ergebnis im Objekt `tabelle`."
   ]
  },
  {
   "cell_type": "code",
   "execution_count": null,
   "metadata": {},
   "outputs": [],
   "source": [
    "  "
   ]
  },
  {
   "cell_type": "markdown",
   "metadata": {},
   "source": [
    "**Hinweis:** Wenn es die Zeit erlaubt, werden wir die Daten von Chang et al. später genauer untersuchen."
   ]
  },
  {
   "cell_type": "markdown",
   "metadata": {},
   "source": [
    "***\n",
    "#### *Ende der Übung*"
   ]
  }
 ],
 "metadata": {
  "kernelspec": {
   "display_name": "Python 3",
   "language": "python",
   "name": "python3"
  },
  "language_info": {
   "codemirror_mode": {
    "name": "ipython",
    "version": 3
   },
   "file_extension": ".py",
   "mimetype": "text/x-python",
   "name": "python",
   "nbconvert_exporter": "python",
   "pygments_lexer": "ipython3",
   "version": "3.7.0"
  }
 },
 "nbformat": 4,
 "nbformat_minor": 2
}
