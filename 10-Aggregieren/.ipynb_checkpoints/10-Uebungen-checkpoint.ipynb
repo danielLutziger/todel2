{
 "cells": [
  {
   "cell_type": "markdown",
   "metadata": {},
   "source": [
    "## Übungen zum Kapitel 10\n",
    "### Aggregation von Daten und Gruppenoperationen\n",
    "Erstellt und überarbeitet: armin.baenziger@zhaw.ch, 5. März 2020\n",
    "***"
   ]
  },
  {
   "cell_type": "code",
   "execution_count": null,
   "metadata": {},
   "outputs": [],
   "source": [
    "%autosave 0"
   ]
  },
  {
   "cell_type": "markdown",
   "metadata": {},
   "source": [
    "**(A.1)** Laden Sie NumPy, Pandas und Matplotlib.pyplot mit der üblichen Abkürzung."
   ]
  },
  {
   "cell_type": "code",
   "execution_count": 74,
   "metadata": {},
   "outputs": [],
   "source": [
    "import numpy as np\n",
    "import pandas as pd\n",
    "import matplotlib.pyplot as plt"
   ]
  },
  {
   "cell_type": "markdown",
   "metadata": {},
   "source": [
    "**(A.2)** Führen Sie den Magic Command aus, so dass Matplotlib-Plots \"inline\" erscheinen."
   ]
  },
  {
   "cell_type": "code",
   "execution_count": 75,
   "metadata": {},
   "outputs": [],
   "source": [
    "%matplotlib inline"
   ]
  },
  {
   "cell_type": "markdown",
   "metadata": {},
   "source": [
    "***"
   ]
  },
  {
   "cell_type": "markdown",
   "metadata": {},
   "source": [
    "Im Ordner \"weitere_Daten\" finden Sie den Datensatz `Auto.csv` den wir bereits im letzten Kapitel verwenden haben. \n",
    "Die folgende Zelle lädt die Daten ins DataFrame `Auto`, setzt den Autonamen (`name`) als Index und codiert die Variable `origin` um."
   ]
  },
  {
   "cell_type": "code",
   "execution_count": 3,
   "metadata": {},
   "outputs": [],
   "source": [
    "Auto = pd.read_csv('../weitere_Daten/Auto.csv', \n",
    "                   sep=';', index_col=8)\n",
    "Auto.origin.replace({1: 'USA', 2: 'Europe', 3: 'Japan'},\n",
    "                   inplace=True)"
   ]
  },
  {
   "cell_type": "markdown",
   "metadata": {},
   "source": [
    "**(B.1)** Selektieren Sie die *letzten acht* Zeilen des DataFrames für die Bildschirmausgabe."
   ]
  },
  {
   "cell_type": "code",
   "execution_count": 5,
   "metadata": {
    "scrolled": true
   },
   "outputs": [
    {
     "data": {
      "text/html": [
       "<div>\n",
       "<style scoped>\n",
       "    .dataframe tbody tr th:only-of-type {\n",
       "        vertical-align: middle;\n",
       "    }\n",
       "\n",
       "    .dataframe tbody tr th {\n",
       "        vertical-align: top;\n",
       "    }\n",
       "\n",
       "    .dataframe thead th {\n",
       "        text-align: right;\n",
       "    }\n",
       "</style>\n",
       "<table border=\"1\" class=\"dataframe\">\n",
       "  <thead>\n",
       "    <tr style=\"text-align: right;\">\n",
       "      <th></th>\n",
       "      <th>mpg</th>\n",
       "      <th>cylinders</th>\n",
       "      <th>displacement</th>\n",
       "      <th>horsepower</th>\n",
       "      <th>weight</th>\n",
       "      <th>acceleration</th>\n",
       "      <th>year</th>\n",
       "      <th>origin</th>\n",
       "    </tr>\n",
       "    <tr>\n",
       "      <th>name</th>\n",
       "      <th></th>\n",
       "      <th></th>\n",
       "      <th></th>\n",
       "      <th></th>\n",
       "      <th></th>\n",
       "      <th></th>\n",
       "      <th></th>\n",
       "      <th></th>\n",
       "    </tr>\n",
       "  </thead>\n",
       "  <tbody>\n",
       "    <tr>\n",
       "      <th>toyota celica gt</th>\n",
       "      <td>32.0</td>\n",
       "      <td>4</td>\n",
       "      <td>144.0</td>\n",
       "      <td>96</td>\n",
       "      <td>2665</td>\n",
       "      <td>13.9</td>\n",
       "      <td>82</td>\n",
       "      <td>Japan</td>\n",
       "    </tr>\n",
       "    <tr>\n",
       "      <th>dodge charger 2.2</th>\n",
       "      <td>36.0</td>\n",
       "      <td>4</td>\n",
       "      <td>135.0</td>\n",
       "      <td>84</td>\n",
       "      <td>2370</td>\n",
       "      <td>13.0</td>\n",
       "      <td>82</td>\n",
       "      <td>USA</td>\n",
       "    </tr>\n",
       "    <tr>\n",
       "      <th>chevrolet camaro</th>\n",
       "      <td>27.0</td>\n",
       "      <td>4</td>\n",
       "      <td>151.0</td>\n",
       "      <td>90</td>\n",
       "      <td>2950</td>\n",
       "      <td>17.3</td>\n",
       "      <td>82</td>\n",
       "      <td>USA</td>\n",
       "    </tr>\n",
       "    <tr>\n",
       "      <th>ford mustang gl</th>\n",
       "      <td>27.0</td>\n",
       "      <td>4</td>\n",
       "      <td>140.0</td>\n",
       "      <td>86</td>\n",
       "      <td>2790</td>\n",
       "      <td>15.6</td>\n",
       "      <td>82</td>\n",
       "      <td>USA</td>\n",
       "    </tr>\n",
       "    <tr>\n",
       "      <th>vw pickup</th>\n",
       "      <td>44.0</td>\n",
       "      <td>4</td>\n",
       "      <td>97.0</td>\n",
       "      <td>52</td>\n",
       "      <td>2130</td>\n",
       "      <td>24.6</td>\n",
       "      <td>82</td>\n",
       "      <td>Europe</td>\n",
       "    </tr>\n",
       "    <tr>\n",
       "      <th>dodge rampage</th>\n",
       "      <td>32.0</td>\n",
       "      <td>4</td>\n",
       "      <td>135.0</td>\n",
       "      <td>84</td>\n",
       "      <td>2295</td>\n",
       "      <td>11.6</td>\n",
       "      <td>82</td>\n",
       "      <td>USA</td>\n",
       "    </tr>\n",
       "    <tr>\n",
       "      <th>ford ranger</th>\n",
       "      <td>28.0</td>\n",
       "      <td>4</td>\n",
       "      <td>120.0</td>\n",
       "      <td>79</td>\n",
       "      <td>2625</td>\n",
       "      <td>18.6</td>\n",
       "      <td>82</td>\n",
       "      <td>USA</td>\n",
       "    </tr>\n",
       "    <tr>\n",
       "      <th>chevy s-10</th>\n",
       "      <td>31.0</td>\n",
       "      <td>4</td>\n",
       "      <td>119.0</td>\n",
       "      <td>82</td>\n",
       "      <td>2720</td>\n",
       "      <td>19.4</td>\n",
       "      <td>82</td>\n",
       "      <td>USA</td>\n",
       "    </tr>\n",
       "  </tbody>\n",
       "</table>\n",
       "</div>"
      ],
      "text/plain": [
       "                    mpg  cylinders  displacement  horsepower  weight  \\\n",
       "name                                                                   \n",
       "toyota celica gt   32.0          4         144.0          96    2665   \n",
       "dodge charger 2.2  36.0          4         135.0          84    2370   \n",
       "chevrolet camaro   27.0          4         151.0          90    2950   \n",
       "ford mustang gl    27.0          4         140.0          86    2790   \n",
       "vw pickup          44.0          4          97.0          52    2130   \n",
       "dodge rampage      32.0          4         135.0          84    2295   \n",
       "ford ranger        28.0          4         120.0          79    2625   \n",
       "chevy s-10         31.0          4         119.0          82    2720   \n",
       "\n",
       "                   acceleration  year  origin  \n",
       "name                                           \n",
       "toyota celica gt           13.9    82   Japan  \n",
       "dodge charger 2.2          13.0    82     USA  \n",
       "chevrolet camaro           17.3    82     USA  \n",
       "ford mustang gl            15.6    82     USA  \n",
       "vw pickup                  24.6    82  Europe  \n",
       "dodge rampage              11.6    82     USA  \n",
       "ford ranger                18.6    82     USA  \n",
       "chevy s-10                 19.4    82     USA  "
      ]
     },
     "execution_count": 5,
     "metadata": {},
     "output_type": "execute_result"
    }
   ],
   "source": [
    "Auto.tail(8)"
   ]
  },
  {
   "cell_type": "markdown",
   "metadata": {},
   "source": [
    "**(B.2)** Die Methode `info` gibt kurze Informationen zu einem DataFrame, einschliesslich des Index- und des Spalten-Datentyps (*dtypes*), der Anzahl Nicht-Nullwerte und der Speicherauslastung. Führen Sie nun `Auto.info()` aus. "
   ]
  },
  {
   "cell_type": "code",
   "execution_count": 6,
   "metadata": {},
   "outputs": [
    {
     "name": "stdout",
     "output_type": "stream",
     "text": [
      "<class 'pandas.core.frame.DataFrame'>\n",
      "Index: 392 entries, chevrolet chevelle malibu to chevy s-10\n",
      "Data columns (total 8 columns):\n",
      " #   Column        Non-Null Count  Dtype  \n",
      "---  ------        --------------  -----  \n",
      " 0   mpg           392 non-null    float64\n",
      " 1   cylinders     392 non-null    int64  \n",
      " 2   displacement  392 non-null    float64\n",
      " 3   horsepower    392 non-null    int64  \n",
      " 4   weight        392 non-null    int64  \n",
      " 5   acceleration  392 non-null    float64\n",
      " 6   year          392 non-null    int64  \n",
      " 7   origin        392 non-null    object \n",
      "dtypes: float64(3), int64(4), object(1)\n",
      "memory usage: 27.6+ KB\n"
     ]
    }
   ],
   "source": [
    "Auto.info()"
   ]
  },
  {
   "cell_type": "markdown",
   "metadata": {},
   "source": [
    "**(B.3)** Berechnen Sie die mittlere Anzahl Zylinder (`cylinders`) nach Herkunftsgebiet (`origin`) mittels der Methode `groupby`. Was stellen Sie fest?"
   ]
  },
  {
   "cell_type": "code",
   "execution_count": 12,
   "metadata": {},
   "outputs": [
    {
     "data": {
      "text/plain": [
       "origin\n",
       "Europe    4.161765\n",
       "Japan     4.101266\n",
       "USA       6.277551\n",
       "Name: cylinders, dtype: float64"
      ]
     },
     "execution_count": 12,
     "metadata": {},
     "output_type": "execute_result"
    }
   ],
   "source": [
    "Auto.groupby('origin').cylinders.mean()"
   ]
  },
  {
   "cell_type": "markdown",
   "metadata": {},
   "source": [
    "**(B.4)** Berechnen Sie die mittleren Meilen pro Galone  (`mpg`) nach Baujahr der Autos (`year`) und der Herkunftsregion (`origin`). Speichern Sie das Ergebnis im Objekt `Entwicklung_MPG`."
   ]
  },
  {
   "cell_type": "code",
   "execution_count": 19,
   "metadata": {},
   "outputs": [
    {
     "data": {
      "text/plain": [
       "year  origin\n",
       "70    Europe    25.200000\n",
       "      Japan     25.500000\n",
       "      USA       15.272727\n",
       "71    Europe    28.750000\n",
       "      Japan     29.500000\n",
       "      USA       17.736842\n",
       "72    Europe    22.000000\n",
       "      Japan     24.200000\n",
       "      USA       16.277778\n",
       "73    Europe    24.000000\n",
       "      Japan     20.000000\n",
       "      USA       15.034483\n",
       "74    Europe    27.000000\n",
       "      Japan     29.333333\n",
       "      USA       18.142857\n",
       "75    Europe    24.500000\n",
       "      Japan     27.500000\n",
       "      USA       17.550000\n",
       "76    Europe    24.250000\n",
       "      Japan     28.000000\n",
       "      USA       19.431818\n",
       "77    Europe    29.250000\n",
       "      Japan     27.416667\n",
       "      USA       20.722222\n",
       "78    Europe    24.950000\n",
       "      Japan     29.687500\n",
       "      USA       21.772727\n",
       "79    Europe    30.450000\n",
       "      Japan     32.950000\n",
       "      USA       23.478261\n",
       "80    Europe    36.837500\n",
       "      Japan     35.400000\n",
       "      USA       26.300000\n",
       "81    Europe    30.600000\n",
       "      Japan     32.958333\n",
       "      USA       27.530769\n",
       "82    Europe    40.000000\n",
       "      Japan     34.888889\n",
       "      USA       29.789474\n",
       "Name: mpg, dtype: float64"
      ]
     },
     "execution_count": 19,
     "metadata": {},
     "output_type": "execute_result"
    }
   ],
   "source": [
    "Entwicklung_MPG = Auto.groupby(['year', 'origin']).mpg.mean()\n",
    "Entwicklung_MPG"
   ]
  },
  {
   "cell_type": "markdown",
   "metadata": {},
   "source": [
    "**(B.5)** Verwenden Sie die Methode `unstack` auf die Series `Entwicklung_MPG`, welche Sie gerade erstellt haben."
   ]
  },
  {
   "cell_type": "code",
   "execution_count": 20,
   "metadata": {},
   "outputs": [
    {
     "data": {
      "text/html": [
       "<div>\n",
       "<style scoped>\n",
       "    .dataframe tbody tr th:only-of-type {\n",
       "        vertical-align: middle;\n",
       "    }\n",
       "\n",
       "    .dataframe tbody tr th {\n",
       "        vertical-align: top;\n",
       "    }\n",
       "\n",
       "    .dataframe thead th {\n",
       "        text-align: right;\n",
       "    }\n",
       "</style>\n",
       "<table border=\"1\" class=\"dataframe\">\n",
       "  <thead>\n",
       "    <tr style=\"text-align: right;\">\n",
       "      <th>origin</th>\n",
       "      <th>Europe</th>\n",
       "      <th>Japan</th>\n",
       "      <th>USA</th>\n",
       "    </tr>\n",
       "    <tr>\n",
       "      <th>year</th>\n",
       "      <th></th>\n",
       "      <th></th>\n",
       "      <th></th>\n",
       "    </tr>\n",
       "  </thead>\n",
       "  <tbody>\n",
       "    <tr>\n",
       "      <th>70</th>\n",
       "      <td>25.2000</td>\n",
       "      <td>25.500000</td>\n",
       "      <td>15.272727</td>\n",
       "    </tr>\n",
       "    <tr>\n",
       "      <th>71</th>\n",
       "      <td>28.7500</td>\n",
       "      <td>29.500000</td>\n",
       "      <td>17.736842</td>\n",
       "    </tr>\n",
       "    <tr>\n",
       "      <th>72</th>\n",
       "      <td>22.0000</td>\n",
       "      <td>24.200000</td>\n",
       "      <td>16.277778</td>\n",
       "    </tr>\n",
       "    <tr>\n",
       "      <th>73</th>\n",
       "      <td>24.0000</td>\n",
       "      <td>20.000000</td>\n",
       "      <td>15.034483</td>\n",
       "    </tr>\n",
       "    <tr>\n",
       "      <th>74</th>\n",
       "      <td>27.0000</td>\n",
       "      <td>29.333333</td>\n",
       "      <td>18.142857</td>\n",
       "    </tr>\n",
       "    <tr>\n",
       "      <th>75</th>\n",
       "      <td>24.5000</td>\n",
       "      <td>27.500000</td>\n",
       "      <td>17.550000</td>\n",
       "    </tr>\n",
       "    <tr>\n",
       "      <th>76</th>\n",
       "      <td>24.2500</td>\n",
       "      <td>28.000000</td>\n",
       "      <td>19.431818</td>\n",
       "    </tr>\n",
       "    <tr>\n",
       "      <th>77</th>\n",
       "      <td>29.2500</td>\n",
       "      <td>27.416667</td>\n",
       "      <td>20.722222</td>\n",
       "    </tr>\n",
       "    <tr>\n",
       "      <th>78</th>\n",
       "      <td>24.9500</td>\n",
       "      <td>29.687500</td>\n",
       "      <td>21.772727</td>\n",
       "    </tr>\n",
       "    <tr>\n",
       "      <th>79</th>\n",
       "      <td>30.4500</td>\n",
       "      <td>32.950000</td>\n",
       "      <td>23.478261</td>\n",
       "    </tr>\n",
       "    <tr>\n",
       "      <th>80</th>\n",
       "      <td>36.8375</td>\n",
       "      <td>35.400000</td>\n",
       "      <td>26.300000</td>\n",
       "    </tr>\n",
       "    <tr>\n",
       "      <th>81</th>\n",
       "      <td>30.6000</td>\n",
       "      <td>32.958333</td>\n",
       "      <td>27.530769</td>\n",
       "    </tr>\n",
       "    <tr>\n",
       "      <th>82</th>\n",
       "      <td>40.0000</td>\n",
       "      <td>34.888889</td>\n",
       "      <td>29.789474</td>\n",
       "    </tr>\n",
       "  </tbody>\n",
       "</table>\n",
       "</div>"
      ],
      "text/plain": [
       "origin   Europe      Japan        USA\n",
       "year                                 \n",
       "70      25.2000  25.500000  15.272727\n",
       "71      28.7500  29.500000  17.736842\n",
       "72      22.0000  24.200000  16.277778\n",
       "73      24.0000  20.000000  15.034483\n",
       "74      27.0000  29.333333  18.142857\n",
       "75      24.5000  27.500000  17.550000\n",
       "76      24.2500  28.000000  19.431818\n",
       "77      29.2500  27.416667  20.722222\n",
       "78      24.9500  29.687500  21.772727\n",
       "79      30.4500  32.950000  23.478261\n",
       "80      36.8375  35.400000  26.300000\n",
       "81      30.6000  32.958333  27.530769\n",
       "82      40.0000  34.888889  29.789474"
      ]
     },
     "execution_count": 20,
     "metadata": {},
     "output_type": "execute_result"
    }
   ],
   "source": [
    "Entwicklung_MPG.unstack()"
   ]
  },
  {
   "cell_type": "markdown",
   "metadata": {},
   "source": [
    "**(B.6)** Stellen Sie die gerade erstellte Entwicklung der Kraftstoffeffizienz (nach Baujahr), separat nach Herkunftsregion, in *einem* Liniendiagramm dar. Was stellen Sie fest?"
   ]
  },
  {
   "cell_type": "code",
   "execution_count": 23,
   "metadata": {},
   "outputs": [
    {
     "data": {
      "text/plain": [
       "<AxesSubplot:xlabel='year'>"
      ]
     },
     "execution_count": 23,
     "metadata": {},
     "output_type": "execute_result"
    },
    {
     "data": {
      "image/png": "[encoded data removed]",
      "text/plain": [
       "<Figure size 432x288 with 1 Axes>"
      ]
     },
     "metadata": {
      "needs_background": "light"
     },
     "output_type": "display_data"
    }
   ],
   "source": [
    "Entwicklung_MPG.unstack().plot()"
   ]
  },
  {
   "cell_type": "markdown",
   "metadata": {},
   "source": [
    "***"
   ]
  },
  {
   "cell_type": "markdown",
   "metadata": {},
   "source": [
    "**(C.1)** Laden Sie die *simulierten* Lohndaten `dflohn.pkl` im Ordner \"weitere_Daten\" in das DataFrame `dflohn`."
   ]
  },
  {
   "cell_type": "code",
   "execution_count": 24,
   "metadata": {},
   "outputs": [
    {
     "data": {
      "text/html": [
       "<div>\n",
       "<style scoped>\n",
       "    .dataframe tbody tr th:only-of-type {\n",
       "        vertical-align: middle;\n",
       "    }\n",
       "\n",
       "    .dataframe tbody tr th {\n",
       "        vertical-align: top;\n",
       "    }\n",
       "\n",
       "    .dataframe thead th {\n",
       "        text-align: right;\n",
       "    }\n",
       "</style>\n",
       "<table border=\"1\" class=\"dataframe\">\n",
       "  <thead>\n",
       "    <tr style=\"text-align: right;\">\n",
       "      <th></th>\n",
       "      <th>Lohn</th>\n",
       "      <th>Geschlecht</th>\n",
       "      <th>Alter</th>\n",
       "      <th>Zivilstand</th>\n",
       "    </tr>\n",
       "    <tr>\n",
       "      <th>Person</th>\n",
       "      <th></th>\n",
       "      <th></th>\n",
       "      <th></th>\n",
       "      <th></th>\n",
       "    </tr>\n",
       "  </thead>\n",
       "  <tbody>\n",
       "    <tr>\n",
       "      <th>1</th>\n",
       "      <td>4107.0</td>\n",
       "      <td>m</td>\n",
       "      <td>40</td>\n",
       "      <td>g</td>\n",
       "    </tr>\n",
       "    <tr>\n",
       "      <th>2</th>\n",
       "      <td>5454.0</td>\n",
       "      <td>m</td>\n",
       "      <td>47</td>\n",
       "      <td>vw</td>\n",
       "    </tr>\n",
       "    <tr>\n",
       "      <th>3</th>\n",
       "      <td>3719.0</td>\n",
       "      <td>m</td>\n",
       "      <td>41</td>\n",
       "      <td>g</td>\n",
       "    </tr>\n",
       "    <tr>\n",
       "      <th>4</th>\n",
       "      <td>6194.0</td>\n",
       "      <td>m</td>\n",
       "      <td>18</td>\n",
       "      <td>v</td>\n",
       "    </tr>\n",
       "    <tr>\n",
       "      <th>5</th>\n",
       "      <td>NaN</td>\n",
       "      <td>m</td>\n",
       "      <td>27</td>\n",
       "      <td>v</td>\n",
       "    </tr>\n",
       "    <tr>\n",
       "      <th>...</th>\n",
       "      <td>...</td>\n",
       "      <td>...</td>\n",
       "      <td>...</td>\n",
       "      <td>...</td>\n",
       "    </tr>\n",
       "    <tr>\n",
       "      <th>96</th>\n",
       "      <td>7959.0</td>\n",
       "      <td>w</td>\n",
       "      <td>55</td>\n",
       "      <td>v</td>\n",
       "    </tr>\n",
       "    <tr>\n",
       "      <th>97</th>\n",
       "      <td>2673.0</td>\n",
       "      <td>m</td>\n",
       "      <td>18</td>\n",
       "      <td>g</td>\n",
       "    </tr>\n",
       "    <tr>\n",
       "      <th>98</th>\n",
       "      <td>4430.0</td>\n",
       "      <td>m</td>\n",
       "      <td>19</td>\n",
       "      <td>v</td>\n",
       "    </tr>\n",
       "    <tr>\n",
       "      <th>99</th>\n",
       "      <td>6366.0</td>\n",
       "      <td>w</td>\n",
       "      <td>21</td>\n",
       "      <td>g</td>\n",
       "    </tr>\n",
       "    <tr>\n",
       "      <th>100</th>\n",
       "      <td>6488.0</td>\n",
       "      <td>m</td>\n",
       "      <td>24</td>\n",
       "      <td>g</td>\n",
       "    </tr>\n",
       "  </tbody>\n",
       "</table>\n",
       "<p>100 rows × 4 columns</p>\n",
       "</div>"
      ],
      "text/plain": [
       "          Lohn Geschlecht  Alter Zivilstand\n",
       "Person                                     \n",
       "1       4107.0          m     40          g\n",
       "2       5454.0          m     47         vw\n",
       "3       3719.0          m     41          g\n",
       "4       6194.0          m     18          v\n",
       "5          NaN          m     27          v\n",
       "...        ...        ...    ...        ...\n",
       "96      7959.0          w     55          v\n",
       "97      2673.0          m     18          g\n",
       "98      4430.0          m     19          v\n",
       "99      6366.0          w     21          g\n",
       "100     6488.0          m     24          g\n",
       "\n",
       "[100 rows x 4 columns]"
      ]
     },
     "execution_count": 24,
     "metadata": {},
     "output_type": "execute_result"
    }
   ],
   "source": [
    "dflohn = pd.read_pickle('../weitere_Daten/dflohn.pkl')\n",
    "dflohn"
   ]
  },
  {
   "cell_type": "markdown",
   "metadata": {},
   "source": [
    "**(C.2)** Gruppieren Sie das DataFrame `dflohn` nach Geschlecht und Zivilstand. Berechnen Sie dann für jede Gruppe den Medianlohn. Setzen Sie hierzu die `groupby`-Methode ein."
   ]
  },
  {
   "cell_type": "code",
   "execution_count": 25,
   "metadata": {},
   "outputs": [
    {
     "data": {
      "text/plain": [
       "Geschlecht  Zivilstand\n",
       "m           g             4173.0\n",
       "            l             5210.5\n",
       "            v             5058.0\n",
       "            vw            5555.5\n",
       "w           g             4515.5\n",
       "            l             5701.0\n",
       "            v             5824.0\n",
       "            vw            4920.5\n",
       "Name: Lohn, dtype: float64"
      ]
     },
     "execution_count": 25,
     "metadata": {},
     "output_type": "execute_result"
    }
   ],
   "source": [
    "dflohn.groupby(['Geschlecht', 'Zivilstand']).Lohn.median()"
   ]
  },
  {
   "cell_type": "markdown",
   "metadata": {},
   "source": [
    "**(C.3)** Stellen Sie die soeben berechneten Medianlöhne nach Gruppenzugehörigkeit in einem gruppierten Säulendiagramm dar. Tipp: Sie müssen zuerst die `unstack`-Methode auf die Resultate-Series (mit dem hierarchischen Index) anwenden. "
   ]
  },
  {
   "cell_type": "code",
   "execution_count": 28,
   "metadata": {
    "scrolled": true
   },
   "outputs": [
    {
     "data": {
      "text/plain": [
       "<AxesSubplot:xlabel='Geschlecht'>"
      ]
     },
     "execution_count": 28,
     "metadata": {},
     "output_type": "execute_result"
    },
    {
     "data": {
      "image/png": "[encoded data removed]",
      "text/plain": [
       "<Figure size 432x288 with 1 Axes>"
      ]
     },
     "metadata": {
      "needs_background": "light"
     },
     "output_type": "display_data"
    }
   ],
   "source": [
    "dflohn.groupby(['Geschlecht', 'Zivilstand']).Lohn.median().unstack().plot(kind='bar', rot=0)"
   ]
  },
  {
   "cell_type": "markdown",
   "metadata": {},
   "source": [
    "**(C.4)** Berechnen Sie je für Frauen und Männer in `dflohn` das erste, zweite und dritte Quartil (bzw. 25%-, 50%, 75%-Quantil) der Löhne."
   ]
  },
  {
   "cell_type": "code",
   "execution_count": 31,
   "metadata": {
    "scrolled": true
   },
   "outputs": [
    {
     "data": {
      "text/html": [
       "<div>\n",
       "<style scoped>\n",
       "    .dataframe tbody tr th:only-of-type {\n",
       "        vertical-align: middle;\n",
       "    }\n",
       "\n",
       "    .dataframe tbody tr th {\n",
       "        vertical-align: top;\n",
       "    }\n",
       "\n",
       "    .dataframe thead th {\n",
       "        text-align: right;\n",
       "    }\n",
       "</style>\n",
       "<table border=\"1\" class=\"dataframe\">\n",
       "  <thead>\n",
       "    <tr style=\"text-align: right;\">\n",
       "      <th></th>\n",
       "      <th>0.25</th>\n",
       "      <th>0.50</th>\n",
       "      <th>0.75</th>\n",
       "    </tr>\n",
       "    <tr>\n",
       "      <th>Geschlecht</th>\n",
       "      <th></th>\n",
       "      <th></th>\n",
       "      <th></th>\n",
       "    </tr>\n",
       "  </thead>\n",
       "  <tbody>\n",
       "    <tr>\n",
       "      <th>m</th>\n",
       "      <td>4356.0</td>\n",
       "      <td>5454.0</td>\n",
       "      <td>6488.0</td>\n",
       "    </tr>\n",
       "    <tr>\n",
       "      <th>w</th>\n",
       "      <td>4041.0</td>\n",
       "      <td>5053.0</td>\n",
       "      <td>7174.5</td>\n",
       "    </tr>\n",
       "  </tbody>\n",
       "</table>\n",
       "</div>"
      ],
      "text/plain": [
       "              0.25    0.50    0.75\n",
       "Geschlecht                        \n",
       "m           4356.0  5454.0  6488.0\n",
       "w           4041.0  5053.0  7174.5"
      ]
     },
     "execution_count": 31,
     "metadata": {},
     "output_type": "execute_result"
    }
   ],
   "source": [
    "dflohn.groupby('Geschlecht').Lohn.quantile([0.25, 0.5, 0.75]).unstack()"
   ]
  },
  {
   "cell_type": "markdown",
   "metadata": {},
   "source": [
    "**(C.5)** *Exkurs:* Berechnen Sie je für Frauen und Männer in `dflohn` den Mittelwert und den Median der Löhne und beschriften Sie diese Statistiken in der Tabelle entsprechend. Tipp: Methode `agg` verwenden."
   ]
  },
  {
   "cell_type": "code",
   "execution_count": 34,
   "metadata": {},
   "outputs": [
    {
     "data": {
      "text/html": [
       "<div>\n",
       "<style scoped>\n",
       "    .dataframe tbody tr th:only-of-type {\n",
       "        vertical-align: middle;\n",
       "    }\n",
       "\n",
       "    .dataframe tbody tr th {\n",
       "        vertical-align: top;\n",
       "    }\n",
       "\n",
       "    .dataframe thead th {\n",
       "        text-align: right;\n",
       "    }\n",
       "</style>\n",
       "<table border=\"1\" class=\"dataframe\">\n",
       "  <thead>\n",
       "    <tr style=\"text-align: right;\">\n",
       "      <th></th>\n",
       "      <th>mean</th>\n",
       "      <th>median</th>\n",
       "    </tr>\n",
       "    <tr>\n",
       "      <th>Geschlecht</th>\n",
       "      <th></th>\n",
       "      <th></th>\n",
       "    </tr>\n",
       "  </thead>\n",
       "  <tbody>\n",
       "    <tr>\n",
       "      <th>m</th>\n",
       "      <td>5838.918367</td>\n",
       "      <td>5454.0</td>\n",
       "    </tr>\n",
       "    <tr>\n",
       "      <th>w</th>\n",
       "      <td>5850.380000</td>\n",
       "      <td>5053.0</td>\n",
       "    </tr>\n",
       "  </tbody>\n",
       "</table>\n",
       "</div>"
      ],
      "text/plain": [
       "                   mean  median\n",
       "Geschlecht                     \n",
       "m           5838.918367  5454.0\n",
       "w           5850.380000  5053.0"
      ]
     },
     "execution_count": 34,
     "metadata": {},
     "output_type": "execute_result"
    }
   ],
   "source": [
    "dflohn.groupby('Geschlecht').Lohn.agg(['mean', 'median'])"
   ]
  },
  {
   "cell_type": "markdown",
   "metadata": {},
   "source": [
    "***"
   ]
  },
  {
   "cell_type": "markdown",
   "metadata": {},
   "source": [
    "**(D.1)** Die folgende Zeile lädt Index-Daten von SIX Swiss Exchange (https://www.six-swiss-exchange.com/indices/data_centre/shares/spi_de.html). Stellen Sie sicher, dass Sie die Bedeutung von allen Funktions-Argumenten verstehen. "
   ]
  },
  {
   "cell_type": "code",
   "execution_count": 41,
   "metadata": {},
   "outputs": [
    {
     "data": {
      "text/html": [
       "<div>\n",
       "<style scoped>\n",
       "    .dataframe tbody tr th:only-of-type {\n",
       "        vertical-align: middle;\n",
       "    }\n",
       "\n",
       "    .dataframe tbody tr th {\n",
       "        vertical-align: top;\n",
       "    }\n",
       "\n",
       "    .dataframe thead th {\n",
       "        text-align: right;\n",
       "    }\n",
       "</style>\n",
       "<table border=\"1\" class=\"dataframe\">\n",
       "  <thead>\n",
       "    <tr style=\"text-align: right;\">\n",
       "      <th></th>\n",
       "      <th>SPI</th>\n",
       "      <th>SPI_Small_Cap</th>\n",
       "      <th>SPI_Mid_Cap</th>\n",
       "      <th>SPI_Large_Cap</th>\n",
       "    </tr>\n",
       "    <tr>\n",
       "      <th>Date</th>\n",
       "      <th></th>\n",
       "      <th></th>\n",
       "      <th></th>\n",
       "      <th></th>\n",
       "    </tr>\n",
       "  </thead>\n",
       "  <tbody>\n",
       "    <tr>\n",
       "      <th>1996-01-03</th>\n",
       "      <td>2172.31</td>\n",
       "      <td>2170.14</td>\n",
       "      <td>2040.95</td>\n",
       "      <td>2208.62</td>\n",
       "    </tr>\n",
       "    <tr>\n",
       "      <th>1996-01-04</th>\n",
       "      <td>2182.67</td>\n",
       "      <td>2184.72</td>\n",
       "      <td>2049.35</td>\n",
       "      <td>2219.26</td>\n",
       "    </tr>\n",
       "    <tr>\n",
       "      <th>1996-01-05</th>\n",
       "      <td>2175.09</td>\n",
       "      <td>2181.00</td>\n",
       "      <td>2054.88</td>\n",
       "      <td>2208.69</td>\n",
       "    </tr>\n",
       "    <tr>\n",
       "      <th>1996-01-08</th>\n",
       "      <td>2176.68</td>\n",
       "      <td>2194.96</td>\n",
       "      <td>2071.98</td>\n",
       "      <td>2206.46</td>\n",
       "    </tr>\n",
       "    <tr>\n",
       "      <th>1996-01-09</th>\n",
       "      <td>2174.13</td>\n",
       "      <td>2204.00</td>\n",
       "      <td>2077.84</td>\n",
       "      <td>2201.63</td>\n",
       "    </tr>\n",
       "  </tbody>\n",
       "</table>\n",
       "</div>"
      ],
      "text/plain": [
       "                SPI  SPI_Small_Cap  SPI_Mid_Cap  SPI_Large_Cap\n",
       "Date                                                          \n",
       "1996-01-03  2172.31        2170.14      2040.95        2208.62\n",
       "1996-01-04  2182.67        2184.72      2049.35        2219.26\n",
       "1996-01-05  2175.09        2181.00      2054.88        2208.69\n",
       "1996-01-08  2176.68        2194.96      2071.98        2206.46\n",
       "1996-01-09  2174.13        2204.00      2077.84        2201.63"
      ]
     },
     "execution_count": 41,
     "metadata": {},
     "output_type": "execute_result"
    }
   ],
   "source": [
    "Indizes = pd.read_csv('../weitere_Daten/hspitr.csv', \n",
    "                sep=';', index_col=0, parse_dates=True)\n",
    "# Mit parse_daes=True wird versucht, den Index \n",
    "# als Datum (nicht String) umzuwandeln.\n",
    "Indizes.sort_index(inplace=True, ascending=True)\n",
    "Indizes.head()"
   ]
  },
  {
   "cell_type": "markdown",
   "metadata": {},
   "source": [
    "**(D.2)** Stellen Sie den Verlauf der vier Zeitreihen in einem Diagramm dar."
   ]
  },
  {
   "cell_type": "code",
   "execution_count": 42,
   "metadata": {},
   "outputs": [
    {
     "data": {
      "text/plain": [
       "<AxesSubplot:xlabel='Date'>"
      ]
     },
     "execution_count": 42,
     "metadata": {},
     "output_type": "execute_result"
    },
    {
     "data": {
      "image/png": "[encoded data removed]",
      "text/plain": [
       "<Figure size 432x288 with 1 Axes>"
      ]
     },
     "metadata": {
      "needs_background": "light"
     },
     "output_type": "display_data"
    }
   ],
   "source": [
    "Indizes.plot()"
   ]
  },
  {
   "cell_type": "markdown",
   "metadata": {},
   "source": [
    "Man erkennt sehr deutlich (trotz geringfügig unterschiedlichem Startwert), dass sich der Teilindex der kleinkapitalisierten Unternehmungen viel besser entwickelt hat als jener der mittelgrossen Unternehmungen und dieser wiederum besser als der Teilindex der grosskapitalisierten Unternehmungen. \n",
    "\n",
    "Der Index der grosskapitalisierten Unternehmungen entwickelte sich fast identisch zum Gesamtindex (SPI), was darauf zurückzuführen ist, dass die Gewichtung der Large-Caps im Gesamtindex sehr hoch ist."
   ]
  },
  {
   "cell_type": "markdown",
   "metadata": {},
   "source": [
    "**(D.3)** Erstellen Sie das DataFrame `Renditen`, welches die (diskreten) Tagesrenditen der vier Indexreihen umfasst. Verwenden Sie hierzu die Methode `pct_change`. Beseitigen Sie (die entstandenen) Fehlwerte mit der Methode `dropna`."
   ]
  },
  {
   "cell_type": "code",
   "execution_count": 45,
   "metadata": {},
   "outputs": [
    {
     "data": {
      "text/html": [
       "<div>\n",
       "<style scoped>\n",
       "    .dataframe tbody tr th:only-of-type {\n",
       "        vertical-align: middle;\n",
       "    }\n",
       "\n",
       "    .dataframe tbody tr th {\n",
       "        vertical-align: top;\n",
       "    }\n",
       "\n",
       "    .dataframe thead th {\n",
       "        text-align: right;\n",
       "    }\n",
       "</style>\n",
       "<table border=\"1\" class=\"dataframe\">\n",
       "  <thead>\n",
       "    <tr style=\"text-align: right;\">\n",
       "      <th></th>\n",
       "      <th>SPI</th>\n",
       "      <th>SPI_Small_Cap</th>\n",
       "      <th>SPI_Mid_Cap</th>\n",
       "      <th>SPI_Large_Cap</th>\n",
       "    </tr>\n",
       "    <tr>\n",
       "      <th>Date</th>\n",
       "      <th></th>\n",
       "      <th></th>\n",
       "      <th></th>\n",
       "      <th></th>\n",
       "    </tr>\n",
       "  </thead>\n",
       "  <tbody>\n",
       "    <tr>\n",
       "      <th>1996-01-04</th>\n",
       "      <td>0.004769</td>\n",
       "      <td>0.006718</td>\n",
       "      <td>0.004116</td>\n",
       "      <td>0.004817</td>\n",
       "    </tr>\n",
       "    <tr>\n",
       "      <th>1996-01-05</th>\n",
       "      <td>-0.003473</td>\n",
       "      <td>-0.001703</td>\n",
       "      <td>0.002698</td>\n",
       "      <td>-0.004763</td>\n",
       "    </tr>\n",
       "    <tr>\n",
       "      <th>1996-01-08</th>\n",
       "      <td>0.000731</td>\n",
       "      <td>0.006401</td>\n",
       "      <td>0.008322</td>\n",
       "      <td>-0.001010</td>\n",
       "    </tr>\n",
       "    <tr>\n",
       "      <th>1996-01-09</th>\n",
       "      <td>-0.001172</td>\n",
       "      <td>0.004119</td>\n",
       "      <td>0.002828</td>\n",
       "      <td>-0.002189</td>\n",
       "    </tr>\n",
       "    <tr>\n",
       "      <th>1996-01-10</th>\n",
       "      <td>-0.011490</td>\n",
       "      <td>-0.011148</td>\n",
       "      <td>-0.004380</td>\n",
       "      <td>-0.012945</td>\n",
       "    </tr>\n",
       "    <tr>\n",
       "      <th>...</th>\n",
       "      <td>...</td>\n",
       "      <td>...</td>\n",
       "      <td>...</td>\n",
       "      <td>...</td>\n",
       "    </tr>\n",
       "    <tr>\n",
       "      <th>2017-12-21</th>\n",
       "      <td>0.010229</td>\n",
       "      <td>0.003864</td>\n",
       "      <td>0.004034</td>\n",
       "      <td>0.011709</td>\n",
       "    </tr>\n",
       "    <tr>\n",
       "      <th>2017-12-22</th>\n",
       "      <td>-0.002261</td>\n",
       "      <td>0.002385</td>\n",
       "      <td>0.000710</td>\n",
       "      <td>-0.003004</td>\n",
       "    </tr>\n",
       "    <tr>\n",
       "      <th>2017-12-27</th>\n",
       "      <td>0.004424</td>\n",
       "      <td>0.003099</td>\n",
       "      <td>0.005923</td>\n",
       "      <td>0.004137</td>\n",
       "    </tr>\n",
       "    <tr>\n",
       "      <th>2017-12-28</th>\n",
       "      <td>-0.002273</td>\n",
       "      <td>0.001726</td>\n",
       "      <td>-0.001347</td>\n",
       "      <td>-0.002567</td>\n",
       "    </tr>\n",
       "    <tr>\n",
       "      <th>2017-12-29</th>\n",
       "      <td>-0.002589</td>\n",
       "      <td>0.000903</td>\n",
       "      <td>-0.003459</td>\n",
       "      <td>-0.002488</td>\n",
       "    </tr>\n",
       "  </tbody>\n",
       "</table>\n",
       "<p>5533 rows × 4 columns</p>\n",
       "</div>"
      ],
      "text/plain": [
       "                 SPI  SPI_Small_Cap  SPI_Mid_Cap  SPI_Large_Cap\n",
       "Date                                                           \n",
       "1996-01-04  0.004769       0.006718     0.004116       0.004817\n",
       "1996-01-05 -0.003473      -0.001703     0.002698      -0.004763\n",
       "1996-01-08  0.000731       0.006401     0.008322      -0.001010\n",
       "1996-01-09 -0.001172       0.004119     0.002828      -0.002189\n",
       "1996-01-10 -0.011490      -0.011148    -0.004380      -0.012945\n",
       "...              ...            ...          ...            ...\n",
       "2017-12-21  0.010229       0.003864     0.004034       0.011709\n",
       "2017-12-22 -0.002261       0.002385     0.000710      -0.003004\n",
       "2017-12-27  0.004424       0.003099     0.005923       0.004137\n",
       "2017-12-28 -0.002273       0.001726    -0.001347      -0.002567\n",
       "2017-12-29 -0.002589       0.000903    -0.003459      -0.002488\n",
       "\n",
       "[5533 rows x 4 columns]"
      ]
     },
     "execution_count": 45,
     "metadata": {},
     "output_type": "execute_result"
    }
   ],
   "source": [
    "Renditen = Indizes.pct_change() \n",
    "Renditen.dropna()"
   ]
  },
  {
   "cell_type": "markdown",
   "metadata": {},
   "source": [
    "**(D.4)** Charakterisieren Sie die Renditeverteilungen durch den Mittelwert und die Standardabweichung der Tagesrenditen. Was stellen Sie fest? Tipp: Methode `describe` verwenden."
   ]
  },
  {
   "cell_type": "code",
   "execution_count": 73,
   "metadata": {},
   "outputs": [
    {
     "data": {
      "text/html": [
       "<div>\n",
       "<style scoped>\n",
       "    .dataframe tbody tr th:only-of-type {\n",
       "        vertical-align: middle;\n",
       "    }\n",
       "\n",
       "    .dataframe tbody tr th {\n",
       "        vertical-align: top;\n",
       "    }\n",
       "\n",
       "    .dataframe thead th {\n",
       "        text-align: right;\n",
       "    }\n",
       "</style>\n",
       "<table border=\"1\" class=\"dataframe\">\n",
       "  <thead>\n",
       "    <tr style=\"text-align: right;\">\n",
       "      <th></th>\n",
       "      <th>SPI</th>\n",
       "      <th>SPI_Small_Cap</th>\n",
       "      <th>SPI_Mid_Cap</th>\n",
       "      <th>SPI_Large_Cap</th>\n",
       "    </tr>\n",
       "  </thead>\n",
       "  <tbody>\n",
       "    <tr>\n",
       "      <th>mean</th>\n",
       "      <td>0.000351</td>\n",
       "      <td>0.000479</td>\n",
       "      <td>0.000424</td>\n",
       "      <td>0.000343</td>\n",
       "    </tr>\n",
       "    <tr>\n",
       "      <th>std</th>\n",
       "      <td>0.011159</td>\n",
       "      <td>0.006058</td>\n",
       "      <td>0.009555</td>\n",
       "      <td>0.011836</td>\n",
       "    </tr>\n",
       "  </tbody>\n",
       "</table>\n",
       "</div>"
      ],
      "text/plain": [
       "           SPI  SPI_Small_Cap  SPI_Mid_Cap  SPI_Large_Cap\n",
       "mean  0.000351       0.000479     0.000424       0.000343\n",
       "std   0.011159       0.006058     0.009555       0.011836"
      ]
     },
     "execution_count": 73,
     "metadata": {},
     "output_type": "execute_result"
    }
   ],
   "source": [
    "Renditen.describe()[1:3]"
   ]
  },
  {
   "cell_type": "markdown",
   "metadata": {},
   "source": [
    "**(D.5)** Stellen Sie die zwei Verteilungen der Tagresrenditen des SPI-Large-Cap und des SPI-Small-Cap in einem Diagramm dar. Wählen Sie hierzu Kernel-Density-Plots (`.plot.density()`) und einen Renditebereich von -5% bis 5% (`xlim=[-0.05, 0.05]`)."
   ]
  },
  {
   "cell_type": "code",
   "execution_count": 48,
   "metadata": {},
   "outputs": [
    {
     "data": {
      "text/plain": [
       "<AxesSubplot:ylabel='Density'>"
      ]
     },
     "execution_count": 48,
     "metadata": {},
     "output_type": "execute_result"
    },
    {
     "data": {
      "image/png": "[encoded data removed]",
      "text/plain": [
       "<Figure size 432x288 with 1 Axes>"
      ]
     },
     "metadata": {
      "needs_background": "light"
     },
     "output_type": "display_data"
    }
   ],
   "source": [
    "Renditen[['SPI_Small_Cap', 'SPI_Large_Cap']].plot.density(xlim=[-0.05,0.05])"
   ]
  },
  {
   "cell_type": "markdown",
   "metadata": {},
   "source": [
    "Man sieht deutlich die geringere Streuung der Small-Cap-Renditen im Vergleich zu den Large-Cap-Renditen."
   ]
  },
  {
   "cell_type": "markdown",
   "metadata": {},
   "source": [
    "**(D.6)** Mit `Renditen.index.year` können die einzelnen *Jahre* aus dem Datum (Index) extrahiert werden. (Mehr dazu erfahren Sie im nächsten Kapitel.) Berechnen Sie hiermit die Median-Renditen der vier Indizes *gruppiert nach Jahren*."
   ]
  },
  {
   "cell_type": "code",
   "execution_count": 70,
   "metadata": {
    "scrolled": true
   },
   "outputs": [
    {
     "data": {
      "text/html": [
       "<div>\n",
       "<style scoped>\n",
       "    .dataframe tbody tr th:only-of-type {\n",
       "        vertical-align: middle;\n",
       "    }\n",
       "\n",
       "    .dataframe tbody tr th {\n",
       "        vertical-align: top;\n",
       "    }\n",
       "\n",
       "    .dataframe thead th {\n",
       "        text-align: right;\n",
       "    }\n",
       "</style>\n",
       "<table border=\"1\" class=\"dataframe\">\n",
       "  <thead>\n",
       "    <tr style=\"text-align: right;\">\n",
       "      <th></th>\n",
       "      <th>SPI</th>\n",
       "      <th>SPI_Small_Cap</th>\n",
       "      <th>SPI_Mid_Cap</th>\n",
       "      <th>SPI_Large_Cap</th>\n",
       "    </tr>\n",
       "    <tr>\n",
       "      <th>Date</th>\n",
       "      <th></th>\n",
       "      <th></th>\n",
       "      <th></th>\n",
       "      <th></th>\n",
       "    </tr>\n",
       "  </thead>\n",
       "  <tbody>\n",
       "    <tr>\n",
       "      <th>1996</th>\n",
       "      <td>0.001243</td>\n",
       "      <td>0.000587</td>\n",
       "      <td>0.000656</td>\n",
       "      <td>0.001304</td>\n",
       "    </tr>\n",
       "    <tr>\n",
       "      <th>1997</th>\n",
       "      <td>0.002545</td>\n",
       "      <td>0.001242</td>\n",
       "      <td>0.002146</td>\n",
       "      <td>0.002639</td>\n",
       "    </tr>\n",
       "    <tr>\n",
       "      <th>1998</th>\n",
       "      <td>0.001506</td>\n",
       "      <td>0.001565</td>\n",
       "      <td>0.001899</td>\n",
       "      <td>0.001126</td>\n",
       "    </tr>\n",
       "    <tr>\n",
       "      <th>1999</th>\n",
       "      <td>0.000645</td>\n",
       "      <td>0.001771</td>\n",
       "      <td>0.001101</td>\n",
       "      <td>0.000493</td>\n",
       "    </tr>\n",
       "    <tr>\n",
       "      <th>2000</th>\n",
       "      <td>0.000511</td>\n",
       "      <td>0.000395</td>\n",
       "      <td>0.001975</td>\n",
       "      <td>0.000143</td>\n",
       "    </tr>\n",
       "    <tr>\n",
       "      <th>2001</th>\n",
       "      <td>-0.000362</td>\n",
       "      <td>-0.000549</td>\n",
       "      <td>-0.001071</td>\n",
       "      <td>-0.000635</td>\n",
       "    </tr>\n",
       "    <tr>\n",
       "      <th>2002</th>\n",
       "      <td>-0.001107</td>\n",
       "      <td>-0.000532</td>\n",
       "      <td>-0.000409</td>\n",
       "      <td>-0.001430</td>\n",
       "    </tr>\n",
       "    <tr>\n",
       "      <th>2003</th>\n",
       "      <td>0.000816</td>\n",
       "      <td>0.001348</td>\n",
       "      <td>0.001114</td>\n",
       "      <td>0.001044</td>\n",
       "    </tr>\n",
       "    <tr>\n",
       "      <th>2004</th>\n",
       "      <td>0.000487</td>\n",
       "      <td>0.001004</td>\n",
       "      <td>0.001177</td>\n",
       "      <td>0.000356</td>\n",
       "    </tr>\n",
       "    <tr>\n",
       "      <th>2005</th>\n",
       "      <td>0.001244</td>\n",
       "      <td>0.001262</td>\n",
       "      <td>0.001565</td>\n",
       "      <td>0.001368</td>\n",
       "    </tr>\n",
       "    <tr>\n",
       "      <th>2006</th>\n",
       "      <td>0.001328</td>\n",
       "      <td>0.001923</td>\n",
       "      <td>0.001746</td>\n",
       "      <td>0.001225</td>\n",
       "    </tr>\n",
       "    <tr>\n",
       "      <th>2007</th>\n",
       "      <td>0.000895</td>\n",
       "      <td>0.001043</td>\n",
       "      <td>0.001691</td>\n",
       "      <td>0.000776</td>\n",
       "    </tr>\n",
       "    <tr>\n",
       "      <th>2008</th>\n",
       "      <td>-0.002196</td>\n",
       "      <td>-0.000607</td>\n",
       "      <td>-0.002095</td>\n",
       "      <td>-0.002387</td>\n",
       "    </tr>\n",
       "    <tr>\n",
       "      <th>2009</th>\n",
       "      <td>0.001273</td>\n",
       "      <td>0.001226</td>\n",
       "      <td>0.002138</td>\n",
       "      <td>0.001021</td>\n",
       "    </tr>\n",
       "    <tr>\n",
       "      <th>2010</th>\n",
       "      <td>0.000404</td>\n",
       "      <td>0.000946</td>\n",
       "      <td>0.001383</td>\n",
       "      <td>0.000342</td>\n",
       "    </tr>\n",
       "    <tr>\n",
       "      <th>2011</th>\n",
       "      <td>0.000657</td>\n",
       "      <td>0.000383</td>\n",
       "      <td>-0.000172</td>\n",
       "      <td>0.000707</td>\n",
       "    </tr>\n",
       "    <tr>\n",
       "      <th>2012</th>\n",
       "      <td>0.000358</td>\n",
       "      <td>0.000620</td>\n",
       "      <td>0.001145</td>\n",
       "      <td>0.000441</td>\n",
       "    </tr>\n",
       "    <tr>\n",
       "      <th>2013</th>\n",
       "      <td>0.000992</td>\n",
       "      <td>0.001063</td>\n",
       "      <td>0.000851</td>\n",
       "      <td>0.000946</td>\n",
       "    </tr>\n",
       "    <tr>\n",
       "      <th>2014</th>\n",
       "      <td>0.000723</td>\n",
       "      <td>0.001024</td>\n",
       "      <td>0.000901</td>\n",
       "      <td>0.000654</td>\n",
       "    </tr>\n",
       "    <tr>\n",
       "      <th>2015</th>\n",
       "      <td>0.000747</td>\n",
       "      <td>0.000965</td>\n",
       "      <td>0.001317</td>\n",
       "      <td>0.000628</td>\n",
       "    </tr>\n",
       "    <tr>\n",
       "      <th>2016</th>\n",
       "      <td>0.000261</td>\n",
       "      <td>0.000888</td>\n",
       "      <td>0.000881</td>\n",
       "      <td>0.000365</td>\n",
       "    </tr>\n",
       "    <tr>\n",
       "      <th>2017</th>\n",
       "      <td>0.000743</td>\n",
       "      <td>0.000977</td>\n",
       "      <td>0.000933</td>\n",
       "      <td>0.000846</td>\n",
       "    </tr>\n",
       "  </tbody>\n",
       "</table>\n",
       "</div>"
      ],
      "text/plain": [
       "           SPI  SPI_Small_Cap  SPI_Mid_Cap  SPI_Large_Cap\n",
       "Date                                                     \n",
       "1996  0.001243       0.000587     0.000656       0.001304\n",
       "1997  0.002545       0.001242     0.002146       0.002639\n",
       "1998  0.001506       0.001565     0.001899       0.001126\n",
       "1999  0.000645       0.001771     0.001101       0.000493\n",
       "2000  0.000511       0.000395     0.001975       0.000143\n",
       "2001 -0.000362      -0.000549    -0.001071      -0.000635\n",
       "2002 -0.001107      -0.000532    -0.000409      -0.001430\n",
       "2003  0.000816       0.001348     0.001114       0.001044\n",
       "2004  0.000487       0.001004     0.001177       0.000356\n",
       "2005  0.001244       0.001262     0.001565       0.001368\n",
       "2006  0.001328       0.001923     0.001746       0.001225\n",
       "2007  0.000895       0.001043     0.001691       0.000776\n",
       "2008 -0.002196      -0.000607    -0.002095      -0.002387\n",
       "2009  0.001273       0.001226     0.002138       0.001021\n",
       "2010  0.000404       0.000946     0.001383       0.000342\n",
       "2011  0.000657       0.000383    -0.000172       0.000707\n",
       "2012  0.000358       0.000620     0.001145       0.000441\n",
       "2013  0.000992       0.001063     0.000851       0.000946\n",
       "2014  0.000723       0.001024     0.000901       0.000654\n",
       "2015  0.000747       0.000965     0.001317       0.000628\n",
       "2016  0.000261       0.000888     0.000881       0.000365\n",
       "2017  0.000743       0.000977     0.000933       0.000846"
      ]
     },
     "execution_count": 70,
     "metadata": {},
     "output_type": "execute_result"
    }
   ],
   "source": [
    "Renditen.groupby(Renditen.index.year).median()"
   ]
  },
  {
   "cell_type": "markdown",
   "metadata": {},
   "source": [
    "**(D.7)** Berechnen Sie die Standardabweichungen der Renditen der Indizes *gruppiert nach Jahren*."
   ]
  },
  {
   "cell_type": "code",
   "execution_count": 56,
   "metadata": {},
   "outputs": [
    {
     "data": {
      "text/html": [
       "<div>\n",
       "<style scoped>\n",
       "    .dataframe tbody tr th:only-of-type {\n",
       "        vertical-align: middle;\n",
       "    }\n",
       "\n",
       "    .dataframe tbody tr th {\n",
       "        vertical-align: top;\n",
       "    }\n",
       "\n",
       "    .dataframe thead th {\n",
       "        text-align: right;\n",
       "    }\n",
       "</style>\n",
       "<table border=\"1\" class=\"dataframe\">\n",
       "  <thead>\n",
       "    <tr style=\"text-align: right;\">\n",
       "      <th></th>\n",
       "      <th>SPI</th>\n",
       "      <th>SPI_Small_Cap</th>\n",
       "      <th>SPI_Mid_Cap</th>\n",
       "      <th>SPI_Large_Cap</th>\n",
       "    </tr>\n",
       "    <tr>\n",
       "      <th>Date</th>\n",
       "      <th></th>\n",
       "      <th></th>\n",
       "      <th></th>\n",
       "      <th></th>\n",
       "    </tr>\n",
       "  </thead>\n",
       "  <tbody>\n",
       "    <tr>\n",
       "      <th>1996</th>\n",
       "      <td>0.006731</td>\n",
       "      <td>0.003726</td>\n",
       "      <td>0.004492</td>\n",
       "      <td>0.007625</td>\n",
       "    </tr>\n",
       "    <tr>\n",
       "      <th>1997</th>\n",
       "      <td>0.010907</td>\n",
       "      <td>0.005753</td>\n",
       "      <td>0.007899</td>\n",
       "      <td>0.011952</td>\n",
       "    </tr>\n",
       "    <tr>\n",
       "      <th>1998</th>\n",
       "      <td>0.015532</td>\n",
       "      <td>0.007678</td>\n",
       "      <td>0.011252</td>\n",
       "      <td>0.016670</td>\n",
       "    </tr>\n",
       "    <tr>\n",
       "      <th>1999</th>\n",
       "      <td>0.009689</td>\n",
       "      <td>0.004986</td>\n",
       "      <td>0.005327</td>\n",
       "      <td>0.010651</td>\n",
       "    </tr>\n",
       "    <tr>\n",
       "      <th>2000</th>\n",
       "      <td>0.008327</td>\n",
       "      <td>0.008390</td>\n",
       "      <td>0.009566</td>\n",
       "      <td>0.009238</td>\n",
       "    </tr>\n",
       "    <tr>\n",
       "      <th>2001</th>\n",
       "      <td>0.013510</td>\n",
       "      <td>0.005917</td>\n",
       "      <td>0.011118</td>\n",
       "      <td>0.014531</td>\n",
       "    </tr>\n",
       "    <tr>\n",
       "      <th>2002</th>\n",
       "      <td>0.017071</td>\n",
       "      <td>0.006894</td>\n",
       "      <td>0.012498</td>\n",
       "      <td>0.018214</td>\n",
       "    </tr>\n",
       "    <tr>\n",
       "      <th>2003</th>\n",
       "      <td>0.013295</td>\n",
       "      <td>0.004997</td>\n",
       "      <td>0.009589</td>\n",
       "      <td>0.014249</td>\n",
       "    </tr>\n",
       "    <tr>\n",
       "      <th>2004</th>\n",
       "      <td>0.007503</td>\n",
       "      <td>0.004007</td>\n",
       "      <td>0.006517</td>\n",
       "      <td>0.007983</td>\n",
       "    </tr>\n",
       "    <tr>\n",
       "      <th>2005</th>\n",
       "      <td>0.005630</td>\n",
       "      <td>0.003540</td>\n",
       "      <td>0.005532</td>\n",
       "      <td>0.005948</td>\n",
       "    </tr>\n",
       "    <tr>\n",
       "      <th>2006</th>\n",
       "      <td>0.007795</td>\n",
       "      <td>0.005472</td>\n",
       "      <td>0.008278</td>\n",
       "      <td>0.008040</td>\n",
       "    </tr>\n",
       "    <tr>\n",
       "      <th>2007</th>\n",
       "      <td>0.009533</td>\n",
       "      <td>0.006964</td>\n",
       "      <td>0.010393</td>\n",
       "      <td>0.009734</td>\n",
       "    </tr>\n",
       "    <tr>\n",
       "      <th>2008</th>\n",
       "      <td>0.020939</td>\n",
       "      <td>0.009762</td>\n",
       "      <td>0.016687</td>\n",
       "      <td>0.022244</td>\n",
       "    </tr>\n",
       "    <tr>\n",
       "      <th>2009</th>\n",
       "      <td>0.012071</td>\n",
       "      <td>0.006428</td>\n",
       "      <td>0.010960</td>\n",
       "      <td>0.012710</td>\n",
       "    </tr>\n",
       "    <tr>\n",
       "      <th>2010</th>\n",
       "      <td>0.008977</td>\n",
       "      <td>0.004826</td>\n",
       "      <td>0.008986</td>\n",
       "      <td>0.009312</td>\n",
       "    </tr>\n",
       "    <tr>\n",
       "      <th>2011</th>\n",
       "      <td>0.012745</td>\n",
       "      <td>0.007369</td>\n",
       "      <td>0.013245</td>\n",
       "      <td>0.012960</td>\n",
       "    </tr>\n",
       "    <tr>\n",
       "      <th>2012</th>\n",
       "      <td>0.007033</td>\n",
       "      <td>0.004100</td>\n",
       "      <td>0.008030</td>\n",
       "      <td>0.007157</td>\n",
       "    </tr>\n",
       "    <tr>\n",
       "      <th>2013</th>\n",
       "      <td>0.008393</td>\n",
       "      <td>0.004510</td>\n",
       "      <td>0.007113</td>\n",
       "      <td>0.008793</td>\n",
       "    </tr>\n",
       "    <tr>\n",
       "      <th>2014</th>\n",
       "      <td>0.006948</td>\n",
       "      <td>0.005526</td>\n",
       "      <td>0.006920</td>\n",
       "      <td>0.007175</td>\n",
       "    </tr>\n",
       "    <tr>\n",
       "      <th>2015</th>\n",
       "      <td>0.012480</td>\n",
       "      <td>0.006498</td>\n",
       "      <td>0.010555</td>\n",
       "      <td>0.013042</td>\n",
       "    </tr>\n",
       "    <tr>\n",
       "      <th>2016</th>\n",
       "      <td>0.009892</td>\n",
       "      <td>0.006149</td>\n",
       "      <td>0.009154</td>\n",
       "      <td>0.010333</td>\n",
       "    </tr>\n",
       "    <tr>\n",
       "      <th>2017</th>\n",
       "      <td>0.005520</td>\n",
       "      <td>0.004254</td>\n",
       "      <td>0.005876</td>\n",
       "      <td>0.005749</td>\n",
       "    </tr>\n",
       "  </tbody>\n",
       "</table>\n",
       "</div>"
      ],
      "text/plain": [
       "           SPI  SPI_Small_Cap  SPI_Mid_Cap  SPI_Large_Cap\n",
       "Date                                                     \n",
       "1996  0.006731       0.003726     0.004492       0.007625\n",
       "1997  0.010907       0.005753     0.007899       0.011952\n",
       "1998  0.015532       0.007678     0.011252       0.016670\n",
       "1999  0.009689       0.004986     0.005327       0.010651\n",
       "2000  0.008327       0.008390     0.009566       0.009238\n",
       "2001  0.013510       0.005917     0.011118       0.014531\n",
       "2002  0.017071       0.006894     0.012498       0.018214\n",
       "2003  0.013295       0.004997     0.009589       0.014249\n",
       "2004  0.007503       0.004007     0.006517       0.007983\n",
       "2005  0.005630       0.003540     0.005532       0.005948\n",
       "2006  0.007795       0.005472     0.008278       0.008040\n",
       "2007  0.009533       0.006964     0.010393       0.009734\n",
       "2008  0.020939       0.009762     0.016687       0.022244\n",
       "2009  0.012071       0.006428     0.010960       0.012710\n",
       "2010  0.008977       0.004826     0.008986       0.009312\n",
       "2011  0.012745       0.007369     0.013245       0.012960\n",
       "2012  0.007033       0.004100     0.008030       0.007157\n",
       "2013  0.008393       0.004510     0.007113       0.008793\n",
       "2014  0.006948       0.005526     0.006920       0.007175\n",
       "2015  0.012480       0.006498     0.010555       0.013042\n",
       "2016  0.009892       0.006149     0.009154       0.010333\n",
       "2017  0.005520       0.004254     0.005876       0.005749"
      ]
     },
     "execution_count": 56,
     "metadata": {},
     "output_type": "execute_result"
    }
   ],
   "source": [
    "Renditen.groupby(Renditen.index.year).std()"
   ]
  },
  {
   "cell_type": "markdown",
   "metadata": {},
   "source": [
    "**(D.8)** Stellen Sie die Entwicklung der Standardabweichungen des SPI pro Jahr in einem Liniendiagramm dar. Was stellen Sie fest?"
   ]
  },
  {
   "cell_type": "code",
   "execution_count": 57,
   "metadata": {},
   "outputs": [
    {
     "data": {
      "text/plain": [
       "<AxesSubplot:xlabel='Date'>"
      ]
     },
     "execution_count": 57,
     "metadata": {},
     "output_type": "execute_result"
    },
    {
     "data": {
      "image/png": "[encoded data removed]",
      "text/plain": [
       "<Figure size 432x288 with 1 Axes>"
      ]
     },
     "metadata": {
      "needs_background": "light"
     },
     "output_type": "display_data"
    }
   ],
   "source": [
    "Renditen.groupby(Renditen.index.year).SPI.std().plot()"
   ]
  },
  {
   "cell_type": "markdown",
   "metadata": {},
   "source": [
    "***"
   ]
  },
  {
   "cell_type": "markdown",
   "metadata": {},
   "source": [
    "Zum Schluss untersuchen wir nochmals den Datensatz `Auto`."
   ]
  },
  {
   "cell_type": "code",
   "execution_count": 58,
   "metadata": {},
   "outputs": [
    {
     "data": {
      "text/html": [
       "<div>\n",
       "<style scoped>\n",
       "    .dataframe tbody tr th:only-of-type {\n",
       "        vertical-align: middle;\n",
       "    }\n",
       "\n",
       "    .dataframe tbody tr th {\n",
       "        vertical-align: top;\n",
       "    }\n",
       "\n",
       "    .dataframe thead th {\n",
       "        text-align: right;\n",
       "    }\n",
       "</style>\n",
       "<table border=\"1\" class=\"dataframe\">\n",
       "  <thead>\n",
       "    <tr style=\"text-align: right;\">\n",
       "      <th></th>\n",
       "      <th>mpg</th>\n",
       "      <th>cylinders</th>\n",
       "      <th>displacement</th>\n",
       "      <th>horsepower</th>\n",
       "      <th>weight</th>\n",
       "      <th>acceleration</th>\n",
       "      <th>year</th>\n",
       "      <th>origin</th>\n",
       "    </tr>\n",
       "    <tr>\n",
       "      <th>name</th>\n",
       "      <th></th>\n",
       "      <th></th>\n",
       "      <th></th>\n",
       "      <th></th>\n",
       "      <th></th>\n",
       "      <th></th>\n",
       "      <th></th>\n",
       "      <th></th>\n",
       "    </tr>\n",
       "  </thead>\n",
       "  <tbody>\n",
       "    <tr>\n",
       "      <th>chevrolet chevelle malibu</th>\n",
       "      <td>18.0</td>\n",
       "      <td>8</td>\n",
       "      <td>307.0</td>\n",
       "      <td>130</td>\n",
       "      <td>3504</td>\n",
       "      <td>12.0</td>\n",
       "      <td>70</td>\n",
       "      <td>USA</td>\n",
       "    </tr>\n",
       "    <tr>\n",
       "      <th>buick skylark 320</th>\n",
       "      <td>15.0</td>\n",
       "      <td>8</td>\n",
       "      <td>350.0</td>\n",
       "      <td>165</td>\n",
       "      <td>3693</td>\n",
       "      <td>11.5</td>\n",
       "      <td>70</td>\n",
       "      <td>USA</td>\n",
       "    </tr>\n",
       "    <tr>\n",
       "      <th>plymouth satellite</th>\n",
       "      <td>18.0</td>\n",
       "      <td>8</td>\n",
       "      <td>318.0</td>\n",
       "      <td>150</td>\n",
       "      <td>3436</td>\n",
       "      <td>11.0</td>\n",
       "      <td>70</td>\n",
       "      <td>USA</td>\n",
       "    </tr>\n",
       "    <tr>\n",
       "      <th>amc rebel sst</th>\n",
       "      <td>16.0</td>\n",
       "      <td>8</td>\n",
       "      <td>304.0</td>\n",
       "      <td>150</td>\n",
       "      <td>3433</td>\n",
       "      <td>12.0</td>\n",
       "      <td>70</td>\n",
       "      <td>USA</td>\n",
       "    </tr>\n",
       "    <tr>\n",
       "      <th>ford torino</th>\n",
       "      <td>17.0</td>\n",
       "      <td>8</td>\n",
       "      <td>302.0</td>\n",
       "      <td>140</td>\n",
       "      <td>3449</td>\n",
       "      <td>10.5</td>\n",
       "      <td>70</td>\n",
       "      <td>USA</td>\n",
       "    </tr>\n",
       "  </tbody>\n",
       "</table>\n",
       "</div>"
      ],
      "text/plain": [
       "                            mpg  cylinders  displacement  horsepower  weight  \\\n",
       "name                                                                           \n",
       "chevrolet chevelle malibu  18.0          8         307.0         130    3504   \n",
       "buick skylark 320          15.0          8         350.0         165    3693   \n",
       "plymouth satellite         18.0          8         318.0         150    3436   \n",
       "amc rebel sst              16.0          8         304.0         150    3433   \n",
       "ford torino                17.0          8         302.0         140    3449   \n",
       "\n",
       "                           acceleration  year origin  \n",
       "name                                                  \n",
       "chevrolet chevelle malibu          12.0    70    USA  \n",
       "buick skylark 320                  11.5    70    USA  \n",
       "plymouth satellite                 11.0    70    USA  \n",
       "amc rebel sst                      12.0    70    USA  \n",
       "ford torino                        10.5    70    USA  "
      ]
     },
     "execution_count": 58,
     "metadata": {},
     "output_type": "execute_result"
    }
   ],
   "source": [
    "# Ausgangslage:\n",
    "Auto.head()"
   ]
  },
  {
   "cell_type": "markdown",
   "metadata": {},
   "source": [
    "**(E.1)** Erstellen Sie eine (eindimensionale) Häufigkeitsverteilung der kategorialen Variable `origin` (Herstellerland)."
   ]
  },
  {
   "cell_type": "code",
   "execution_count": 60,
   "metadata": {},
   "outputs": [
    {
     "data": {
      "text/plain": [
       "origin\n",
       "USA       245\n",
       "Japan      79\n",
       "Europe     68\n",
       "dtype: int64"
      ]
     },
     "execution_count": 60,
     "metadata": {},
     "output_type": "execute_result"
    }
   ],
   "source": [
    "Auto.value_counts('origin')"
   ]
  },
  {
   "cell_type": "markdown",
   "metadata": {},
   "source": [
    "Wir erstellen nun eine (zweidimensionale) Kreuztabelle, welche die empirische Verteilung bezüglich Herstellerland (`origin`) und Anzahl Zylinder (`cylinders`) aufzeigt."
   ]
  },
  {
   "cell_type": "code",
   "execution_count": 61,
   "metadata": {},
   "outputs": [
    {
     "data": {
      "text/html": [
       "<div>\n",
       "<style scoped>\n",
       "    .dataframe tbody tr th:only-of-type {\n",
       "        vertical-align: middle;\n",
       "    }\n",
       "\n",
       "    .dataframe tbody tr th {\n",
       "        vertical-align: top;\n",
       "    }\n",
       "\n",
       "    .dataframe thead th {\n",
       "        text-align: right;\n",
       "    }\n",
       "</style>\n",
       "<table border=\"1\" class=\"dataframe\">\n",
       "  <thead>\n",
       "    <tr style=\"text-align: right;\">\n",
       "      <th>cylinders</th>\n",
       "      <th>3</th>\n",
       "      <th>4</th>\n",
       "      <th>5</th>\n",
       "      <th>6</th>\n",
       "      <th>8</th>\n",
       "      <th>All</th>\n",
       "    </tr>\n",
       "    <tr>\n",
       "      <th>origin</th>\n",
       "      <th></th>\n",
       "      <th></th>\n",
       "      <th></th>\n",
       "      <th></th>\n",
       "      <th></th>\n",
       "      <th></th>\n",
       "    </tr>\n",
       "  </thead>\n",
       "  <tbody>\n",
       "    <tr>\n",
       "      <th>Europe</th>\n",
       "      <td>0</td>\n",
       "      <td>61</td>\n",
       "      <td>3</td>\n",
       "      <td>4</td>\n",
       "      <td>0</td>\n",
       "      <td>68</td>\n",
       "    </tr>\n",
       "    <tr>\n",
       "      <th>Japan</th>\n",
       "      <td>4</td>\n",
       "      <td>69</td>\n",
       "      <td>0</td>\n",
       "      <td>6</td>\n",
       "      <td>0</td>\n",
       "      <td>79</td>\n",
       "    </tr>\n",
       "    <tr>\n",
       "      <th>USA</th>\n",
       "      <td>0</td>\n",
       "      <td>69</td>\n",
       "      <td>0</td>\n",
       "      <td>73</td>\n",
       "      <td>103</td>\n",
       "      <td>245</td>\n",
       "    </tr>\n",
       "    <tr>\n",
       "      <th>All</th>\n",
       "      <td>4</td>\n",
       "      <td>199</td>\n",
       "      <td>3</td>\n",
       "      <td>83</td>\n",
       "      <td>103</td>\n",
       "      <td>392</td>\n",
       "    </tr>\n",
       "  </tbody>\n",
       "</table>\n",
       "</div>"
      ],
      "text/plain": [
       "cylinders  3    4  5   6    8  All\n",
       "origin                            \n",
       "Europe     0   61  3   4    0   68\n",
       "Japan      4   69  0   6    0   79\n",
       "USA        0   69  0  73  103  245\n",
       "All        4  199  3  83  103  392"
      ]
     },
     "execution_count": 61,
     "metadata": {},
     "output_type": "execute_result"
    }
   ],
   "source": [
    "pd.crosstab(Auto.origin, Auto.cylinders, margins=True)"
   ]
  },
  {
   "cell_type": "markdown",
   "metadata": {},
   "source": [
    "Lesebeispiel: Es gibt 61 Autos, die aus Europa kommen *und* 4 Zylinder haben."
   ]
  },
  {
   "cell_type": "markdown",
   "metadata": {},
   "source": [
    "**(E.2)** Erstellen Sie die gleiche Tabelle wie oben aber mit *relativen* statt aboluten Häufigkeiten. Runden Sie die relativen Häufigkeiten auf zwei Nachkommastellen."
   ]
  },
  {
   "cell_type": "code",
   "execution_count": 69,
   "metadata": {},
   "outputs": [
    {
     "data": {
      "text/html": [
       "<div>\n",
       "<style scoped>\n",
       "    .dataframe tbody tr th:only-of-type {\n",
       "        vertical-align: middle;\n",
       "    }\n",
       "\n",
       "    .dataframe tbody tr th {\n",
       "        vertical-align: top;\n",
       "    }\n",
       "\n",
       "    .dataframe thead th {\n",
       "        text-align: right;\n",
       "    }\n",
       "</style>\n",
       "<table border=\"1\" class=\"dataframe\">\n",
       "  <thead>\n",
       "    <tr style=\"text-align: right;\">\n",
       "      <th>cylinders</th>\n",
       "      <th>3</th>\n",
       "      <th>4</th>\n",
       "      <th>5</th>\n",
       "      <th>6</th>\n",
       "      <th>8</th>\n",
       "      <th>All</th>\n",
       "    </tr>\n",
       "    <tr>\n",
       "      <th>origin</th>\n",
       "      <th></th>\n",
       "      <th></th>\n",
       "      <th></th>\n",
       "      <th></th>\n",
       "      <th></th>\n",
       "      <th></th>\n",
       "    </tr>\n",
       "  </thead>\n",
       "  <tbody>\n",
       "    <tr>\n",
       "      <th>Europe</th>\n",
       "      <td>0.00</td>\n",
       "      <td>0.16</td>\n",
       "      <td>0.01</td>\n",
       "      <td>0.01</td>\n",
       "      <td>0.00</td>\n",
       "      <td>0.17</td>\n",
       "    </tr>\n",
       "    <tr>\n",
       "      <th>Japan</th>\n",
       "      <td>0.01</td>\n",
       "      <td>0.18</td>\n",
       "      <td>0.00</td>\n",
       "      <td>0.02</td>\n",
       "      <td>0.00</td>\n",
       "      <td>0.20</td>\n",
       "    </tr>\n",
       "    <tr>\n",
       "      <th>USA</th>\n",
       "      <td>0.00</td>\n",
       "      <td>0.18</td>\n",
       "      <td>0.00</td>\n",
       "      <td>0.19</td>\n",
       "      <td>0.26</td>\n",
       "      <td>0.62</td>\n",
       "    </tr>\n",
       "    <tr>\n",
       "      <th>All</th>\n",
       "      <td>0.01</td>\n",
       "      <td>0.51</td>\n",
       "      <td>0.01</td>\n",
       "      <td>0.21</td>\n",
       "      <td>0.26</td>\n",
       "      <td>1.00</td>\n",
       "    </tr>\n",
       "  </tbody>\n",
       "</table>\n",
       "</div>"
      ],
      "text/plain": [
       "cylinders     3     4     5     6     8   All\n",
       "origin                                       \n",
       "Europe     0.00  0.16  0.01  0.01  0.00  0.17\n",
       "Japan      0.01  0.18  0.00  0.02  0.00  0.20\n",
       "USA        0.00  0.18  0.00  0.19  0.26  0.62\n",
       "All        0.01  0.51  0.01  0.21  0.26  1.00"
      ]
     },
     "execution_count": 69,
     "metadata": {},
     "output_type": "execute_result"
    }
   ],
   "source": [
    "pd.crosstab(Auto.origin, Auto.cylinders, margins=True, normalize=True).round(2)"
   ]
  },
  {
   "cell_type": "markdown",
   "metadata": {},
   "source": [
    "Lesebeispiel: 16 Prozent der Autos (im Datensatz) stammen aus Europa und haben 4 Zylinder."
   ]
  },
  {
   "cell_type": "markdown",
   "metadata": {},
   "source": [
    "**(E.3)** Wie sind die relativen Häufigkeiten der folgenden Tabelle zu interpretieren?"
   ]
  },
  {
   "cell_type": "code",
   "execution_count": 64,
   "metadata": {},
   "outputs": [
    {
     "data": {
      "text/html": [
       "<div>\n",
       "<style scoped>\n",
       "    .dataframe tbody tr th:only-of-type {\n",
       "        vertical-align: middle;\n",
       "    }\n",
       "\n",
       "    .dataframe tbody tr th {\n",
       "        vertical-align: top;\n",
       "    }\n",
       "\n",
       "    .dataframe thead th {\n",
       "        text-align: right;\n",
       "    }\n",
       "</style>\n",
       "<table border=\"1\" class=\"dataframe\">\n",
       "  <thead>\n",
       "    <tr style=\"text-align: right;\">\n",
       "      <th>cylinders</th>\n",
       "      <th>3</th>\n",
       "      <th>4</th>\n",
       "      <th>5</th>\n",
       "      <th>6</th>\n",
       "      <th>8</th>\n",
       "      <th>All</th>\n",
       "    </tr>\n",
       "    <tr>\n",
       "      <th>origin</th>\n",
       "      <th></th>\n",
       "      <th></th>\n",
       "      <th></th>\n",
       "      <th></th>\n",
       "      <th></th>\n",
       "      <th></th>\n",
       "    </tr>\n",
       "  </thead>\n",
       "  <tbody>\n",
       "    <tr>\n",
       "      <th>Europe</th>\n",
       "      <td>0.0</td>\n",
       "      <td>0.31</td>\n",
       "      <td>1.0</td>\n",
       "      <td>0.05</td>\n",
       "      <td>0.0</td>\n",
       "      <td>0.17</td>\n",
       "    </tr>\n",
       "    <tr>\n",
       "      <th>Japan</th>\n",
       "      <td>1.0</td>\n",
       "      <td>0.35</td>\n",
       "      <td>0.0</td>\n",
       "      <td>0.07</td>\n",
       "      <td>0.0</td>\n",
       "      <td>0.20</td>\n",
       "    </tr>\n",
       "    <tr>\n",
       "      <th>USA</th>\n",
       "      <td>0.0</td>\n",
       "      <td>0.35</td>\n",
       "      <td>0.0</td>\n",
       "      <td>0.88</td>\n",
       "      <td>1.0</td>\n",
       "      <td>0.62</td>\n",
       "    </tr>\n",
       "  </tbody>\n",
       "</table>\n",
       "</div>"
      ],
      "text/plain": [
       "cylinders    3     4    5     6    8   All\n",
       "origin                                    \n",
       "Europe     0.0  0.31  1.0  0.05  0.0  0.17\n",
       "Japan      1.0  0.35  0.0  0.07  0.0  0.20\n",
       "USA        0.0  0.35  0.0  0.88  1.0  0.62"
      ]
     },
     "execution_count": 64,
     "metadata": {},
     "output_type": "execute_result"
    }
   ],
   "source": [
    "tab = pd.crosstab(Auto.origin, Auto.cylinders, \n",
    "            normalize='columns', margins=True)\n",
    "tab.round(2)"
   ]
  },
  {
   "cell_type": "markdown",
   "metadata": {},
   "source": []
  },
  {
   "cell_type": "markdown",
   "metadata": {},
   "source": [
    "**(E.4)** Berechnen Sie nun nochmals die mittleren Meilen pro Galone  (`mpg`) nach Baujahr der Autos (`year`) und der Herkunftsregion (`origin`). Verwenden Sie nun die Methode `pivot_table` statt `groupby`."
   ]
  },
  {
   "cell_type": "code",
   "execution_count": 68,
   "metadata": {},
   "outputs": [
    {
     "data": {
      "text/html": [
       "<div>\n",
       "<style scoped>\n",
       "    .dataframe tbody tr th:only-of-type {\n",
       "        vertical-align: middle;\n",
       "    }\n",
       "\n",
       "    .dataframe tbody tr th {\n",
       "        vertical-align: top;\n",
       "    }\n",
       "\n",
       "    .dataframe thead th {\n",
       "        text-align: right;\n",
       "    }\n",
       "</style>\n",
       "<table border=\"1\" class=\"dataframe\">\n",
       "  <thead>\n",
       "    <tr style=\"text-align: right;\">\n",
       "      <th>origin</th>\n",
       "      <th>Europe</th>\n",
       "      <th>Japan</th>\n",
       "      <th>USA</th>\n",
       "    </tr>\n",
       "    <tr>\n",
       "      <th>year</th>\n",
       "      <th></th>\n",
       "      <th></th>\n",
       "      <th></th>\n",
       "    </tr>\n",
       "  </thead>\n",
       "  <tbody>\n",
       "    <tr>\n",
       "      <th>70</th>\n",
       "      <td>25.2000</td>\n",
       "      <td>25.500000</td>\n",
       "      <td>15.272727</td>\n",
       "    </tr>\n",
       "    <tr>\n",
       "      <th>71</th>\n",
       "      <td>28.7500</td>\n",
       "      <td>29.500000</td>\n",
       "      <td>17.736842</td>\n",
       "    </tr>\n",
       "    <tr>\n",
       "      <th>72</th>\n",
       "      <td>22.0000</td>\n",
       "      <td>24.200000</td>\n",
       "      <td>16.277778</td>\n",
       "    </tr>\n",
       "    <tr>\n",
       "      <th>73</th>\n",
       "      <td>24.0000</td>\n",
       "      <td>20.000000</td>\n",
       "      <td>15.034483</td>\n",
       "    </tr>\n",
       "    <tr>\n",
       "      <th>74</th>\n",
       "      <td>27.0000</td>\n",
       "      <td>29.333333</td>\n",
       "      <td>18.142857</td>\n",
       "    </tr>\n",
       "    <tr>\n",
       "      <th>75</th>\n",
       "      <td>24.5000</td>\n",
       "      <td>27.500000</td>\n",
       "      <td>17.550000</td>\n",
       "    </tr>\n",
       "    <tr>\n",
       "      <th>76</th>\n",
       "      <td>24.2500</td>\n",
       "      <td>28.000000</td>\n",
       "      <td>19.431818</td>\n",
       "    </tr>\n",
       "    <tr>\n",
       "      <th>77</th>\n",
       "      <td>29.2500</td>\n",
       "      <td>27.416667</td>\n",
       "      <td>20.722222</td>\n",
       "    </tr>\n",
       "    <tr>\n",
       "      <th>78</th>\n",
       "      <td>24.9500</td>\n",
       "      <td>29.687500</td>\n",
       "      <td>21.772727</td>\n",
       "    </tr>\n",
       "    <tr>\n",
       "      <th>79</th>\n",
       "      <td>30.4500</td>\n",
       "      <td>32.950000</td>\n",
       "      <td>23.478261</td>\n",
       "    </tr>\n",
       "    <tr>\n",
       "      <th>80</th>\n",
       "      <td>36.8375</td>\n",
       "      <td>35.400000</td>\n",
       "      <td>26.300000</td>\n",
       "    </tr>\n",
       "    <tr>\n",
       "      <th>81</th>\n",
       "      <td>30.6000</td>\n",
       "      <td>32.958333</td>\n",
       "      <td>27.530769</td>\n",
       "    </tr>\n",
       "    <tr>\n",
       "      <th>82</th>\n",
       "      <td>40.0000</td>\n",
       "      <td>34.888889</td>\n",
       "      <td>29.789474</td>\n",
       "    </tr>\n",
       "  </tbody>\n",
       "</table>\n",
       "</div>"
      ],
      "text/plain": [
       "origin   Europe      Japan        USA\n",
       "year                                 \n",
       "70      25.2000  25.500000  15.272727\n",
       "71      28.7500  29.500000  17.736842\n",
       "72      22.0000  24.200000  16.277778\n",
       "73      24.0000  20.000000  15.034483\n",
       "74      27.0000  29.333333  18.142857\n",
       "75      24.5000  27.500000  17.550000\n",
       "76      24.2500  28.000000  19.431818\n",
       "77      29.2500  27.416667  20.722222\n",
       "78      24.9500  29.687500  21.772727\n",
       "79      30.4500  32.950000  23.478261\n",
       "80      36.8375  35.400000  26.300000\n",
       "81      30.6000  32.958333  27.530769\n",
       "82      40.0000  34.888889  29.789474"
      ]
     },
     "execution_count": 68,
     "metadata": {},
     "output_type": "execute_result"
    }
   ],
   "source": [
    "pd.pivot_table(Auto, values='mpg', index='year', columns='origin', aggfunc=np.mean)"
   ]
  },
  {
   "cell_type": "markdown",
   "metadata": {},
   "source": [
    "***\n",
    "#### *Ende der Übung*"
   ]
  }
 ],
 "metadata": {
  "kernelspec": {
   "display_name": "Python 3 (ipykernel)",
   "language": "python",
   "name": "python3"
  },
  "language_info": {
   "codemirror_mode": {
    "name": "ipython",
    "version": 3
   },
   "file_extension": ".py",
   "mimetype": "text/x-python",
   "name": "python",
   "nbconvert_exporter": "python",
   "pygments_lexer": "ipython3",
   "version": "3.9.7"
  }
 },
 "nbformat": 4,
 "nbformat_minor": 2
}
