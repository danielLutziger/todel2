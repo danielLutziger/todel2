{
 "cells": [
  {
   "cell_type": "markdown",
   "metadata": {},
   "source": [
    "## Übungen zum Kapitel 10\n",
    "### Aggregation von Daten und Gruppenoperationen\n",
    "Erstellt und überarbeitet: armin.baenziger@zhaw.ch, 5. März 2020\n",
    "***"
   ]
  },
  {
   "cell_type": "code",
   "execution_count": null,
   "metadata": {},
   "outputs": [],
   "source": [
    "%autosave 0"
   ]
  },
  {
   "cell_type": "markdown",
   "metadata": {},
   "source": [
    "**(A.1)** Laden Sie NumPy, Pandas und Matplotlib.pyplot mit der üblichen Abkürzung."
   ]
  },
  {
   "cell_type": "code",
   "execution_count": 74,
   "metadata": {},
   "outputs": [],
   "source": []
  },
  {
   "cell_type": "markdown",
   "metadata": {},
   "source": [
    "**(A.2)** Führen Sie den Magic Command aus, so dass Matplotlib-Plots \"inline\" erscheinen."
   ]
  },
  {
   "cell_type": "code",
   "execution_count": 75,
   "metadata": {},
   "outputs": [],
   "source": []
  },
  {
   "cell_type": "markdown",
   "metadata": {},
   "source": [
    "***"
   ]
  },
  {
   "cell_type": "markdown",
   "metadata": {},
   "source": [
    "Im Ordner \"weitere_Daten\" finden Sie den Datensatz `Auto.csv` den wir bereits im letzten Kapitel verwenden haben. \n",
    "Die folgende Zelle lädt die Daten ins DataFrame `Auto`, setzt den Autonamen (`name`) als Index und codiert die Variable `origin` um."
   ]
  },
  {
   "cell_type": "code",
   "execution_count": 3,
   "metadata": {},
   "outputs": [],
   "source": [
    "Auto = pd.read_csv('../weitere_Daten/Auto.csv', \n",
    "                   sep=';', index_col=8)\n",
    "Auto.origin.replace({1: 'USA', 2: 'Europe', 3: 'Japan'},\n",
    "                   inplace=True)"
   ]
  },
  {
   "cell_type": "markdown",
   "metadata": {},
   "source": [
    "**(B.1)** Selektieren Sie die *letzten acht* Zeilen des DataFrames für die Bildschirmausgabe."
   ]
  },
  {
   "cell_type": "code",
   "execution_count": null,
   "metadata": {
    "scrolled": true
   },
   "outputs": [],
   "source": []
  },
  {
   "cell_type": "markdown",
   "metadata": {},
   "source": [
    "**(B.2)** Die Methode `info` gibt kurze Informationen zu einem DataFrame, einschliesslich des Index- und des Spalten-Datentyps (*dtypes*), der Anzahl Nicht-Nullwerte und der Speicherauslastung. Führen Sie nun `Auto.info()` aus. "
   ]
  },
  {
   "cell_type": "code",
   "execution_count": null,
   "metadata": {},
   "outputs": [],
   "source": []
  },
  {
   "cell_type": "markdown",
   "metadata": {},
   "source": [
    "**(B.3)** Berechnen Sie die mittlere Anzahl Zylinder (`cylinders`) nach Herkunftsgebiet (`origin`) mittels der Methode `groupby`. Was stellen Sie fest?"
   ]
  },
  {
   "cell_type": "code",
   "execution_count": null,
   "metadata": {},
   "outputs": [],
   "source": []
  },
  {
   "cell_type": "markdown",
   "metadata": {},
   "source": [
    "**(B.4)** Berechnen Sie die mittleren Meilen pro Galone  (`mpg`) nach Baujahr der Autos (`year`) und der Herkunftsregion (`origin`). Speichern Sie das Ergebnis im Objekt `Entwicklung_MPG`."
   ]
  },
  {
   "cell_type": "code",
   "execution_count": null,
   "metadata": {},
   "outputs": [],
   "source": []
  },
  {
   "cell_type": "markdown",
   "metadata": {},
   "source": [
    "**(B.5)** Verwenden Sie die Methode `unstack` auf die Series `Entwicklung_MPG`, welche Sie gerade erstellt haben."
   ]
  },
  {
   "cell_type": "code",
   "execution_count": null,
   "metadata": {},
   "outputs": [],
   "source": []
  },
  {
   "cell_type": "markdown",
   "metadata": {},
   "source": [
    "**(B.6)** Stellen Sie die gerade erstellte Entwicklung der Kraftstoffeffizienz (nach Baujahr), separat nach Herkunftsregion, in *einem* Liniendiagramm dar. Was stellen Sie fest?"
   ]
  },
  {
   "cell_type": "code",
   "execution_count": null,
   "metadata": {},
   "outputs": [],
   "source": []
  },
  {
   "cell_type": "markdown",
   "metadata": {},
   "source": [
    "***"
   ]
  },
  {
   "cell_type": "markdown",
   "metadata": {},
   "source": [
    "**(C.1)** Laden Sie die *simulierten* Lohndaten `dflohn.pkl` im Ordner \"weitere_Daten\" in das DataFrame `dflohn`."
   ]
  },
  {
   "cell_type": "code",
   "execution_count": null,
   "metadata": {},
   "outputs": [],
   "source": []
  },
  {
   "cell_type": "markdown",
   "metadata": {},
   "source": [
    "**(C.2)** Gruppieren Sie das DataFrame `dflohn` nach Geschlecht und Zivilstand. Berechnen Sie dann für jede Gruppe den Medianlohn. Setzen Sie hierzu die `groupby`-Methode ein."
   ]
  },
  {
   "cell_type": "code",
   "execution_count": null,
   "metadata": {},
   "outputs": [],
   "source": []
  },
  {
   "cell_type": "markdown",
   "metadata": {},
   "source": [
    "**(C.3)** Stellen Sie die soeben berechneten Medianlöhne nach Gruppenzugehörigkeit in einem gruppierten Säulendiagramm dar. Tipp: Sie müssen zuerst die `unstack`-Methode auf die Resultate-Series (mit dem hierarchischen Index) anwenden. "
   ]
  },
  {
   "cell_type": "code",
   "execution_count": null,
   "metadata": {
    "scrolled": true
   },
   "outputs": [],
   "source": []
  },
  {
   "cell_type": "markdown",
   "metadata": {},
   "source": [
    "**(C.4)** Berechnen Sie je für Frauen und Männer in `dflohn` das erste, zweite und dritte Quartil (bzw. 25%-, 50%, 75%-Quantil) der Löhne."
   ]
  },
  {
   "cell_type": "code",
   "execution_count": null,
   "metadata": {
    "scrolled": true
   },
   "outputs": [],
   "source": []
  },
  {
   "cell_type": "markdown",
   "metadata": {},
   "source": [
    "**(C.5)** *Exkurs:* Berechnen Sie je für Frauen und Männer in `dflohn` den Mittelwert und den Median der Löhne und beschriften Sie diese Statistiken in der Tabelle entsprechend. Tipp: Methode `agg` verwenden."
   ]
  },
  {
   "cell_type": "code",
   "execution_count": null,
   "metadata": {},
   "outputs": [],
   "source": []
  },
  {
   "cell_type": "markdown",
   "metadata": {},
   "source": [
    "***"
   ]
  },
  {
   "cell_type": "markdown",
   "metadata": {},
   "source": [
    "**(D.1)** Die folgende Zeile lädt Index-Daten von SIX Swiss Exchange (https://www.six-swiss-exchange.com/indices/data_centre/shares/spi_de.html). Stellen Sie sicher, dass Sie die Bedeutung von allen Funktions-Argumenten verstehen. "
   ]
  },
  {
   "cell_type": "code",
   "execution_count": null,
   "metadata": {},
   "outputs": [],
   "source": [
    "Indizes = pd.read_csv('../weitere_Daten/hspitr.csv', \n",
    "                sep=';', index_col=0, parse_dates=True)\n",
    "# Mit parse_daes=True wird versucht, den Index \n",
    "# als Datum (nicht String) umzuwandeln.\n",
    "Indizes.sort_index(inplace=True, ascending=True)\n",
    "Indizes.head()"
   ]
  },
  {
   "cell_type": "markdown",
   "metadata": {},
   "source": [
    "**(D.2)** Stellen Sie den Verlauf der vier Zeitreihen in einem Diagramm dar."
   ]
  },
  {
   "cell_type": "code",
   "execution_count": null,
   "metadata": {},
   "outputs": [],
   "source": []
  },
  {
   "cell_type": "markdown",
   "metadata": {},
   "source": [
    "Man erkennt sehr deutlich (trotz geringfügig unterschiedlichem Startwert), dass sich der Teilindex der kleinkapitalisierten Unternehmungen viel besser entwickelt hat als jener der mittelgrossen Unternehmungen und dieser wiederum besser als der Teilindex der grosskapitalisierten Unternehmungen. \n",
    "\n",
    "Der Index der grosskapitalisierten Unternehmungen entwickelte sich fast identisch zum Gesamtindex (SPI), was darauf zurückzuführen ist, dass die Gewichtung der Large-Caps im Gesamtindex sehr hoch ist."
   ]
  },
  {
   "cell_type": "markdown",
   "metadata": {},
   "source": [
    "**(D.3)** Erstellen Sie das DataFrame `Renditen`, welches die (diskreten) Tagesrenditen der vier Indexreihen umfasst. Verwenden Sie hierzu die Methode `pct_change`. Beseitigen Sie (die entstandenen) Fehlwerte mit der Methode `dropna`."
   ]
  },
  {
   "cell_type": "code",
   "execution_count": null,
   "metadata": {},
   "outputs": [],
   "source": []
  },
  {
   "cell_type": "markdown",
   "metadata": {},
   "source": [
    "**(D.4)** Charakterisieren Sie die Renditeverteilungen durch den Mittelwert und die Standardabweichung der Tagesrenditen. Was stellen Sie fest? Tipp: Methode `describe` verwenden."
   ]
  },
  {
   "cell_type": "code",
   "execution_count": null,
   "metadata": {},
   "outputs": [],
   "source": []
  },
  {
   "cell_type": "markdown",
   "metadata": {},
   "source": [
    "**(D.5)** Stellen Sie die zwei Verteilungen der Tagresrenditen des SPI-Large-Cap und des SPI-Small-Cap in einem Diagramm dar. Wählen Sie hierzu Kernel-Density-Plots (`.plot.density()`) und einen Renditebereich von -5% bis 5% (`xlim=[-0.05, 0.05]`)."
   ]
  },
  {
   "cell_type": "code",
   "execution_count": null,
   "metadata": {},
   "outputs": [],
   "source": []
  },
  {
   "cell_type": "markdown",
   "metadata": {},
   "source": [
    "Man sieht deutlich die geringere Streuung der Small-Cap-Renditen im Vergleich zu den Large-Cap-Renditen."
   ]
  },
  {
   "cell_type": "markdown",
   "metadata": {},
   "source": [
    "**(D.6)** Mit `Renditen.index.year` können die einzelnen *Jahre* aus dem Datum (Index) extrahiert werden. (Mehr dazu erfahren Sie im nächsten Kapitel.) Berechnen Sie hiermit die Median-Renditen der vier Indizes *gruppiert nach Jahren*."
   ]
  },
  {
   "cell_type": "code",
   "execution_count": null,
   "metadata": {
    "scrolled": true
   },
   "outputs": [],
   "source": []
  },
  {
   "cell_type": "markdown",
   "metadata": {},
   "source": [
    "**(D.7)** Berechnen Sie die Standardabweichungen der Renditen der Indizes *gruppiert nach Jahren*."
   ]
  },
  {
   "cell_type": "code",
   "execution_count": null,
   "metadata": {},
   "outputs": [],
   "source": []
  },
  {
   "cell_type": "markdown",
   "metadata": {},
   "source": [
    "**(D.8)** Stellen Sie die Entwicklung der Standardabweichungen des SPI pro Jahr in einem Liniendiagramm dar. Was stellen Sie fest?"
   ]
  },
  {
   "cell_type": "code",
   "execution_count": null,
   "metadata": {},
   "outputs": [],
   "source": []
  },
  {
   "cell_type": "markdown",
   "metadata": {},
   "source": [
    "***"
   ]
  },
  {
   "cell_type": "markdown",
   "metadata": {},
   "source": [
    "Zum Schluss untersuchen wir nochmals den Datensatz `Auto`."
   ]
  },
  {
   "cell_type": "code",
   "execution_count": null,
   "metadata": {},
   "outputs": [],
   "source": [
    "# Ausgangslage:\n",
    "Auto.head()"
   ]
  },
  {
   "cell_type": "markdown",
   "metadata": {},
   "source": [
    "**(E.1)** Erstellen Sie eine (eindimensionale) Häufigkeitsverteilung der kategorialen Variable `origin` (Herstellerland)."
   ]
  },
  {
   "cell_type": "code",
   "execution_count": null,
   "metadata": {},
   "outputs": [],
   "source": []
  },
  {
   "cell_type": "markdown",
   "metadata": {},
   "source": [
    "Wir erstellen nun eine (zweidimensionale) Kreuztabelle, welche die empirische Verteilung bezüglich Herstellerland (`origin`) und Anzahl Zylinder (`cylinders`) aufzeigt."
   ]
  },
  {
   "cell_type": "code",
   "execution_count": null,
   "metadata": {},
   "outputs": [],
   "source": [
    "pd.crosstab(Auto.origin, Auto.cylinders, margins=True)"
   ]
  },
  {
   "cell_type": "markdown",
   "metadata": {},
   "source": [
    "Lesebeispiel: Es gibt 61 Autos, die aus Europa kommen *und* 4 Zylinder haben."
   ]
  },
  {
   "cell_type": "markdown",
   "metadata": {},
   "source": [
    "**(E.2)** Erstellen Sie die gleiche Tabelle wie oben aber mit *relativen* statt aboluten Häufigkeiten. Runden Sie die relativen Häufigkeiten auf zwei Nachkommastellen."
   ]
  },
  {
   "cell_type": "code",
   "execution_count": null,
   "metadata": {},
   "outputs": [],
   "source": []
  },
  {
   "cell_type": "markdown",
   "metadata": {},
   "source": [
    "Lesebeispiel: 16 Prozent der Autos (im Datensatz) stammen aus Europa und haben 4 Zylinder."
   ]
  },
  {
   "cell_type": "markdown",
   "metadata": {},
   "source": [
    "**(E.3)** Wie sind die relativen Häufigkeiten der folgenden Tabelle zu interpretieren?"
   ]
  },
  {
   "cell_type": "code",
   "execution_count": null,
   "metadata": {},
   "outputs": [],
   "source": [
    "tab = pd.crosstab(Auto.origin, Auto.cylinders, \n",
    "            normalize='columns', margins=True)\n",
    "tab.round(2)"
   ]
  },
  {
   "cell_type": "markdown",
   "metadata": {},
   "source": []
  },
  {
   "cell_type": "markdown",
   "metadata": {},
   "source": [
    "**(E.4)** Berechnen Sie nun nochmals die mittleren Meilen pro Galone  (`mpg`) nach Baujahr der Autos (`year`) und der Herkunftsregion (`origin`). Verwenden Sie nun die Methode `pivot_table` statt `groupby`."
   ]
  },
  {
   "cell_type": "code",
   "execution_count": null,
   "metadata": {},
   "outputs": [],
   "source": []
  },
  {
   "cell_type": "markdown",
   "metadata": {},
   "source": [
    "***\n",
    "#### *Ende der Übung*"
   ]
  }
 ],
 "metadata": {
  "kernelspec": {
   "display_name": "Python 3 (ipykernel)",
   "language": "python",
   "name": "python3"
  },
  "language_info": {
   "codemirror_mode": {
    "name": "ipython",
    "version": 3
   },
   "file_extension": ".py",
   "mimetype": "text/x-python",
   "name": "python",
   "nbconvert_exporter": "python",
   "pygments_lexer": "ipython3",
   "version": "3.9.7"
  }
 },
 "nbformat": 4,
 "nbformat_minor": 2
}
