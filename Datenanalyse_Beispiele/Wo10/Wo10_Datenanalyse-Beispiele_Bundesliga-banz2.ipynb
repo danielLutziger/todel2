{
 "cells": [
  {
   "cell_type": "markdown",
   "metadata": {},
   "source": [
    "# Woche 10: Datenanalyse-Beispiele: Bundesliga-Datensatz"
   ]
  },
  {
   "cell_type": "code",
   "execution_count": 1,
   "metadata": {},
   "outputs": [
    {
     "data": {
      "application/javascript": [
       "IPython.notebook.set_autosave_interval(0)"
      ]
     },
     "metadata": {},
     "output_type": "display_data"
    },
    {
     "name": "stdout",
     "output_type": "stream",
     "text": [
      "Autosave disabled\n"
     ]
    }
   ],
   "source": [
    "import numpy as np\n",
    "import pandas as pd\n",
    "import matplotlib.pyplot as plt\n",
    "%matplotlib inline\n",
    "%autosave 0"
   ]
  },
  {
   "cell_type": "markdown",
   "metadata": {},
   "source": [
    "### Daten einlesen und erster Überblick"
   ]
  },
  {
   "cell_type": "code",
   "execution_count": 7,
   "metadata": {},
   "outputs": [
    {
     "data": {
      "text/html": [
       "<div>\n",
       "<style scoped>\n",
       "    .dataframe tbody tr th:only-of-type {\n",
       "        vertical-align: middle;\n",
       "    }\n",
       "\n",
       "    .dataframe tbody tr th {\n",
       "        vertical-align: top;\n",
       "    }\n",
       "\n",
       "    .dataframe thead th {\n",
       "        text-align: right;\n",
       "    }\n",
       "</style>\n",
       "<table border=\"1\" class=\"dataframe\">\n",
       "  <thead>\n",
       "    <tr style=\"text-align: right;\">\n",
       "      <th></th>\n",
       "      <th>Unnamed: 0</th>\n",
       "      <th>Saison</th>\n",
       "      <th>Spieltag</th>\n",
       "      <th>Datum</th>\n",
       "      <th>Anpfiff</th>\n",
       "      <th>Heim</th>\n",
       "      <th>Gast</th>\n",
       "      <th>Tore.Heim</th>\n",
       "      <th>Tore.Gast</th>\n",
       "      <th>Tore.Heim.Halbzeit</th>\n",
       "      <th>Tore.Gast.Halbzeit</th>\n",
       "    </tr>\n",
       "  </thead>\n",
       "  <tbody>\n",
       "    <tr>\n",
       "      <th>0</th>\n",
       "      <td>1</td>\n",
       "      <td>1963/1964</td>\n",
       "      <td>1</td>\n",
       "      <td>1963-08-24</td>\n",
       "      <td>17:00</td>\n",
       "      <td>Hertha BSC Berlin</td>\n",
       "      <td>1. FC Nuernberg</td>\n",
       "      <td>1</td>\n",
       "      <td>1</td>\n",
       "      <td>0.0</td>\n",
       "      <td>1.0</td>\n",
       "    </tr>\n",
       "    <tr>\n",
       "      <th>1</th>\n",
       "      <td>2</td>\n",
       "      <td>1963/1964</td>\n",
       "      <td>1</td>\n",
       "      <td>1963-08-24</td>\n",
       "      <td>17:00</td>\n",
       "      <td>SV Werder Bremen</td>\n",
       "      <td>Borussia Dortmund</td>\n",
       "      <td>3</td>\n",
       "      <td>2</td>\n",
       "      <td>1.0</td>\n",
       "      <td>1.0</td>\n",
       "    </tr>\n",
       "    <tr>\n",
       "      <th>2</th>\n",
       "      <td>3</td>\n",
       "      <td>1963/1964</td>\n",
       "      <td>1</td>\n",
       "      <td>1963-08-24</td>\n",
       "      <td>17:00</td>\n",
       "      <td>Eintracht Frankfurt</td>\n",
       "      <td>1. FC Kaiserslautern</td>\n",
       "      <td>1</td>\n",
       "      <td>1</td>\n",
       "      <td>1.0</td>\n",
       "      <td>1.0</td>\n",
       "    </tr>\n",
       "    <tr>\n",
       "      <th>3</th>\n",
       "      <td>4</td>\n",
       "      <td>1963/1964</td>\n",
       "      <td>1</td>\n",
       "      <td>1963-08-24</td>\n",
       "      <td>17:00</td>\n",
       "      <td>Karlsruher SC</td>\n",
       "      <td>Meidericher SV</td>\n",
       "      <td>1</td>\n",
       "      <td>4</td>\n",
       "      <td>0.0</td>\n",
       "      <td>3.0</td>\n",
       "    </tr>\n",
       "    <tr>\n",
       "      <th>4</th>\n",
       "      <td>5</td>\n",
       "      <td>1963/1964</td>\n",
       "      <td>1</td>\n",
       "      <td>1963-08-24</td>\n",
       "      <td>17:00</td>\n",
       "      <td>TSV 1860 Muenchen</td>\n",
       "      <td>Eintracht Braunschweig</td>\n",
       "      <td>1</td>\n",
       "      <td>1</td>\n",
       "      <td>1.0</td>\n",
       "      <td>0.0</td>\n",
       "    </tr>\n",
       "  </tbody>\n",
       "</table>\n",
       "</div>"
      ],
      "text/plain": [
       "   Unnamed: 0     Saison  Spieltag      Datum Anpfiff                 Heim  \\\n",
       "0           1  1963/1964         1 1963-08-24   17:00    Hertha BSC Berlin   \n",
       "1           2  1963/1964         1 1963-08-24   17:00     SV Werder Bremen   \n",
       "2           3  1963/1964         1 1963-08-24   17:00  Eintracht Frankfurt   \n",
       "3           4  1963/1964         1 1963-08-24   17:00        Karlsruher SC   \n",
       "4           5  1963/1964         1 1963-08-24   17:00    TSV 1860 Muenchen   \n",
       "\n",
       "                     Gast  Tore.Heim  Tore.Gast  Tore.Heim.Halbzeit  \\\n",
       "0         1. FC Nuernberg          1          1                 0.0   \n",
       "1       Borussia Dortmund          3          2                 1.0   \n",
       "2    1. FC Kaiserslautern          1          1                 1.0   \n",
       "3          Meidericher SV          1          4                 0.0   \n",
       "4  Eintracht Braunschweig          1          1                 1.0   \n",
       "\n",
       "   Tore.Gast.Halbzeit  \n",
       "0                 1.0  \n",
       "1                 1.0  \n",
       "2                 1.0  \n",
       "3                 3.0  \n",
       "4                 0.0  "
      ]
     },
     "execution_count": 7,
     "metadata": {},
     "output_type": "execute_result"
    }
   ],
   "source": [
    "df = pd.read_csv('../../weitere_Daten/Bundesliga.csv', \n",
    "                 parse_dates=['Datum'])\n",
    "df.head()"
   ]
  },
  {
   "cell_type": "code",
   "execution_count": 8,
   "metadata": {},
   "outputs": [
    {
     "data": {
      "text/plain": [
       "Unnamed: 0                     int64\n",
       "Saison                        object\n",
       "Spieltag                       int64\n",
       "Datum                 datetime64[ns]\n",
       "Anpfiff                       object\n",
       "Heim                          object\n",
       "Gast                          object\n",
       "Tore.Heim                      int64\n",
       "Tore.Gast                      int64\n",
       "Tore.Heim.Halbzeit           float64\n",
       "Tore.Gast.Halbzeit           float64\n",
       "dtype: object"
      ]
     },
     "execution_count": 8,
     "metadata": {},
     "output_type": "execute_result"
    }
   ],
   "source": [
    "df.dtypes"
   ]
  },
  {
   "cell_type": "code",
   "execution_count": 19,
   "metadata": {},
   "outputs": [],
   "source": [
    "df.drop('Unnamed: 0', axis=1, inplace=True)"
   ]
  },
  {
   "cell_type": "code",
   "execution_count": 23,
   "metadata": {},
   "outputs": [
    {
     "name": "stderr",
     "output_type": "stream",
     "text": [
      "<ipython-input-23-4c4625128063>:1: FutureWarning: The default value of regex will change from True to False in a future version. In addition, single character regular expressions will*not* be treated as literal strings when regex=True.\n",
      "  df.columns = df.columns.str.replace('.', '_')\n"
     ]
    }
   ],
   "source": [
    "df.columns = df.columns.str.replace('.', '_')"
   ]
  },
  {
   "cell_type": "code",
   "execution_count": 24,
   "metadata": {},
   "outputs": [
    {
     "data": {
      "text/html": [
       "<div>\n",
       "<style scoped>\n",
       "    .dataframe tbody tr th:only-of-type {\n",
       "        vertical-align: middle;\n",
       "    }\n",
       "\n",
       "    .dataframe tbody tr th {\n",
       "        vertical-align: top;\n",
       "    }\n",
       "\n",
       "    .dataframe thead th {\n",
       "        text-align: right;\n",
       "    }\n",
       "</style>\n",
       "<table border=\"1\" class=\"dataframe\">\n",
       "  <thead>\n",
       "    <tr style=\"text-align: right;\">\n",
       "      <th></th>\n",
       "      <th>Saison</th>\n",
       "      <th>Spieltag</th>\n",
       "      <th>Datum</th>\n",
       "      <th>Anpfiff</th>\n",
       "      <th>Heim</th>\n",
       "      <th>Gast</th>\n",
       "      <th>Tore_Heim</th>\n",
       "      <th>Tore_Gast</th>\n",
       "      <th>Tore_Heim_Halbzeit</th>\n",
       "      <th>Tore_Gast_Halbzeit</th>\n",
       "    </tr>\n",
       "  </thead>\n",
       "  <tbody>\n",
       "    <tr>\n",
       "      <th>0</th>\n",
       "      <td>1963/1964</td>\n",
       "      <td>1</td>\n",
       "      <td>1963-08-24</td>\n",
       "      <td>17:00</td>\n",
       "      <td>Hertha BSC Berlin</td>\n",
       "      <td>1. FC Nuernberg</td>\n",
       "      <td>1</td>\n",
       "      <td>1</td>\n",
       "      <td>0.0</td>\n",
       "      <td>1.0</td>\n",
       "    </tr>\n",
       "    <tr>\n",
       "      <th>1</th>\n",
       "      <td>1963/1964</td>\n",
       "      <td>1</td>\n",
       "      <td>1963-08-24</td>\n",
       "      <td>17:00</td>\n",
       "      <td>SV Werder Bremen</td>\n",
       "      <td>Borussia Dortmund</td>\n",
       "      <td>3</td>\n",
       "      <td>2</td>\n",
       "      <td>1.0</td>\n",
       "      <td>1.0</td>\n",
       "    </tr>\n",
       "    <tr>\n",
       "      <th>2</th>\n",
       "      <td>1963/1964</td>\n",
       "      <td>1</td>\n",
       "      <td>1963-08-24</td>\n",
       "      <td>17:00</td>\n",
       "      <td>Eintracht Frankfurt</td>\n",
       "      <td>1. FC Kaiserslautern</td>\n",
       "      <td>1</td>\n",
       "      <td>1</td>\n",
       "      <td>1.0</td>\n",
       "      <td>1.0</td>\n",
       "    </tr>\n",
       "    <tr>\n",
       "      <th>3</th>\n",
       "      <td>1963/1964</td>\n",
       "      <td>1</td>\n",
       "      <td>1963-08-24</td>\n",
       "      <td>17:00</td>\n",
       "      <td>Karlsruher SC</td>\n",
       "      <td>Meidericher SV</td>\n",
       "      <td>1</td>\n",
       "      <td>4</td>\n",
       "      <td>0.0</td>\n",
       "      <td>3.0</td>\n",
       "    </tr>\n",
       "    <tr>\n",
       "      <th>4</th>\n",
       "      <td>1963/1964</td>\n",
       "      <td>1</td>\n",
       "      <td>1963-08-24</td>\n",
       "      <td>17:00</td>\n",
       "      <td>TSV 1860 Muenchen</td>\n",
       "      <td>Eintracht Braunschweig</td>\n",
       "      <td>1</td>\n",
       "      <td>1</td>\n",
       "      <td>1.0</td>\n",
       "      <td>0.0</td>\n",
       "    </tr>\n",
       "  </tbody>\n",
       "</table>\n",
       "</div>"
      ],
      "text/plain": [
       "      Saison  Spieltag      Datum Anpfiff                 Heim  \\\n",
       "0  1963/1964         1 1963-08-24   17:00    Hertha BSC Berlin   \n",
       "1  1963/1964         1 1963-08-24   17:00     SV Werder Bremen   \n",
       "2  1963/1964         1 1963-08-24   17:00  Eintracht Frankfurt   \n",
       "3  1963/1964         1 1963-08-24   17:00        Karlsruher SC   \n",
       "4  1963/1964         1 1963-08-24   17:00    TSV 1860 Muenchen   \n",
       "\n",
       "                     Gast  Tore_Heim  Tore_Gast  Tore_Heim_Halbzeit  \\\n",
       "0         1. FC Nuernberg          1          1                 0.0   \n",
       "1       Borussia Dortmund          3          2                 1.0   \n",
       "2    1. FC Kaiserslautern          1          1                 1.0   \n",
       "3          Meidericher SV          1          4                 0.0   \n",
       "4  Eintracht Braunschweig          1          1                 1.0   \n",
       "\n",
       "   Tore_Gast_Halbzeit  \n",
       "0                 1.0  \n",
       "1                 1.0  \n",
       "2                 1.0  \n",
       "3                 3.0  \n",
       "4                 0.0  "
      ]
     },
     "execution_count": 24,
     "metadata": {},
     "output_type": "execute_result"
    }
   ],
   "source": [
    "df.head()"
   ]
  },
  {
   "cell_type": "code",
   "execution_count": 25,
   "metadata": {},
   "outputs": [
    {
     "data": {
      "text/plain": [
       "(13406, 10)"
      ]
     },
     "execution_count": 25,
     "metadata": {},
     "output_type": "execute_result"
    }
   ],
   "source": [
    "df.shape"
   ]
  },
  {
   "cell_type": "code",
   "execution_count": 30,
   "metadata": {},
   "outputs": [
    {
     "data": {
      "text/plain": [
       "Saison                0\n",
       "Spieltag              0\n",
       "Datum                 0\n",
       "Anpfiff               0\n",
       "Heim                  0\n",
       "Gast                  0\n",
       "Tore_Heim             0\n",
       "Tore_Gast             0\n",
       "Tore_Heim_Halbzeit    4\n",
       "Tore_Gast_Halbzeit    4\n",
       "dtype: int64"
      ]
     },
     "execution_count": 30,
     "metadata": {},
     "output_type": "execute_result"
    }
   ],
   "source": [
    "df.isnull().sum()"
   ]
  },
  {
   "cell_type": "code",
   "execution_count": 35,
   "metadata": {},
   "outputs": [
    {
     "data": {
      "text/html": [
       "<div>\n",
       "<style scoped>\n",
       "    .dataframe tbody tr th:only-of-type {\n",
       "        vertical-align: middle;\n",
       "    }\n",
       "\n",
       "    .dataframe tbody tr th {\n",
       "        vertical-align: top;\n",
       "    }\n",
       "\n",
       "    .dataframe thead th {\n",
       "        text-align: right;\n",
       "    }\n",
       "</style>\n",
       "<table border=\"1\" class=\"dataframe\">\n",
       "  <thead>\n",
       "    <tr style=\"text-align: right;\">\n",
       "      <th></th>\n",
       "      <th>Saison</th>\n",
       "      <th>Spieltag</th>\n",
       "      <th>Datum</th>\n",
       "      <th>Anpfiff</th>\n",
       "      <th>Heim</th>\n",
       "      <th>Gast</th>\n",
       "      <th>Tore_Heim</th>\n",
       "      <th>Tore_Gast</th>\n",
       "      <th>Tore_Heim_Halbzeit</th>\n",
       "      <th>Tore_Gast_Halbzeit</th>\n",
       "    </tr>\n",
       "  </thead>\n",
       "  <tbody>\n",
       "    <tr>\n",
       "      <th>2252</th>\n",
       "      <td>1970/1971</td>\n",
       "      <td>27</td>\n",
       "      <td>1971-04-03</td>\n",
       "      <td>15:30</td>\n",
       "      <td>Borussia Moenchengladbach</td>\n",
       "      <td>SV Werder Bremen</td>\n",
       "      <td>0</td>\n",
       "      <td>2</td>\n",
       "      <td>NaN</td>\n",
       "      <td>NaN</td>\n",
       "    </tr>\n",
       "    <tr>\n",
       "      <th>3980</th>\n",
       "      <td>1976/1977</td>\n",
       "      <td>15</td>\n",
       "      <td>1976-11-27</td>\n",
       "      <td>15:30</td>\n",
       "      <td>1. FC Kaiserslautern</td>\n",
       "      <td>Fortuna Duesseldorf</td>\n",
       "      <td>0</td>\n",
       "      <td>2</td>\n",
       "      <td>NaN</td>\n",
       "      <td>NaN</td>\n",
       "    </tr>\n",
       "    <tr>\n",
       "      <th>9103</th>\n",
       "      <td>1992/1993</td>\n",
       "      <td>32</td>\n",
       "      <td>1993-05-22</td>\n",
       "      <td>15:30</td>\n",
       "      <td>KFC Uerdingen 05</td>\n",
       "      <td>Eintracht Frankfurt</td>\n",
       "      <td>2</td>\n",
       "      <td>0</td>\n",
       "      <td>NaN</td>\n",
       "      <td>NaN</td>\n",
       "    </tr>\n",
       "    <tr>\n",
       "      <th>9661</th>\n",
       "      <td>1994/1995</td>\n",
       "      <td>26</td>\n",
       "      <td>1995-04-15</td>\n",
       "      <td>15:30</td>\n",
       "      <td>Eintracht Frankfurt</td>\n",
       "      <td>FC Bayern Muenchen</td>\n",
       "      <td>2</td>\n",
       "      <td>0</td>\n",
       "      <td>NaN</td>\n",
       "      <td>NaN</td>\n",
       "    </tr>\n",
       "  </tbody>\n",
       "</table>\n",
       "</div>"
      ],
      "text/plain": [
       "         Saison  Spieltag      Datum Anpfiff                       Heim  \\\n",
       "2252  1970/1971        27 1971-04-03   15:30  Borussia Moenchengladbach   \n",
       "3980  1976/1977        15 1976-11-27   15:30       1. FC Kaiserslautern   \n",
       "9103  1992/1993        32 1993-05-22   15:30           KFC Uerdingen 05   \n",
       "9661  1994/1995        26 1995-04-15   15:30        Eintracht Frankfurt   \n",
       "\n",
       "                     Gast  Tore_Heim  Tore_Gast  Tore_Heim_Halbzeit  \\\n",
       "2252     SV Werder Bremen          0          2                 NaN   \n",
       "3980  Fortuna Duesseldorf          0          2                 NaN   \n",
       "9103  Eintracht Frankfurt          2          0                 NaN   \n",
       "9661   FC Bayern Muenchen          2          0                 NaN   \n",
       "\n",
       "      Tore_Gast_Halbzeit  \n",
       "2252                 NaN  \n",
       "3980                 NaN  \n",
       "9103                 NaN  \n",
       "9661                 NaN  "
      ]
     },
     "execution_count": 35,
     "metadata": {},
     "output_type": "execute_result"
    }
   ],
   "source": [
    "df[df.isnull().any(axis=1)]"
   ]
  },
  {
   "cell_type": "code",
   "execution_count": 36,
   "metadata": {},
   "outputs": [
    {
     "data": {
      "text/html": [
       "<div>\n",
       "<style scoped>\n",
       "    .dataframe tbody tr th:only-of-type {\n",
       "        vertical-align: middle;\n",
       "    }\n",
       "\n",
       "    .dataframe tbody tr th {\n",
       "        vertical-align: top;\n",
       "    }\n",
       "\n",
       "    .dataframe thead th {\n",
       "        text-align: right;\n",
       "    }\n",
       "</style>\n",
       "<table border=\"1\" class=\"dataframe\">\n",
       "  <thead>\n",
       "    <tr style=\"text-align: right;\">\n",
       "      <th></th>\n",
       "      <th>Spieltag</th>\n",
       "      <th>Tore_Heim</th>\n",
       "      <th>Tore_Gast</th>\n",
       "      <th>Tore_Heim_Halbzeit</th>\n",
       "      <th>Tore_Gast_Halbzeit</th>\n",
       "    </tr>\n",
       "  </thead>\n",
       "  <tbody>\n",
       "    <tr>\n",
       "      <th>count</th>\n",
       "      <td>13406.000000</td>\n",
       "      <td>13406.000000</td>\n",
       "      <td>13406.000000</td>\n",
       "      <td>13402.000000</td>\n",
       "      <td>13402.000000</td>\n",
       "    </tr>\n",
       "    <tr>\n",
       "      <th>mean</th>\n",
       "      <td>17.485081</td>\n",
       "      <td>1.907877</td>\n",
       "      <td>1.191183</td>\n",
       "      <td>0.833085</td>\n",
       "      <td>0.514774</td>\n",
       "    </tr>\n",
       "    <tr>\n",
       "      <th>std</th>\n",
       "      <td>9.819879</td>\n",
       "      <td>1.472291</td>\n",
       "      <td>1.157593</td>\n",
       "      <td>0.917930</td>\n",
       "      <td>0.714929</td>\n",
       "    </tr>\n",
       "    <tr>\n",
       "      <th>min</th>\n",
       "      <td>1.000000</td>\n",
       "      <td>0.000000</td>\n",
       "      <td>0.000000</td>\n",
       "      <td>0.000000</td>\n",
       "      <td>0.000000</td>\n",
       "    </tr>\n",
       "    <tr>\n",
       "      <th>25%</th>\n",
       "      <td>9.000000</td>\n",
       "      <td>1.000000</td>\n",
       "      <td>0.000000</td>\n",
       "      <td>0.000000</td>\n",
       "      <td>0.000000</td>\n",
       "    </tr>\n",
       "    <tr>\n",
       "      <th>50%</th>\n",
       "      <td>17.000000</td>\n",
       "      <td>2.000000</td>\n",
       "      <td>1.000000</td>\n",
       "      <td>1.000000</td>\n",
       "      <td>0.000000</td>\n",
       "    </tr>\n",
       "    <tr>\n",
       "      <th>75%</th>\n",
       "      <td>26.000000</td>\n",
       "      <td>3.000000</td>\n",
       "      <td>2.000000</td>\n",
       "      <td>1.000000</td>\n",
       "      <td>1.000000</td>\n",
       "    </tr>\n",
       "    <tr>\n",
       "      <th>max</th>\n",
       "      <td>38.000000</td>\n",
       "      <td>12.000000</td>\n",
       "      <td>9.000000</td>\n",
       "      <td>6.000000</td>\n",
       "      <td>6.000000</td>\n",
       "    </tr>\n",
       "  </tbody>\n",
       "</table>\n",
       "</div>"
      ],
      "text/plain": [
       "           Spieltag     Tore_Heim     Tore_Gast  Tore_Heim_Halbzeit  \\\n",
       "count  13406.000000  13406.000000  13406.000000        13402.000000   \n",
       "mean      17.485081      1.907877      1.191183            0.833085   \n",
       "std        9.819879      1.472291      1.157593            0.917930   \n",
       "min        1.000000      0.000000      0.000000            0.000000   \n",
       "25%        9.000000      1.000000      0.000000            0.000000   \n",
       "50%       17.000000      2.000000      1.000000            1.000000   \n",
       "75%       26.000000      3.000000      2.000000            1.000000   \n",
       "max       38.000000     12.000000      9.000000            6.000000   \n",
       "\n",
       "       Tore_Gast_Halbzeit  \n",
       "count        13402.000000  \n",
       "mean             0.514774  \n",
       "std              0.714929  \n",
       "min              0.000000  \n",
       "25%              0.000000  \n",
       "50%              0.000000  \n",
       "75%              1.000000  \n",
       "max              6.000000  "
      ]
     },
     "execution_count": 36,
     "metadata": {},
     "output_type": "execute_result"
    }
   ],
   "source": [
    "df.describe()"
   ]
  },
  {
   "cell_type": "code",
   "execution_count": 42,
   "metadata": {},
   "outputs": [
    {
     "data": {
      "text/html": [
       "<div>\n",
       "<style scoped>\n",
       "    .dataframe tbody tr th:only-of-type {\n",
       "        vertical-align: middle;\n",
       "    }\n",
       "\n",
       "    .dataframe tbody tr th {\n",
       "        vertical-align: top;\n",
       "    }\n",
       "\n",
       "    .dataframe thead th {\n",
       "        text-align: right;\n",
       "    }\n",
       "</style>\n",
       "<table border=\"1\" class=\"dataframe\">\n",
       "  <thead>\n",
       "    <tr style=\"text-align: right;\">\n",
       "      <th></th>\n",
       "      <th>Tore_Heim</th>\n",
       "      <th>Tore_Gast</th>\n",
       "    </tr>\n",
       "  </thead>\n",
       "  <tbody>\n",
       "    <tr>\n",
       "      <th>0</th>\n",
       "      <td>0.17</td>\n",
       "      <td>0.32</td>\n",
       "    </tr>\n",
       "    <tr>\n",
       "      <th>1</th>\n",
       "      <td>0.28</td>\n",
       "      <td>0.35</td>\n",
       "    </tr>\n",
       "    <tr>\n",
       "      <th>2</th>\n",
       "      <td>0.25</td>\n",
       "      <td>0.20</td>\n",
       "    </tr>\n",
       "    <tr>\n",
       "      <th>3</th>\n",
       "      <td>0.16</td>\n",
       "      <td>0.08</td>\n",
       "    </tr>\n",
       "    <tr>\n",
       "      <th>4</th>\n",
       "      <td>0.08</td>\n",
       "      <td>0.03</td>\n",
       "    </tr>\n",
       "    <tr>\n",
       "      <th>5</th>\n",
       "      <td>0.03</td>\n",
       "      <td>0.01</td>\n",
       "    </tr>\n",
       "    <tr>\n",
       "      <th>6</th>\n",
       "      <td>0.01</td>\n",
       "      <td>0.00</td>\n",
       "    </tr>\n",
       "    <tr>\n",
       "      <th>7</th>\n",
       "      <td>0.00</td>\n",
       "      <td>0.00</td>\n",
       "    </tr>\n",
       "    <tr>\n",
       "      <th>8</th>\n",
       "      <td>0.00</td>\n",
       "      <td>0.00</td>\n",
       "    </tr>\n",
       "    <tr>\n",
       "      <th>9</th>\n",
       "      <td>0.00</td>\n",
       "      <td>0.00</td>\n",
       "    </tr>\n",
       "    <tr>\n",
       "      <th>10</th>\n",
       "      <td>0.00</td>\n",
       "      <td>NaN</td>\n",
       "    </tr>\n",
       "    <tr>\n",
       "      <th>11</th>\n",
       "      <td>0.00</td>\n",
       "      <td>NaN</td>\n",
       "    </tr>\n",
       "    <tr>\n",
       "      <th>12</th>\n",
       "      <td>0.00</td>\n",
       "      <td>NaN</td>\n",
       "    </tr>\n",
       "  </tbody>\n",
       "</table>\n",
       "</div>"
      ],
      "text/plain": [
       "    Tore_Heim  Tore_Gast\n",
       "0        0.17       0.32\n",
       "1        0.28       0.35\n",
       "2        0.25       0.20\n",
       "3        0.16       0.08\n",
       "4        0.08       0.03\n",
       "5        0.03       0.01\n",
       "6        0.01       0.00\n",
       "7        0.00       0.00\n",
       "8        0.00       0.00\n",
       "9        0.00       0.00\n",
       "10       0.00        NaN\n",
       "11       0.00        NaN\n",
       "12       0.00        NaN"
      ]
     },
     "execution_count": 42,
     "metadata": {},
     "output_type": "execute_result"
    }
   ],
   "source": [
    "# Heim- versus Gast-Toreverteilung\n",
    "tabHeim = df.Tore_Heim.value_counts(normalize=True)\n",
    "tabGast = df.Tore_Gast.value_counts(normalize=True)\n",
    "tab = pd.concat([tabHeim, tabGast], axis=1)\n",
    "tab.round(2)"
   ]
  },
  {
   "cell_type": "code",
   "execution_count": 45,
   "metadata": {},
   "outputs": [
    {
     "data": {
      "image/png": "[encoded data removed]",
      "text/plain": [
       "<Figure size 432x288 with 1 Axes>"
      ]
     },
     "metadata": {
      "needs_background": "light"
     },
     "output_type": "display_data"
    }
   ],
   "source": [
    "tab.plot.bar(title='Der Heimvorteil ist erheblich');"
   ]
  },
  {
   "cell_type": "markdown",
   "metadata": {},
   "source": [
    "### Neue Variablen definieren:"
   ]
  },
  {
   "cell_type": "code",
   "execution_count": 46,
   "metadata": {},
   "outputs": [
    {
     "data": {
      "text/plain": [
       "Saison                            1963/1964\n",
       "Spieltag                                  1\n",
       "Datum                   1963-08-24 00:00:00\n",
       "Anpfiff                               17:00\n",
       "Heim                      Hertha BSC Berlin\n",
       "Gast                        1. FC Nuernberg\n",
       "Tore_Heim                                 1\n",
       "Tore_Gast                                 1\n",
       "Tore_Heim_Halbzeit                      0.0\n",
       "Tore_Gast_Halbzeit                      1.0\n",
       "Tore                                      2\n",
       "Tore_erste_Halbzeit                     1.0\n",
       "Tore_zweite_Halbzeit                    1.0\n",
       "Name: 0, dtype: object"
      ]
     },
     "execution_count": 46,
     "metadata": {},
     "output_type": "execute_result"
    }
   ],
   "source": [
    "df['Tore'] = df.Tore_Heim + df.Tore_Gast\n",
    "df['Tore_erste_Halbzeit'] = df.Tore_Heim_Halbzeit + df.Tore_Gast_Halbzeit\n",
    "df['Tore_zweite_Halbzeit'] = df.Tore - df.Tore_erste_Halbzeit\n",
    "df.iloc[0]"
   ]
  },
  {
   "cell_type": "code",
   "execution_count": 49,
   "metadata": {},
   "outputs": [
    {
     "data": {
      "text/plain": [
       "1991/1992    380\n",
       "1992/1993    306\n",
       "1986/1987    306\n",
       "1989/1990    306\n",
       "2005/2006    306\n",
       "Name: Saison, dtype: int64"
      ]
     },
     "execution_count": 49,
     "metadata": {},
     "output_type": "execute_result"
    }
   ],
   "source": [
    "# Anzal Spiel pro Saison (Häufigkeitstabelle)\n",
    "SpieleSaison = df.Saison.value_counts()\n",
    "SpieleSaison.head()"
   ]
  },
  {
   "cell_type": "code",
   "execution_count": 51,
   "metadata": {},
   "outputs": [
    {
     "data": {
      "text/plain": [
       "306    41\n",
       "240     2\n",
       "380     1\n",
       "Name: Saison, dtype: int64"
      ]
     },
     "execution_count": 51,
     "metadata": {},
     "output_type": "execute_result"
    }
   ],
   "source": [
    "# Doppelter value_counts()\n",
    "SpieleSaison.value_counts()"
   ]
  },
  {
   "cell_type": "markdown",
   "metadata": {},
   "source": [
    "Meistens werden 306 Spiele pro Saison ausgetragen. Wie viele Manschaften impliziert dies? (Jede Manschaft spielt gegen alle anderen einmal zu Hause und einmal auswärts!)\n",
    "\n",
    "$$18 \\cdot 17 = 306$$\n",
    "Somit 18 Mannschaften."
   ]
  },
  {
   "cell_type": "markdown",
   "metadata": {},
   "source": [
    "### Einige Auswertungen"
   ]
  },
  {
   "cell_type": "markdown",
   "metadata": {},
   "source": [
    "Welches waren die torreichsten Spiele?"
   ]
  },
  {
   "cell_type": "code",
   "execution_count": 55,
   "metadata": {},
   "outputs": [
    {
     "data": {
      "text/html": [
       "<div>\n",
       "<style scoped>\n",
       "    .dataframe tbody tr th:only-of-type {\n",
       "        vertical-align: middle;\n",
       "    }\n",
       "\n",
       "    .dataframe tbody tr th {\n",
       "        vertical-align: top;\n",
       "    }\n",
       "\n",
       "    .dataframe thead th {\n",
       "        text-align: right;\n",
       "    }\n",
       "</style>\n",
       "<table border=\"1\" class=\"dataframe\">\n",
       "  <thead>\n",
       "    <tr style=\"text-align: right;\">\n",
       "      <th></th>\n",
       "      <th>Saison</th>\n",
       "      <th>Spieltag</th>\n",
       "      <th>Datum</th>\n",
       "      <th>Anpfiff</th>\n",
       "      <th>Heim</th>\n",
       "      <th>Gast</th>\n",
       "      <th>Tore_Heim</th>\n",
       "      <th>Tore_Gast</th>\n",
       "      <th>Tore_Heim_Halbzeit</th>\n",
       "      <th>Tore_Gast_Halbzeit</th>\n",
       "      <th>Tore</th>\n",
       "      <th>Tore_erste_Halbzeit</th>\n",
       "      <th>Tore_zweite_Halbzeit</th>\n",
       "    </tr>\n",
       "  </thead>\n",
       "  <tbody>\n",
       "    <tr>\n",
       "      <th>86</th>\n",
       "      <td>1963/1964</td>\n",
       "      <td>11</td>\n",
       "      <td>1963-11-16</td>\n",
       "      <td>17:30</td>\n",
       "      <td>Borussia Dortmund</td>\n",
       "      <td>1. FC Kaiserslautern</td>\n",
       "      <td>9</td>\n",
       "      <td>3</td>\n",
       "      <td>5.0</td>\n",
       "      <td>1.0</td>\n",
       "      <td>12</td>\n",
       "      <td>6.0</td>\n",
       "      <td>6.0</td>\n",
       "    </tr>\n",
       "    <tr>\n",
       "      <th>2458</th>\n",
       "      <td>1971/1972</td>\n",
       "      <td>16</td>\n",
       "      <td>1971-11-27</td>\n",
       "      <td>15:30</td>\n",
       "      <td>FC Bayern Muenchen</td>\n",
       "      <td>Borussia Dortmund</td>\n",
       "      <td>11</td>\n",
       "      <td>1</td>\n",
       "      <td>4.0</td>\n",
       "      <td>0.0</td>\n",
       "      <td>12</td>\n",
       "      <td>4.0</td>\n",
       "      <td>8.0</td>\n",
       "    </tr>\n",
       "    <tr>\n",
       "      <th>4048</th>\n",
       "      <td>1976/1977</td>\n",
       "      <td>23</td>\n",
       "      <td>1977-02-26</td>\n",
       "      <td>15:30</td>\n",
       "      <td>1. FC Koeln</td>\n",
       "      <td>Tennis Borussia Berlin</td>\n",
       "      <td>8</td>\n",
       "      <td>4</td>\n",
       "      <td>4.0</td>\n",
       "      <td>2.0</td>\n",
       "      <td>12</td>\n",
       "      <td>6.0</td>\n",
       "      <td>6.0</td>\n",
       "    </tr>\n",
       "    <tr>\n",
       "      <th>4454</th>\n",
       "      <td>1977/1978</td>\n",
       "      <td>34</td>\n",
       "      <td>1978-04-29</td>\n",
       "      <td>15:30</td>\n",
       "      <td>Borussia Moenchengladbach</td>\n",
       "      <td>Borussia Dortmund</td>\n",
       "      <td>12</td>\n",
       "      <td>0</td>\n",
       "      <td>6.0</td>\n",
       "      <td>0.0</td>\n",
       "      <td>12</td>\n",
       "      <td>6.0</td>\n",
       "      <td>6.0</td>\n",
       "    </tr>\n",
       "    <tr>\n",
       "      <th>5785</th>\n",
       "      <td>1982/1983</td>\n",
       "      <td>12</td>\n",
       "      <td>1982-11-06</td>\n",
       "      <td>15:30</td>\n",
       "      <td>Borussia Dortmund</td>\n",
       "      <td>Arminia Bielefeld</td>\n",
       "      <td>11</td>\n",
       "      <td>1</td>\n",
       "      <td>1.0</td>\n",
       "      <td>1.0</td>\n",
       "      <td>12</td>\n",
       "      <td>2.0</td>\n",
       "      <td>10.0</td>\n",
       "    </tr>\n",
       "  </tbody>\n",
       "</table>\n",
       "</div>"
      ],
      "text/plain": [
       "         Saison  Spieltag      Datum Anpfiff                       Heim  \\\n",
       "86    1963/1964        11 1963-11-16   17:30          Borussia Dortmund   \n",
       "2458  1971/1972        16 1971-11-27   15:30         FC Bayern Muenchen   \n",
       "4048  1976/1977        23 1977-02-26   15:30                1. FC Koeln   \n",
       "4454  1977/1978        34 1978-04-29   15:30  Borussia Moenchengladbach   \n",
       "5785  1982/1983        12 1982-11-06   15:30          Borussia Dortmund   \n",
       "\n",
       "                        Gast  Tore_Heim  Tore_Gast  Tore_Heim_Halbzeit  \\\n",
       "86      1. FC Kaiserslautern          9          3                 5.0   \n",
       "2458       Borussia Dortmund         11          1                 4.0   \n",
       "4048  Tennis Borussia Berlin          8          4                 4.0   \n",
       "4454       Borussia Dortmund         12          0                 6.0   \n",
       "5785       Arminia Bielefeld         11          1                 1.0   \n",
       "\n",
       "      Tore_Gast_Halbzeit  Tore  Tore_erste_Halbzeit  Tore_zweite_Halbzeit  \n",
       "86                   1.0    12                  6.0                   6.0  \n",
       "2458                 0.0    12                  4.0                   8.0  \n",
       "4048                 2.0    12                  6.0                   6.0  \n",
       "4454                 0.0    12                  6.0                   6.0  \n",
       "5785                 1.0    12                  2.0                  10.0  "
      ]
     },
     "execution_count": 55,
     "metadata": {},
     "output_type": "execute_result"
    }
   ],
   "source": [
    "auswahl = df.Tore==df.Tore.max()\n",
    "df[auswahl]"
   ]
  },
  {
   "cell_type": "markdown",
   "metadata": {},
   "source": [
    "Wie ist hat sich die durchschnittlich Anzahl Tore pro Spiel über die Saisons verändert?"
   ]
  },
  {
   "cell_type": "code",
   "execution_count": 56,
   "metadata": {},
   "outputs": [
    {
     "data": {
      "text/plain": [
       "Saison\n",
       "1963/1964    3.570833\n",
       "1964/1965    3.316667\n",
       "1965/1966    3.225490\n",
       "1966/1967    2.924837\n",
       "1967/1968    3.245098\n",
       "Name: Tore, dtype: float64"
      ]
     },
     "execution_count": 56,
     "metadata": {},
     "output_type": "execute_result"
    }
   ],
   "source": [
    "ToreSaison = df.groupby('Saison').Tore.mean()\n",
    "ToreSaison.head()"
   ]
  },
  {
   "cell_type": "code",
   "execution_count": 58,
   "metadata": {},
   "outputs": [
    {
     "data": {
      "image/png": "[encoded data removed]",
      "text/plain": [
       "<Figure size 432x288 with 1 Axes>"
      ]
     },
     "metadata": {
      "needs_background": "light"
     },
     "output_type": "display_data"
    }
   ],
   "source": [
    "ToreSaison.plot(title='Mittlere Anzahl Tore pro Spiel, nach Saison');"
   ]
  },
  {
   "cell_type": "markdown",
   "metadata": {},
   "source": [
    "### Gemeinsame Häufigkeiten bezüglich Tore in der ersten und zweiten Halbzeit"
   ]
  },
  {
   "cell_type": "code",
   "execution_count": 63,
   "metadata": {},
   "outputs": [
    {
     "data": {
      "text/html": [
       "<div>\n",
       "<style scoped>\n",
       "    .dataframe tbody tr th:only-of-type {\n",
       "        vertical-align: middle;\n",
       "    }\n",
       "\n",
       "    .dataframe tbody tr th {\n",
       "        vertical-align: top;\n",
       "    }\n",
       "\n",
       "    .dataframe thead th {\n",
       "        text-align: right;\n",
       "    }\n",
       "</style>\n",
       "<table border=\"1\" class=\"dataframe\">\n",
       "  <thead>\n",
       "    <tr style=\"text-align: right;\">\n",
       "      <th>Tore_zweite_Halbzeit</th>\n",
       "      <th>False</th>\n",
       "      <th>True</th>\n",
       "      <th>All</th>\n",
       "    </tr>\n",
       "    <tr>\n",
       "      <th>Tore_erste_Halbzeit</th>\n",
       "      <th></th>\n",
       "      <th></th>\n",
       "      <th></th>\n",
       "    </tr>\n",
       "  </thead>\n",
       "  <tbody>\n",
       "    <tr>\n",
       "      <th>False</th>\n",
       "      <td>0.07</td>\n",
       "      <td>0.20</td>\n",
       "      <td>0.26</td>\n",
       "    </tr>\n",
       "    <tr>\n",
       "      <th>True</th>\n",
       "      <td>0.12</td>\n",
       "      <td>0.62</td>\n",
       "      <td>0.74</td>\n",
       "    </tr>\n",
       "    <tr>\n",
       "      <th>All</th>\n",
       "      <td>0.18</td>\n",
       "      <td>0.82</td>\n",
       "      <td>1.00</td>\n",
       "    </tr>\n",
       "  </tbody>\n",
       "</table>\n",
       "</div>"
      ],
      "text/plain": [
       "Tore_zweite_Halbzeit  False  True   All\n",
       "Tore_erste_Halbzeit                    \n",
       "False                  0.07  0.20  0.26\n",
       "True                   0.12  0.62  0.74\n",
       "All                    0.18  0.82  1.00"
      ]
     },
     "execution_count": 63,
     "metadata": {},
     "output_type": "execute_result"
    }
   ],
   "source": [
    "pd.crosstab(df.Tore_erste_Halbzeit > 0, \n",
    "            df.Tore_zweite_Halbzeit >0,\n",
    "            margins=True, normalize=True).round(2)"
   ]
  },
  {
   "cell_type": "markdown",
   "metadata": {},
   "source": [
    "### Nun die bedingte Verteilung (Bedingung auf erste Halbzeit)"
   ]
  },
  {
   "cell_type": "code",
   "execution_count": 64,
   "metadata": {},
   "outputs": [
    {
     "data": {
      "text/html": [
       "<div>\n",
       "<style scoped>\n",
       "    .dataframe tbody tr th:only-of-type {\n",
       "        vertical-align: middle;\n",
       "    }\n",
       "\n",
       "    .dataframe tbody tr th {\n",
       "        vertical-align: top;\n",
       "    }\n",
       "\n",
       "    .dataframe thead th {\n",
       "        text-align: right;\n",
       "    }\n",
       "</style>\n",
       "<table border=\"1\" class=\"dataframe\">\n",
       "  <thead>\n",
       "    <tr style=\"text-align: right;\">\n",
       "      <th>Tore_zweite_Halbzeit</th>\n",
       "      <th>False</th>\n",
       "      <th>True</th>\n",
       "    </tr>\n",
       "    <tr>\n",
       "      <th>Tore_erste_Halbzeit</th>\n",
       "      <th></th>\n",
       "      <th></th>\n",
       "    </tr>\n",
       "  </thead>\n",
       "  <tbody>\n",
       "    <tr>\n",
       "      <th>False</th>\n",
       "      <td>0.25</td>\n",
       "      <td>0.75</td>\n",
       "    </tr>\n",
       "    <tr>\n",
       "      <th>True</th>\n",
       "      <td>0.16</td>\n",
       "      <td>0.84</td>\n",
       "    </tr>\n",
       "    <tr>\n",
       "      <th>All</th>\n",
       "      <td>0.18</td>\n",
       "      <td>0.82</td>\n",
       "    </tr>\n",
       "  </tbody>\n",
       "</table>\n",
       "</div>"
      ],
      "text/plain": [
       "Tore_zweite_Halbzeit  False  True \n",
       "Tore_erste_Halbzeit               \n",
       "False                  0.25   0.75\n",
       "True                   0.16   0.84\n",
       "All                    0.18   0.82"
      ]
     },
     "execution_count": 64,
     "metadata": {},
     "output_type": "execute_result"
    }
   ],
   "source": [
    "pd.crosstab(df.Tore_erste_Halbzeit > 0, \n",
    "            df.Tore_zweite_Halbzeit >0,\n",
    "            margins=True, normalize='index').round(2)"
   ]
  },
  {
   "cell_type": "markdown",
   "metadata": {},
   "source": [
    "### Wie viele Spiele wurden vom Heimteam (1), Gastteam (2) oder keinem (0) gewonnen?"
   ]
  },
  {
   "cell_type": "code",
   "execution_count": 65,
   "metadata": {},
   "outputs": [
    {
     "data": {
      "text/html": [
       "<div>\n",
       "<style scoped>\n",
       "    .dataframe tbody tr th:only-of-type {\n",
       "        vertical-align: middle;\n",
       "    }\n",
       "\n",
       "    .dataframe tbody tr th {\n",
       "        vertical-align: top;\n",
       "    }\n",
       "\n",
       "    .dataframe thead th {\n",
       "        text-align: right;\n",
       "    }\n",
       "</style>\n",
       "<table border=\"1\" class=\"dataframe\">\n",
       "  <thead>\n",
       "    <tr style=\"text-align: right;\">\n",
       "      <th></th>\n",
       "      <th>Saison</th>\n",
       "      <th>Spieltag</th>\n",
       "      <th>Datum</th>\n",
       "      <th>Anpfiff</th>\n",
       "      <th>Heim</th>\n",
       "      <th>Gast</th>\n",
       "      <th>Tore_Heim</th>\n",
       "      <th>Tore_Gast</th>\n",
       "      <th>Tore_Heim_Halbzeit</th>\n",
       "      <th>Tore_Gast_Halbzeit</th>\n",
       "      <th>Tore</th>\n",
       "      <th>Tore_erste_Halbzeit</th>\n",
       "      <th>Tore_zweite_Halbzeit</th>\n",
       "      <th>Gewonnen</th>\n",
       "    </tr>\n",
       "  </thead>\n",
       "  <tbody>\n",
       "    <tr>\n",
       "      <th>0</th>\n",
       "      <td>1963/1964</td>\n",
       "      <td>1</td>\n",
       "      <td>1963-08-24</td>\n",
       "      <td>17:00</td>\n",
       "      <td>Hertha BSC Berlin</td>\n",
       "      <td>1. FC Nuernberg</td>\n",
       "      <td>1</td>\n",
       "      <td>1</td>\n",
       "      <td>0.0</td>\n",
       "      <td>1.0</td>\n",
       "      <td>2</td>\n",
       "      <td>1.0</td>\n",
       "      <td>1.0</td>\n",
       "      <td>0</td>\n",
       "    </tr>\n",
       "    <tr>\n",
       "      <th>1</th>\n",
       "      <td>1963/1964</td>\n",
       "      <td>1</td>\n",
       "      <td>1963-08-24</td>\n",
       "      <td>17:00</td>\n",
       "      <td>SV Werder Bremen</td>\n",
       "      <td>Borussia Dortmund</td>\n",
       "      <td>3</td>\n",
       "      <td>2</td>\n",
       "      <td>1.0</td>\n",
       "      <td>1.0</td>\n",
       "      <td>5</td>\n",
       "      <td>2.0</td>\n",
       "      <td>3.0</td>\n",
       "      <td>1</td>\n",
       "    </tr>\n",
       "    <tr>\n",
       "      <th>2</th>\n",
       "      <td>1963/1964</td>\n",
       "      <td>1</td>\n",
       "      <td>1963-08-24</td>\n",
       "      <td>17:00</td>\n",
       "      <td>Eintracht Frankfurt</td>\n",
       "      <td>1. FC Kaiserslautern</td>\n",
       "      <td>1</td>\n",
       "      <td>1</td>\n",
       "      <td>1.0</td>\n",
       "      <td>1.0</td>\n",
       "      <td>2</td>\n",
       "      <td>2.0</td>\n",
       "      <td>0.0</td>\n",
       "      <td>0</td>\n",
       "    </tr>\n",
       "    <tr>\n",
       "      <th>3</th>\n",
       "      <td>1963/1964</td>\n",
       "      <td>1</td>\n",
       "      <td>1963-08-24</td>\n",
       "      <td>17:00</td>\n",
       "      <td>Karlsruher SC</td>\n",
       "      <td>Meidericher SV</td>\n",
       "      <td>1</td>\n",
       "      <td>4</td>\n",
       "      <td>0.0</td>\n",
       "      <td>3.0</td>\n",
       "      <td>5</td>\n",
       "      <td>3.0</td>\n",
       "      <td>2.0</td>\n",
       "      <td>2</td>\n",
       "    </tr>\n",
       "    <tr>\n",
       "      <th>4</th>\n",
       "      <td>1963/1964</td>\n",
       "      <td>1</td>\n",
       "      <td>1963-08-24</td>\n",
       "      <td>17:00</td>\n",
       "      <td>TSV 1860 Muenchen</td>\n",
       "      <td>Eintracht Braunschweig</td>\n",
       "      <td>1</td>\n",
       "      <td>1</td>\n",
       "      <td>1.0</td>\n",
       "      <td>0.0</td>\n",
       "      <td>2</td>\n",
       "      <td>1.0</td>\n",
       "      <td>1.0</td>\n",
       "      <td>0</td>\n",
       "    </tr>\n",
       "  </tbody>\n",
       "</table>\n",
       "</div>"
      ],
      "text/plain": [
       "      Saison  Spieltag      Datum Anpfiff                 Heim  \\\n",
       "0  1963/1964         1 1963-08-24   17:00    Hertha BSC Berlin   \n",
       "1  1963/1964         1 1963-08-24   17:00     SV Werder Bremen   \n",
       "2  1963/1964         1 1963-08-24   17:00  Eintracht Frankfurt   \n",
       "3  1963/1964         1 1963-08-24   17:00        Karlsruher SC   \n",
       "4  1963/1964         1 1963-08-24   17:00    TSV 1860 Muenchen   \n",
       "\n",
       "                     Gast  Tore_Heim  Tore_Gast  Tore_Heim_Halbzeit  \\\n",
       "0         1. FC Nuernberg          1          1                 0.0   \n",
       "1       Borussia Dortmund          3          2                 1.0   \n",
       "2    1. FC Kaiserslautern          1          1                 1.0   \n",
       "3          Meidericher SV          1          4                 0.0   \n",
       "4  Eintracht Braunschweig          1          1                 1.0   \n",
       "\n",
       "   Tore_Gast_Halbzeit  Tore  Tore_erste_Halbzeit  Tore_zweite_Halbzeit  \\\n",
       "0                 1.0     2                  1.0                   1.0   \n",
       "1                 1.0     5                  2.0                   3.0   \n",
       "2                 1.0     2                  2.0                   0.0   \n",
       "3                 3.0     5                  3.0                   2.0   \n",
       "4                 0.0     2                  1.0                   1.0   \n",
       "\n",
       "   Gewonnen  \n",
       "0         0  \n",
       "1         1  \n",
       "2         0  \n",
       "3         2  \n",
       "4         0  "
      ]
     },
     "execution_count": 65,
     "metadata": {},
     "output_type": "execute_result"
    }
   ],
   "source": [
    "df['Gewonnen'] = np.select([df.Tore_Heim>df.Tore_Gast,\n",
    "                            df.Tore_Heim<df.Tore_Gast],\n",
    "                            [1, 2], default=0)\n",
    "df.head()\n",
    "# Alternativ mit verschachteltem np.where()"
   ]
  },
  {
   "cell_type": "code",
   "execution_count": 66,
   "metadata": {},
   "outputs": [
    {
     "data": {
      "text/plain": [
       "1    0.521483\n",
       "0    0.259734\n",
       "2    0.218783\n",
       "Name: Gewonnen, dtype: float64"
      ]
     },
     "execution_count": 66,
     "metadata": {},
     "output_type": "execute_result"
    }
   ],
   "source": [
    "df.Gewonnen.value_counts(normalize=True)"
   ]
  },
  {
   "cell_type": "markdown",
   "metadata": {},
   "source": [
    "Welche und wie viele Mannschaften haben in den untersuchten Saisons gespielt?"
   ]
  },
  {
   "cell_type": "code",
   "execution_count": 67,
   "metadata": {},
   "outputs": [
    {
     "data": {
      "text/plain": [
       "0          Hertha BSC Berlin\n",
       "1           SV Werder Bremen\n",
       "2        Eintracht Frankfurt\n",
       "3              Karlsruher SC\n",
       "4          TSV 1860 Muenchen\n",
       "                ...         \n",
       "13401        1. FSV Mainz 05\n",
       "13402      Arminia Bielefeld\n",
       "13403             VfL Bochum\n",
       "13404       Alemannia Aachen\n",
       "13405     FC Energie Cottbus\n",
       "Length: 26812, dtype: object"
      ]
     },
     "execution_count": 67,
     "metadata": {},
     "output_type": "execute_result"
    }
   ],
   "source": [
    "Teams = df.Heim.append(df.Gast)\n",
    "Teams"
   ]
  },
  {
   "cell_type": "code",
   "execution_count": 68,
   "metadata": {},
   "outputs": [
    {
     "data": {
      "text/plain": [
       "array(['Hertha BSC Berlin', 'SV Werder Bremen', 'Eintracht Frankfurt',\n",
       "       'Karlsruher SC', 'TSV 1860 Muenchen', 'Preussen Muenster',\n",
       "       '1. FC Saarbruecken', 'FC Schalke 04', 'Eintracht Braunschweig',\n",
       "       'Borussia Dortmund', 'Meidericher SV', 'Hamburger SV',\n",
       "       '1. FC Kaiserslautern', '1. FC Koeln', '1. FC Nuernberg',\n",
       "       'VfB Stuttgart', 'Hannover 96', 'Borussia Neunkirchen',\n",
       "       'Tasmania 1900 Berlin', 'Borussia Moenchengladbach',\n",
       "       'FC Bayern Muenchen', 'MSV Duisburg', 'Fortuna Duesseldorf',\n",
       "       'Rot-Weiss Essen', 'Alemannia Aachen', 'Kickers Offenbach',\n",
       "       'Rot-Weiss Oberhausen', 'Arminia Bielefeld', 'VfL Bochum',\n",
       "       'Wuppertaler SV', 'Fortuna Koeln', 'Tennis Borussia Berlin',\n",
       "       'KFC Uerdingen 05', 'FC St. Pauli', 'Darmstadt 98',\n",
       "       'Bayer Leverkusen', 'SV Waldhof Mannheim', 'FC 08 Homburg',\n",
       "       'Blau-Weiss 90 Berlin', 'Stuttgarter Kickers',\n",
       "       'SG Wattenscheid 09', 'Dynamo Dresden', 'Hansa Rostock',\n",
       "       'VfB Leipzig', 'SC Freiburg', 'VfL Wolfsburg', 'SSV Ulm 1846',\n",
       "       'SpVgg Unterhaching', 'FC Energie Cottbus', '1. FSV Mainz 05'],\n",
       "      dtype=object)"
      ]
     },
     "execution_count": 68,
     "metadata": {},
     "output_type": "execute_result"
    }
   ],
   "source": [
    "Teams.unique()"
   ]
  },
  {
   "cell_type": "code",
   "execution_count": 71,
   "metadata": {},
   "outputs": [
    {
     "data": {
      "text/plain": [
       "50"
      ]
     },
     "execution_count": 71,
     "metadata": {},
     "output_type": "execute_result"
    }
   ],
   "source": [
    "len(Teams.unique())"
   ]
  },
  {
   "cell_type": "code",
   "execution_count": 72,
   "metadata": {},
   "outputs": [
    {
     "data": {
      "text/plain": [
       "50"
      ]
     },
     "execution_count": 72,
     "metadata": {},
     "output_type": "execute_result"
    }
   ],
   "source": [
    "Teams.nunique()"
   ]
  },
  {
   "cell_type": "markdown",
   "metadata": {},
   "source": [
    "Welche drei Mannschaften haben die meisten Spiele in den untersuchten Saisons?"
   ]
  },
  {
   "cell_type": "code",
   "execution_count": 73,
   "metadata": {},
   "outputs": [
    {
     "data": {
      "text/plain": [
       "Hamburger SV          1492\n",
       "SV Werder Bremen      1458\n",
       "FC Bayern Muenchen    1432\n",
       "dtype: int64"
      ]
     },
     "execution_count": 73,
     "metadata": {},
     "output_type": "execute_result"
    }
   ],
   "source": [
    "Teams.value_counts().head(3)"
   ]
  }
 ],
 "metadata": {
  "kernelspec": {
   "display_name": "Python 3",
   "language": "python",
   "name": "python3"
  },
  "language_info": {
   "codemirror_mode": {
    "name": "ipython",
    "version": 3
   },
   "file_extension": ".py",
   "mimetype": "text/x-python",
   "name": "python",
   "nbconvert_exporter": "python",
   "pygments_lexer": "ipython3",
   "version": "3.8.8"
  }
 },
 "nbformat": 4,
 "nbformat_minor": 2
}
