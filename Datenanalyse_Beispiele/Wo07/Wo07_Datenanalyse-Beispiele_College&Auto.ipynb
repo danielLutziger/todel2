{
 "cells": [
  {
   "cell_type": "markdown",
   "metadata": {},
   "source": [
    "## Woche 7: Datenanalyse-Beispiele: College- und Auto-Datensatz\n",
    "Datenquellen: James, G., Witten, D., Hastie, T., & Tibshirani, R. (2013). An Introduction to Statistical Learning: with Applications in R. New York: Springer-Verlag.\n",
    "\n",
    "armin.baenziger@zhaw.ch\n",
    "\n",
    "Letzte Anpassung: 6.9.2020"
   ]
  },
  {
   "cell_type": "code",
   "execution_count": null,
   "metadata": {},
   "outputs": [],
   "source": [
    "import "
   ]
  },
  {
   "cell_type": "markdown",
   "metadata": {},
   "source": [
    "### Datensatz College.csv\n",
    "This exercise relates to the College data set, which can be found in\n",
    "the file College.csv. It contains a number of variables for 777 different\n",
    "universities and colleges in the US. The variables are\n",
    "- `Private` : Public/private indicator\n",
    "- `Apps` : Number of applications received\n",
    "- `Accept` : Number of applicants accepted\n",
    "- `Enroll` : Number of new students enrolled\n",
    "- `Top10_Perc` : New students from top 10% of high school class\n",
    "- `Top25_Perc` : New students from top 25% of high school class\n",
    "- `F_Undergrad` : Number of full-time undergraduates\n",
    "- `P_Undergrad` : Number of part-time undergraduates\n",
    "- `Outstate` : Out-of-state tuition\n",
    "- `Room_Board` : Room and board costs\n",
    "- `Books` : Estimated book costs\n",
    "- `Personal` : Estimated personal spending\n",
    "- `PhD` : Percent of faculty with Ph.D.’s\n",
    "- `Terminal` : Percent of faculty with terminal degree\n",
    "- `SF_Ratio` : Student/faculty ratio\n",
    "- `Alumni_Perc` : Percent of alumni who donate\n",
    "- `Expend` : Instructional expenditure per student\n",
    "- `Grad_Rate` : Graduation rate"
   ]
  },
  {
   "cell_type": "markdown",
   "metadata": {},
   "source": [
    "**(A.1)** Daten ins DataFrame `College` importieren:"
   ]
  },
  {
   "cell_type": "code",
   "execution_count": null,
   "metadata": {},
   "outputs": [],
   "source": []
  },
  {
   "cell_type": "markdown",
   "metadata": {},
   "source": [
    "**(A.2)** Daten mit der `head`-Methode überblicken:"
   ]
  },
  {
   "cell_type": "code",
   "execution_count": null,
   "metadata": {},
   "outputs": [],
   "source": []
  },
  {
   "cell_type": "markdown",
   "metadata": {
    "collapsed": true
   },
   "source": [
    "**(A.3)** `College` als Index festlegen:"
   ]
  },
  {
   "cell_type": "code",
   "execution_count": null,
   "metadata": {},
   "outputs": [],
   "source": []
  },
  {
   "cell_type": "markdown",
   "metadata": {},
   "source": [
    "**(A.4)** Numerische Zusammenfassung:"
   ]
  },
  {
   "cell_type": "code",
   "execution_count": null,
   "metadata": {},
   "outputs": [],
   "source": []
  },
  {
   "cell_type": "markdown",
   "metadata": {},
   "source": [
    "**(A.5)** Histogramm von `Outstate`:"
   ]
  },
  {
   "cell_type": "code",
   "execution_count": null,
   "metadata": {
    "scrolled": true
   },
   "outputs": [],
   "source": []
  },
  {
   "cell_type": "markdown",
   "metadata": {},
   "source": [
    "**(A.6)** Streudiagramm von `Grad_Rate` versus `Outstate`:"
   ]
  },
  {
   "cell_type": "code",
   "execution_count": null,
   "metadata": {},
   "outputs": [],
   "source": []
  },
  {
   "cell_type": "markdown",
   "metadata": {},
   "source": [
    "**(A.7)** Korrelation von `Grad_Rate` versus `Outstate`:"
   ]
  },
  {
   "cell_type": "code",
   "execution_count": null,
   "metadata": {},
   "outputs": [],
   "source": []
  },
  {
   "cell_type": "markdown",
   "metadata": {},
   "source": [
    "**(A.8)** Streudiagramm von `SF_Ratio` versus `Outstate`:"
   ]
  },
  {
   "cell_type": "code",
   "execution_count": null,
   "metadata": {},
   "outputs": [],
   "source": []
  },
  {
   "cell_type": "markdown",
   "metadata": {},
   "source": [
    "**(A.9)** Welches College ist der Ausreisser (mit der hohen `SF_Ratio`)?"
   ]
  },
  {
   "cell_type": "code",
   "execution_count": null,
   "metadata": {},
   "outputs": [],
   "source": []
  },
  {
   "cell_type": "markdown",
   "metadata": {},
   "source": [
    "**(A.10)** Colleges mit `Outstate >= 20000`:"
   ]
  },
  {
   "cell_type": "code",
   "execution_count": null,
   "metadata": {},
   "outputs": [],
   "source": []
  },
  {
   "cell_type": "markdown",
   "metadata": {},
   "source": [
    "**(A.11)** Boxplot von `Outstate` versus `Private`:"
   ]
  },
  {
   "cell_type": "code",
   "execution_count": null,
   "metadata": {},
   "outputs": [],
   "source": []
  },
  {
   "cell_type": "markdown",
   "metadata": {
    "collapsed": true
   },
   "source": [
    "**(A.12)** Neue Variable Elite: `True`, falls Top10perc > 50 (%), sonst `False`."
   ]
  },
  {
   "cell_type": "code",
   "execution_count": null,
   "metadata": {},
   "outputs": [],
   "source": []
  },
  {
   "cell_type": "markdown",
   "metadata": {},
   "source": [
    "**(A.13)** Boxplot von `Outstate` versus `Elite`:"
   ]
  },
  {
   "cell_type": "code",
   "execution_count": null,
   "metadata": {},
   "outputs": [],
   "source": []
  },
  {
   "cell_type": "markdown",
   "metadata": {},
   "source": [
    "**(A.14)** Variable `AcceptRate` erstellen (`Accept` relativ zu `Apps`): "
   ]
  },
  {
   "cell_type": "code",
   "execution_count": null,
   "metadata": {},
   "outputs": [],
   "source": []
  },
  {
   "cell_type": "markdown",
   "metadata": {},
   "source": [
    "**(A.15)** Histogramm von `AcceptRate`:"
   ]
  },
  {
   "cell_type": "code",
   "execution_count": null,
   "metadata": {},
   "outputs": [],
   "source": []
  },
  {
   "cell_type": "markdown",
   "metadata": {},
   "source": [
    "**(A.16)** Colleges nach `AcceptRate` sortieren:"
   ]
  },
  {
   "cell_type": "code",
   "execution_count": null,
   "metadata": {},
   "outputs": [],
   "source": []
  },
  {
   "cell_type": "markdown",
   "metadata": {},
   "source": [
    "**(A.17)** Die letzten zwei Variablen der zehn Colleges mit den tiefsten `AcceptRate` selektieren: "
   ]
  },
  {
   "cell_type": "code",
   "execution_count": null,
   "metadata": {},
   "outputs": [],
   "source": []
  },
  {
   "cell_type": "markdown",
   "metadata": {
    "collapsed": true
   },
   "source": [
    "**(A.18)** Variable `University` erstellen, welche die Ausprägung `True` hat, falls im Namen \"University\" steht, ansonsten `False`: "
   ]
  },
  {
   "cell_type": "code",
   "execution_count": null,
   "metadata": {},
   "outputs": [],
   "source": []
  },
  {
   "cell_type": "markdown",
   "metadata": {},
   "source": [
    "**(A.19)** Zusammenhang zwischen den Variablen `University` und `Apps` mit Boxplots darstellen:"
   ]
  },
  {
   "cell_type": "code",
   "execution_count": null,
   "metadata": {},
   "outputs": [],
   "source": []
  },
  {
   "cell_type": "markdown",
   "metadata": {},
   "source": [
    "**(A.20)** Welches College sticht heraus?"
   ]
  },
  {
   "cell_type": "code",
   "execution_count": null,
   "metadata": {},
   "outputs": [],
   "source": []
  },
  {
   "cell_type": "markdown",
   "metadata": {},
   "source": [
    "***"
   ]
  },
  {
   "cell_type": "markdown",
   "metadata": {},
   "source": [
    "### Datensatz Auto.csv\n",
    "\n",
    "**Description:**\n",
    "Gas mileage, horsepower, and other information for 392 vehicles.\n",
    "\n",
    "**Format:**\n",
    "A data frame with 392 observations on the following 9 variables:\n",
    "- `mpg`: miles per gallon\n",
    "- `cylinders`: Number of cylinders between 4 and 8\n",
    "- `displacement`: Engine displacement (cu. inches)\n",
    "- `horsepower`: Engine horsepower\n",
    "- `weight`: Vehicle weight (lbs.)\n",
    "- `acceleration`: Time to accelerate from 0 to 60 mph (sec.)\n",
    "- `year`: Model year (modulo 100)\n",
    "- `origin`: Origin of car (1. American, 2. European, 3. Japanese)\n",
    "- `name`: Vehicle name"
   ]
  },
  {
   "cell_type": "markdown",
   "metadata": {},
   "source": [
    "**(B.1)** Daten ins DataFrame `Auto` importieren:"
   ]
  },
  {
   "cell_type": "code",
   "execution_count": null,
   "metadata": {},
   "outputs": [],
   "source": []
  },
  {
   "cell_type": "markdown",
   "metadata": {},
   "source": [
    "**(B.2)** Daten mit der `head`-Methode überblicken:"
   ]
  },
  {
   "cell_type": "code",
   "execution_count": null,
   "metadata": {},
   "outputs": [],
   "source": []
  },
  {
   "cell_type": "markdown",
   "metadata": {},
   "source": [
    "**(B.3)** `name` als Index festlegen:"
   ]
  },
  {
   "cell_type": "code",
   "execution_count": null,
   "metadata": {},
   "outputs": [],
   "source": []
  },
  {
   "cell_type": "markdown",
   "metadata": {},
   "source": [
    "**(B.4)** Numerische Zusammenfassung:"
   ]
  },
  {
   "cell_type": "code",
   "execution_count": null,
   "metadata": {},
   "outputs": [],
   "source": []
  },
  {
   "cell_type": "markdown",
   "metadata": {},
   "source": [
    "**(B.5)** In den USA wird die Treibstoffeffizienz von Fahrzeugen in Meilen pro Gallone gemessen (je *grösser* der Wert, desto effizienter). In Europa misst man sie in Liter pro `100 km` (je *kleiner* der Wert, desto effizienter). Erstellen Sie die Variable `lpro100km` aus `mpg`. (Hinweis: Eine Meile ist `1.60934 km` und eine Gallone ist `3.78541 l`.)"
   ]
  },
  {
   "cell_type": "code",
   "execution_count": null,
   "metadata": {},
   "outputs": [],
   "source": []
  },
  {
   "cell_type": "markdown",
   "metadata": {},
   "source": [
    "**(B.6)** Passendes Diagramm der Verteilung von `lpro100km`:"
   ]
  },
  {
   "cell_type": "code",
   "execution_count": null,
   "metadata": {},
   "outputs": [],
   "source": []
  },
  {
   "cell_type": "markdown",
   "metadata": {},
   "source": [
    "**(B.7)** Streudiagramm von Gewicht (`weight`) versus Beschleunigung (`acceleration`, Sekunden bis 60 mph):"
   ]
  },
  {
   "cell_type": "code",
   "execution_count": null,
   "metadata": {},
   "outputs": [],
   "source": []
  },
  {
   "cell_type": "markdown",
   "metadata": {},
   "source": [
    "**(B.8)** Streudiagramm-Matrix. Befund? Erklärung dafür, dass schwere Autos tendenziell besser beschleunigen?"
   ]
  },
  {
   "cell_type": "code",
   "execution_count": null,
   "metadata": {},
   "outputs": [],
   "source": []
  },
  {
   "cell_type": "markdown",
   "metadata": {},
   "source": [
    "**(B.9)** Umcodierung von `origin`: `1=American, 2=European, 3=Japanese`"
   ]
  },
  {
   "cell_type": "code",
   "execution_count": null,
   "metadata": {},
   "outputs": [],
   "source": []
  },
  {
   "cell_type": "markdown",
   "metadata": {},
   "source": [
    "**(B.10)** Zusammenhang Verbrauch (`lpro100km`) nach `origin`:"
   ]
  },
  {
   "cell_type": "code",
   "execution_count": null,
   "metadata": {},
   "outputs": [],
   "source": []
  },
  {
   "cell_type": "markdown",
   "metadata": {},
   "source": [
    "**(B.11)** Entwicklung von `lpro100km` nach `year`:"
   ]
  },
  {
   "cell_type": "code",
   "execution_count": null,
   "metadata": {},
   "outputs": [],
   "source": []
  }
 ],
 "metadata": {
  "kernelspec": {
   "display_name": "Python 3",
   "language": "python",
   "name": "python3"
  },
  "language_info": {
   "codemirror_mode": {
    "name": "ipython",
    "version": 3
   },
   "file_extension": ".py",
   "mimetype": "text/x-python",
   "name": "python",
   "nbconvert_exporter": "python",
   "pygments_lexer": "ipython3",
   "version": "3.7.6"
  }
 },
 "nbformat": 4,
 "nbformat_minor": 2
}
