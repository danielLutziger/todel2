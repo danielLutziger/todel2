{
 "cells": [
  {
   "cell_type": "markdown",
   "metadata": {},
   "source": [
    "## Übungen zum Kapitel 11\n",
    "### Zeitreihen\n",
    "Erstellt und überarbeitet: armin.baenziger@zhaw.ch, 15. Mai 2020\n",
    "***"
   ]
  },
  {
   "cell_type": "code",
   "execution_count": null,
   "metadata": {},
   "outputs": [],
   "source": [
    "%autosave 0"
   ]
  },
  {
   "cell_type": "markdown",
   "metadata": {},
   "source": [
    "**(A.1)** Laden Sie NumPy, Pandas und Matplotlib.pyplot mit der üblichen Abkürzung."
   ]
  },
  {
   "cell_type": "code",
   "execution_count": 1,
   "metadata": {},
   "outputs": [],
   "source": [
    "import numpy as np\n",
    "import pandas as pd\n",
    "import matplotlib.pyplot as plt"
   ]
  },
  {
   "cell_type": "markdown",
   "metadata": {},
   "source": [
    "**(A.2)** Führen Sie den Magic Command aus, so dass Matplotlib-Plots \"inline\" erscheinen."
   ]
  },
  {
   "cell_type": "code",
   "execution_count": 2,
   "metadata": {},
   "outputs": [],
   "source": [
    "%matplotlib inline"
   ]
  },
  {
   "cell_type": "markdown",
   "metadata": {},
   "source": [
    "***"
   ]
  },
  {
   "cell_type": "markdown",
   "metadata": {},
   "source": [
    "**(B.1)** Die csv-Datei `hspitr.csv` im Ordner `weitere_Daten` enthält die Indexstände vom Swiss Performance Index (SPI) und den Subindizes *Small Cap*, *Mid Cap* und *Large Cap*.\n",
    "Laden Sie die Daten der Datei `hspitr.csv` in das DataFrame `Kurse`. Die erste Spalte enthält das Datum. Legen Sie dieses als Index (`index_col=0`) im Format `datetime` (`parse_dates=True`) fest."
   ]
  },
  {
   "cell_type": "code",
   "execution_count": 13,
   "metadata": {},
   "outputs": [
    {
     "data": {
      "text/html": [
       "<div>\n",
       "<style scoped>\n",
       "    .dataframe tbody tr th:only-of-type {\n",
       "        vertical-align: middle;\n",
       "    }\n",
       "\n",
       "    .dataframe tbody tr th {\n",
       "        vertical-align: top;\n",
       "    }\n",
       "\n",
       "    .dataframe thead th {\n",
       "        text-align: right;\n",
       "    }\n",
       "</style>\n",
       "<table border=\"1\" class=\"dataframe\">\n",
       "  <thead>\n",
       "    <tr style=\"text-align: right;\">\n",
       "      <th></th>\n",
       "      <th>SPI</th>\n",
       "      <th>SPI_Small_Cap</th>\n",
       "      <th>SPI_Mid_Cap</th>\n",
       "      <th>SPI_Large_Cap</th>\n",
       "    </tr>\n",
       "    <tr>\n",
       "      <th>Date</th>\n",
       "      <th></th>\n",
       "      <th></th>\n",
       "      <th></th>\n",
       "      <th></th>\n",
       "    </tr>\n",
       "  </thead>\n",
       "  <tbody>\n",
       "    <tr>\n",
       "      <th>2017-12-29</th>\n",
       "      <td>10751.51</td>\n",
       "      <td>27688.03</td>\n",
       "      <td>16559.27</td>\n",
       "      <td>9990.81</td>\n",
       "    </tr>\n",
       "    <tr>\n",
       "      <th>2017-12-28</th>\n",
       "      <td>10779.42</td>\n",
       "      <td>27663.05</td>\n",
       "      <td>16616.74</td>\n",
       "      <td>10015.73</td>\n",
       "    </tr>\n",
       "    <tr>\n",
       "      <th>2017-12-27</th>\n",
       "      <td>10803.98</td>\n",
       "      <td>27615.38</td>\n",
       "      <td>16639.16</td>\n",
       "      <td>10041.51</td>\n",
       "    </tr>\n",
       "    <tr>\n",
       "      <th>2017-12-22</th>\n",
       "      <td>10756.39</td>\n",
       "      <td>27530.06</td>\n",
       "      <td>16541.18</td>\n",
       "      <td>10000.14</td>\n",
       "    </tr>\n",
       "    <tr>\n",
       "      <th>2017-12-21</th>\n",
       "      <td>10780.76</td>\n",
       "      <td>27464.56</td>\n",
       "      <td>16529.44</td>\n",
       "      <td>10030.27</td>\n",
       "    </tr>\n",
       "  </tbody>\n",
       "</table>\n",
       "</div>"
      ],
      "text/plain": [
       "                 SPI  SPI_Small_Cap  SPI_Mid_Cap  SPI_Large_Cap\n",
       "Date                                                           \n",
       "2017-12-29  10751.51       27688.03     16559.27        9990.81\n",
       "2017-12-28  10779.42       27663.05     16616.74       10015.73\n",
       "2017-12-27  10803.98       27615.38     16639.16       10041.51\n",
       "2017-12-22  10756.39       27530.06     16541.18       10000.14\n",
       "2017-12-21  10780.76       27464.56     16529.44       10030.27"
      ]
     },
     "execution_count": 13,
     "metadata": {},
     "output_type": "execute_result"
    }
   ],
   "source": [
    "Kurse = pd.read_csv('../weitere_Daten/hspitr.csv', sep=';', parse_dates=True, index_col='Date')\n",
    "#Kurse.set_index(Kurse.Date, inplace=True)\n",
    "Kurse.head()"
   ]
  },
  {
   "cell_type": "markdown",
   "metadata": {},
   "source": [
    "**(B.2)** Sortieren Sie das DataFrame `Kurse` nach dem Datum (Index) aufsteigend. Tipp: Methode `sort_index` mit `inplace=True` verwenden."
   ]
  },
  {
   "cell_type": "code",
   "execution_count": 19,
   "metadata": {},
   "outputs": [
    {
     "data": {
      "text/html": [
       "<div>\n",
       "<style scoped>\n",
       "    .dataframe tbody tr th:only-of-type {\n",
       "        vertical-align: middle;\n",
       "    }\n",
       "\n",
       "    .dataframe tbody tr th {\n",
       "        vertical-align: top;\n",
       "    }\n",
       "\n",
       "    .dataframe thead th {\n",
       "        text-align: right;\n",
       "    }\n",
       "</style>\n",
       "<table border=\"1\" class=\"dataframe\">\n",
       "  <thead>\n",
       "    <tr style=\"text-align: right;\">\n",
       "      <th></th>\n",
       "      <th>SPI</th>\n",
       "      <th>SPI_Small_Cap</th>\n",
       "      <th>SPI_Mid_Cap</th>\n",
       "      <th>SPI_Large_Cap</th>\n",
       "    </tr>\n",
       "    <tr>\n",
       "      <th>Date</th>\n",
       "      <th></th>\n",
       "      <th></th>\n",
       "      <th></th>\n",
       "      <th></th>\n",
       "    </tr>\n",
       "  </thead>\n",
       "  <tbody>\n",
       "    <tr>\n",
       "      <th>1996-01-03</th>\n",
       "      <td>2172.31</td>\n",
       "      <td>2170.14</td>\n",
       "      <td>2040.95</td>\n",
       "      <td>2208.62</td>\n",
       "    </tr>\n",
       "    <tr>\n",
       "      <th>1996-01-04</th>\n",
       "      <td>2182.67</td>\n",
       "      <td>2184.72</td>\n",
       "      <td>2049.35</td>\n",
       "      <td>2219.26</td>\n",
       "    </tr>\n",
       "    <tr>\n",
       "      <th>1996-01-05</th>\n",
       "      <td>2175.09</td>\n",
       "      <td>2181.00</td>\n",
       "      <td>2054.88</td>\n",
       "      <td>2208.69</td>\n",
       "    </tr>\n",
       "    <tr>\n",
       "      <th>1996-01-08</th>\n",
       "      <td>2176.68</td>\n",
       "      <td>2194.96</td>\n",
       "      <td>2071.98</td>\n",
       "      <td>2206.46</td>\n",
       "    </tr>\n",
       "    <tr>\n",
       "      <th>1996-01-09</th>\n",
       "      <td>2174.13</td>\n",
       "      <td>2204.00</td>\n",
       "      <td>2077.84</td>\n",
       "      <td>2201.63</td>\n",
       "    </tr>\n",
       "    <tr>\n",
       "      <th>...</th>\n",
       "      <td>...</td>\n",
       "      <td>...</td>\n",
       "      <td>...</td>\n",
       "      <td>...</td>\n",
       "    </tr>\n",
       "    <tr>\n",
       "      <th>2017-12-21</th>\n",
       "      <td>10780.76</td>\n",
       "      <td>27464.56</td>\n",
       "      <td>16529.44</td>\n",
       "      <td>10030.27</td>\n",
       "    </tr>\n",
       "    <tr>\n",
       "      <th>2017-12-22</th>\n",
       "      <td>10756.39</td>\n",
       "      <td>27530.06</td>\n",
       "      <td>16541.18</td>\n",
       "      <td>10000.14</td>\n",
       "    </tr>\n",
       "    <tr>\n",
       "      <th>2017-12-27</th>\n",
       "      <td>10803.98</td>\n",
       "      <td>27615.38</td>\n",
       "      <td>16639.16</td>\n",
       "      <td>10041.51</td>\n",
       "    </tr>\n",
       "    <tr>\n",
       "      <th>2017-12-28</th>\n",
       "      <td>10779.42</td>\n",
       "      <td>27663.05</td>\n",
       "      <td>16616.74</td>\n",
       "      <td>10015.73</td>\n",
       "    </tr>\n",
       "    <tr>\n",
       "      <th>2017-12-29</th>\n",
       "      <td>10751.51</td>\n",
       "      <td>27688.03</td>\n",
       "      <td>16559.27</td>\n",
       "      <td>9990.81</td>\n",
       "    </tr>\n",
       "  </tbody>\n",
       "</table>\n",
       "<p>5534 rows × 4 columns</p>\n",
       "</div>"
      ],
      "text/plain": [
       "                 SPI  SPI_Small_Cap  SPI_Mid_Cap  SPI_Large_Cap\n",
       "Date                                                           \n",
       "1996-01-03   2172.31        2170.14      2040.95        2208.62\n",
       "1996-01-04   2182.67        2184.72      2049.35        2219.26\n",
       "1996-01-05   2175.09        2181.00      2054.88        2208.69\n",
       "1996-01-08   2176.68        2194.96      2071.98        2206.46\n",
       "1996-01-09   2174.13        2204.00      2077.84        2201.63\n",
       "...              ...            ...          ...            ...\n",
       "2017-12-21  10780.76       27464.56     16529.44       10030.27\n",
       "2017-12-22  10756.39       27530.06     16541.18       10000.14\n",
       "2017-12-27  10803.98       27615.38     16639.16       10041.51\n",
       "2017-12-28  10779.42       27663.05     16616.74       10015.73\n",
       "2017-12-29  10751.51       27688.03     16559.27        9990.81\n",
       "\n",
       "[5534 rows x 4 columns]"
      ]
     },
     "execution_count": 19,
     "metadata": {},
     "output_type": "execute_result"
    }
   ],
   "source": [
    "Kurse.sort_index(ascending=True, inplace=True)\n",
    "Kurse"
   ]
  },
  {
   "cell_type": "markdown",
   "metadata": {},
   "source": [
    "**(B.3)** Stellen Sie die Indexstände der vier Indexreihen in einem Liniendiagramm dar."
   ]
  },
  {
   "cell_type": "code",
   "execution_count": 20,
   "metadata": {},
   "outputs": [
    {
     "data": {
      "text/plain": [
       "<AxesSubplot:xlabel='Date'>"
      ]
     },
     "execution_count": 20,
     "metadata": {},
     "output_type": "execute_result"
    },
    {
     "data": {
      "image/png": "[encoded data removed]",
      "text/plain": [
       "<Figure size 432x288 with 1 Axes>"
      ]
     },
     "metadata": {
      "needs_background": "light"
     },
     "output_type": "display_data"
    }
   ],
   "source": [
    "Kurse.plot()"
   ]
  },
  {
   "cell_type": "markdown",
   "metadata": {},
   "source": [
    "**(B.4)** Stellen Sie die Indexstände der vier Indexreihen *zwischen Anfnang 2007 und Ende 2009* in *separaten* Liniendiagrammen dar. Tipp: `plot`-Argument `subplots=True` verwenden."
   ]
  },
  {
   "cell_type": "code",
   "execution_count": 22,
   "metadata": {},
   "outputs": [
    {
     "data": {
      "text/plain": [
       "array([<AxesSubplot:xlabel='Date'>, <AxesSubplot:xlabel='Date'>,\n",
       "       <AxesSubplot:xlabel='Date'>, <AxesSubplot:xlabel='Date'>],\n",
       "      dtype=object)"
      ]
     },
     "execution_count": 22,
     "metadata": {},
     "output_type": "execute_result"
    },
    {
     "data": {
      "image/png": "[encoded data removed]",
      "text/plain": [
       "<Figure size 432x288 with 4 Axes>"
      ]
     },
     "metadata": {
      "needs_background": "light"
     },
     "output_type": "display_data"
    }
   ],
   "source": [
    "Kurse['2007':'2009'].plot(subplots=True)"
   ]
  },
  {
   "cell_type": "markdown",
   "metadata": {},
   "source": [
    "**(B.5)** Stellen Sie die Entwicklung der vier Indexreihen zwischen Anfang 2007 und Ende 2009 in *einem* Liniendiagramm dar. Normieren Sie hierzu alle Indexreihen auf den Wert 100 zum Ausgangszeitpunkt. Tipp: Durch erste Zeile teilen und mal 100 rechnen."
   ]
  },
  {
   "cell_type": "code",
   "execution_count": 29,
   "metadata": {},
   "outputs": [
    {
     "data": {
      "text/plain": [
       "<AxesSubplot:xlabel='Date'>"
      ]
     },
     "execution_count": 29,
     "metadata": {},
     "output_type": "execute_result"
    },
    {
     "data": {
      "image/png": "[encoded data removed]",
      "text/plain": [
       "<Figure size 432x288 with 1 Axes>"
      ]
     },
     "metadata": {
      "needs_background": "light"
     },
     "output_type": "display_data"
    }
   ],
   "source": [
    "K2 = Kurse.copy()\n",
    "K2 = K2['2007':'2009'] / K2.iloc[0] * 100\n",
    "K2.plot()"
   ]
  },
  {
   "cell_type": "markdown",
   "metadata": {},
   "source": [
    "**(B.6)** Ermitteln Sie die Anzahl Handelstage in jedem Jahr im DataFrame `Kurse`. Tipp: `Kurse.index.year` gibt das Jahr zurück. Davon kann dann eine Häufigkeitstabelle erstellt werden."
   ]
  },
  {
   "cell_type": "code",
   "execution_count": 45,
   "metadata": {},
   "outputs": [
    {
     "data": {
      "text/plain": [
       "1996    252\n",
       "1997    251\n",
       "1998    251\n",
       "1999    253\n",
       "2000    251\n",
       "2001    250\n",
       "2002    253\n",
       "2003    250\n",
       "2004    254\n",
       "2005    255\n",
       "2006    251\n",
       "2007    249\n",
       "2008    251\n",
       "2009    251\n",
       "2010    254\n",
       "2011    254\n",
       "2012    250\n",
       "2013    249\n",
       "2014    249\n",
       "2015    251\n",
       "2016    254\n",
       "2017    251\n",
       "Name: Date, dtype: int64"
      ]
     },
     "execution_count": 45,
     "metadata": {},
     "output_type": "execute_result"
    }
   ],
   "source": [
    "Kurse.index.year.value_counts().sort_index()"
   ]
  },
  {
   "cell_type": "markdown",
   "metadata": {},
   "source": [
    "**(B.7)** Stellen Sie den Verlauf des SPI-Indexes in einem Liniendiagramm dar. Fügen Sie zudem einen einfachen (zentrierten) gleitenden Durchschnitt der Ordnung 250 dem Diagramm hinzu. (250 Handelstage entsprechen ungefähr einem Jahr, wie oben bestätigt wurde.)  "
   ]
  },
  {
   "cell_type": "code",
   "execution_count": 52,
   "metadata": {},
   "outputs": [
    {
     "data": {
      "image/png": "[encoded data removed]",
      "text/plain": [
       "<Figure size 432x288 with 1 Axes>"
      ]
     },
     "metadata": {
      "needs_background": "light"
     },
     "output_type": "display_data"
    }
   ],
   "source": [
    "Kurse.SPI.plot()\n",
    "Kurse.SPI.rolling(250, center=True).mean().plot()\n",
    "plt.show()"
   ]
  },
  {
   "cell_type": "markdown",
   "metadata": {},
   "source": [
    "***"
   ]
  },
  {
   "cell_type": "markdown",
   "metadata": {},
   "source": [
    "**(C.1)** Bilden Sie aus dem DataFrame `Kurse` das DataFrame `Renditen`, welches die *stetigen* Tagesrenditen der vier Indizes *in Prozent* umfasst. Tipp: $r_{t, stetig} = \\ln (K_t/ K_{t-1})\\cdot 100$. Den natürlichen Logarithmus können Sie mit `np.log()` bilden."
   ]
  },
  {
   "cell_type": "code",
   "execution_count": 55,
   "metadata": {},
   "outputs": [
    {
     "data": {
      "text/html": [
       "<div>\n",
       "<style scoped>\n",
       "    .dataframe tbody tr th:only-of-type {\n",
       "        vertical-align: middle;\n",
       "    }\n",
       "\n",
       "    .dataframe tbody tr th {\n",
       "        vertical-align: top;\n",
       "    }\n",
       "\n",
       "    .dataframe thead th {\n",
       "        text-align: right;\n",
       "    }\n",
       "</style>\n",
       "<table border=\"1\" class=\"dataframe\">\n",
       "  <thead>\n",
       "    <tr style=\"text-align: right;\">\n",
       "      <th></th>\n",
       "      <th>SPI</th>\n",
       "      <th>SPI_Small_Cap</th>\n",
       "      <th>SPI_Mid_Cap</th>\n",
       "      <th>SPI_Large_Cap</th>\n",
       "    </tr>\n",
       "    <tr>\n",
       "      <th>Date</th>\n",
       "      <th></th>\n",
       "      <th></th>\n",
       "      <th></th>\n",
       "      <th></th>\n",
       "    </tr>\n",
       "  </thead>\n",
       "  <tbody>\n",
       "    <tr>\n",
       "      <th>1996-01-03</th>\n",
       "      <td>NaN</td>\n",
       "      <td>NaN</td>\n",
       "      <td>NaN</td>\n",
       "      <td>NaN</td>\n",
       "    </tr>\n",
       "    <tr>\n",
       "      <th>1996-01-04</th>\n",
       "      <td>0.004758</td>\n",
       "      <td>0.006696</td>\n",
       "      <td>0.004107</td>\n",
       "      <td>0.004806</td>\n",
       "    </tr>\n",
       "    <tr>\n",
       "      <th>1996-01-05</th>\n",
       "      <td>-0.003479</td>\n",
       "      <td>-0.001704</td>\n",
       "      <td>0.002695</td>\n",
       "      <td>-0.004774</td>\n",
       "    </tr>\n",
       "    <tr>\n",
       "      <th>1996-01-08</th>\n",
       "      <td>0.000731</td>\n",
       "      <td>0.006380</td>\n",
       "      <td>0.008287</td>\n",
       "      <td>-0.001010</td>\n",
       "    </tr>\n",
       "    <tr>\n",
       "      <th>1996-01-09</th>\n",
       "      <td>-0.001172</td>\n",
       "      <td>0.004110</td>\n",
       "      <td>0.002824</td>\n",
       "      <td>-0.002191</td>\n",
       "    </tr>\n",
       "    <tr>\n",
       "      <th>...</th>\n",
       "      <td>...</td>\n",
       "      <td>...</td>\n",
       "      <td>...</td>\n",
       "      <td>...</td>\n",
       "    </tr>\n",
       "    <tr>\n",
       "      <th>2017-12-21</th>\n",
       "      <td>0.010177</td>\n",
       "      <td>0.003857</td>\n",
       "      <td>0.004026</td>\n",
       "      <td>0.011641</td>\n",
       "    </tr>\n",
       "    <tr>\n",
       "      <th>2017-12-22</th>\n",
       "      <td>-0.002263</td>\n",
       "      <td>0.002382</td>\n",
       "      <td>0.000710</td>\n",
       "      <td>-0.003008</td>\n",
       "    </tr>\n",
       "    <tr>\n",
       "      <th>2017-12-27</th>\n",
       "      <td>0.004415</td>\n",
       "      <td>0.003094</td>\n",
       "      <td>0.005906</td>\n",
       "      <td>0.004128</td>\n",
       "    </tr>\n",
       "    <tr>\n",
       "      <th>2017-12-28</th>\n",
       "      <td>-0.002276</td>\n",
       "      <td>0.001725</td>\n",
       "      <td>-0.001348</td>\n",
       "      <td>-0.002571</td>\n",
       "    </tr>\n",
       "    <tr>\n",
       "      <th>2017-12-29</th>\n",
       "      <td>-0.002593</td>\n",
       "      <td>0.000903</td>\n",
       "      <td>-0.003465</td>\n",
       "      <td>-0.002491</td>\n",
       "    </tr>\n",
       "  </tbody>\n",
       "</table>\n",
       "<p>5534 rows × 4 columns</p>\n",
       "</div>"
      ],
      "text/plain": [
       "                 SPI  SPI_Small_Cap  SPI_Mid_Cap  SPI_Large_Cap\n",
       "Date                                                           \n",
       "1996-01-03       NaN            NaN          NaN            NaN\n",
       "1996-01-04  0.004758       0.006696     0.004107       0.004806\n",
       "1996-01-05 -0.003479      -0.001704     0.002695      -0.004774\n",
       "1996-01-08  0.000731       0.006380     0.008287      -0.001010\n",
       "1996-01-09 -0.001172       0.004110     0.002824      -0.002191\n",
       "...              ...            ...          ...            ...\n",
       "2017-12-21  0.010177       0.003857     0.004026       0.011641\n",
       "2017-12-22 -0.002263       0.002382     0.000710      -0.003008\n",
       "2017-12-27  0.004415       0.003094     0.005906       0.004128\n",
       "2017-12-28 -0.002276       0.001725    -0.001348      -0.002571\n",
       "2017-12-29 -0.002593       0.000903    -0.003465      -0.002491\n",
       "\n",
       "[5534 rows x 4 columns]"
      ]
     },
     "execution_count": 55,
     "metadata": {},
     "output_type": "execute_result"
    }
   ],
   "source": [
    "Renditen = Kurse.copy()\n",
    "Renditen = np.log( Renditen / Renditen.shift(1))\n",
    "Renditen"
   ]
  },
  {
   "cell_type": "markdown",
   "metadata": {},
   "source": [
    "**(C.2)** Berechnen Sie die mittleren Renditen des SPI, *gruppiert nach Wochentag*. Tipp: Die Wochentage erhalten Sie mit `Renditen.index.weekday`, `Renditen.index.dayofweek` oder `Renditen.index.day_name()`.  "
   ]
  },
  {
   "cell_type": "code",
   "execution_count": 57,
   "metadata": {},
   "outputs": [
    {
     "data": {
      "text/html": [
       "<div>\n",
       "<style scoped>\n",
       "    .dataframe tbody tr th:only-of-type {\n",
       "        vertical-align: middle;\n",
       "    }\n",
       "\n",
       "    .dataframe tbody tr th {\n",
       "        vertical-align: top;\n",
       "    }\n",
       "\n",
       "    .dataframe thead th {\n",
       "        text-align: right;\n",
       "    }\n",
       "</style>\n",
       "<table border=\"1\" class=\"dataframe\">\n",
       "  <thead>\n",
       "    <tr style=\"text-align: right;\">\n",
       "      <th></th>\n",
       "      <th>SPI</th>\n",
       "      <th>SPI_Small_Cap</th>\n",
       "      <th>SPI_Mid_Cap</th>\n",
       "      <th>SPI_Large_Cap</th>\n",
       "    </tr>\n",
       "    <tr>\n",
       "      <th>Date</th>\n",
       "      <th></th>\n",
       "      <th></th>\n",
       "      <th></th>\n",
       "      <th></th>\n",
       "    </tr>\n",
       "  </thead>\n",
       "  <tbody>\n",
       "    <tr>\n",
       "      <th>Friday</th>\n",
       "      <td>0.000371</td>\n",
       "      <td>0.001518</td>\n",
       "      <td>0.001084</td>\n",
       "      <td>0.000218</td>\n",
       "    </tr>\n",
       "    <tr>\n",
       "      <th>Monday</th>\n",
       "      <td>0.000220</td>\n",
       "      <td>-0.000119</td>\n",
       "      <td>0.000056</td>\n",
       "      <td>0.000264</td>\n",
       "    </tr>\n",
       "    <tr>\n",
       "      <th>Thursday</th>\n",
       "      <td>0.000162</td>\n",
       "      <td>0.000391</td>\n",
       "      <td>0.000203</td>\n",
       "      <td>0.000148</td>\n",
       "    </tr>\n",
       "    <tr>\n",
       "      <th>Tuesday</th>\n",
       "      <td>0.000300</td>\n",
       "      <td>0.000029</td>\n",
       "      <td>0.000118</td>\n",
       "      <td>0.000343</td>\n",
       "    </tr>\n",
       "    <tr>\n",
       "      <th>Wednesday</th>\n",
       "      <td>0.000389</td>\n",
       "      <td>0.000482</td>\n",
       "      <td>0.000432</td>\n",
       "      <td>0.000387</td>\n",
       "    </tr>\n",
       "  </tbody>\n",
       "</table>\n",
       "</div>"
      ],
      "text/plain": [
       "                SPI  SPI_Small_Cap  SPI_Mid_Cap  SPI_Large_Cap\n",
       "Date                                                          \n",
       "Friday     0.000371       0.001518     0.001084       0.000218\n",
       "Monday     0.000220      -0.000119     0.000056       0.000264\n",
       "Thursday   0.000162       0.000391     0.000203       0.000148\n",
       "Tuesday    0.000300       0.000029     0.000118       0.000343\n",
       "Wednesday  0.000389       0.000482     0.000432       0.000387"
      ]
     },
     "execution_count": 57,
     "metadata": {},
     "output_type": "execute_result"
    }
   ],
   "source": [
    "Renditen.groupby(Renditen.index.day_name()).mean()"
   ]
  },
  {
   "cell_type": "markdown",
   "metadata": {},
   "source": [
    "**(C.3)** Stellen Sie die mittleren stetigen Tagesrenditen des SPI nach Wochentag in einem Säulendiagramm dar."
   ]
  },
  {
   "cell_type": "code",
   "execution_count": 58,
   "metadata": {},
   "outputs": [
    {
     "data": {
      "text/plain": [
       "<AxesSubplot:xlabel='Date'>"
      ]
     },
     "execution_count": 58,
     "metadata": {},
     "output_type": "execute_result"
    },
    {
     "data": {
      "image/png": "[encoded data removed]",
      "text/plain": [
       "<Figure size 432x288 with 1 Axes>"
      ]
     },
     "metadata": {
      "needs_background": "light"
     },
     "output_type": "display_data"
    }
   ],
   "source": [
    "Renditen.groupby(Renditen.index.day_name()).mean().plot(kind='bar')"
   ]
  },
  {
   "cell_type": "markdown",
   "metadata": {},
   "source": [
    "**Hinweis:** Statt lediglich die Mittelwerte mit Säulendiagrammen darzustellen, sollte man besser die *ganzen Verteilungen* mit Boxplots charakterisieren. Dadurch kann man erkennen, dass die Streuungen der Tagesrenditen sehr gross sind relativ zu den Mittelwerten. "
   ]
  },
  {
   "cell_type": "code",
   "execution_count": 59,
   "metadata": {},
   "outputs": [
    {
     "data": {
      "image/png": "[encoded data removed]",
      "text/plain": [
       "<Figure size 432x360 with 1 Axes>"
      ]
     },
     "metadata": {
      "needs_background": "light"
     },
     "output_type": "display_data"
    }
   ],
   "source": [
    "wochentag = Renditen.index.dayofweek\n",
    "df = Renditen.pivot_table(columns=wochentag, \n",
    "                          index=Renditen.index, \n",
    "                          values='SPI')\n",
    "df.boxplot(showmeans=True, figsize=(6,5))\n",
    "plt.title('Stetige Wochentagrenditen des SPI in % (1996-2017)')\n",
    "plt.xticks(range(1,6), ['Mo', 'Di', 'Mi', 'Do', 'Fr'])\n",
    "plt.ylabel('stetige Rendite in %');"
   ]
  },
  {
   "cell_type": "markdown",
   "metadata": {},
   "source": [
    "***"
   ]
  },
  {
   "cell_type": "markdown",
   "metadata": {},
   "source": [
    "**(D.1)** Bilden Sie aus dem DataFrame `Renditen` ein DataFrame `RenditenM` mit stetigen *Monatsrenditen*. \n",
    "- Tipp: Methode `resample` und `sum` verwenden. \n",
    "- Hinweis: Stetige Renditen sind additiv, das heisst, dass die Summe der Tagresrenditen eines Monats die entspprechende Monatsrendite ist."
   ]
  },
  {
   "cell_type": "code",
   "execution_count": 62,
   "metadata": {},
   "outputs": [
    {
     "data": {
      "text/html": [
       "<div>\n",
       "<style scoped>\n",
       "    .dataframe tbody tr th:only-of-type {\n",
       "        vertical-align: middle;\n",
       "    }\n",
       "\n",
       "    .dataframe tbody tr th {\n",
       "        vertical-align: top;\n",
       "    }\n",
       "\n",
       "    .dataframe thead th {\n",
       "        text-align: right;\n",
       "    }\n",
       "</style>\n",
       "<table border=\"1\" class=\"dataframe\">\n",
       "  <thead>\n",
       "    <tr style=\"text-align: right;\">\n",
       "      <th></th>\n",
       "      <th>SPI</th>\n",
       "      <th>SPI_Small_Cap</th>\n",
       "      <th>SPI_Mid_Cap</th>\n",
       "      <th>SPI_Large_Cap</th>\n",
       "    </tr>\n",
       "    <tr>\n",
       "      <th>Date</th>\n",
       "      <th></th>\n",
       "      <th></th>\n",
       "      <th></th>\n",
       "      <th></th>\n",
       "    </tr>\n",
       "  </thead>\n",
       "  <tbody>\n",
       "    <tr>\n",
       "      <th>1996-01-31</th>\n",
       "      <td>-0.023305</td>\n",
       "      <td>0.014524</td>\n",
       "      <td>0.020749</td>\n",
       "      <td>-0.033817</td>\n",
       "    </tr>\n",
       "    <tr>\n",
       "      <th>1996-02-29</th>\n",
       "      <td>0.025801</td>\n",
       "      <td>0.020885</td>\n",
       "      <td>0.015240</td>\n",
       "      <td>0.028196</td>\n",
       "    </tr>\n",
       "    <tr>\n",
       "      <th>1996-03-31</th>\n",
       "      <td>0.065630</td>\n",
       "      <td>0.007599</td>\n",
       "      <td>0.034771</td>\n",
       "      <td>0.074200</td>\n",
       "    </tr>\n",
       "    <tr>\n",
       "      <th>1996-04-30</th>\n",
       "      <td>0.011374</td>\n",
       "      <td>0.038456</td>\n",
       "      <td>0.017342</td>\n",
       "      <td>0.009082</td>\n",
       "    </tr>\n",
       "    <tr>\n",
       "      <th>1996-05-31</th>\n",
       "      <td>-0.022704</td>\n",
       "      <td>0.002291</td>\n",
       "      <td>-0.008751</td>\n",
       "      <td>-0.026597</td>\n",
       "    </tr>\n",
       "    <tr>\n",
       "      <th>...</th>\n",
       "      <td>...</td>\n",
       "      <td>...</td>\n",
       "      <td>...</td>\n",
       "      <td>...</td>\n",
       "    </tr>\n",
       "    <tr>\n",
       "      <th>2017-08-31</th>\n",
       "      <td>-0.013014</td>\n",
       "      <td>-0.011318</td>\n",
       "      <td>-0.007498</td>\n",
       "      <td>-0.014197</td>\n",
       "    </tr>\n",
       "    <tr>\n",
       "      <th>2017-09-30</th>\n",
       "      <td>0.026195</td>\n",
       "      <td>0.006064</td>\n",
       "      <td>0.026918</td>\n",
       "      <td>0.026529</td>\n",
       "    </tr>\n",
       "    <tr>\n",
       "      <th>2017-10-31</th>\n",
       "      <td>0.014923</td>\n",
       "      <td>0.027490</td>\n",
       "      <td>0.037055</td>\n",
       "      <td>0.009954</td>\n",
       "    </tr>\n",
       "    <tr>\n",
       "      <th>2017-11-30</th>\n",
       "      <td>0.006630</td>\n",
       "      <td>-0.008353</td>\n",
       "      <td>-0.003000</td>\n",
       "      <td>0.009034</td>\n",
       "    </tr>\n",
       "    <tr>\n",
       "      <th>2017-12-31</th>\n",
       "      <td>0.007147</td>\n",
       "      <td>0.026526</td>\n",
       "      <td>0.016668</td>\n",
       "      <td>0.004658</td>\n",
       "    </tr>\n",
       "  </tbody>\n",
       "</table>\n",
       "<p>264 rows × 4 columns</p>\n",
       "</div>"
      ],
      "text/plain": [
       "                 SPI  SPI_Small_Cap  SPI_Mid_Cap  SPI_Large_Cap\n",
       "Date                                                           \n",
       "1996-01-31 -0.023305       0.014524     0.020749      -0.033817\n",
       "1996-02-29  0.025801       0.020885     0.015240       0.028196\n",
       "1996-03-31  0.065630       0.007599     0.034771       0.074200\n",
       "1996-04-30  0.011374       0.038456     0.017342       0.009082\n",
       "1996-05-31 -0.022704       0.002291    -0.008751      -0.026597\n",
       "...              ...            ...          ...            ...\n",
       "2017-08-31 -0.013014      -0.011318    -0.007498      -0.014197\n",
       "2017-09-30  0.026195       0.006064     0.026918       0.026529\n",
       "2017-10-31  0.014923       0.027490     0.037055       0.009954\n",
       "2017-11-30  0.006630      -0.008353    -0.003000       0.009034\n",
       "2017-12-31  0.007147       0.026526     0.016668       0.004658\n",
       "\n",
       "[264 rows x 4 columns]"
      ]
     },
     "execution_count": 62,
     "metadata": {},
     "output_type": "execute_result"
    }
   ],
   "source": [
    "RenditenM = Renditen.resample('M').sum()\n",
    "RenditenM"
   ]
  },
  {
   "cell_type": "markdown",
   "metadata": {},
   "source": [
    "**(D.2)** Wenden Sie die Methode `describe` auf die Monatsrenditen an."
   ]
  },
  {
   "cell_type": "code",
   "execution_count": 61,
   "metadata": {},
   "outputs": [
    {
     "data": {
      "text/html": [
       "<div>\n",
       "<style scoped>\n",
       "    .dataframe tbody tr th:only-of-type {\n",
       "        vertical-align: middle;\n",
       "    }\n",
       "\n",
       "    .dataframe tbody tr th {\n",
       "        vertical-align: top;\n",
       "    }\n",
       "\n",
       "    .dataframe thead th {\n",
       "        text-align: right;\n",
       "    }\n",
       "</style>\n",
       "<table border=\"1\" class=\"dataframe\">\n",
       "  <thead>\n",
       "    <tr style=\"text-align: right;\">\n",
       "      <th></th>\n",
       "      <th>SPI</th>\n",
       "      <th>SPI_Small_Cap</th>\n",
       "      <th>SPI_Mid_Cap</th>\n",
       "      <th>SPI_Large_Cap</th>\n",
       "    </tr>\n",
       "  </thead>\n",
       "  <tbody>\n",
       "    <tr>\n",
       "      <th>count</th>\n",
       "      <td>264.000000</td>\n",
       "      <td>264.000000</td>\n",
       "      <td>264.000000</td>\n",
       "      <td>264.000000</td>\n",
       "    </tr>\n",
       "    <tr>\n",
       "      <th>mean</th>\n",
       "      <td>0.006058</td>\n",
       "      <td>0.009645</td>\n",
       "      <td>0.007930</td>\n",
       "      <td>0.005717</td>\n",
       "    </tr>\n",
       "    <tr>\n",
       "      <th>std</th>\n",
       "      <td>0.043558</td>\n",
       "      <td>0.040920</td>\n",
       "      <td>0.049953</td>\n",
       "      <td>0.044391</td>\n",
       "    </tr>\n",
       "    <tr>\n",
       "      <th>min</th>\n",
       "      <td>-0.199308</td>\n",
       "      <td>-0.162586</td>\n",
       "      <td>-0.234807</td>\n",
       "      <td>-0.200580</td>\n",
       "    </tr>\n",
       "    <tr>\n",
       "      <th>25%</th>\n",
       "      <td>-0.013351</td>\n",
       "      <td>-0.010060</td>\n",
       "      <td>-0.009417</td>\n",
       "      <td>-0.015460</td>\n",
       "    </tr>\n",
       "    <tr>\n",
       "      <th>50%</th>\n",
       "      <td>0.014076</td>\n",
       "      <td>0.014865</td>\n",
       "      <td>0.015106</td>\n",
       "      <td>0.010667</td>\n",
       "    </tr>\n",
       "    <tr>\n",
       "      <th>75%</th>\n",
       "      <td>0.032503</td>\n",
       "      <td>0.032806</td>\n",
       "      <td>0.037268</td>\n",
       "      <td>0.032594</td>\n",
       "    </tr>\n",
       "    <tr>\n",
       "      <th>max</th>\n",
       "      <td>0.115491</td>\n",
       "      <td>0.109978</td>\n",
       "      <td>0.142024</td>\n",
       "      <td>0.118860</td>\n",
       "    </tr>\n",
       "  </tbody>\n",
       "</table>\n",
       "</div>"
      ],
      "text/plain": [
       "              SPI  SPI_Small_Cap  SPI_Mid_Cap  SPI_Large_Cap\n",
       "count  264.000000     264.000000   264.000000     264.000000\n",
       "mean     0.006058       0.009645     0.007930       0.005717\n",
       "std      0.043558       0.040920     0.049953       0.044391\n",
       "min     -0.199308      -0.162586    -0.234807      -0.200580\n",
       "25%     -0.013351      -0.010060    -0.009417      -0.015460\n",
       "50%      0.014076       0.014865     0.015106       0.010667\n",
       "75%      0.032503       0.032806     0.037268       0.032594\n",
       "max      0.115491       0.109978     0.142024       0.118860"
      ]
     },
     "execution_count": 61,
     "metadata": {},
     "output_type": "execute_result"
    }
   ],
   "source": [
    "RenditenM.describe()"
   ]
  },
  {
   "cell_type": "markdown",
   "metadata": {},
   "source": [
    "**(D.3)** Erstellen Sie ein Liniendiagramm der stetigen Monatsrenditen des SPI-Large-Cap und des SPI-Small-Cap (nur diese zwei Indizes) *ab dem Jahr 2013*."
   ]
  },
  {
   "cell_type": "code",
   "execution_count": 63,
   "metadata": {},
   "outputs": [
    {
     "data": {
      "text/plain": [
       "<AxesSubplot:xlabel='Date'>"
      ]
     },
     "execution_count": 63,
     "metadata": {},
     "output_type": "execute_result"
    },
    {
     "data": {
      "image/png": "[encoded data removed]",
      "text/plain": [
       "<Figure size 432x288 with 1 Axes>"
      ]
     },
     "metadata": {
      "needs_background": "light"
     },
     "output_type": "display_data"
    }
   ],
   "source": [
    "RenditenM[['SPI_Large_Cap', 'SPI_Small_Cap']]['2013':].plot()"
   ]
  },
  {
   "cell_type": "markdown",
   "metadata": {},
   "source": [
    "**(D.4)** Stellen Sie nun die stetigen Monatsrenditen des SPI-Large-Cap und des SPI-Small-Cap *ab dem Jahr 2013* in *separaten* Histogrammen dar."
   ]
  },
  {
   "cell_type": "code",
   "execution_count": 64,
   "metadata": {},
   "outputs": [
    {
     "data": {
      "text/plain": [
       "array([[<AxesSubplot:title={'center':'SPI_Large_Cap'}>,\n",
       "        <AxesSubplot:title={'center':'SPI_Small_Cap'}>]], dtype=object)"
      ]
     },
     "execution_count": 64,
     "metadata": {},
     "output_type": "execute_result"
    },
    {
     "data": {
      "image/png": "[encoded data removed]",
      "text/plain": [
       "<Figure size 432x288 with 2 Axes>"
      ]
     },
     "metadata": {
      "needs_background": "light"
     },
     "output_type": "display_data"
    }
   ],
   "source": [
    "RenditenM[['SPI_Large_Cap', 'SPI_Small_Cap']]['2013':].hist()"
   ]
  },
  {
   "cell_type": "markdown",
   "metadata": {},
   "source": [
    "***"
   ]
  },
  {
   "cell_type": "markdown",
   "metadata": {},
   "source": [
    "**(E.1)** Berechnen Sie die Korrelationsmatrix der vier Indexreihen, einmal mit den Tages- und einmal mit den Monatsrenditen."
   ]
  },
  {
   "cell_type": "code",
   "execution_count": 66,
   "metadata": {},
   "outputs": [
    {
     "data": {
      "text/html": [
       "<div>\n",
       "<style scoped>\n",
       "    .dataframe tbody tr th:only-of-type {\n",
       "        vertical-align: middle;\n",
       "    }\n",
       "\n",
       "    .dataframe tbody tr th {\n",
       "        vertical-align: top;\n",
       "    }\n",
       "\n",
       "    .dataframe thead th {\n",
       "        text-align: right;\n",
       "    }\n",
       "</style>\n",
       "<table border=\"1\" class=\"dataframe\">\n",
       "  <thead>\n",
       "    <tr style=\"text-align: right;\">\n",
       "      <th></th>\n",
       "      <th>SPI</th>\n",
       "      <th>SPI_Small_Cap</th>\n",
       "      <th>SPI_Mid_Cap</th>\n",
       "      <th>SPI_Large_Cap</th>\n",
       "    </tr>\n",
       "  </thead>\n",
       "  <tbody>\n",
       "    <tr>\n",
       "      <th>SPI</th>\n",
       "      <td>1.000000</td>\n",
       "      <td>0.721666</td>\n",
       "      <td>0.857066</td>\n",
       "      <td>0.993748</td>\n",
       "    </tr>\n",
       "    <tr>\n",
       "      <th>SPI_Small_Cap</th>\n",
       "      <td>0.721666</td>\n",
       "      <td>1.000000</td>\n",
       "      <td>0.887371</td>\n",
       "      <td>0.654611</td>\n",
       "    </tr>\n",
       "    <tr>\n",
       "      <th>SPI_Mid_Cap</th>\n",
       "      <td>0.857066</td>\n",
       "      <td>0.887371</td>\n",
       "      <td>1.000000</td>\n",
       "      <td>0.795736</td>\n",
       "    </tr>\n",
       "    <tr>\n",
       "      <th>SPI_Large_Cap</th>\n",
       "      <td>0.993748</td>\n",
       "      <td>0.654611</td>\n",
       "      <td>0.795736</td>\n",
       "      <td>1.000000</td>\n",
       "    </tr>\n",
       "  </tbody>\n",
       "</table>\n",
       "</div>"
      ],
      "text/plain": [
       "                    SPI  SPI_Small_Cap  SPI_Mid_Cap  SPI_Large_Cap\n",
       "SPI            1.000000       0.721666     0.857066       0.993748\n",
       "SPI_Small_Cap  0.721666       1.000000     0.887371       0.654611\n",
       "SPI_Mid_Cap    0.857066       0.887371     1.000000       0.795736\n",
       "SPI_Large_Cap  0.993748       0.654611     0.795736       1.000000"
      ]
     },
     "execution_count": 66,
     "metadata": {},
     "output_type": "execute_result"
    }
   ],
   "source": [
    "RenditenM = Renditen.resample('M').sum()\n",
    "RenditenT = Renditen.resample('D').sum()\n",
    "\n",
    "RenditenM.corr()"
   ]
  },
  {
   "cell_type": "code",
   "execution_count": 67,
   "metadata": {},
   "outputs": [
    {
     "data": {
      "text/html": [
       "<div>\n",
       "<style scoped>\n",
       "    .dataframe tbody tr th:only-of-type {\n",
       "        vertical-align: middle;\n",
       "    }\n",
       "\n",
       "    .dataframe tbody tr th {\n",
       "        vertical-align: top;\n",
       "    }\n",
       "\n",
       "    .dataframe thead th {\n",
       "        text-align: right;\n",
       "    }\n",
       "</style>\n",
       "<table border=\"1\" class=\"dataframe\">\n",
       "  <thead>\n",
       "    <tr style=\"text-align: right;\">\n",
       "      <th></th>\n",
       "      <th>SPI</th>\n",
       "      <th>SPI_Small_Cap</th>\n",
       "      <th>SPI_Mid_Cap</th>\n",
       "      <th>SPI_Large_Cap</th>\n",
       "    </tr>\n",
       "  </thead>\n",
       "  <tbody>\n",
       "    <tr>\n",
       "      <th>SPI</th>\n",
       "      <td>1.000000</td>\n",
       "      <td>0.647494</td>\n",
       "      <td>0.853182</td>\n",
       "      <td>0.997021</td>\n",
       "    </tr>\n",
       "    <tr>\n",
       "      <th>SPI_Small_Cap</th>\n",
       "      <td>0.647494</td>\n",
       "      <td>1.000000</td>\n",
       "      <td>0.755040</td>\n",
       "      <td>0.610745</td>\n",
       "    </tr>\n",
       "    <tr>\n",
       "      <th>SPI_Mid_Cap</th>\n",
       "      <td>0.853182</td>\n",
       "      <td>0.755040</td>\n",
       "      <td>1.000000</td>\n",
       "      <td>0.811979</td>\n",
       "    </tr>\n",
       "    <tr>\n",
       "      <th>SPI_Large_Cap</th>\n",
       "      <td>0.997021</td>\n",
       "      <td>0.610745</td>\n",
       "      <td>0.811979</td>\n",
       "      <td>1.000000</td>\n",
       "    </tr>\n",
       "  </tbody>\n",
       "</table>\n",
       "</div>"
      ],
      "text/plain": [
       "                    SPI  SPI_Small_Cap  SPI_Mid_Cap  SPI_Large_Cap\n",
       "SPI            1.000000       0.647494     0.853182       0.997021\n",
       "SPI_Small_Cap  0.647494       1.000000     0.755040       0.610745\n",
       "SPI_Mid_Cap    0.853182       0.755040     1.000000       0.811979\n",
       "SPI_Large_Cap  0.997021       0.610745     0.811979       1.000000"
      ]
     },
     "execution_count": 67,
     "metadata": {},
     "output_type": "execute_result"
    }
   ],
   "source": [
    "RenditenT.corr()"
   ]
  },
  {
   "cell_type": "markdown",
   "metadata": {},
   "source": [
    "**(E.2)** Berechnen Sie die (Auto-) Korrelation der stetigen SPI-Monatsrenditen mit den Vormonatsrenditen. Tipp: Die Vormonatsrendite erhält man mit `RenditenM.SPI.shift(1)`."
   ]
  },
  {
   "cell_type": "code",
   "execution_count": 70,
   "metadata": {},
   "outputs": [
    {
     "data": {
      "text/plain": [
       "0.176"
      ]
     },
     "execution_count": 70,
     "metadata": {},
     "output_type": "execute_result"
    }
   ],
   "source": [
    "RenditenM.SPI.corr(RenditenM.SPI.shift(1)).round(3)"
   ]
  },
  {
   "cell_type": "markdown",
   "metadata": {},
   "source": [
    "Die Monatsrenditen sind (in diesem Sample!) sehr schwach *positiv* autokorreliert. Man spricht in der Finance von einem \"Momentumeffekt\"."
   ]
  },
  {
   "cell_type": "markdown",
   "metadata": {},
   "source": [
    "***\n",
    "#### *Ende der Übung*"
   ]
  }
 ],
 "metadata": {
  "kernelspec": {
   "display_name": "Python 3 (ipykernel)",
   "language": "python",
   "name": "python3"
  },
  "language_info": {
   "codemirror_mode": {
    "name": "ipython",
    "version": 3
   },
   "file_extension": ".py",
   "mimetype": "text/x-python",
   "name": "python",
   "nbconvert_exporter": "python",
   "pygments_lexer": "ipython3",
   "version": "3.9.7"
  }
 },
 "nbformat": 4,
 "nbformat_minor": 2
}
