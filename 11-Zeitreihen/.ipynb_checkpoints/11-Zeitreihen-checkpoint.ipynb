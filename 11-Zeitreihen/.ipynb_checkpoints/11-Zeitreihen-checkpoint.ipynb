{
 "cells": [
  {
   "cell_type": "markdown",
   "metadata": {},
   "source": [
    "# Kapitel 11: Zeitreihen\n",
    "\n",
    "McKinney, W. (2017). *Python for Data Analysis: Data Wrangling with Pandas, NumPy, and IPython*. 2. Auflage. Sebastopol, CA [u. a.]: O’Reilly.\n",
    "\n",
    "Überarbeitet: armin.baenziger@zhaw.ch, 2. Dezember 2021\n",
    "\n",
    "- Zeitreihendaten sind eine wichtige Form von strukturierten Daten in vielen verschiedenen Bereichen, insb. auch in der BWL/VWL/Finance.\n",
    "- Ein Merkmal, das in verschiedenen Zeitpunkten beobachtet oder gemessen wird, bildet eine Zeitreihe.\n",
    "- Viele Zeitreihen haben eine konstante Frequenz, was bedeutet, dass Datenpunkte in *regelmässigen* Abständen nach einer bestimmten Regel auftreten, beispielsweise einmal pro Tag oder Monat. \n",
    "- Es gibt auch unregelmässige Zeitreihen. Beispielsweise sind die Zeiträume zwischen zwei Handelsabschlüssen typirscherweise nicht konstant.\n",
    "- Der Umgang mit solchen Zeitreihendaten ist eine Stärke von Pandas.\n",
    "- Das vorliegende Notebook bespricht einige zentrale Aspekte des (weiterführenden) Kapitels unseres Lehrmittels. "
   ]
  },
  {
   "cell_type": "code",
   "execution_count": 1,
   "metadata": {},
   "outputs": [
    {
     "data": {
      "application/javascript": [
       "IPython.notebook.set_autosave_interval(0)"
      ]
     },
     "metadata": {},
     "output_type": "display_data"
    },
    {
     "name": "stdout",
     "output_type": "stream",
     "text": [
      "Autosave disabled\n"
     ]
    }
   ],
   "source": [
    "%autosave 0"
   ]
  },
  {
   "cell_type": "code",
   "execution_count": 2,
   "metadata": {},
   "outputs": [],
   "source": [
    "# Wichtige Bibliotheken mit üblichen Abkürzungen laden:\n",
    "import numpy as np\n",
    "import pandas as pd\n",
    "import matplotlib.pyplot as plt"
   ]
  },
  {
   "cell_type": "markdown",
   "metadata": {},
   "source": [
    "## Grundlagen von Zeitreihen\n",
    "- Eine grundlegende Art von Zeitreihen-Objekten in Pandas ist eine Series von Zeitstempeln, die oft ausserhalb von Pandas als Python-Strings oder Datetime-Objekten dargestellt werden.\n",
    "- Pandas ist im Allgemeinen darauf ausgerichtet, mit Datum-*Arrays* zu arbeiten, die als Achsenindex oder als Spalte in einem DataFrame verwendet werden. \n",
    "- Die `to_datetime`-Methode analysiert viele verschiedene Arten von Datumsdarstellungen. Standard-Datumsformate können sehr schnell \"geparst\" (verstanden) werden:"
   ]
  },
  {
   "cell_type": "code",
   "execution_count": 4,
   "metadata": {},
   "outputs": [
    {
     "data": {
      "text/plain": [
       "DatetimeIndex(['2020-01-02', '2020-01-03', '2020-01-06', '2020-01-07',\n",
       "               '2020-01-08', '2020-01-09'],\n",
       "              dtype='datetime64[ns]', freq=None)"
      ]
     },
     "execution_count": 4,
     "metadata": {},
     "output_type": "execute_result"
    }
   ],
   "source": [
    "dates_string = ['2020-1-2', '2020-1-3', '2020-1-6',\n",
    "                '2020-1-7', '2020-1-8', '2020-1-9']\n",
    "dates = pd.to_datetime(dates_string)\n",
    "dates"
   ]
  },
  {
   "cell_type": "markdown",
   "metadata": {},
   "source": [
    "`dates` ist jetzt ein \"datetime\"-Objekt, welches spezielle Attribute und Methoden bietet. Z. B.:"
   ]
  },
  {
   "cell_type": "code",
   "execution_count": 5,
   "metadata": {},
   "outputs": [
    {
     "data": {
      "text/plain": [
       "Int64Index([2, 3, 6, 7, 8, 9], dtype='int64')"
      ]
     },
     "execution_count": 5,
     "metadata": {},
     "output_type": "execute_result"
    }
   ],
   "source": [
    "dates.day    # Tag im Monat"
   ]
  },
  {
   "cell_type": "code",
   "execution_count": 6,
   "metadata": {},
   "outputs": [
    {
     "data": {
      "text/plain": [
       "Int64Index([3, 4, 0, 1, 2, 3], dtype='int64')"
      ]
     },
     "execution_count": 6,
     "metadata": {},
     "output_type": "execute_result"
    }
   ],
   "source": [
    "dates.dayofweek # Wochentag 0=Monatag, 1=Dienstag, ..."
   ]
  },
  {
   "cell_type": "code",
   "execution_count": 7,
   "metadata": {},
   "outputs": [
    {
     "data": {
      "text/plain": [
       "Int64Index([3, 4, 0, 1, 2, 3], dtype='int64')"
      ]
     },
     "execution_count": 7,
     "metadata": {},
     "output_type": "execute_result"
    }
   ],
   "source": [
    "dates.weekday   # geht auch so"
   ]
  },
  {
   "cell_type": "code",
   "execution_count": 8,
   "metadata": {},
   "outputs": [
    {
     "data": {
      "text/plain": [
       "Index(['Thursday', 'Friday', 'Monday', 'Tuesday', 'Wednesday', 'Thursday'], dtype='object')"
      ]
     },
     "execution_count": 8,
     "metadata": {},
     "output_type": "execute_result"
    }
   ],
   "source": [
    "dates.day_name()"
   ]
  },
  {
   "cell_type": "code",
   "execution_count": 9,
   "metadata": {},
   "outputs": [
    {
     "data": {
      "text/plain": [
       "Index(['Do', 'Fr', 'Mo', 'Di', 'Mi', 'Do'], dtype='object')"
      ]
     },
     "execution_count": 9,
     "metadata": {},
     "output_type": "execute_result"
    }
   ],
   "source": [
    "# Exkurs:\n",
    "dates.dayofweek.map({0: 'Mo', 1: 'Di', 2: 'Mi',\n",
    "                     3: 'Do', 4: 'Fr', 5: 'Sa', 6: 'So'})"
   ]
  },
  {
   "cell_type": "code",
   "execution_count": 10,
   "metadata": {},
   "outputs": [
    {
     "data": {
      "text/plain": [
       "2020-01-02    47\n",
       "2020-01-03    50\n",
       "2020-01-06    48\n",
       "2020-01-07    55\n",
       "2020-01-08    55\n",
       "2020-01-09    59\n",
       "dtype: int64"
      ]
     },
     "execution_count": 10,
     "metadata": {},
     "output_type": "execute_result"
    }
   ],
   "source": [
    "# Beispiel-Zeitreihe erstellen:\n",
    "werte = [47, 50, 48, 55, 55, 59]\n",
    "ts1 = pd.Series(werte, index=dates)\n",
    "ts1"
   ]
  },
  {
   "cell_type": "code",
   "execution_count": 11,
   "metadata": {},
   "outputs": [
    {
     "data": {
      "text/plain": [
       "DatetimeIndex(['2020-01-02', '2020-01-03', '2020-01-06', '2020-01-07',\n",
       "               '2020-01-08', '2020-01-09'],\n",
       "              dtype='datetime64[ns]', freq=None)"
      ]
     },
     "execution_count": 11,
     "metadata": {},
     "output_type": "execute_result"
    }
   ],
   "source": [
    "ts1.index  # der Index ist ein Datetime-Objekt"
   ]
  },
  {
   "cell_type": "code",
   "execution_count": 12,
   "metadata": {},
   "outputs": [
    {
     "data": {
      "text/plain": [
       "Timestamp('2020-01-02 00:00:00')"
      ]
     },
     "execution_count": 12,
     "metadata": {},
     "output_type": "execute_result"
    }
   ],
   "source": [
    "# Skalare aus einem DatetimeIndex sind Pandas-Timestamp-Objekte:\n",
    "ts1.index[0]"
   ]
  },
  {
   "cell_type": "markdown",
   "metadata": {},
   "source": [
    "Wie bei anderen Series werden arithmetische Operationen zwischen unterschiedlich indizierten Zeitreihen automatisch am Datum (Index) ausgerichtet:"
   ]
  },
  {
   "cell_type": "code",
   "execution_count": 13,
   "metadata": {},
   "outputs": [
    {
     "data": {
      "text/plain": [
       "2020-01-02    39\n",
       "2020-01-03    40\n",
       "2020-01-06    45\n",
       "2020-01-07    58\n",
       "2020-01-08    47\n",
       "dtype: int64"
      ]
     },
     "execution_count": 13,
     "metadata": {},
     "output_type": "execute_result"
    }
   ],
   "source": [
    "# Zweite Zeitreihe erstellen:\n",
    "werte = [39, 40, 45, 58, 47]\n",
    "ts2 = pd.Series(werte, index=dates[:-1])\n",
    "ts2  # Ein Wert für 2011-01-09 fehlt!"
   ]
  },
  {
   "cell_type": "code",
   "execution_count": 14,
   "metadata": {},
   "outputs": [
    {
     "data": {
      "text/plain": [
       "2020-01-02     86.0\n",
       "2020-01-03     90.0\n",
       "2020-01-06     93.0\n",
       "2020-01-07    113.0\n",
       "2020-01-08    102.0\n",
       "2020-01-09      NaN\n",
       "dtype: float64"
      ]
     },
     "execution_count": 14,
     "metadata": {},
     "output_type": "execute_result"
    }
   ],
   "source": [
    "# Ausrichtung am Index (Datum):\n",
    "ts1 + ts2"
   ]
  },
  {
   "cell_type": "markdown",
   "metadata": {},
   "source": [
    "### Indexierung, Auswahl, Subsetting"
   ]
  },
  {
   "cell_type": "code",
   "execution_count": 15,
   "metadata": {},
   "outputs": [
    {
     "data": {
      "text/plain": [
       "2020-01-02    47\n",
       "2020-01-03    50\n",
       "2020-01-06    48\n",
       "2020-01-07    55\n",
       "2020-01-08    55\n",
       "2020-01-09    59\n",
       "dtype: int64"
      ]
     },
     "execution_count": 15,
     "metadata": {},
     "output_type": "execute_result"
    }
   ],
   "source": [
    "ts1   # zur Referenz"
   ]
  },
  {
   "cell_type": "code",
   "execution_count": 16,
   "metadata": {},
   "outputs": [
    {
     "data": {
      "text/plain": [
       "Timestamp('2020-01-03 00:00:00')"
      ]
     },
     "execution_count": 16,
     "metadata": {},
     "output_type": "execute_result"
    }
   ],
   "source": [
    "Zeitstempel = ts1.index[1]\n",
    "Zeitstempel"
   ]
  },
  {
   "cell_type": "code",
   "execution_count": 17,
   "metadata": {},
   "outputs": [
    {
     "data": {
      "text/plain": [
       "50"
      ]
     },
     "execution_count": 17,
     "metadata": {},
     "output_type": "execute_result"
    }
   ],
   "source": [
    "ts1[Zeitstempel]"
   ]
  },
  {
   "cell_type": "markdown",
   "metadata": {},
   "source": [
    "Angenehm ist, dass man sogar eine **Zeichenfolge, die als Datum interpretierbar ist**, übergeben kann:"
   ]
  },
  {
   "cell_type": "code",
   "execution_count": 18,
   "metadata": {},
   "outputs": [
    {
     "data": {
      "text/plain": [
       "47"
      ]
     },
     "execution_count": 18,
     "metadata": {},
     "output_type": "execute_result"
    }
   ],
   "source": [
    "ts1['1/2/2020']    # US-Datumsformat (Monat/Tag/Jahr)"
   ]
  },
  {
   "cell_type": "code",
   "execution_count": 19,
   "metadata": {},
   "outputs": [
    {
     "data": {
      "text/plain": [
       "47"
      ]
     },
     "execution_count": 19,
     "metadata": {},
     "output_type": "execute_result"
    }
   ],
   "source": [
    "ts1['20200102']     # geht auch so"
   ]
  },
  {
   "cell_type": "code",
   "execution_count": 20,
   "metadata": {},
   "outputs": [
    {
     "data": {
      "text/plain": [
       "47"
      ]
     },
     "execution_count": 20,
     "metadata": {},
     "output_type": "execute_result"
    }
   ],
   "source": [
    "ts1['2020-01-02']   # aber auch so (Empfehlung)"
   ]
  },
  {
   "cell_type": "markdown",
   "metadata": {},
   "source": [
    "Für die weiteren Ausführungen importieren wir einige längere Zeitreihen:"
   ]
  },
  {
   "cell_type": "code",
   "execution_count": 21,
   "metadata": {},
   "outputs": [
    {
     "data": {
      "text/plain": [
       "Date\n",
       "1996-01-03    2172.31\n",
       "1996-01-04    2182.67\n",
       "1996-01-05    2175.09\n",
       "1996-01-08    2176.68\n",
       "1996-01-09    2174.13\n",
       "Name: SPI, dtype: float64"
      ]
     },
     "execution_count": 21,
     "metadata": {},
     "output_type": "execute_result"
    }
   ],
   "source": [
    "Indizes = pd.read_csv('../weitere_Daten/hspitr.csv', \n",
    "                sep=';', index_col=0, \n",
    "                parse_dates=True).sort_index()\n",
    "SPI = Indizes.SPI  # Wir beginnen mit einer Series.\n",
    "SPI.head()"
   ]
  },
  {
   "cell_type": "code",
   "execution_count": 22,
   "metadata": {},
   "outputs": [
    {
     "data": {
      "image/png": "[encoded data removed]",
      "text/plain": [
       "<Figure size 432x288 with 1 Axes>"
      ]
     },
     "metadata": {
      "needs_background": "light"
     },
     "output_type": "display_data"
    }
   ],
   "source": [
    "SPI.plot(title='Entwicklung SPI');"
   ]
  },
  {
   "cell_type": "markdown",
   "metadata": {},
   "source": [
    "Es ist sehr einfach, die Daten nur eines bestimmten Jahres auszuwählen:"
   ]
  },
  {
   "cell_type": "code",
   "execution_count": 23,
   "metadata": {},
   "outputs": [
    {
     "data": {
      "image/png": "[encoded data removed]",
      "text/plain": [
       "<Figure size 432x288 with 1 Axes>"
      ]
     },
     "metadata": {
      "needs_background": "light"
     },
     "output_type": "display_data"
    }
   ],
   "source": [
    "SPI['2008'].plot();"
   ]
  },
  {
   "cell_type": "markdown",
   "metadata": {},
   "source": [
    "Hier wird der String '2007' als Jahr interpretiert und *dieser Zeitraum ausgewählt*. Dies funktioniert auch, wenn man zudem den Monat angibt:"
   ]
  },
  {
   "cell_type": "code",
   "execution_count": 24,
   "metadata": {},
   "outputs": [
    {
     "data": {
      "text/plain": [
       "Date\n",
       "2008-09-01    6054.18\n",
       "2008-09-02    6116.22\n",
       "2008-09-03    6082.24\n",
       "2008-09-04    5946.61\n",
       "2008-09-05    5857.78\n",
       "2008-09-08    6015.39\n",
       "2008-09-09    6017.74\n",
       "2008-09-10    5964.88\n",
       "2008-09-11    5922.05\n",
       "2008-09-12    6033.06\n",
       "2008-09-15    5826.92\n",
       "2008-09-16    5676.18\n",
       "2008-09-17    5609.97\n",
       "2008-09-18    5580.72\n",
       "2008-09-19    5898.23\n",
       "2008-09-22    5795.08\n",
       "2008-09-23    5723.05\n",
       "2008-09-24    5697.21\n",
       "2008-09-25    5812.89\n",
       "2008-09-26    5709.49\n",
       "2008-09-29    5445.68\n",
       "2008-09-30    5563.93\n",
       "Name: SPI, dtype: float64"
      ]
     },
     "execution_count": 24,
     "metadata": {},
     "output_type": "execute_result"
    }
   ],
   "source": [
    "SPI['2008-09']  # Indexentwicklung im September 2008"
   ]
  },
  {
   "cell_type": "markdown",
   "metadata": {},
   "source": [
    "Slicing funktioniert mit `datetime`-Objekten auch:"
   ]
  },
  {
   "cell_type": "code",
   "execution_count": 25,
   "metadata": {},
   "outputs": [
    {
     "data": {
      "text/plain": [
       "Date\n",
       "2017-12-21    10780.76\n",
       "2017-12-22    10756.39\n",
       "2017-12-27    10803.98\n",
       "2017-12-28    10779.42\n",
       "2017-12-29    10751.51\n",
       "Name: SPI, dtype: float64"
      ]
     },
     "execution_count": 25,
     "metadata": {},
     "output_type": "execute_result"
    }
   ],
   "source": [
    "SPI['2017-12-21':]  # ab Datum bis ans Ende"
   ]
  },
  {
   "cell_type": "markdown",
   "metadata": {},
   "source": [
    "Da Zeitreihendaten chronologisch geordnet sind, kann man auch mit Zeitstempeln, *die nicht in einer Zeitreihe enthalten sind*, eine Bereichsabfrage durchführen:"
   ]
  },
  {
   "cell_type": "code",
   "execution_count": 26,
   "metadata": {},
   "outputs": [
    {
     "data": {
      "text/plain": [
       "Date\n",
       "1996-01-03    2172.31\n",
       "1996-01-04    2182.67\n",
       "1996-01-05    2175.09\n",
       "Name: SPI, dtype: float64"
      ]
     },
     "execution_count": 26,
     "metadata": {},
     "output_type": "execute_result"
    }
   ],
   "source": [
    "SPI[:'1996-01-07'] \n",
    "# Am 6. und 7. Januar 1996 war die Börse geschlossen."
   ]
  },
  {
   "cell_type": "markdown",
   "metadata": {},
   "source": [
    "Zur Erinnerung: Slicing auf diese Weise erzeugt **\"Views\"** auf die Quellzeitreihen (wie Slicing von NumPy-Arrays). Dies bedeutet, dass *keine Daten kopiert werden und Änderungen am Slice in den Originaldaten widergespiegelt werden*."
   ]
  },
  {
   "cell_type": "markdown",
   "metadata": {},
   "source": [
    "Die obigen Ausführungen gelten auch für DataFrames, wie die folgenden Beispiele zeigen:"
   ]
  },
  {
   "cell_type": "code",
   "execution_count": 27,
   "metadata": {},
   "outputs": [
    {
     "data": {
      "text/html": [
       "<div>\n",
       "<style scoped>\n",
       "    .dataframe tbody tr th:only-of-type {\n",
       "        vertical-align: middle;\n",
       "    }\n",
       "\n",
       "    .dataframe tbody tr th {\n",
       "        vertical-align: top;\n",
       "    }\n",
       "\n",
       "    .dataframe thead th {\n",
       "        text-align: right;\n",
       "    }\n",
       "</style>\n",
       "<table border=\"1\" class=\"dataframe\">\n",
       "  <thead>\n",
       "    <tr style=\"text-align: right;\">\n",
       "      <th></th>\n",
       "      <th>SPI</th>\n",
       "      <th>SPI_Small_Cap</th>\n",
       "      <th>SPI_Mid_Cap</th>\n",
       "      <th>SPI_Large_Cap</th>\n",
       "    </tr>\n",
       "    <tr>\n",
       "      <th>Date</th>\n",
       "      <th></th>\n",
       "      <th></th>\n",
       "      <th></th>\n",
       "      <th></th>\n",
       "    </tr>\n",
       "  </thead>\n",
       "  <tbody>\n",
       "    <tr>\n",
       "      <th>2001-05-02</th>\n",
       "      <td>5098.16</td>\n",
       "      <td>6291.66</td>\n",
       "      <td>5297.37</td>\n",
       "      <td>5067.56</td>\n",
       "    </tr>\n",
       "    <tr>\n",
       "      <th>2001-05-03</th>\n",
       "      <td>5056.15</td>\n",
       "      <td>6305.28</td>\n",
       "      <td>5276.30</td>\n",
       "      <td>5020.43</td>\n",
       "    </tr>\n",
       "    <tr>\n",
       "      <th>2001-05-04</th>\n",
       "      <td>5093.64</td>\n",
       "      <td>6299.47</td>\n",
       "      <td>5273.55</td>\n",
       "      <td>5065.86</td>\n",
       "    </tr>\n",
       "    <tr>\n",
       "      <th>2001-05-07</th>\n",
       "      <td>5160.00</td>\n",
       "      <td>6308.89</td>\n",
       "      <td>5308.49</td>\n",
       "      <td>5139.24</td>\n",
       "    </tr>\n",
       "    <tr>\n",
       "      <th>2001-05-08</th>\n",
       "      <td>5147.83</td>\n",
       "      <td>6300.67</td>\n",
       "      <td>5311.85</td>\n",
       "      <td>5124.35</td>\n",
       "    </tr>\n",
       "    <tr>\n",
       "      <th>2001-05-09</th>\n",
       "      <td>5110.60</td>\n",
       "      <td>6305.18</td>\n",
       "      <td>5295.93</td>\n",
       "      <td>5082.33</td>\n",
       "    </tr>\n",
       "    <tr>\n",
       "      <th>2001-05-10</th>\n",
       "      <td>5181.75</td>\n",
       "      <td>6323.23</td>\n",
       "      <td>5321.33</td>\n",
       "      <td>5162.76</td>\n",
       "    </tr>\n",
       "  </tbody>\n",
       "</table>\n",
       "</div>"
      ],
      "text/plain": [
       "                SPI  SPI_Small_Cap  SPI_Mid_Cap  SPI_Large_Cap\n",
       "Date                                                          \n",
       "2001-05-02  5098.16        6291.66      5297.37        5067.56\n",
       "2001-05-03  5056.15        6305.28      5276.30        5020.43\n",
       "2001-05-04  5093.64        6299.47      5273.55        5065.86\n",
       "2001-05-07  5160.00        6308.89      5308.49        5139.24\n",
       "2001-05-08  5147.83        6300.67      5311.85        5124.35\n",
       "2001-05-09  5110.60        6305.18      5295.93        5082.33\n",
       "2001-05-10  5181.75        6323.23      5321.33        5162.76"
      ]
     },
     "execution_count": 27,
     "metadata": {},
     "output_type": "execute_result"
    }
   ],
   "source": [
    "Indizes['2001-05': '2001-05-10'] \n",
    "# Slicing funktioniert wie erwartet."
   ]
  },
  {
   "cell_type": "code",
   "execution_count": 28,
   "metadata": {},
   "outputs": [
    {
     "data": {
      "image/png": "[encoded data removed]",
      "text/plain": [
       "<Figure size 720x576 with 4 Axes>"
      ]
     },
     "metadata": {
      "needs_background": "light"
     },
     "output_type": "display_data"
    }
   ],
   "source": [
    "# Entwicklung der Indizes im Jahr 2008:\n",
    "Indizes.loc['2008'].plot(subplots=True, \n",
    "                     layout=(2,2), figsize=(10,8));"
   ]
  },
  {
   "cell_type": "markdown",
   "metadata": {},
   "source": [
    "**Kontrollfragen:**"
   ]
  },
  {
   "cell_type": "code",
   "execution_count": 31,
   "metadata": {},
   "outputs": [
    {
     "data": {
      "text/plain": [
       "2020-02-27    120\n",
       "2020-02-28    114\n",
       "2020-03-02    132\n",
       "2020-03-03    151\n",
       "2020-03-04    147\n",
       "2020-03-05    175\n",
       "Freq: B, dtype: int64"
      ]
     },
     "execution_count": 31,
     "metadata": {},
     "output_type": "execute_result"
    }
   ],
   "source": [
    "# Gegeben:\n",
    "ts3 = pd.Series([120, 114, 132, 151, 147, 175],\n",
    "         index=pd.date_range(start='2020-02-27', \n",
    "                             periods=6, freq='B'))\n",
    "# Die Funktion date_range wird weiter unten eingeführt.\n",
    "ts3"
   ]
  },
  {
   "cell_type": "code",
   "execution_count": 32,
   "metadata": {},
   "outputs": [
    {
     "data": {
      "text/plain": [
       "2020-03-02    132\n",
       "2020-03-03    151\n",
       "2020-03-04    147\n",
       "2020-03-05    175\n",
       "Freq: B, dtype: int64"
      ]
     },
     "execution_count": 32,
     "metadata": {},
     "output_type": "execute_result"
    }
   ],
   "source": [
    "# Frage 1: Was ist der Output?\n",
    "ts3['2020-03']"
   ]
  },
  {
   "cell_type": "code",
   "execution_count": 33,
   "metadata": {},
   "outputs": [
    {
     "data": {
      "text/plain": [
       "2020-02-28    114\n",
       "Freq: B, dtype: int64"
      ]
     },
     "execution_count": 33,
     "metadata": {},
     "output_type": "execute_result"
    }
   ],
   "source": [
    "# Frage 2: Was ist der Output?\n",
    "ts3['2020-02-28': '2020-03-01']"
   ]
  },
  {
   "cell_type": "markdown",
   "metadata": {},
   "source": [
    "### Zeitreihen mit mehreren Beobachtungen pro Zeitstempel\n",
    "In einigen Anwendungen können mehrere Datenbeobachtungen auf einen bestimmten Zeitstempel fallen. Hier ist ein Beispiel:"
   ]
  },
  {
   "cell_type": "code",
   "execution_count": 34,
   "metadata": {},
   "outputs": [
    {
     "data": {
      "text/plain": [
       "2020-03-02    0\n",
       "2020-03-03    1\n",
       "2020-03-03    2\n",
       "2020-03-04    3\n",
       "dtype: int64"
      ]
     },
     "execution_count": 34,
     "metadata": {},
     "output_type": "execute_result"
    }
   ],
   "source": [
    "dates = pd.to_datetime(['2020-03-02', '2020-03-03', \n",
    "                        '2020-03-03', '2020-03-04'])\n",
    "ts4 = pd.Series(range(4), index=dates)\n",
    "ts4"
   ]
  },
  {
   "cell_type": "code",
   "execution_count": 35,
   "metadata": {},
   "outputs": [
    {
     "data": {
      "text/plain": [
       "False"
      ]
     },
     "execution_count": 35,
     "metadata": {},
     "output_type": "execute_result"
    }
   ],
   "source": [
    "ts4.index.is_unique\n",
    "# Der (Zeit-) Index ist nicht einzigartig.\n",
    "# Der 3.3.2020 existiert zweimal."
   ]
  },
  {
   "cell_type": "markdown",
   "metadata": {},
   "source": [
    "Die Indizierung dieser Zeitreihe erzeugt nun abhängig davon, ob ein Zeitstempel einzigartig ist oder nicht, entweder skalare Werte oder Slices:"
   ]
  },
  {
   "cell_type": "code",
   "execution_count": 36,
   "metadata": {},
   "outputs": [
    {
     "data": {
      "text/plain": [
       "0"
      ]
     },
     "execution_count": 36,
     "metadata": {},
     "output_type": "execute_result"
    }
   ],
   "source": [
    "ts4['2020-03-02']  # nur ein Wert"
   ]
  },
  {
   "cell_type": "code",
   "execution_count": 37,
   "metadata": {},
   "outputs": [
    {
     "data": {
      "text/plain": [
       "2020-03-03    1\n",
       "2020-03-03    2\n",
       "dtype: int64"
      ]
     },
     "execution_count": 37,
     "metadata": {},
     "output_type": "execute_result"
    }
   ],
   "source": [
    "ts4['2020-03-03']  # Slice mit zwei Werten"
   ]
  },
  {
   "cell_type": "markdown",
   "metadata": {},
   "source": [
    "*Exkurs:* Angenommen man möchte die Daten mit nicht einzigartigen Zeitstempeln aggregieren. Eine Möglichkeit, dies zu tun, ist `groupby` mit dem Argument `level = 0`:"
   ]
  },
  {
   "cell_type": "code",
   "execution_count": 38,
   "metadata": {},
   "outputs": [
    {
     "data": {
      "text/plain": [
       "2020-03-02    0\n",
       "2020-03-03    3\n",
       "2020-03-04    3\n",
       "dtype: int64"
      ]
     },
     "execution_count": 38,
     "metadata": {},
     "output_type": "execute_result"
    }
   ],
   "source": [
    "ts4.groupby(level=0).sum()\n",
    "# Gleichbedeutend mit:\n",
    "# ts4.groupby(ts3.index).sum()"
   ]
  },
  {
   "cell_type": "markdown",
   "metadata": {},
   "source": [
    "## Datumsbereiche, Frequenzen und Verschiebungen\n",
    "- Generische Zeitreihen in Pandas werden als *unregelmässig* angenommen; das heisst, sie haben keine feste Frequenz. \n",
    "- Für manche Anwendungen ist dies ausreichend. Es ist jedoch oft wünschenswert, relativ zu einer festen Frequenz zu arbeiten, beispielsweise täglich, monatlich oder alle 15 Minuten, auch wenn das bedeutet, fehlende Werte in eine Zeitreihe einzubringen. \n",
    "- Glücklicherweise verfügt Pandas über eine vollständige Palette von Standard-Zeitreihenfrequenzen und Tools für das *Resampling*, die Ableitung von Frequenzen und die Erzeugung von Bereichen mit fester Frequenz. \n",
    "- Zum Beispiel kann man die Sample-Zeitreihe in eine festgelegte tägliche Frequenz konvertieren, indem man **`resample`** aufruft:"
   ]
  },
  {
   "cell_type": "code",
   "execution_count": 39,
   "metadata": {},
   "outputs": [
    {
     "data": {
      "text/plain": [
       "2020-01-02    47\n",
       "2020-01-03    50\n",
       "2020-01-06    48\n",
       "2020-01-07    55\n",
       "2020-01-08    55\n",
       "2020-01-09    59\n",
       "dtype: int64"
      ]
     },
     "execution_count": 39,
     "metadata": {},
     "output_type": "execute_result"
    }
   ],
   "source": [
    "# Beispieldaten:\n",
    "ts1    # Werktage"
   ]
  },
  {
   "cell_type": "code",
   "execution_count": 40,
   "metadata": {},
   "outputs": [
    {
     "data": {
      "text/plain": [
       "2020-01-02    47\n",
       "2020-01-03    50\n",
       "2020-01-04     0\n",
       "2020-01-05     0\n",
       "2020-01-06    48\n",
       "2020-01-07    55\n",
       "2020-01-08    55\n",
       "2020-01-09    59\n",
       "Freq: D, dtype: int64"
      ]
     },
     "execution_count": 40,
     "metadata": {},
     "output_type": "execute_result"
    }
   ],
   "source": [
    "ts1.resample('D').sum() # der 4. und 5. erscheint jetzt auch"
   ]
  },
  {
   "cell_type": "markdown",
   "metadata": {},
   "source": [
    "- Die Zeichenkette `'D'` wird als Tagesfrequenz interpretiert. \n",
    "- Konvertierung zwischen Frequenzen oder *Resampling* ist ein wichtiges Thema, das später einen eigenen Abschnitt erhält (\"Resampling und Konvertierung von Frequenzen\")."
   ]
  },
  {
   "cell_type": "markdown",
   "metadata": {},
   "source": [
    "### Datumsbereiche generieren\n",
    "Während wir die Funktion vorher ohne Erklärung benutzt haben, ist `pandas.date_range` verantwortlich für die Erzeugung eines `DatetimeIndex` mit einer bestimmten *Frequenz*."
   ]
  },
  {
   "cell_type": "code",
   "execution_count": 41,
   "metadata": {},
   "outputs": [
    {
     "data": {
      "text/plain": [
       "DatetimeIndex(['2020-03-04', '2020-03-05', '2020-03-06', '2020-03-07',\n",
       "               '2020-03-08', '2020-03-09'],\n",
       "              dtype='datetime64[ns]', freq='D')"
      ]
     },
     "execution_count": 41,
     "metadata": {},
     "output_type": "execute_result"
    }
   ],
   "source": [
    "index = pd.date_range('2020-03-04', '2020-03-09')\n",
    "index"
   ]
  },
  {
   "cell_type": "markdown",
   "metadata": {},
   "source": [
    "- Standardmässig generiert `date_range` *tägliche* Zeitstempel. \n",
    "- Wenn man nur ein Start- oder Enddatum übergibt, muss man eine Anzahl von Perioden übergeben, um Folgendes zu generieren:"
   ]
  },
  {
   "cell_type": "code",
   "execution_count": 48,
   "metadata": {},
   "outputs": [
    {
     "data": {
      "text/plain": [
       "DatetimeIndex(['2020-12-31', '2021-12-31', '2022-12-31', '2023-12-31',\n",
       "               '2024-12-31', '2025-12-31'],\n",
       "              dtype='datetime64[ns]', freq='A-DEC')"
      ]
     },
     "execution_count": 48,
     "metadata": {},
     "output_type": "execute_result"
    }
   ],
   "source": [
    "pd.date_range(start='2020-03-04', periods=6, freq='Y')\n",
    "# gleich wie oben"
   ]
  },
  {
   "cell_type": "code",
   "execution_count": 45,
   "metadata": {},
   "outputs": [
    {
     "data": {
      "text/plain": [
       "DatetimeIndex(['2020-03-04', '2020-03-05', '2020-03-06', '2020-03-07',\n",
       "               '2020-03-08', '2020-03-09'],\n",
       "              dtype='datetime64[ns]', freq='D')"
      ]
     },
     "execution_count": 45,
     "metadata": {},
     "output_type": "execute_result"
    }
   ],
   "source": [
    "pd.date_range(end='2020-03-09', periods=6)\n",
    "# gleich wie oben"
   ]
  },
  {
   "cell_type": "markdown",
   "metadata": {},
   "source": [
    "Mit dem Argument `freq` kann man die Frequenz der Zeitreihe wählen. Z. B. statt Tage (Default) Werktage:"
   ]
  },
  {
   "cell_type": "code",
   "execution_count": 49,
   "metadata": {},
   "outputs": [
    {
     "data": {
      "text/plain": [
       "DatetimeIndex(['2020-03-04', '2020-03-05', '2020-03-06', '2020-03-09'], dtype='datetime64[ns]', freq='B')"
      ]
     },
     "execution_count": 49,
     "metadata": {},
     "output_type": "execute_result"
    }
   ],
   "source": [
    "indexB = pd.date_range('2020-03-04', '2020-03-09', \n",
    "              freq='B')  # B steht für Business Day\n",
    "indexB"
   ]
  },
  {
   "cell_type": "code",
   "execution_count": 50,
   "metadata": {},
   "outputs": [
    {
     "data": {
      "text/plain": [
       "Index(['Wednesday', 'Thursday', 'Friday', 'Monday'], dtype='object')"
      ]
     },
     "execution_count": 50,
     "metadata": {},
     "output_type": "execute_result"
    }
   ],
   "source": [
    "indexB.day_name()   # nur Werktage"
   ]
  },
  {
   "cell_type": "markdown",
   "metadata": {},
   "source": [
    "Oder wir wählen als Frequenz Wochen:"
   ]
  },
  {
   "cell_type": "code",
   "execution_count": 51,
   "metadata": {},
   "outputs": [
    {
     "data": {
      "text/plain": [
       "DatetimeIndex(['2020-03-02', '2020-03-09', '2020-03-16', '2020-03-23',\n",
       "               '2020-03-30'],\n",
       "              dtype='datetime64[ns]', freq='W-MON')"
      ]
     },
     "execution_count": 51,
     "metadata": {},
     "output_type": "execute_result"
    }
   ],
   "source": [
    "pd.date_range('2020-03-01', '2020-03-31', \n",
    "              freq='W-Mon')   \n",
    "# Wochenfrequenz (jeweils Montag)"
   ]
  },
  {
   "attachments": {
    "grafik.png": {
     "image/png": "[encoded data removed]"
    }
   },
   "cell_type": "markdown",
   "metadata": {},
   "source": [
    "Wichtige Zeitreihen-Frequenzen:\n",
    "![grafik.png](attachment:grafik.png)"
   ]
  },
  {
   "cell_type": "markdown",
   "metadata": {},
   "source": [
    "**Kontrollfragen:**"
   ]
  },
  {
   "cell_type": "code",
   "execution_count": 52,
   "metadata": {},
   "outputs": [
    {
     "data": {
      "text/plain": [
       "DatetimeIndex(['2020-01-05', '2020-01-12', '2020-01-19', '2020-01-26'], dtype='datetime64[ns]', freq='W-SUN')"
      ]
     },
     "execution_count": 52,
     "metadata": {},
     "output_type": "execute_result"
    }
   ],
   "source": [
    "# Frage 1: Was ist der Output? (Im Kalender nachsehen!)\n",
    "pd.date_range('2020-01-01', '2020-01-31', freq='W-Sun')"
   ]
  },
  {
   "cell_type": "code",
   "execution_count": 53,
   "metadata": {},
   "outputs": [
    {
     "data": {
      "text/plain": [
       "DatetimeIndex(['2019-03-31', '2019-06-30', '2019-09-30', '2019-12-31'], dtype='datetime64[ns]', freq='Q-DEC')"
      ]
     },
     "execution_count": 53,
     "metadata": {},
     "output_type": "execute_result"
    }
   ],
   "source": [
    "# Frage 2: Was ist der Output (siehe Tabelle oben)?\n",
    "pd.date_range('2019-01', '2020-01', freq='Q')"
   ]
  },
  {
   "cell_type": "markdown",
   "metadata": {},
   "source": [
    "### Shifting (Leading und Lagging) Daten\n",
    "\"Shifting\" bezieht sich auf das zeitliche Verschieben von Daten. Sowohl Series als auch DataFrames haben eine `Shift`-Methode, um naive Verschiebungen vorwärts oder rückwärts durchzuführen, wobei der Index unverändert bleibt:"
   ]
  },
  {
   "cell_type": "code",
   "execution_count": 54,
   "metadata": {},
   "outputs": [
    {
     "data": {
      "text/plain": [
       "Date\n",
       "2017-12-20    10671.60\n",
       "2017-12-21    10780.76\n",
       "2017-12-22    10756.39\n",
       "2017-12-27    10803.98\n",
       "2017-12-28    10779.42\n",
       "2017-12-29    10751.51\n",
       "Name: SPI, dtype: float64"
      ]
     },
     "execution_count": 54,
     "metadata": {},
     "output_type": "execute_result"
    }
   ],
   "source": [
    "# Beispieldaten\n",
    "spi = SPI['2017-12-20':].copy()\n",
    "spi"
   ]
  },
  {
   "cell_type": "code",
   "execution_count": 55,
   "metadata": {},
   "outputs": [
    {
     "data": {
      "text/plain": [
       "Date\n",
       "2017-12-20         NaN\n",
       "2017-12-21    10671.60\n",
       "2017-12-22    10780.76\n",
       "2017-12-27    10756.39\n",
       "2017-12-28    10803.98\n",
       "2017-12-29    10779.42\n",
       "Name: SPI, dtype: float64"
      ]
     },
     "execution_count": 55,
     "metadata": {},
     "output_type": "execute_result"
    }
   ],
   "source": [
    "spi.shift(1)"
   ]
  },
  {
   "cell_type": "code",
   "execution_count": 56,
   "metadata": {},
   "outputs": [
    {
     "data": {
      "text/plain": [
       "Date\n",
       "2017-12-20    10780.76\n",
       "2017-12-21    10756.39\n",
       "2017-12-22    10803.98\n",
       "2017-12-27    10779.42\n",
       "2017-12-28    10751.51\n",
       "2017-12-29         NaN\n",
       "Name: SPI, dtype: float64"
      ]
     },
     "execution_count": 56,
     "metadata": {},
     "output_type": "execute_result"
    }
   ],
   "source": [
    "spi.shift(-1)"
   ]
  },
  {
   "cell_type": "code",
   "execution_count": 57,
   "metadata": {},
   "outputs": [
    {
     "data": {
      "text/plain": [
       "Date\n",
       "2017-12-20         NaN\n",
       "2017-12-21    0.010229\n",
       "2017-12-22   -0.002261\n",
       "2017-12-27    0.004424\n",
       "2017-12-28   -0.002273\n",
       "2017-12-29   -0.002589\n",
       "Name: SPI, dtype: float64"
      ]
     },
     "execution_count": 57,
     "metadata": {},
     "output_type": "execute_result"
    }
   ],
   "source": [
    "# Veränderungsraten (hier Tagesrenditen):\n",
    "spi / spi.shift(1) - 1"
   ]
  },
  {
   "cell_type": "markdown",
   "metadata": {},
   "source": [
    "Einfacher kann man prozentuale Veränderungen mit der Methode `pct_change` berechnen:"
   ]
  },
  {
   "cell_type": "code",
   "execution_count": 58,
   "metadata": {},
   "outputs": [
    {
     "data": {
      "text/plain": [
       "Date\n",
       "2017-12-20         NaN\n",
       "2017-12-21    0.010229\n",
       "2017-12-22   -0.002261\n",
       "2017-12-27    0.004424\n",
       "2017-12-28   -0.002273\n",
       "2017-12-29   -0.002589\n",
       "Name: SPI, dtype: float64"
      ]
     },
     "execution_count": 58,
     "metadata": {},
     "output_type": "execute_result"
    }
   ],
   "source": [
    "spi.pct_change()"
   ]
  },
  {
   "cell_type": "code",
   "execution_count": 59,
   "metadata": {},
   "outputs": [
    {
     "data": {
      "text/plain": [
       "Date\n",
       "2017-12-21    0.010229\n",
       "2017-12-22   -0.002261\n",
       "2017-12-27    0.004424\n",
       "2017-12-28   -0.002273\n",
       "2017-12-29   -0.002589\n",
       "Name: SPI, dtype: float64"
      ]
     },
     "execution_count": 59,
     "metadata": {},
     "output_type": "execute_result"
    }
   ],
   "source": [
    "# Fehlwert beseitigen:\n",
    "spi.pct_change().dropna()"
   ]
  },
  {
   "cell_type": "markdown",
   "metadata": {},
   "source": [
    "## Resampling und Konvertieren von Frequenzen\n",
    "- *Resampling* bezieht sich auf den Prozess der Umwandlung einer Zeitreihe von einer Frequenz in eine andere.\n",
    "- Das Aggregieren von Daten höherer Frequenz zu niedrigerer Frequenz wird *Downsampling* genannt, während das Konvertieren von niedriger Frequenz zu höherer Frequenz *Upsampling* genannt wird. \n",
    "- Die Konvertierung von beispielsweise `W-WED` (wöchentlich am Mittwoch) zu `W-FRI` ist weder Upsampling noch Downsampling. \n",
    "- **Pandas-Objekte sind mit einer `resample`-Methode ausgestattet, *die die zentrale Methode für alle Frequenzumwandlungen ist.***\n",
    "- `resample` hat eine ähnliche API wie `groupby`: Man ruft zuerst `resample` auf, um die Daten zu gruppieren und ruft dann eine Aggregationsfunktion auf."
   ]
  },
  {
   "cell_type": "markdown",
   "metadata": {},
   "source": [
    "### Downsampling"
   ]
  },
  {
   "cell_type": "code",
   "execution_count": 88,
   "metadata": {},
   "outputs": [
    {
     "data": {
      "text/plain": [
       "Date\n",
       "2017-01-03    9061.16\n",
       "2017-01-04    9102.46\n",
       "2017-01-05    9142.16\n",
       "2017-01-06    9166.05\n",
       "2017-01-09    9175.24\n",
       "Name: SPI, dtype: float64"
      ]
     },
     "execution_count": 88,
     "metadata": {},
     "output_type": "execute_result"
    }
   ],
   "source": [
    "# Ausgangslage:\n",
    "spi = SPI['2017'].copy()\n",
    "spi.head()"
   ]
  },
  {
   "cell_type": "markdown",
   "metadata": {},
   "source": [
    "Wir welchsen nun von Tages- auf Monatsendwerte:"
   ]
  },
  {
   "cell_type": "code",
   "execution_count": 89,
   "metadata": {},
   "outputs": [
    {
     "data": {
      "text/plain": [
       "Date\n",
       "2017-01-31     9063.32\n",
       "2017-02-28     9367.08\n",
       "2017-03-31     9637.82\n",
       "2017-04-30     9976.11\n",
       "2017-05-31    10248.87\n",
       "2017-06-30    10128.34\n",
       "2017-07-31    10310.53\n",
       "2017-08-31    10177.22\n",
       "2017-09-30    10447.33\n",
       "2017-10-31    10604.40\n",
       "2017-11-30    10674.94\n",
       "2017-12-31    10751.51\n",
       "Freq: M, Name: SPI, dtype: float64"
      ]
     },
     "execution_count": 89,
     "metadata": {},
     "output_type": "execute_result"
    }
   ],
   "source": [
    "# Monatstotale:\n",
    "spi.resample('M').last()\n",
    "# Mit last() kriegen wir die Endwerte pro Monat (M)."
   ]
  },
  {
   "cell_type": "markdown",
   "metadata": {},
   "source": [
    "Als nächstes bilden wir *stetige* Tagesrenditen (welche *additiv* sind). Bei Tagesrenditen unterscheiden sich diese allerdings nur sehr geringfügig von den diskreten Renditen (mit `pct_change`)."
   ]
  },
  {
   "cell_type": "code",
   "execution_count": 90,
   "metadata": {},
   "outputs": [
    {
     "data": {
      "text/plain": [
       "Date\n",
       "2017-01-03         NaN\n",
       "2017-01-04    0.004548\n",
       "2017-01-05    0.004352\n",
       "2017-01-06    0.002610\n",
       "2017-01-09    0.001002\n",
       "Name: SPI, dtype: float64"
      ]
     },
     "execution_count": 90,
     "metadata": {},
     "output_type": "execute_result"
    }
   ],
   "source": [
    "r = np.log(spi/spi.shift(1))\n",
    "r.head()"
   ]
  },
  {
   "cell_type": "markdown",
   "metadata": {},
   "source": [
    "Aus den stetigen Tagesrenditen kann man sehr einfach Monats- oder Quartalsrenditen (oder andere Periodenrenditen mit tieferer Frequenz) bilden:"
   ]
  },
  {
   "cell_type": "code",
   "execution_count": 91,
   "metadata": {},
   "outputs": [
    {
     "data": {
      "text/plain": [
       "Date\n",
       "2017-03-31    0.061698\n",
       "2017-06-30    0.049642\n",
       "2017-09-30    0.031009\n",
       "2017-12-31    0.028700\n",
       "Freq: Q-DEC, Name: SPI, dtype: float64"
      ]
     },
     "execution_count": 91,
     "metadata": {},
     "output_type": "execute_result"
    }
   ],
   "source": [
    "r.resample('Q').sum()  # stetige Renditen sind additiv!"
   ]
  },
  {
   "cell_type": "markdown",
   "metadata": {},
   "source": [
    "Dies sind die Quartalsrenditen, welche man statt mit einem Timestamp (Default) besser mit der Periode kennzeichnet:"
   ]
  },
  {
   "cell_type": "code",
   "execution_count": 92,
   "metadata": {
    "scrolled": true
   },
   "outputs": [
    {
     "data": {
      "text/plain": [
       "Date\n",
       "2017Q1    0.061698\n",
       "2017Q2    0.049642\n",
       "2017Q3    0.031009\n",
       "2017Q4    0.028700\n",
       "Freq: Q-DEC, Name: SPI, dtype: float64"
      ]
     },
     "execution_count": 92,
     "metadata": {},
     "output_type": "execute_result"
    }
   ],
   "source": [
    "r.resample('Q', kind='period').sum()"
   ]
  },
  {
   "cell_type": "markdown",
   "metadata": {},
   "source": [
    "**Kontrollfragen:**"
   ]
  },
  {
   "cell_type": "code",
   "execution_count": 93,
   "metadata": {},
   "outputs": [
    {
     "data": {
      "text/plain": [
       "Date\n",
       "2017-01-31     9063.32\n",
       "2017-02-28     9367.08\n",
       "2017-03-31     9637.82\n",
       "2017-04-30     9976.11\n",
       "2017-05-31    10248.87\n",
       "2017-06-30    10128.34\n",
       "2017-07-31    10310.53\n",
       "2017-08-31    10177.22\n",
       "2017-09-30    10447.33\n",
       "2017-10-31    10604.40\n",
       "2017-11-30    10674.94\n",
       "2017-12-31    10751.51\n",
       "Freq: M, Name: SPI, dtype: float64"
      ]
     },
     "execution_count": 93,
     "metadata": {},
     "output_type": "execute_result"
    }
   ],
   "source": [
    "# Gegeben:\n",
    "spi_M = spi.resample('M').last()\n",
    "spi_M"
   ]
  },
  {
   "cell_type": "code",
   "execution_count": 94,
   "metadata": {},
   "outputs": [
    {
     "data": {
      "text/plain": [
       "Date\n",
       "2017-05-31    10248.87\n",
       "Freq: M, Name: SPI, dtype: float64"
      ]
     },
     "execution_count": 94,
     "metadata": {},
     "output_type": "execute_result"
    }
   ],
   "source": [
    "# Frage 1: Was ist der Output?\n",
    "spi_M['2017-05']"
   ]
  },
  {
   "cell_type": "code",
   "execution_count": 95,
   "metadata": {},
   "outputs": [
    {
     "data": {
      "text/plain": [
       "Date\n",
       "2017-03-31     9637.82\n",
       "2017-06-30    10128.34\n",
       "2017-09-30    10447.33\n",
       "2017-12-31    10751.51\n",
       "Freq: Q-DEC, Name: SPI, dtype: float64"
      ]
     },
     "execution_count": 95,
     "metadata": {},
     "output_type": "execute_result"
    }
   ],
   "source": [
    "# Frage 2: Was ist der Output?\n",
    "spi_M.resample('Q').last()"
   ]
  },
  {
   "cell_type": "markdown",
   "metadata": {},
   "source": [
    "***\n",
    "#### *Exkurs für die Finance-Interessierten:* Open-High-Low-Close (OHLC) Resampling\n",
    "- In der Finance besteht eine beliebte Methode zum Aggregieren einer Zeitreihe darin, vier Werte für jeden Bucket zu berechnen: die ersten (open), letzten (close), maximalen (high) und minimalen (low) Werte. \n",
    "- Durch Verwendung der `ohlc`-Aggregatfunktion erhält man effizient ein DataFrame mit Spalten, die diese vier Aggregate enthalten."
   ]
  },
  {
   "cell_type": "code",
   "execution_count": 96,
   "metadata": {},
   "outputs": [
    {
     "data": {
      "text/html": [
       "<div>\n",
       "<style scoped>\n",
       "    .dataframe tbody tr th:only-of-type {\n",
       "        vertical-align: middle;\n",
       "    }\n",
       "\n",
       "    .dataframe tbody tr th {\n",
       "        vertical-align: top;\n",
       "    }\n",
       "\n",
       "    .dataframe thead th {\n",
       "        text-align: right;\n",
       "    }\n",
       "</style>\n",
       "<table border=\"1\" class=\"dataframe\">\n",
       "  <thead>\n",
       "    <tr style=\"text-align: right;\">\n",
       "      <th></th>\n",
       "      <th>open</th>\n",
       "      <th>high</th>\n",
       "      <th>low</th>\n",
       "      <th>close</th>\n",
       "    </tr>\n",
       "    <tr>\n",
       "      <th>Date</th>\n",
       "      <th></th>\n",
       "      <th></th>\n",
       "      <th></th>\n",
       "      <th></th>\n",
       "    </tr>\n",
       "  </thead>\n",
       "  <tbody>\n",
       "    <tr>\n",
       "      <th>2017-12-01</th>\n",
       "      <td>10624.71</td>\n",
       "      <td>10687.38</td>\n",
       "      <td>10618.31</td>\n",
       "      <td>10618.31</td>\n",
       "    </tr>\n",
       "    <tr>\n",
       "      <th>2017-12-08</th>\n",
       "      <td>10684.88</td>\n",
       "      <td>10690.20</td>\n",
       "      <td>10632.63</td>\n",
       "      <td>10690.20</td>\n",
       "    </tr>\n",
       "    <tr>\n",
       "      <th>2017-12-15</th>\n",
       "      <td>10675.25</td>\n",
       "      <td>10752.01</td>\n",
       "      <td>10675.25</td>\n",
       "      <td>10748.35</td>\n",
       "    </tr>\n",
       "    <tr>\n",
       "      <th>2017-12-22</th>\n",
       "      <td>10811.74</td>\n",
       "      <td>10811.74</td>\n",
       "      <td>10671.60</td>\n",
       "      <td>10756.39</td>\n",
       "    </tr>\n",
       "    <tr>\n",
       "      <th>2017-12-29</th>\n",
       "      <td>10803.98</td>\n",
       "      <td>10803.98</td>\n",
       "      <td>10751.51</td>\n",
       "      <td>10751.51</td>\n",
       "    </tr>\n",
       "  </tbody>\n",
       "</table>\n",
       "</div>"
      ],
      "text/plain": [
       "                open      high       low     close\n",
       "Date                                              \n",
       "2017-12-01  10624.71  10687.38  10618.31  10618.31\n",
       "2017-12-08  10684.88  10690.20  10632.63  10690.20\n",
       "2017-12-15  10675.25  10752.01  10675.25  10748.35\n",
       "2017-12-22  10811.74  10811.74  10671.60  10756.39\n",
       "2017-12-29  10803.98  10803.98  10751.51  10751.51"
      ]
     },
     "execution_count": 96,
     "metadata": {},
     "output_type": "execute_result"
    }
   ],
   "source": [
    "# Wochen \"open-high-low-close\" vom SPI:\n",
    "SPI.resample('W-FRI').ohlc().tail()"
   ]
  },
  {
   "cell_type": "markdown",
   "metadata": {},
   "source": [
    "*Ende des Exkurses*\n",
    "***"
   ]
  },
  {
   "cell_type": "markdown",
   "metadata": {},
   "source": [
    "## \"Moving-Window\"-Funktionen\n",
    "- Eine wichtige Klasse von Array-Transformationen, die für Zeitreihenoperationen verwendet werden, sind Statistiken und andere Funktionen, die über ein *gleitendes Fenster oder mit exponentiell abfallenden Gewichtungen ausgewertet werden*. \n",
    "- Dies kann nützlich sein, um *verrauschte* oder fehlerhafte Daten zu glätten. \n",
    "- Wes McKinney nennt diese **\"Moving-Window-Funktionen\"**, obwohl sie Funktionen ohne ein Fenster fester Länge enthalten (wie exponentiell gewichtete gleitende Durchschnitte). \n",
    "- Wie andere statistische Funktionen *schliessen diese auch fehlende Daten automatisch aus*. \n",
    "- Wir beginnen mit einem einfachen Beispiel:"
   ]
  },
  {
   "cell_type": "code",
   "execution_count": 97,
   "metadata": {},
   "outputs": [
    {
     "data": {
      "text/plain": [
       "2020-02-27    120\n",
       "2020-02-28    114\n",
       "2020-03-02    132\n",
       "2020-03-03    151\n",
       "2020-03-04    147\n",
       "2020-03-05    175\n",
       "Freq: B, dtype: int64"
      ]
     },
     "execution_count": 97,
     "metadata": {},
     "output_type": "execute_result"
    }
   ],
   "source": [
    "# Datenbeispiel:\n",
    "ts3"
   ]
  },
  {
   "cell_type": "markdown",
   "metadata": {},
   "source": [
    "- Wir führen nun den `rolling`-Operator ein, der sich ähnlich verhält wie `resample` und `groupby`. \n",
    "- Er kann zusammen mit einem `window` bei einer Series oder einem DataFrame aufgerufen werden.\n",
    "- Beispiel: Der (nicht zentrierte) gleitende Durchschnitt 3. Ordnung von `ts3`:"
   ]
  },
  {
   "cell_type": "code",
   "execution_count": 98,
   "metadata": {},
   "outputs": [
    {
     "data": {
      "text/plain": [
       "2020-02-27      NaN\n",
       "2020-02-28      NaN\n",
       "2020-03-02    122.0\n",
       "2020-03-03    132.3\n",
       "2020-03-04    143.3\n",
       "2020-03-05    157.7\n",
       "Freq: B, dtype: float64"
      ]
     },
     "execution_count": 98,
     "metadata": {},
     "output_type": "execute_result"
    }
   ],
   "source": [
    "ts3.rolling(3).mean().round(1)"
   ]
  },
  {
   "cell_type": "markdown",
   "metadata": {},
   "source": [
    "- Aus den ersten drei Werten ergibt sich der Mittelwert von (120 + 114 + 132) / 3 = 122. Aus den nächsten drei Werten ergibt sich der Mittelwert (114 + 132 + 151) / 3 = 132.3 usw. \n",
    "- Oft möchte man den gleitenden Durchschnitt zentrieren. Dies geht mit dem Argument `center=True`:"
   ]
  },
  {
   "cell_type": "code",
   "execution_count": 99,
   "metadata": {},
   "outputs": [
    {
     "data": {
      "text/plain": [
       "2020-02-27           NaN\n",
       "2020-02-28    122.000000\n",
       "2020-03-02    132.333333\n",
       "2020-03-03    143.333333\n",
       "2020-03-04    157.666667\n",
       "2020-03-05           NaN\n",
       "Freq: B, dtype: float64"
      ]
     },
     "execution_count": 99,
     "metadata": {},
     "output_type": "execute_result"
    }
   ],
   "source": [
    "ts3.rolling(3, center=True).mean()"
   ]
  },
  {
   "cell_type": "markdown",
   "metadata": {},
   "source": [
    "Wir betrachten nun ein Beispiel mit realen Daten:"
   ]
  },
  {
   "cell_type": "code",
   "execution_count": 100,
   "metadata": {},
   "outputs": [
    {
     "data": {
      "text/plain": [
       "Date\n",
       "2007-01-03    7032.74\n",
       "2007-01-04    7033.63\n",
       "2007-01-05    7015.51\n",
       "2007-01-08    6983.72\n",
       "2007-01-09    7006.67\n",
       "Name: SPI, dtype: float64"
      ]
     },
     "execution_count": 100,
     "metadata": {},
     "output_type": "execute_result"
    }
   ],
   "source": [
    "spi = SPI['2007':'2009'].copy()\n",
    "spi.head()"
   ]
  },
  {
   "cell_type": "code",
   "execution_count": 105,
   "metadata": {},
   "outputs": [
    {
     "data": {
      "image/png": "[encoded data removed]",
      "text/plain": [
       "<Figure size 720x432 with 1 Axes>"
      ]
     },
     "metadata": {
      "needs_background": "light"
     },
     "output_type": "display_data"
    }
   ],
   "source": [
    "# Gleitender 125-Handelstage-Durchschnitt \n",
    "# (entspricht etwa einem halben Jahr)\n",
    "spi.plot()\n",
    "spi.rolling(20).mean().plot(figsize=(10,6))\n",
    "spi.rolling(50).mean().plot(figsize=(10,6))\n",
    "spi.rolling(125).mean().plot(figsize=(10,6))\n",
    "plt.xlabel('')\n",
    "plt.legend(['SPI', 'GD-20','GD-50' ,'GD-125']);"
   ]
  },
  {
   "cell_type": "markdown",
   "metadata": {},
   "source": [
    "Man sieht, dass der gleitende Durchschnitt nicht \"zentriert\" ist. Er hinkt der Entwicklung der ungefilterten Zeitreihe hinterher (z. B. steigt der SPI ab ca. 2009-03 wieder stark an, während der GD erst verspätet ansteigt)."
   ]
  },
  {
   "cell_type": "code",
   "execution_count": 106,
   "metadata": {},
   "outputs": [
    {
     "data": {
      "image/png": "[encoded data removed]",
      "text/plain": [
       "<Figure size 720x432 with 1 Axes>"
      ]
     },
     "metadata": {
      "needs_background": "light"
     },
     "output_type": "display_data"
    }
   ],
   "source": [
    "# ZENTRIERTER gleitender 125-Tage-Durchschnitt:\n",
    "spi.plot()\n",
    "spi.rolling(125, center=True).mean().plot(figsize=(10,6))\n",
    "plt.xlabel('')\n",
    "plt.legend(['SPI', 'GD-125']);"
   ]
  },
  {
   "cell_type": "code",
   "execution_count": 107,
   "metadata": {},
   "outputs": [
    {
     "data": {
      "image/png": "[encoded data removed]",
      "text/plain": [
       "<Figure size 720x432 with 1 Axes>"
      ]
     },
     "metadata": {
      "needs_background": "light"
     },
     "output_type": "display_data"
    }
   ],
   "source": [
    "# Gleitende 125-Tage-Standardabweichung:\n",
    "spi_r = spi.pct_change()\n",
    "spi_r.rolling(125).std().plot(\n",
    "    title='Gleitende 125-Tage-Standardabweichung',\n",
    "    figsize=(10,6))\n",
    "plt.xlabel('')\n",
    "plt.ylabel('Tagesvolatilität');"
   ]
  },
  {
   "cell_type": "markdown",
   "metadata": {},
   "source": [
    "Die Volatilität (Standardabweichung der Renditen) hat in der Finanzkrise stark zugenommen und danach ist sie wieder auf tiefes Niveau gefallen."
   ]
  },
  {
   "cell_type": "markdown",
   "metadata": {},
   "source": [
    "- Hinweis: Der entsprechende Plot im Lehrmittel ist problematisch, da er die Standardabweichung der Preise (statt Renditen) darstellt. Man sollte von sog. nicht stationären Zeitreihen (insb. Zeitreihen mit einem Trend) keine Standardabweichung rechnen.\n",
    "- Durch den Aufruf einer Moving-Window-Funktion auf ein *DataFrame* wird die Transformation *auf jede Spalte* angewendet."
   ]
  },
  {
   "cell_type": "code",
   "execution_count": 108,
   "metadata": {},
   "outputs": [
    {
     "data": {
      "image/png": "[encoded data removed]",
      "text/plain": [
       "<Figure size 720x432 with 1 Axes>"
      ]
     },
     "metadata": {
      "needs_background": "light"
     },
     "output_type": "display_data"
    }
   ],
   "source": [
    "Renditen = Indizes['2007': '2009'].pct_change()\n",
    "Renditen.rolling(125).std().plot(figsize=(10,6),\n",
    "                title='Gleitende 125-Tage-Standardabweichung')\n",
    "plt.xlabel('')\n",
    "plt.ylabel('Tagesvolatilität');"
   ]
  },
  {
   "cell_type": "markdown",
   "metadata": {},
   "source": [
    "**Kontrollfragen:**"
   ]
  },
  {
   "cell_type": "code",
   "execution_count": 109,
   "metadata": {},
   "outputs": [
    {
     "data": {
      "text/plain": [
       "2020-02-27    2\n",
       "2020-02-28    1\n",
       "2020-03-02    3\n",
       "2020-03-03    5\n",
       "2020-03-04    4\n",
       "2020-03-05    6\n",
       "Freq: B, dtype: int64"
      ]
     },
     "execution_count": 109,
     "metadata": {},
     "output_type": "execute_result"
    }
   ],
   "source": [
    "# Gegeben:\n",
    "ts5 = pd.Series([2,1,3,5,4,6], index=ts3.index)\n",
    "ts5"
   ]
  },
  {
   "cell_type": "code",
   "execution_count": 110,
   "metadata": {},
   "outputs": [
    {
     "data": {
      "text/plain": [
       "2020-02-27    NaN\n",
       "2020-02-28    2.0\n",
       "2020-03-02    3.0\n",
       "2020-03-03    4.0\n",
       "2020-03-04    5.0\n",
       "2020-03-05    NaN\n",
       "Freq: B, dtype: float64"
      ]
     },
     "execution_count": 110,
     "metadata": {},
     "output_type": "execute_result"
    }
   ],
   "source": [
    "# Frage 1: Was ist der Output?\n",
    "ts5.rolling(3, center=True).mean()"
   ]
  },
  {
   "cell_type": "code",
   "execution_count": 111,
   "metadata": {},
   "outputs": [
    {
     "data": {
      "text/plain": [
       "2020-02-27    NaN\n",
       "2020-02-28    3.0\n",
       "2020-03-02    5.0\n",
       "2020-03-03    5.0\n",
       "2020-03-04    6.0\n",
       "2020-03-05    NaN\n",
       "Freq: B, dtype: float64"
      ]
     },
     "execution_count": 111,
     "metadata": {},
     "output_type": "execute_result"
    }
   ],
   "source": [
    "# Frage 2: Was ist der Output?\n",
    "ts5.rolling(3, center=True).max()"
   ]
  },
  {
   "cell_type": "markdown",
   "metadata": {},
   "source": [
    "## Fazit\n",
    "- Zeitreihendaten erfordern andere Arten von Analyse- und Datenumwandlungstools als die anderen Arten von Daten, die wir in den vorherigen Kapiteln untersucht haben. \n",
    "- Pandas ist sehr mächtig im Umgang mit Zeitreihendaten und wir haben wichtige Funktioalitäten kennengelernt.\n",
    "- Wir haben nun die wichtigsten Grundlagen von Pandas besprochen. Im letzten Teil des Kurses werden wir noch einen oder zwei grössere Datensätze mit den vorgestellten Funktionalitäten von Pandas analysieren."
   ]
  }
 ],
 "metadata": {
  "kernelspec": {
   "display_name": "Python 3 (ipykernel)",
   "language": "python",
   "name": "python3"
  },
  "language_info": {
   "codemirror_mode": {
    "name": "ipython",
    "version": 3
   },
   "file_extension": ".py",
   "mimetype": "text/x-python",
   "name": "python",
   "nbconvert_exporter": "python",
   "pygments_lexer": "ipython3",
   "version": "3.9.7"
  }
 },
 "nbformat": 4,
 "nbformat_minor": 1
}
