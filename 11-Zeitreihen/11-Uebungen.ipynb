{
 "cells": [
  {
   "cell_type": "markdown",
   "metadata": {},
   "source": [
    "## Übungen zum Kapitel 11\n",
    "### Zeitreihen\n",
    "Erstellt und überarbeitet: armin.baenziger@zhaw.ch, 15. Mai 2020\n",
    "***"
   ]
  },
  {
   "cell_type": "code",
   "execution_count": null,
   "metadata": {},
   "outputs": [],
   "source": [
    "%autosave 0"
   ]
  },
  {
   "cell_type": "markdown",
   "metadata": {},
   "source": [
    "**(A.1)** Laden Sie NumPy, Pandas und Matplotlib.pyplot mit der üblichen Abkürzung."
   ]
  },
  {
   "cell_type": "code",
   "execution_count": 1,
   "metadata": {},
   "outputs": [],
   "source": []
  },
  {
   "cell_type": "markdown",
   "metadata": {},
   "source": [
    "**(A.2)** Führen Sie den Magic Command aus, so dass Matplotlib-Plots \"inline\" erscheinen."
   ]
  },
  {
   "cell_type": "code",
   "execution_count": 2,
   "metadata": {},
   "outputs": [],
   "source": []
  },
  {
   "cell_type": "markdown",
   "metadata": {},
   "source": [
    "***"
   ]
  },
  {
   "cell_type": "markdown",
   "metadata": {},
   "source": [
    "**(B.1)** Die csv-Datei `hspitr.csv` im Ordner `weitere_Daten` enthält die Indexstände vom Swiss Performance Index (SPI) und den Subindizes *Small Cap*, *Mid Cap* und *Large Cap*.\n",
    "Laden Sie die Daten der Datei `hspitr.csv` in das DataFrame `Kurse`. Die erste Spalte enthält das Datum. Legen Sie dieses als Index (`index_col=0`) im Format `datetime` (`parse_dates=True`) fest."
   ]
  },
  {
   "cell_type": "code",
   "execution_count": null,
   "metadata": {},
   "outputs": [],
   "source": []
  },
  {
   "cell_type": "markdown",
   "metadata": {},
   "source": [
    "**(B.2)** Sortieren Sie das DataFrame `Kurse` nach dem Datum (Index) aufsteigend. Tipp: Methode `sort_index` mit `inplace=True` verwenden."
   ]
  },
  {
   "cell_type": "code",
   "execution_count": null,
   "metadata": {},
   "outputs": [],
   "source": []
  },
  {
   "cell_type": "markdown",
   "metadata": {},
   "source": [
    "**(B.3)** Stellen Sie die Indexstände der vier Indexreihen in einem Liniendiagramm dar."
   ]
  },
  {
   "cell_type": "code",
   "execution_count": null,
   "metadata": {},
   "outputs": [],
   "source": []
  },
  {
   "cell_type": "markdown",
   "metadata": {},
   "source": [
    "**(B.4)** Stellen Sie die Indexstände der vier Indexreihen *zwischen Anfnang 2007 und Ende 2009* in *separaten* Liniendiagrammen dar. Tipp: `plot`-Argument `subplots=True` verwenden."
   ]
  },
  {
   "cell_type": "code",
   "execution_count": null,
   "metadata": {},
   "outputs": [],
   "source": []
  },
  {
   "cell_type": "markdown",
   "metadata": {},
   "source": [
    "**(B.5)** Stellen Sie die Entwicklung der vier Indexreihen zwischen Anfang 2007 und Ende 2009 in *einem* Liniendiagramm dar. Normieren Sie hierzu alle Indexreihen auf den Wert 100 zum Ausgangszeitpunkt. Tipp: Durch erste Zeile teilen und mal 100 rechnen."
   ]
  },
  {
   "cell_type": "code",
   "execution_count": null,
   "metadata": {},
   "outputs": [],
   "source": []
  },
  {
   "cell_type": "markdown",
   "metadata": {},
   "source": [
    "**(B.6)** Ermitteln Sie die Anzahl Handelstage in jedem Jahr im DataFrame `Kurse`. Tipp: `Kurse.index.year` gibt das Jahr zurück. Davon kann dann eine Häufigkeitstabelle erstellt werden."
   ]
  },
  {
   "cell_type": "code",
   "execution_count": null,
   "metadata": {},
   "outputs": [],
   "source": []
  },
  {
   "cell_type": "markdown",
   "metadata": {},
   "source": [
    "**(B.7)** Stellen Sie den Verlauf des SPI-Indexes in einem Liniendiagramm dar. Fügen Sie zudem einen einfachen (zentrierten) gleitenden Durchschnitt der Ordnung 250 dem Diagramm hinzu. (250 Handelstage entsprechen ungefähr einem Jahr, wie oben bestätigt wurde.)  "
   ]
  },
  {
   "cell_type": "code",
   "execution_count": null,
   "metadata": {},
   "outputs": [],
   "source": []
  },
  {
   "cell_type": "markdown",
   "metadata": {},
   "source": [
    "***"
   ]
  },
  {
   "cell_type": "markdown",
   "metadata": {},
   "source": [
    "**(C.1)** Bilden Sie aus dem DataFrame `Kurse` das DataFrame `Renditen`, welches die *stetigen* Tagesrenditen der vier Indizes *in Prozent* umfasst. Tipp: $r_{t, stetig} = \\ln (K_t/ K_{t-1})\\cdot 100$. Den natürlichen Logarithmus können Sie mit `np.log()` bilden."
   ]
  },
  {
   "cell_type": "code",
   "execution_count": null,
   "metadata": {},
   "outputs": [],
   "source": []
  },
  {
   "cell_type": "markdown",
   "metadata": {},
   "source": [
    "**(C.2)** Berechnen Sie die mittleren Renditen des SPI, *gruppiert nach Wochentag*. Tipp: Die Wochentage erhalten Sie mit `Renditen.index.weekday`, `Renditen.index.dayofweek` oder `Renditen.index.day_name()`.  "
   ]
  },
  {
   "cell_type": "code",
   "execution_count": null,
   "metadata": {},
   "outputs": [],
   "source": []
  },
  {
   "cell_type": "markdown",
   "metadata": {},
   "source": [
    "**(C.3)** Stellen Sie die mittleren stetigen Tagesrenditen des SPI nach Wochentag in einem Säulendiagramm dar."
   ]
  },
  {
   "cell_type": "code",
   "execution_count": null,
   "metadata": {},
   "outputs": [],
   "source": []
  },
  {
   "cell_type": "markdown",
   "metadata": {},
   "source": [
    "**Hinweis:** Statt lediglich die Mittelwerte mit Säulendiagrammen darzustellen, sollte man besser die *ganzen Verteilungen* mit Boxplots charakterisieren. Dadurch kann man erkennen, dass die Streuungen der Tagesrenditen sehr gross sind relativ zu den Mittelwerten. "
   ]
  },
  {
   "cell_type": "code",
   "execution_count": null,
   "metadata": {},
   "outputs": [],
   "source": []
  },
  {
   "cell_type": "markdown",
   "metadata": {},
   "source": [
    "***"
   ]
  },
  {
   "cell_type": "markdown",
   "metadata": {},
   "source": [
    "**(D.1)** Bilden Sie aus dem DataFrame `Renditen` ein DataFrame `RenditenM` mit stetigen *Monatsrenditen*. \n",
    "- Tipp: Methode `resample` und `sum` verwenden. \n",
    "- Hinweis: Stetige Renditen sind additiv, das heisst, dass die Summe der Tagresrenditen eines Monats die entspprechende Monatsrendite ist."
   ]
  },
  {
   "cell_type": "code",
   "execution_count": null,
   "metadata": {},
   "outputs": [],
   "source": []
  },
  {
   "cell_type": "markdown",
   "metadata": {},
   "source": [
    "**(D.2)** Wenden Sie die Methode `describe` auf die Monatsrenditen an."
   ]
  },
  {
   "cell_type": "code",
   "execution_count": null,
   "metadata": {},
   "outputs": [],
   "source": []
  },
  {
   "cell_type": "markdown",
   "metadata": {},
   "source": [
    "**(D.3)** Erstellen Sie ein Liniendiagramm der stetigen Monatsrenditen des SPI-Large-Cap und des SPI-Small-Cap (nur diese zwei Indizes) *ab dem Jahr 2013*."
   ]
  },
  {
   "cell_type": "code",
   "execution_count": null,
   "metadata": {},
   "outputs": [],
   "source": []
  },
  {
   "cell_type": "markdown",
   "metadata": {},
   "source": [
    "**(D.4)** Stellen Sie nun die stetigen Monatsrenditen des SPI-Large-Cap und des SPI-Small-Cap *ab dem Jahr 2013* in *separaten* Histogrammen dar."
   ]
  },
  {
   "cell_type": "code",
   "execution_count": null,
   "metadata": {},
   "outputs": [],
   "source": []
  },
  {
   "cell_type": "markdown",
   "metadata": {},
   "source": [
    "***"
   ]
  },
  {
   "cell_type": "markdown",
   "metadata": {},
   "source": [
    "**(E.1)** Berechnen Sie die Korrelationsmatrix der vier Indexreihen, einmal mit den Tages- und einmal mit den Monatsrenditen."
   ]
  },
  {
   "cell_type": "code",
   "execution_count": null,
   "metadata": {},
   "outputs": [],
   "source": []
  },
  {
   "cell_type": "code",
   "execution_count": null,
   "metadata": {},
   "outputs": [],
   "source": []
  },
  {
   "cell_type": "markdown",
   "metadata": {},
   "source": [
    "**(E.2)** Berechnen Sie die (Auto-) Korrelation der stetigen SPI-Monatsrenditen mit den Vormonatsrenditen. Tipp: Die Vormonatsrendite erhält man mit `RenditenM.SPI.shift(1)`."
   ]
  },
  {
   "cell_type": "code",
   "execution_count": null,
   "metadata": {},
   "outputs": [],
   "source": []
  },
  {
   "cell_type": "markdown",
   "metadata": {},
   "source": [
    "Die Monatsrenditen sind (in diesem Sample!) sehr schwach *positiv* autokorreliert. Man spricht in der Finance von einem \"Momentumeffekt\"."
   ]
  },
  {
   "cell_type": "markdown",
   "metadata": {},
   "source": [
    "***\n",
    "#### *Ende der Übung*"
   ]
  }
 ],
 "metadata": {
  "kernelspec": {
   "display_name": "Python 3 (ipykernel)",
   "language": "python",
   "name": "python3"
  },
  "language_info": {
   "codemirror_mode": {
    "name": "ipython",
    "version": 3
   },
   "file_extension": ".py",
   "mimetype": "text/x-python",
   "name": "python",
   "nbconvert_exporter": "python",
   "pygments_lexer": "ipython3",
   "version": "3.9.7"
  }
 },
 "nbformat": 4,
 "nbformat_minor": 2
}
